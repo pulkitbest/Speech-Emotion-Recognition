{
 "cells": [
  {
   "cell_type": "code",
   "execution_count": 11,
   "metadata": {
    "_cell_guid": "b1076dfc-b9ad-4769-8c92-a6c4dae69d19",
    "_uuid": "8f2839f25d086af736a60e9eeb907d3b93b6e0e5",
    "execution": {
     "iopub.execute_input": "2024-05-19T04:42:26.916850Z",
     "iopub.status.busy": "2024-05-19T04:42:26.915887Z",
     "iopub.status.idle": "2024-05-19T04:42:26.926254Z",
     "shell.execute_reply": "2024-05-19T04:42:26.925322Z",
     "shell.execute_reply.started": "2024-05-19T04:42:26.916814Z"
    }
   },
   "outputs": [],
   "source": [
    "import numpy as np\n",
    "import pandas as pd\n",
    "import matplotlib.pyplot as plt\n",
    "import os\n",
    "# import seaborn as sns\n",
    "import librosa\n",
    "import librosa.display\n",
    "import IPython\n",
    "\n",
    "\n",
    "import torch\n",
    "import torch.nn as nn\n",
    "import torch.nn.functional as F\n",
    "import torchvision.transforms.functional as TF\n",
    "from tqdm import tqdm\n",
    "torch.manual_seed(42)\n",
    "\n",
    "import seaborn as sns\n",
    "sns.set()\n"
   ]
  },
  {
   "cell_type": "code",
   "execution_count": 12,
   "metadata": {
    "execution": {
     "iopub.execute_input": "2024-05-19T04:42:28.640219Z",
     "iopub.status.busy": "2024-05-19T04:42:28.639374Z",
     "iopub.status.idle": "2024-05-19T04:42:28.644444Z",
     "shell.execute_reply": "2024-05-19T04:42:28.643442Z",
     "shell.execute_reply.started": "2024-05-19T04:42:28.640184Z"
    }
   },
   "outputs": [],
   "source": [
    "Crema_Path='../input/speech-emotion-recognition-en/Crema/'\n",
    "Ravdess_Path='../input/speech-emotion-recognition-en/Ravdess/audio_speech_actors_01-24/'\n",
    "Savee_Path='../input/speech-emotion-recognition-en/Savee/'\n",
    "Tess_Path='../input/speech-emotion-recognition-en/Tess/'"
   ]
  },
  {
   "cell_type": "markdown",
   "metadata": {},
   "source": [
    "# **CREMA PREPROCESSING**"
   ]
  },
  {
   "cell_type": "code",
   "execution_count": 13,
   "metadata": {
    "execution": {
     "iopub.execute_input": "2024-05-19T04:42:29.628424Z",
     "iopub.status.busy": "2024-05-19T04:42:29.628056Z",
     "iopub.status.idle": "2024-05-19T04:42:29.665201Z",
     "shell.execute_reply": "2024-05-19T04:42:29.664285Z",
     "shell.execute_reply.started": "2024-05-19T04:42:29.628394Z"
    }
   },
   "outputs": [
    {
     "data": {
      "text/html": [
       "<div>\n",
       "<style scoped>\n",
       "    .dataframe tbody tr th:only-of-type {\n",
       "        vertical-align: middle;\n",
       "    }\n",
       "\n",
       "    .dataframe tbody tr th {\n",
       "        vertical-align: top;\n",
       "    }\n",
       "\n",
       "    .dataframe thead th {\n",
       "        text-align: right;\n",
       "    }\n",
       "</style>\n",
       "<table border=\"1\" class=\"dataframe\">\n",
       "  <thead>\n",
       "    <tr style=\"text-align: right;\">\n",
       "      <th></th>\n",
       "      <th>Emotion</th>\n",
       "      <th>File_Path</th>\n",
       "    </tr>\n",
       "  </thead>\n",
       "  <tbody>\n",
       "    <tr>\n",
       "      <th>0</th>\n",
       "      <td>Anger</td>\n",
       "      <td>../input/speech-emotion-recognition-en/Crema//...</td>\n",
       "    </tr>\n",
       "    <tr>\n",
       "      <th>1</th>\n",
       "      <td>Disgust</td>\n",
       "      <td>../input/speech-emotion-recognition-en/Crema//...</td>\n",
       "    </tr>\n",
       "    <tr>\n",
       "      <th>2</th>\n",
       "      <td>Fear</td>\n",
       "      <td>../input/speech-emotion-recognition-en/Crema//...</td>\n",
       "    </tr>\n",
       "    <tr>\n",
       "      <th>3</th>\n",
       "      <td>Happy</td>\n",
       "      <td>../input/speech-emotion-recognition-en/Crema//...</td>\n",
       "    </tr>\n",
       "    <tr>\n",
       "      <th>4</th>\n",
       "      <td>Neutral</td>\n",
       "      <td>../input/speech-emotion-recognition-en/Crema//...</td>\n",
       "    </tr>\n",
       "  </tbody>\n",
       "</table>\n",
       "</div>"
      ],
      "text/plain": [
       "   Emotion                                          File_Path\n",
       "0    Anger  ../input/speech-emotion-recognition-en/Crema//...\n",
       "1  Disgust  ../input/speech-emotion-recognition-en/Crema//...\n",
       "2     Fear  ../input/speech-emotion-recognition-en/Crema//...\n",
       "3    Happy  ../input/speech-emotion-recognition-en/Crema//...\n",
       "4  Neutral  ../input/speech-emotion-recognition-en/Crema//..."
      ]
     },
     "execution_count": 13,
     "metadata": {},
     "output_type": "execute_result"
    }
   ],
   "source": [
    "crema = []\n",
    "for wav in sorted(os.listdir(Crema_Path)):\n",
    "    emotion = wav.partition(\".wav\")[0].split('_')\n",
    "    if emotion[2] == 'SAD':\n",
    "        crema.append(('Sad', Crema_Path+'/'+wav))\n",
    "    elif emotion[2] == 'ANG':\n",
    "        crema.append(('Anger', Crema_Path+'/'+wav))\n",
    "    elif emotion[2] == 'DIS':\n",
    "        crema.append(('Disgust', Crema_Path+'/'+wav))\n",
    "    elif emotion[2] == 'FEA':\n",
    "        crema.append(('Fear', Crema_Path+'/'+wav))\n",
    "    elif emotion[2] == 'HAP':\n",
    "        crema.append(('Happy', Crema_Path+'/'+wav))\n",
    "    elif emotion[2] == 'NEU':\n",
    "        crema.append(('Neutral', Crema_Path+'/'+wav))\n",
    "    else:\n",
    "        crema.append(('unknown', Crema_Path+'/'+wav))\n",
    "\n",
    "df = pd.DataFrame.from_records(crema, columns=['Emotion', 'File_Path'])\n",
    "df.head()\n"
   ]
  },
  {
   "cell_type": "markdown",
   "metadata": {},
   "source": [
    "# **RAVDESS PREPROCESSING**"
   ]
  },
  {
   "cell_type": "code",
   "execution_count": 4,
   "metadata": {
    "execution": {
     "iopub.execute_input": "2024-05-19T01:10:04.264288Z",
     "iopub.status.busy": "2024-05-19T01:10:04.263913Z",
     "iopub.status.idle": "2024-05-19T01:10:04.713060Z",
     "shell.execute_reply": "2024-05-19T01:10:04.711811Z",
     "shell.execute_reply.started": "2024-05-19T01:10:04.264252Z"
    }
   },
   "outputs": [
    {
     "name": "stdout",
     "output_type": "stream",
     "text": [
      "    Emotion                                          File_Path\n",
      "0  Surprise  ../input/speech-emotion-recognition-en/Ravdess...\n",
      "1   Neutral  ../input/speech-emotion-recognition-en/Ravdess...\n",
      "2   Disgust  ../input/speech-emotion-recognition-en/Ravdess...\n",
      "3   Disgust  ../input/speech-emotion-recognition-en/Ravdess...\n",
      "4   Neutral  ../input/speech-emotion-recognition-en/Ravdess...\n"
     ]
    }
   ],
   "source": [
    "ravdess_directory_list = os.listdir(Ravdess_Path)\n",
    "\n",
    "file_emotion = []\n",
    "file_path = []\n",
    "for i in ravdess_directory_list:\n",
    "    # as their are 24 different actors in our previous directory we need to extract files for each actor.\n",
    "    actor = os.listdir(Ravdess_Path + i)\n",
    "    for f in actor:\n",
    "        part = f.split('.')[0].split('-')\n",
    "        if int(part[2]) != 2:\n",
    "            file_emotion.append(int(part[2]))\n",
    "            file_path.append(Ravdess_Path + i + '/' + f)\n",
    "        \n",
    "emotion_df = pd.DataFrame(file_emotion, columns=['Emotion'])\n",
    "path_df = pd.DataFrame(file_path, columns=['File_Path'])\n",
    "df = pd.concat([emotion_df, path_df], axis=1)\n",
    "df.Emotion.replace({1:'Neutral', 3:'Happy', 4:'Sad', 5:'Anger', 6:'Fear', 7:'Disgust', 8:'Surprise'},\n",
    "                            inplace=True)\n",
    "print(df.head())"
   ]
  },
  {
   "cell_type": "markdown",
   "metadata": {},
   "source": [
    "# **SAVEE PREPROCESSING**"
   ]
  },
  {
   "cell_type": "code",
   "execution_count": 5,
   "metadata": {
    "execution": {
     "iopub.execute_input": "2024-05-19T01:10:04.715292Z",
     "iopub.status.busy": "2024-05-19T01:10:04.714582Z",
     "iopub.status.idle": "2024-05-19T01:10:05.287802Z",
     "shell.execute_reply": "2024-05-19T01:10:05.282022Z",
     "shell.execute_reply.started": "2024-05-19T01:10:04.715252Z"
    }
   },
   "outputs": [
    {
     "ename": "NameError",
     "evalue": "name 'Savee' is not defined",
     "output_type": "error",
     "traceback": [
      "\u001b[0;31m---------------------------------------------------------------------------\u001b[0m",
      "\u001b[0;31mNameError\u001b[0m                                 Traceback (most recent call last)",
      "Cell \u001b[0;32mIn[5], line 7\u001b[0m\n\u001b[1;32m      4\u001b[0m file_path \u001b[38;5;241m=\u001b[39m []\n\u001b[1;32m      6\u001b[0m \u001b[38;5;28;01mfor\u001b[39;00m file \u001b[38;5;129;01min\u001b[39;00m savee_directory_list:\n\u001b[0;32m----> 7\u001b[0m     file_path\u001b[38;5;241m.\u001b[39mappend(\u001b[43mSavee\u001b[49m \u001b[38;5;241m+\u001b[39m file)\n\u001b[1;32m      8\u001b[0m     part \u001b[38;5;241m=\u001b[39m file\u001b[38;5;241m.\u001b[39msplit(\u001b[38;5;124m'\u001b[39m\u001b[38;5;124m_\u001b[39m\u001b[38;5;124m'\u001b[39m)[\u001b[38;5;241m1\u001b[39m]\n\u001b[1;32m      9\u001b[0m     ele \u001b[38;5;241m=\u001b[39m part[:\u001b[38;5;241m-\u001b[39m\u001b[38;5;241m6\u001b[39m]\n",
      "\u001b[0;31mNameError\u001b[0m: name 'Savee' is not defined"
     ]
    }
   ],
   "source": [
    "savee_directory_list = os.listdir(Savee_Path)\n",
    "\n",
    "file_emotion = []\n",
    "file_path = []\n",
    "\n",
    "for file in savee_directory_list:\n",
    "    file_path.append(Savee + file)\n",
    "    part = file.split('_')[1]\n",
    "    ele = part[:-6]\n",
    "    if ele=='a':\n",
    "        file_emotion.append('Anger')\n",
    "    elif ele=='d':\n",
    "        file_emotion.append('Disgust')\n",
    "    elif ele=='f':\n",
    "        file_emotion.append('Fear')\n",
    "    elif ele=='h':\n",
    "        file_emotion.append('Happy')\n",
    "    elif ele=='n':\n",
    "        file_emotion.append('Neutral')\n",
    "    elif ele=='sa':\n",
    "        file_emotion.append('Sad')\n",
    "    else:\n",
    "        file_emotion.append('Surprise')\n",
    "        \n",
    "# dataframe for emotion of files\n",
    "emotion_df = pd.DataFrame(file_emotion, columns=['Emotion'])\n",
    "\n",
    "# dataframe for path of files.\n",
    "path_df = pd.DataFrame(file_path, columns=['File_Path'])\n",
    "df = pd.concat([emotion_df, path_df], axis=1)\n",
    "df.head()"
   ]
  },
  {
   "cell_type": "markdown",
   "metadata": {},
   "source": [
    "# **TESS PREPROCESSING**"
   ]
  },
  {
   "cell_type": "code",
   "execution_count": null,
   "metadata": {
    "execution": {
     "iopub.status.busy": "2024-05-19T01:10:05.288692Z",
     "iopub.status.idle": "2024-05-19T01:10:05.289060Z",
     "shell.execute_reply": "2024-05-19T01:10:05.288896Z",
     "shell.execute_reply.started": "2024-05-19T01:10:05.288878Z"
    }
   },
   "outputs": [],
   "source": [
    "tess_directory_list = os.listdir(Tess_Path)\n",
    "\n",
    "file_emotion = []\n",
    "file_path = []\n",
    "\n",
    "for dir in tess_directory_list:\n",
    "    directories = os.listdir(Tess_Path + dir)\n",
    "    for file in directories:\n",
    "        part = file.split('.')[0]\n",
    "        part = part.split('_')[2]\n",
    "        if part == 'ps':\n",
    "            file_emotion.append('Surprise')\n",
    "        elif part == 'fear':\n",
    "            file_emotion.append('Fear')\n",
    "        elif part == 'sad':\n",
    "            file_emotion.append('Sad')\n",
    "        elif part == 'angry':\n",
    "            file_emotion.append('Anger')\n",
    "        elif part == 'disgust':\n",
    "            file_emotion.append('Disgust')\n",
    "        elif part == 'happy':\n",
    "            file_emotion.append('Happy')\n",
    "        elif part == 'neutral':\n",
    "            file_emotion.append('Neutral')\n",
    "        file_path.append(Tess_Path + dir + '/' + file)\n",
    "        \n",
    "# dataframe for emotion of files\n",
    "emotion_df = pd.DataFrame(file_emotion, columns=['Emotion'])\n",
    "\n",
    "# dataframe for path of files.\n",
    "path_df = pd.DataFrame(file_path, columns=['File_Path'])\n",
    "df = pd.concat([emotion_df, path_df], axis=1)\n",
    "df.head()"
   ]
  },
  {
   "cell_type": "code",
   "execution_count": 15,
   "metadata": {
    "execution": {
     "iopub.execute_input": "2024-05-19T04:43:08.843412Z",
     "iopub.status.busy": "2024-05-19T04:43:08.843016Z",
     "iopub.status.idle": "2024-05-19T04:43:08.852934Z",
     "shell.execute_reply": "2024-05-19T04:43:08.851747Z",
     "shell.execute_reply.started": "2024-05-19T04:43:08.843382Z"
    }
   },
   "outputs": [],
   "source": [
    "from sklearn.preprocessing import LabelEncoder\n",
    "# Create a LabelEncoder \n",
    "encoder = LabelEncoder()\n",
    "# Fit the encoder on the column and transform the values\n",
    "df['Emotion_encoded'] = encoder.fit_transform(df['Emotion'])\n",
    "\n",
    "# Get the mapping between original labels and encoded values\n",
    "label_mapping = dict(zip(encoder.classes_, encoder.transform(encoder.classes_)))\n"
   ]
  },
  {
   "cell_type": "code",
   "execution_count": 16,
   "metadata": {
    "execution": {
     "iopub.execute_input": "2024-05-19T04:43:09.952609Z",
     "iopub.status.busy": "2024-05-19T04:43:09.952222Z",
     "iopub.status.idle": "2024-05-19T04:43:09.959166Z",
     "shell.execute_reply": "2024-05-19T04:43:09.958208Z",
     "shell.execute_reply.started": "2024-05-19T04:43:09.952575Z"
    }
   },
   "outputs": [
    {
     "data": {
      "text/plain": [
       "{'Anger': 0, 'Disgust': 1, 'Fear': 2, 'Happy': 3, 'Neutral': 4, 'Sad': 5}"
      ]
     },
     "execution_count": 16,
     "metadata": {},
     "output_type": "execute_result"
    }
   ],
   "source": [
    "label_mapping"
   ]
  },
  {
   "cell_type": "code",
   "execution_count": 17,
   "metadata": {
    "execution": {
     "iopub.execute_input": "2024-05-19T04:43:12.137573Z",
     "iopub.status.busy": "2024-05-19T04:43:12.136917Z",
     "iopub.status.idle": "2024-05-19T04:43:12.144047Z",
     "shell.execute_reply": "2024-05-19T04:43:12.143212Z",
     "shell.execute_reply.started": "2024-05-19T04:43:12.137544Z"
    }
   },
   "outputs": [
    {
     "data": {
      "text/plain": [
       "array(['Anger', 'Disgust', 'Fear', 'Happy', 'Neutral', 'Sad'],\n",
       "      dtype=object)"
      ]
     },
     "execution_count": 17,
     "metadata": {},
     "output_type": "execute_result"
    }
   ],
   "source": [
    "df['Emotion'].unique()"
   ]
  },
  {
   "cell_type": "code",
   "execution_count": 18,
   "metadata": {
    "execution": {
     "iopub.execute_input": "2024-05-19T04:43:13.112330Z",
     "iopub.status.busy": "2024-05-19T04:43:13.111477Z",
     "iopub.status.idle": "2024-05-19T04:43:13.116996Z",
     "shell.execute_reply": "2024-05-19T04:43:13.116053Z",
     "shell.execute_reply.started": "2024-05-19T04:43:13.112298Z"
    }
   },
   "outputs": [],
   "source": [
    "emotion_names=df['Emotion'].unique()"
   ]
  },
  {
   "cell_type": "code",
   "execution_count": 9,
   "metadata": {
    "execution": {
     "iopub.execute_input": "2024-05-19T04:42:11.824283Z",
     "iopub.status.busy": "2024-05-19T04:42:11.823906Z",
     "iopub.status.idle": "2024-05-19T04:42:24.329508Z",
     "shell.execute_reply": "2024-05-19T04:42:24.328456Z",
     "shell.execute_reply.started": "2024-05-19T04:42:11.824254Z"
    }
   },
   "outputs": [
    {
     "name": "stdout",
     "output_type": "stream",
     "text": [
      "Requirement already satisfied: torchaudio in /opt/conda/lib/python3.10/site-packages (2.0.1)\n",
      "Requirement already satisfied: torch in /opt/conda/lib/python3.10/site-packages (from torchaudio) (2.0.0)\n",
      "Requirement already satisfied: networkx in /opt/conda/lib/python3.10/site-packages (from torch->torchaudio) (3.1)\n",
      "Requirement already satisfied: typing-extensions in /opt/conda/lib/python3.10/site-packages (from torch->torchaudio) (4.5.0)\n",
      "Requirement already satisfied: jinja2 in /opt/conda/lib/python3.10/site-packages (from torch->torchaudio) (3.1.2)\n",
      "Requirement already satisfied: filelock in /opt/conda/lib/python3.10/site-packages (from torch->torchaudio) (3.11.0)\n",
      "Requirement already satisfied: sympy in /opt/conda/lib/python3.10/site-packages (from torch->torchaudio) (1.11.1)\n",
      "Requirement already satisfied: MarkupSafe>=2.0 in /opt/conda/lib/python3.10/site-packages (from jinja2->torch->torchaudio) (2.1.2)\n",
      "Requirement already satisfied: mpmath>=0.19 in /opt/conda/lib/python3.10/site-packages (from sympy->torch->torchaudio) (1.3.0)\n",
      "\u001b[33mWARNING: Running pip as the 'root' user can result in broken permissions and conflicting behaviour with the system package manager. It is recommended to use a virtual environment instead: https://pip.pypa.io/warnings/venv\u001b[0m\u001b[33m\n",
      "\u001b[0m"
     ]
    }
   ],
   "source": [
    "!pip install torchaudio"
   ]
  },
  {
   "cell_type": "code",
   "execution_count": 19,
   "metadata": {
    "execution": {
     "iopub.execute_input": "2024-05-19T04:43:35.371947Z",
     "iopub.status.busy": "2024-05-19T04:43:35.371506Z",
     "iopub.status.idle": "2024-05-19T04:45:10.530122Z",
     "shell.execute_reply": "2024-05-19T04:45:10.528955Z",
     "shell.execute_reply.started": "2024-05-19T04:43:35.371919Z"
    }
   },
   "outputs": [
    {
     "name": "stderr",
     "output_type": "stream",
     "text": [
      "0it [00:00, ?it/s]/tmp/ipykernel_35/2468677012.py:11: UserWarning: To copy construct from a tensor, it is recommended to use sourceTensor.clone().detach() or sourceTensor.clone().detach().requires_grad_(True), rather than torch.tensor(sourceTensor).\n",
      "  waveform = torch.tensor(waveform).to(device)\n",
      "7442it [01:34, 78.39it/s]\n"
     ]
    }
   ],
   "source": [
    "import torchaudio\n",
    "import torchaudio.transforms as transforms\n",
    "\n",
    "S_dB_Total = []\n",
    "\n",
    "device = torch.device(\"cuda\" if torch.cuda.is_available() else \"cpu\")\n",
    "for idx, path in tqdm(enumerate(df.File_Path)):\n",
    "    waveform, sample_rate = torchaudio.load(path)\n",
    "    \n",
    "    # Convert to tensor\n",
    "    waveform = torch.tensor(waveform).to(device)\n",
    "\n",
    "    # Convert to mel spectrogram\n",
    "    mel_transform = transforms.MelSpectrogram(\n",
    "        sample_rate=sample_rate,\n",
    "        n_fft=2048,\n",
    "        hop_length=512,\n",
    "        n_mels=128\n",
    "    ).to(device)\n",
    "    \n",
    "    S = mel_transform(waveform)\n",
    "\n",
    "    # Convert to dB\n",
    "    power_to_db = transforms.AmplitudeToDB()\n",
    "    S_dB = power_to_db(S)\n",
    "\n",
    "    S_dB_Total.append(S_dB.squeeze())"
   ]
  },
  {
   "cell_type": "code",
   "execution_count": 20,
   "metadata": {
    "execution": {
     "iopub.execute_input": "2024-05-19T04:45:10.532193Z",
     "iopub.status.busy": "2024-05-19T04:45:10.531864Z",
     "iopub.status.idle": "2024-05-19T04:45:10.541912Z",
     "shell.execute_reply": "2024-05-19T04:45:10.540998Z",
     "shell.execute_reply.started": "2024-05-19T04:45:10.532165Z"
    }
   },
   "outputs": [],
   "source": [
    "sizes=[]\n",
    "for x in S_dB_Total:\n",
    "    sizes.append(x.shape[1])"
   ]
  },
  {
   "cell_type": "code",
   "execution_count": 21,
   "metadata": {
    "execution": {
     "iopub.execute_input": "2024-05-19T04:45:10.543305Z",
     "iopub.status.busy": "2024-05-19T04:45:10.542997Z",
     "iopub.status.idle": "2024-05-19T04:45:11.009529Z",
     "shell.execute_reply": "2024-05-19T04:45:11.008600Z",
     "shell.execute_reply.started": "2024-05-19T04:45:10.543283Z"
    }
   },
   "outputs": [
    {
     "data": {
      "image/png": "[encoded data removed]",
      "text/plain": [
       "<Figure size 640x480 with 1 Axes>"
      ]
     },
     "metadata": {},
     "output_type": "display_data"
    },
    {
     "name": "stdout",
     "output_type": "stream",
     "text": [
      "min is 40\n",
      "max is 157\n"
     ]
    }
   ],
   "source": [
    "# Calculate the bin counts\n",
    "bincount_array = np.histogram(sizes, bins=np.arange(min(sizes), max(sizes)+2))[0]\n",
    "\n",
    "# Create a list of labels for the x-axis\n",
    "x_labels = np.arange(min(sizes), max(sizes)+1)\n",
    "\n",
    "# Plot the bin counts as a bar plot\n",
    "plt.bar(x_labels, bincount_array)\n",
    "\n",
    "# Set labels and title\n",
    "plt.xlabel('Numbers')\n",
    "plt.ylabel('Count')\n",
    "plt.show()\n",
    "\n",
    "print(f'min is {min(sizes)}')\n",
    "print(f'max is {max(sizes)}')\n"
   ]
  },
  {
   "cell_type": "code",
   "execution_count": 22,
   "metadata": {
    "execution": {
     "iopub.execute_input": "2024-05-19T04:45:11.011916Z",
     "iopub.status.busy": "2024-05-19T04:45:11.011626Z",
     "iopub.status.idle": "2024-05-19T04:45:12.889785Z",
     "shell.execute_reply": "2024-05-19T04:45:12.888888Z",
     "shell.execute_reply.started": "2024-05-19T04:45:11.011891Z"
    }
   },
   "outputs": [],
   "source": [
    "padding_length = 160\n",
    "padded_list = []\n",
    "for array in S_dB_Total:\n",
    "    current_shape = array.cpu().shape\n",
    "    padding = [(0, 0), (0, padding_length - current_shape[1])]\n",
    "    padded_array = np.pad(array.cpu(), padding, mode='constant', constant_values=0)\n",
    "    padded_list.append(padded_array)\n",
    "\n",
    "# Convert the padded list to a NumPy array\n",
    "data_2D = np.array(padded_list)\n",
    "    "
   ]
  },
  {
   "cell_type": "code",
   "execution_count": 23,
   "metadata": {
    "execution": {
     "iopub.execute_input": "2024-05-19T04:45:12.891276Z",
     "iopub.status.busy": "2024-05-19T04:45:12.890975Z",
     "iopub.status.idle": "2024-05-19T04:45:12.898050Z",
     "shell.execute_reply": "2024-05-19T04:45:12.897084Z",
     "shell.execute_reply.started": "2024-05-19T04:45:12.891251Z"
    }
   },
   "outputs": [
    {
     "data": {
      "text/plain": [
       "(7442, 128, 160)"
      ]
     },
     "execution_count": 23,
     "metadata": {},
     "output_type": "execute_result"
    }
   ],
   "source": [
    "data_2D.shape"
   ]
  },
  {
   "cell_type": "code",
   "execution_count": 24,
   "metadata": {
    "execution": {
     "iopub.execute_input": "2024-05-19T04:45:12.899808Z",
     "iopub.status.busy": "2024-05-19T04:45:12.899435Z",
     "iopub.status.idle": "2024-05-19T04:45:13.466828Z",
     "shell.execute_reply": "2024-05-19T04:45:13.466074Z",
     "shell.execute_reply.started": "2024-05-19T04:45:12.899772Z"
    }
   },
   "outputs": [],
   "source": [
    "#normalization\n",
    "from sklearn.preprocessing import MinMaxScaler\n",
    "\n",
    "# Reshape the array to 2D\n",
    "reshaped_data = data_2D.reshape((-1, 1))\n",
    "\n",
    "# Initialize the MinMaxScaler\n",
    "scaler = MinMaxScaler()\n",
    "\n",
    "# Fit and transform the data\n",
    "normalized_data = scaler.fit_transform(reshaped_data)\n",
    "\n",
    "# Reshape the normalized data back to the original shape\n",
    "normalized_data = normalized_data.reshape(data_2D.shape)\n"
   ]
  },
  {
   "cell_type": "code",
   "execution_count": 25,
   "metadata": {
    "execution": {
     "iopub.execute_input": "2024-05-19T04:45:13.468206Z",
     "iopub.status.busy": "2024-05-19T04:45:13.467915Z",
     "iopub.status.idle": "2024-05-19T04:45:13.474854Z",
     "shell.execute_reply": "2024-05-19T04:45:13.474013Z",
     "shell.execute_reply.started": "2024-05-19T04:45:13.468182Z"
    }
   },
   "outputs": [
    {
     "data": {
      "text/plain": [
       "array([[0.56973195, 0.5444743 , 0.51813316, ..., 0.64415836, 0.64415836,\n",
       "        0.64415836],\n",
       "       [0.5450095 , 0.5570548 , 0.541499  , ..., 0.64415836, 0.64415836,\n",
       "        0.64415836],\n",
       "       [0.512481  , 0.55639714, 0.592978  , ..., 0.64415836, 0.64415836,\n",
       "        0.64415836],\n",
       "       ...,\n",
       "       [0.4755556 , 0.472118  , 0.4689895 , ..., 0.64415836, 0.64415836,\n",
       "        0.64415836],\n",
       "       [0.4661117 , 0.45966327, 0.44934118, ..., 0.64415836, 0.64415836,\n",
       "        0.64415836],\n",
       "       [0.448575  , 0.45664725, 0.44868642, ..., 0.64415836, 0.64415836,\n",
       "        0.64415836]], dtype=float32)"
      ]
     },
     "execution_count": 25,
     "metadata": {},
     "output_type": "execute_result"
    }
   ],
   "source": [
    "normalized_data[1]"
   ]
  },
  {
   "cell_type": "code",
   "execution_count": 26,
   "metadata": {
    "execution": {
     "iopub.execute_input": "2024-05-19T04:45:13.477102Z",
     "iopub.status.busy": "2024-05-19T04:45:13.476620Z",
     "iopub.status.idle": "2024-05-19T04:45:13.484416Z",
     "shell.execute_reply": "2024-05-19T04:45:13.483579Z",
     "shell.execute_reply.started": "2024-05-19T04:45:13.477065Z"
    }
   },
   "outputs": [],
   "source": [
    "data=np.expand_dims(normalized_data, axis=1)"
   ]
  },
  {
   "cell_type": "code",
   "execution_count": 27,
   "metadata": {
    "execution": {
     "iopub.execute_input": "2024-05-19T04:45:13.485942Z",
     "iopub.status.busy": "2024-05-19T04:45:13.485560Z",
     "iopub.status.idle": "2024-05-19T04:45:13.495493Z",
     "shell.execute_reply": "2024-05-19T04:45:13.494552Z",
     "shell.execute_reply.started": "2024-05-19T04:45:13.485886Z"
    }
   },
   "outputs": [],
   "source": [
    "labels=df.Emotion_encoded.to_numpy()"
   ]
  },
  {
   "cell_type": "code",
   "execution_count": 28,
   "metadata": {
    "execution": {
     "iopub.execute_input": "2024-05-19T04:45:13.499717Z",
     "iopub.status.busy": "2024-05-19T04:45:13.499455Z",
     "iopub.status.idle": "2024-05-19T04:45:13.507715Z",
     "shell.execute_reply": "2024-05-19T04:45:13.506581Z",
     "shell.execute_reply.started": "2024-05-19T04:45:13.499695Z"
    }
   },
   "outputs": [
    {
     "data": {
      "text/plain": [
       "(7442,)"
      ]
     },
     "execution_count": 28,
     "metadata": {},
     "output_type": "execute_result"
    }
   ],
   "source": [
    "labels.shape"
   ]
  },
  {
   "cell_type": "code",
   "execution_count": 29,
   "metadata": {
    "execution": {
     "iopub.execute_input": "2024-05-19T04:45:13.509096Z",
     "iopub.status.busy": "2024-05-19T04:45:13.508787Z",
     "iopub.status.idle": "2024-05-19T04:45:13.517535Z",
     "shell.execute_reply": "2024-05-19T04:45:13.516689Z",
     "shell.execute_reply.started": "2024-05-19T04:45:13.509069Z"
    }
   },
   "outputs": [
    {
     "data": {
      "text/plain": [
       "(7442, 1, 128, 160)"
      ]
     },
     "execution_count": 29,
     "metadata": {},
     "output_type": "execute_result"
    }
   ],
   "source": [
    "data.shape"
   ]
  },
  {
   "cell_type": "code",
   "execution_count": 30,
   "metadata": {
    "execution": {
     "iopub.execute_input": "2024-05-19T04:45:13.519245Z",
     "iopub.status.busy": "2024-05-19T04:45:13.518738Z",
     "iopub.status.idle": "2024-05-19T04:45:13.940255Z",
     "shell.execute_reply": "2024-05-19T04:45:13.939188Z",
     "shell.execute_reply.started": "2024-05-19T04:45:13.519215Z"
    }
   },
   "outputs": [
    {
     "name": "stdout",
     "output_type": "stream",
     "text": [
      "Train set size: 5357\n",
      "Validation set size: 596\n",
      "Test set size: 1489\n"
     ]
    }
   ],
   "source": [
    "#train test split\n",
    "from sklearn.model_selection import train_test_split\n",
    "# Perform the train-test split (70% train & validation, 30% test )\n",
    "X_trainAndVal, X_test, y_trainAndVal, y_test = train_test_split(data, labels, test_size=0.2, stratify=labels, random_state=42)\n",
    "\n",
    "# Perform the train-validation split (5% test, 95% train)\n",
    "X_train, X_val, y_train, y_val = train_test_split(X_trainAndVal, y_trainAndVal, test_size=0.1, stratify=y_trainAndVal, random_state=42)\n",
    "\n",
    "# Print the sizes of each split\n",
    "print(\"Train set size:\", len(X_train))\n",
    "print(\"Validation set size:\", len(X_val))\n",
    "print(\"Test set size:\", len(X_test))\n",
    "\n"
   ]
  },
  {
   "cell_type": "code",
   "execution_count": 31,
   "metadata": {
    "execution": {
     "iopub.execute_input": "2024-05-19T04:45:13.942164Z",
     "iopub.status.busy": "2024-05-19T04:45:13.941761Z",
     "iopub.status.idle": "2024-05-19T04:45:13.948499Z",
     "shell.execute_reply": "2024-05-19T04:45:13.947494Z",
     "shell.execute_reply.started": "2024-05-19T04:45:13.942129Z"
    }
   },
   "outputs": [
    {
     "data": {
      "text/plain": [
       "(5357, 1, 128, 160)"
      ]
     },
     "execution_count": 31,
     "metadata": {},
     "output_type": "execute_result"
    }
   ],
   "source": [
    "X_train.shape"
   ]
  },
  {
   "cell_type": "code",
   "execution_count": 32,
   "metadata": {
    "execution": {
     "iopub.execute_input": "2024-05-19T04:45:13.950383Z",
     "iopub.status.busy": "2024-05-19T04:45:13.949982Z",
     "iopub.status.idle": "2024-05-19T04:45:13.959426Z",
     "shell.execute_reply": "2024-05-19T04:45:13.958411Z",
     "shell.execute_reply.started": "2024-05-19T04:45:13.950348Z"
    }
   },
   "outputs": [],
   "source": [
    "from torch.utils.data import Dataset, DataLoader\n",
    "\n",
    "class AudioDataset(Dataset):\n",
    "    def __init__(self,audio,label):\n",
    "        self.audios=audio\n",
    "        self.labels=label\n",
    "\n",
    "    def __len__(self):\n",
    "        return len(self.audios)\n",
    "\n",
    "    def get_batch_imgs(self, idx):\n",
    "        # Fetch a batch of inputs\n",
    "        return self.audios[idx]\n",
    "    \n",
    "    def get_batch_labels(self, idx):\n",
    "    # Fetch a batch of inputs\n",
    "        return self.labels[idx]\n",
    "\n",
    "    \n",
    "    def __getitem__(self, index):\n",
    "        audios=self.get_batch_imgs(index)\n",
    "        labels=self.get_batch_labels(index)\n",
    "        return audios,labels\n"
   ]
  },
  {
   "cell_type": "code",
   "execution_count": 33,
   "metadata": {
    "execution": {
     "iopub.execute_input": "2024-05-19T04:45:13.960851Z",
     "iopub.status.busy": "2024-05-19T04:45:13.960551Z",
     "iopub.status.idle": "2024-05-19T04:45:13.970038Z",
     "shell.execute_reply": "2024-05-19T04:45:13.969037Z",
     "shell.execute_reply.started": "2024-05-19T04:45:13.960827Z"
    }
   },
   "outputs": [],
   "source": [
    "train_dataset = AudioDataset(X_train,y_train)\n",
    "val_dataset = AudioDataset(X_val, y_val)\n",
    "test_dataset = AudioDataset(X_test, y_test)\n",
    "\n",
    "# Create a DataLoader from the dataset\n",
    "\n",
    "train_dataloader = DataLoader(train_dataset, batch_size=8, shuffle=True)\n",
    "val_dataloader=DataLoader(val_dataset, batch_size=8, shuffle=True)\n",
    "test_dataloader=DataLoader(test_dataset, batch_size=8, shuffle=False)\n"
   ]
  },
  {
   "cell_type": "markdown",
   "metadata": {},
   "source": [
    "# Architecture"
   ]
  },
  {
   "cell_type": "code",
   "execution_count": 34,
   "metadata": {
    "execution": {
     "iopub.execute_input": "2024-05-19T04:45:13.971737Z",
     "iopub.status.busy": "2024-05-19T04:45:13.971436Z",
     "iopub.status.idle": "2024-05-19T04:45:13.991921Z",
     "shell.execute_reply": "2024-05-19T04:45:13.990989Z",
     "shell.execute_reply.started": "2024-05-19T04:45:13.971711Z"
    }
   },
   "outputs": [],
   "source": [
    "class ConvNet(nn.Module):\n",
    "    def __init__(self, num_classes):\n",
    "        super(ConvNet, self).__init__()\n",
    "        \n",
    "        self.conv_block = nn.Sequential(\n",
    "            nn.Conv2d(3, 32, kernel_size=3, stride=1, padding=1),\n",
    "            nn.ReLU(),\n",
    "            nn.BatchNorm2d(32),\n",
    "            nn.MaxPool2d(kernel_size=2, stride=2),\n",
    "            \n",
    "            nn.Conv2d(32, 64, kernel_size=3, stride=1, padding=1),\n",
    "            nn.ReLU(),\n",
    "            nn.BatchNorm2d(64),\n",
    "            nn.MaxPool2d(kernel_size=2, stride=2),\n",
    "            \n",
    "            nn.Conv2d(64, 128, kernel_size=3, stride=1, padding=1),\n",
    "            nn.ReLU(),\n",
    "            nn.BatchNorm2d(128),\n",
    "            nn.MaxPool2d(kernel_size=2, stride=2),\n",
    "        )\n",
    "        \n",
    "        self.lstm = nn.LSTM(input_size=128, hidden_size=128, num_layers=2, batch_first=True)\n",
    "        \n",
    "        self.fc_block = nn.Sequential(\n",
    "            nn.Linear(128, 64),\n",
    "            nn.ReLU(),\n",
    "            nn.Linear(64, 32),\n",
    "            nn.ReLU(),\n",
    "            nn.Linear(32, num_classes),\n",
    "            nn.Softmax(dim=1)\n",
    "        )\n",
    "\n",
    "    def forward(self, x):\n",
    "        batch_size, timesteps, C, H, W = x.size()\n",
    "        x = x.view(batch_size * timesteps, C, H, W)\n",
    "        \n",
    "        x = self.conv_block(x)\n",
    "        x = torch.squeeze(x, 3)\n",
    "        x = x.permute(0, 2, 1)  # Reshape for LSTM\n",
    "        \n",
    "        # LSTM expects input of shape (batch_size, seq_length, input_size)\n",
    "        x, _ = self.lstm(x)\n",
    "        \n",
    "        # Take output from the last time-step\n",
    "        x = x[:, -1, :]\n",
    "        \n",
    "        x = self.fc_block(x)\n",
    "        return x\n",
    "\n",
    "def get_crnn_model(num_classes=6):\n",
    "    model = ConvNet(num_classes)\n",
    "    return model"
   ]
  },
  {
   "cell_type": "code",
   "execution_count": null,
   "metadata": {
    "execution": {
     "iopub.execute_input": "2024-05-19T04:45:14.018158Z",
     "iopub.status.busy": "2024-05-19T04:45:14.017823Z",
     "iopub.status.idle": "2024-05-19T04:45:16.256444Z",
     "shell.execute_reply": "2024-05-19T04:45:16.255465Z",
     "shell.execute_reply.started": "2024-05-19T04:45:14.018131Z"
    }
   },
   "outputs": [],
   "source": [
    "from torchinfo import summary\n",
    "# need device to instantiate model\n",
    "device = 'cuda'\n",
    "\n",
    "# instantiate model for 8 emotions and move to GPU \n",
    "model = get_crnn_model().to(device)\n",
    "\n",
    "# include input feature map dims in call to summary()\n",
    "summary(model, input_size=(32, 1, 128, 160))\n"
   ]
  },
  {
   "cell_type": "code",
   "execution_count": 38,
   "metadata": {
    "execution": {
     "iopub.execute_input": "2024-05-19T04:45:16.347563Z",
     "iopub.status.busy": "2024-05-19T04:45:16.347260Z",
     "iopub.status.idle": "2024-05-19T04:45:16.362463Z",
     "shell.execute_reply": "2024-05-19T04:45:16.361728Z",
     "shell.execute_reply.started": "2024-05-19T04:45:16.347538Z"
    }
   },
   "outputs": [],
   "source": [
    "import torch.optim as optim\n",
    "\n",
    "EPOCHS=500\n",
    "DEVICE = torch.device(\"cuda:0\" if torch.cuda.is_available() else \"cpu\")\n",
    "loss_fn =nn.CrossEntropyLoss().to(DEVICE)\n",
    "\n",
    "LEARNING_RATE=1e-4\n",
    "model = ParaNet(6).to(DEVICE)\n",
    "optimizer = optim.Adam(model.parameters(), lr=LEARNING_RATE)\n",
    "# optimizer = torch.optim.SGD(model.parameters(),lr=0.01, weight_decay=LEARNING_RATE, momentum=0.8)"
   ]
  },
  {
   "cell_type": "code",
   "execution_count": 39,
   "metadata": {
    "execution": {
     "iopub.execute_input": "2024-05-19T04:45:16.363610Z",
     "iopub.status.busy": "2024-05-19T04:45:16.363354Z",
     "iopub.status.idle": "2024-05-19T04:45:16.370949Z",
     "shell.execute_reply": "2024-05-19T04:45:16.370139Z",
     "shell.execute_reply.started": "2024-05-19T04:45:16.363589Z"
    }
   },
   "outputs": [],
   "source": [
    "def train_epoch(model, data_loader, loss_fn, optimizer, device):\n",
    "    model = model.train()\n",
    "\n",
    "    losses = []\n",
    "    correct_predictions = 0\n",
    "    total_predictions = 0\n",
    "\n",
    "    for train_input, train_label in tqdm(data_loader):\n",
    "        train_label = train_label.to(device)\n",
    "        train_input = train_input.to(device)\n",
    "\n",
    "        optimizer.zero_grad()\n",
    "        \n",
    "        output_logits, output_softmax = model(train_input.float())\n",
    "        predictions = torch.argmax(output_softmax,dim=1)\n",
    "        total_predictions += train_label.size(0)\n",
    "        \n",
    "        correct_predictions += (predictions == train_label).sum().item()\n",
    "        \n",
    "        loss = loss_fn(output_logits, train_label)\n",
    "\n",
    "        losses.append(loss.item())\n",
    "\n",
    "\n",
    "        loss.backward()\n",
    "        optimizer.step()\n",
    "\n",
    "    print(f\"Epoch {epoch+1}, Learning Rate: {optimizer.param_groups[0]['lr']}\")\n",
    "\n",
    "    accuracy = correct_predictions / total_predictions\n",
    "    mean_loss = np.mean(losses)\n",
    "\n",
    "    return mean_loss, accuracy\n"
   ]
  },
  {
   "cell_type": "code",
   "execution_count": 40,
   "metadata": {
    "execution": {
     "iopub.execute_input": "2024-05-19T04:45:16.372305Z",
     "iopub.status.busy": "2024-05-19T04:45:16.371996Z",
     "iopub.status.idle": "2024-05-19T04:45:16.381281Z",
     "shell.execute_reply": "2024-05-19T04:45:16.380393Z",
     "shell.execute_reply.started": "2024-05-19T04:45:16.372282Z"
    }
   },
   "outputs": [],
   "source": [
    "def eval_model(model, data_loader, loss_fn, device):\n",
    "    model = model.eval()\n",
    "\n",
    "    losses = []\n",
    "    correct_predictions = 0\n",
    "    total_predictions = 0\n",
    "\n",
    "    with torch.no_grad():            \n",
    "        for val_input, val_label in data_loader:\n",
    "            val_label = val_label.to(device)\n",
    "            val_input = val_input.to(device)\n",
    "\n",
    "            optimizer.zero_grad()\n",
    "\n",
    "            output_logits, output_softmax = model(val_input.float())\n",
    "\n",
    "            predictions = torch.argmax(output_softmax,dim=1)\n",
    "            total_predictions += val_label.size(0)\n",
    "\n",
    "            correct_predictions += (predictions == val_label).sum().item()\n",
    "\n",
    "            loss = loss_fn(output_logits, val_label)\n",
    "\n",
    "            losses.append(loss.item())\n",
    "            \n",
    "            \n",
    "\n",
    "\n",
    "\n",
    "        accuracy = correct_predictions / total_predictions\n",
    "        mean_loss = np.mean(losses)\n",
    "        \n",
    "\n",
    "    return mean_loss, accuracy"
   ]
  },
  {
   "cell_type": "code",
   "execution_count": 41,
   "metadata": {
    "execution": {
     "iopub.execute_input": "2024-05-19T04:45:16.382501Z",
     "iopub.status.busy": "2024-05-19T04:45:16.382169Z",
     "iopub.status.idle": "2024-05-19T04:45:16.395331Z",
     "shell.execute_reply": "2024-05-19T04:45:16.394474Z",
     "shell.execute_reply.started": "2024-05-19T04:45:16.382476Z"
    }
   },
   "outputs": [],
   "source": [
    "from collections import defaultdict\n",
    "import math\n",
    "history = defaultdict(list)\n",
    "loss=math.inf\n",
    "epochs_without_improvement = 0\n",
    "patience = 10  # Number of epochs to wait for improvement\n"
   ]
  },
  {
   "cell_type": "code",
   "execution_count": 42,
   "metadata": {
    "execution": {
     "iopub.execute_input": "2024-05-19T04:45:16.396749Z",
     "iopub.status.busy": "2024-05-19T04:45:16.396435Z",
     "iopub.status.idle": "2024-05-19T04:51:35.873938Z",
     "shell.execute_reply": "2024-05-19T04:51:35.872999Z",
     "shell.execute_reply.started": "2024-05-19T04:45:16.396720Z"
    }
   },
   "outputs": [
    {
     "name": "stderr",
     "output_type": "stream",
     "text": [
      "100%|██████████| 670/670 [00:06<00:00, 109.83it/s]\n"
     ]
    },
    {
     "name": "stdout",
     "output_type": "stream",
     "text": [
      "Epoch 1, Learning Rate: 0.0001\n",
      "Epoch 1/500\n",
      "----------\n",
      "Train loss 1.6988046085656578\n",
      "Train Accuracy 0.3330222139257047\n",
      "Val   loss 1.4743093554178874\n",
      "Val   Acc 0.3959731543624161\n",
      "\n"
     ]
    },
    {
     "name": "stderr",
     "output_type": "stream",
     "text": [
      "100%|██████████| 670/670 [00:05<00:00, 122.20it/s]\n"
     ]
    },
    {
     "name": "stdout",
     "output_type": "stream",
     "text": [
      "Epoch 2, Learning Rate: 0.0001\n",
      "Epoch 2/500\n",
      "----------\n",
      "Train loss 1.5126923097603358\n",
      "Train Accuracy 0.3972372596602576\n",
      "Val   loss 1.4267454115549723\n",
      "Val   Acc 0.3775167785234899\n",
      "\n"
     ]
    },
    {
     "name": "stderr",
     "output_type": "stream",
     "text": [
      "100%|██████████| 670/670 [00:05<00:00, 121.66it/s]\n"
     ]
    },
    {
     "name": "stdout",
     "output_type": "stream",
     "text": [
      "Epoch 3, Learning Rate: 0.0001\n",
      "Epoch 3/500\n",
      "----------\n",
      "Train loss 1.4618964880260068\n",
      "Train Accuracy 0.4054508120216539\n",
      "Val   loss 1.3603723049163818\n",
      "Val   Acc 0.46140939597315433\n",
      "\n"
     ]
    },
    {
     "name": "stderr",
     "output_type": "stream",
     "text": [
      "100%|██████████| 670/670 [00:05<00:00, 122.34it/s]\n"
     ]
    },
    {
     "name": "stdout",
     "output_type": "stream",
     "text": [
      "Epoch 4, Learning Rate: 0.0001\n",
      "Epoch 4/500\n",
      "----------\n",
      "Train loss 1.4224062046008323\n",
      "Train Accuracy 0.42299794661190965\n",
      "Val   loss 1.3883718252182007\n",
      "Val   Acc 0.40604026845637586\n",
      "\n"
     ]
    },
    {
     "name": "stderr",
     "output_type": "stream",
     "text": [
      "100%|██████████| 670/670 [00:05<00:00, 122.32it/s]\n"
     ]
    },
    {
     "name": "stdout",
     "output_type": "stream",
     "text": [
      "Epoch 5, Learning Rate: 0.0001\n",
      "Epoch 5/500\n",
      "----------\n",
      "Train loss 1.3797867853250076\n",
      "Train Accuracy 0.4420384543587829\n",
      "Val   loss 1.2656423989931742\n",
      "Val   Acc 0.5151006711409396\n",
      "\n"
     ]
    },
    {
     "name": "stderr",
     "output_type": "stream",
     "text": [
      "100%|██████████| 670/670 [00:05<00:00, 122.12it/s]\n"
     ]
    },
    {
     "name": "stdout",
     "output_type": "stream",
     "text": [
      "Epoch 6, Learning Rate: 0.0001\n",
      "Epoch 6/500\n",
      "----------\n",
      "Train loss 1.3657177097761808\n",
      "Train Accuracy 0.4465185738286354\n",
      "Val   loss 1.3432186969121298\n",
      "Val   Acc 0.4429530201342282\n",
      "\n"
     ]
    },
    {
     "name": "stderr",
     "output_type": "stream",
     "text": [
      "100%|██████████| 670/670 [00:05<00:00, 122.15it/s]\n"
     ]
    },
    {
     "name": "stdout",
     "output_type": "stream",
     "text": [
      "Epoch 7, Learning Rate: 0.0001\n",
      "Epoch 7/500\n",
      "----------\n",
      "Train loss 1.3437229730300049\n",
      "Train Accuracy 0.459958932238193\n",
      "Val   loss 1.2850458550453185\n",
      "Val   Acc 0.4899328859060403\n",
      "\n"
     ]
    },
    {
     "name": "stderr",
     "output_type": "stream",
     "text": [
      "100%|██████████| 670/670 [00:05<00:00, 121.46it/s]\n"
     ]
    },
    {
     "name": "stdout",
     "output_type": "stream",
     "text": [
      "Epoch 8, Learning Rate: 0.0001\n",
      "Epoch 8/500\n",
      "----------\n",
      "Train loss 1.3182872338081473\n",
      "Train Accuracy 0.4702258726899384\n",
      "Val   loss 1.2738174080848694\n",
      "Val   Acc 0.4899328859060403\n",
      "\n"
     ]
    },
    {
     "name": "stderr",
     "output_type": "stream",
     "text": [
      "100%|██████████| 670/670 [00:05<00:00, 122.05it/s]\n"
     ]
    },
    {
     "name": "stdout",
     "output_type": "stream",
     "text": [
      "Epoch 9, Learning Rate: 0.0001\n",
      "Epoch 9/500\n",
      "----------\n",
      "Train loss 1.2924342451700523\n",
      "Train Accuracy 0.4946798581295501\n",
      "Val   loss 1.219083403746287\n",
      "Val   Acc 0.5234899328859061\n",
      "\n"
     ]
    },
    {
     "name": "stderr",
     "output_type": "stream",
     "text": [
      "100%|██████████| 670/670 [00:05<00:00, 121.97it/s]\n"
     ]
    },
    {
     "name": "stdout",
     "output_type": "stream",
     "text": [
      "Epoch 10, Learning Rate: 0.0001\n",
      "Epoch 10/500\n",
      "----------\n",
      "Train loss 1.272269666995575\n",
      "Train Accuracy 0.4980399477319395\n",
      "Val   loss 1.2272009460131328\n",
      "Val   Acc 0.5134228187919463\n",
      "\n"
     ]
    },
    {
     "name": "stderr",
     "output_type": "stream",
     "text": [
      "100%|██████████| 670/670 [00:05<00:00, 120.92it/s]\n"
     ]
    },
    {
     "name": "stdout",
     "output_type": "stream",
     "text": [
      "Epoch 11, Learning Rate: 0.0001\n",
      "Epoch 11/500\n",
      "----------\n",
      "Train loss 1.2579330629822034\n",
      "Train Accuracy 0.5008400224005973\n",
      "Val   loss 1.182636133035024\n",
      "Val   Acc 0.5385906040268457\n",
      "\n"
     ]
    },
    {
     "name": "stderr",
     "output_type": "stream",
     "text": [
      "100%|██████████| 670/670 [00:05<00:00, 122.25it/s]\n"
     ]
    },
    {
     "name": "stdout",
     "output_type": "stream",
     "text": [
      "Epoch 12, Learning Rate: 0.0001\n",
      "Epoch 12/500\n",
      "----------\n",
      "Train loss 1.2234840820974378\n",
      "Train Accuracy 0.5142803808101549\n",
      "Val   loss 1.183716303507487\n",
      "Val   Acc 0.5553691275167785\n",
      "\n"
     ]
    },
    {
     "name": "stderr",
     "output_type": "stream",
     "text": [
      "100%|██████████| 670/670 [00:05<00:00, 122.32it/s]\n"
     ]
    },
    {
     "name": "stdout",
     "output_type": "stream",
     "text": [
      "Epoch 13, Learning Rate: 0.0001\n",
      "Epoch 13/500\n",
      "----------\n",
      "Train loss 1.2304383549227644\n",
      "Train Accuracy 0.5126003360089603\n",
      "Val   loss 1.2315394767125447\n",
      "Val   Acc 0.5218120805369127\n",
      "\n"
     ]
    },
    {
     "name": "stderr",
     "output_type": "stream",
     "text": [
      "100%|██████████| 670/670 [00:05<00:00, 122.39it/s]\n"
     ]
    },
    {
     "name": "stdout",
     "output_type": "stream",
     "text": [
      "Epoch 14, Learning Rate: 0.0001\n",
      "Epoch 14/500\n",
      "----------\n",
      "Train loss 1.202210009142534\n",
      "Train Accuracy 0.5208138883703566\n",
      "Val   loss 1.1561599977811177\n",
      "Val   Acc 0.5671140939597316\n",
      "\n"
     ]
    },
    {
     "name": "stderr",
     "output_type": "stream",
     "text": [
      "100%|██████████| 670/670 [00:05<00:00, 122.14it/s]\n"
     ]
    },
    {
     "name": "stdout",
     "output_type": "stream",
     "text": [
      "Epoch 15, Learning Rate: 0.0001\n",
      "Epoch 15/500\n",
      "----------\n",
      "Train loss 1.1915964131924643\n",
      "Train Accuracy 0.5329475452678738\n",
      "Val   loss 1.1569361678759258\n",
      "Val   Acc 0.5469798657718121\n",
      "\n"
     ]
    },
    {
     "name": "stderr",
     "output_type": "stream",
     "text": [
      "100%|██████████| 670/670 [00:05<00:00, 121.61it/s]\n"
     ]
    },
    {
     "name": "stdout",
     "output_type": "stream",
     "text": [
      "Epoch 16, Learning Rate: 0.0001\n",
      "Epoch 16/500\n",
      "----------\n",
      "Train loss 1.1839035636898296\n",
      "Train Accuracy 0.5277207392197125\n",
      "Val   loss 1.13186642964681\n",
      "Val   Acc 0.5704697986577181\n",
      "\n"
     ]
    },
    {
     "name": "stderr",
     "output_type": "stream",
     "text": [
      "100%|██████████| 670/670 [00:05<00:00, 122.19it/s]\n"
     ]
    },
    {
     "name": "stdout",
     "output_type": "stream",
     "text": [
      "Epoch 17, Learning Rate: 0.0001\n",
      "Epoch 17/500\n",
      "----------\n",
      "Train loss 1.1661236757662758\n",
      "Train Accuracy 0.5428411424304648\n",
      "Val   loss 1.1448079053560893\n",
      "Val   Acc 0.5604026845637584\n",
      "\n"
     ]
    },
    {
     "name": "stderr",
     "output_type": "stream",
     "text": [
      "100%|██████████| 670/670 [00:05<00:00, 121.81it/s]\n"
     ]
    },
    {
     "name": "stdout",
     "output_type": "stream",
     "text": [
      "Epoch 18, Learning Rate: 0.0001\n",
      "Epoch 18/500\n",
      "----------\n",
      "Train loss 1.1397069397257336\n",
      "Train Accuracy 0.5484412917677804\n",
      "Val   loss 1.1891318996747335\n",
      "Val   Acc 0.5218120805369127\n",
      "\n"
     ]
    },
    {
     "name": "stderr",
     "output_type": "stream",
     "text": [
      "100%|██████████| 670/670 [00:05<00:00, 121.76it/s]\n"
     ]
    },
    {
     "name": "stdout",
     "output_type": "stream",
     "text": [
      "Epoch 19, Learning Rate: 0.0001\n",
      "Epoch 19/500\n",
      "----------\n",
      "Train loss 1.142496584555996\n",
      "Train Accuracy 0.5445211872316595\n",
      "Val   loss 1.1221527353922527\n",
      "Val   Acc 0.5822147651006712\n",
      "\n"
     ]
    },
    {
     "name": "stderr",
     "output_type": "stream",
     "text": [
      "100%|██████████| 670/670 [00:05<00:00, 121.69it/s]\n"
     ]
    },
    {
     "name": "stdout",
     "output_type": "stream",
     "text": [
      "Epoch 20, Learning Rate: 0.0001\n",
      "Epoch 20/500\n",
      "----------\n",
      "Train loss 1.1263834004971518\n",
      "Train Accuracy 0.5596415904424118\n",
      "Val   loss 1.1364829929669698\n",
      "Val   Acc 0.5369127516778524\n",
      "\n"
     ]
    },
    {
     "name": "stderr",
     "output_type": "stream",
     "text": [
      "100%|██████████| 670/670 [00:05<00:00, 121.79it/s]\n"
     ]
    },
    {
     "name": "stdout",
     "output_type": "stream",
     "text": [
      "Epoch 21, Learning Rate: 0.0001\n",
      "Epoch 21/500\n",
      "----------\n",
      "Train loss 1.113405305147171\n",
      "Train Accuracy 0.5702818741833116\n",
      "Val   loss 1.121416395107905\n",
      "Val   Acc 0.5704697986577181\n",
      "\n"
     ]
    },
    {
     "name": "stderr",
     "output_type": "stream",
     "text": [
      "100%|██████████| 670/670 [00:05<00:00, 122.02it/s]\n"
     ]
    },
    {
     "name": "stdout",
     "output_type": "stream",
     "text": [
      "Epoch 22, Learning Rate: 0.0001\n",
      "Epoch 22/500\n",
      "----------\n",
      "Train loss 1.1071754707329309\n",
      "Train Accuracy 0.5663617696471905\n",
      "Val   loss 1.0881406629085542\n",
      "Val   Acc 0.5973154362416108\n",
      "\n"
     ]
    },
    {
     "name": "stderr",
     "output_type": "stream",
     "text": [
      "100%|██████████| 670/670 [00:05<00:00, 122.17it/s]\n"
     ]
    },
    {
     "name": "stdout",
     "output_type": "stream",
     "text": [
      "Epoch 23, Learning Rate: 0.0001\n",
      "Epoch 23/500\n",
      "----------\n",
      "Train loss 1.0999034421657448\n",
      "Train Accuracy 0.5682284860929625\n",
      "Val   loss 1.1823749148845673\n",
      "Val   Acc 0.5385906040268457\n",
      "\n"
     ]
    },
    {
     "name": "stderr",
     "output_type": "stream",
     "text": [
      "100%|██████████| 670/670 [00:05<00:00, 121.51it/s]\n"
     ]
    },
    {
     "name": "stdout",
     "output_type": "stream",
     "text": [
      "Epoch 24, Learning Rate: 0.0001\n",
      "Epoch 24/500\n",
      "----------\n",
      "Train loss 1.0921994022469022\n",
      "Train Accuracy 0.5755086802314728\n",
      "Val   loss 1.1153167684872944\n",
      "Val   Acc 0.5604026845637584\n",
      "\n"
     ]
    },
    {
     "name": "stderr",
     "output_type": "stream",
     "text": [
      "100%|██████████| 670/670 [00:05<00:00, 121.78it/s]\n"
     ]
    },
    {
     "name": "stdout",
     "output_type": "stream",
     "text": [
      "Epoch 25, Learning Rate: 0.0001\n",
      "Epoch 25/500\n",
      "----------\n",
      "Train loss 1.0750147097146334\n",
      "Train Accuracy 0.5850289341049094\n",
      "Val   loss 1.0498977136611938\n",
      "Val   Acc 0.6040268456375839\n",
      "\n"
     ]
    },
    {
     "name": "stderr",
     "output_type": "stream",
     "text": [
      "100%|██████████| 670/670 [00:05<00:00, 121.31it/s]\n"
     ]
    },
    {
     "name": "stdout",
     "output_type": "stream",
     "text": [
      "Epoch 26, Learning Rate: 0.0001\n",
      "Epoch 26/500\n",
      "----------\n",
      "Train loss 1.0625484834856063\n",
      "Train Accuracy 0.5799887997013253\n",
      "Val   loss 1.0838190678755442\n",
      "Val   Acc 0.5855704697986577\n",
      "\n"
     ]
    },
    {
     "name": "stderr",
     "output_type": "stream",
     "text": [
      "100%|██████████| 670/670 [00:05<00:00, 122.07it/s]\n"
     ]
    },
    {
     "name": "stdout",
     "output_type": "stream",
     "text": [
      "Epoch 27, Learning Rate: 0.0001\n",
      "Epoch 27/500\n",
      "----------\n",
      "Train loss 1.0391692375069235\n",
      "Train Accuracy 0.5930558148217285\n",
      "Val   loss 1.0641005583604177\n",
      "Val   Acc 0.5922818791946308\n",
      "\n"
     ]
    },
    {
     "name": "stderr",
     "output_type": "stream",
     "text": [
      "100%|██████████| 670/670 [00:05<00:00, 121.98it/s]\n"
     ]
    },
    {
     "name": "stdout",
     "output_type": "stream",
     "text": [
      "Epoch 28, Learning Rate: 0.0001\n",
      "Epoch 28/500\n",
      "----------\n",
      "Train loss 1.045512095583019\n",
      "Train Accuracy 0.596415904424118\n",
      "Val   loss 1.0521158913771311\n",
      "Val   Acc 0.5956375838926175\n",
      "\n"
     ]
    },
    {
     "name": "stderr",
     "output_type": "stream",
     "text": [
      "100%|██████████| 670/670 [00:05<00:00, 121.79it/s]\n"
     ]
    },
    {
     "name": "stdout",
     "output_type": "stream",
     "text": [
      "Epoch 29, Learning Rate: 0.0001\n",
      "Epoch 29/500\n",
      "----------\n",
      "Train loss 1.0290023661816299\n",
      "Train Accuracy 0.5958558894903864\n",
      "Val   loss 1.0827142413457234\n",
      "Val   Acc 0.5956375838926175\n",
      "\n"
     ]
    },
    {
     "name": "stderr",
     "output_type": "stream",
     "text": [
      "100%|██████████| 670/670 [00:05<00:00, 121.87it/s]\n"
     ]
    },
    {
     "name": "stdout",
     "output_type": "stream",
     "text": [
      "Epoch 30, Learning Rate: 0.0001\n",
      "Epoch 30/500\n",
      "----------\n",
      "Train loss 1.0215334281992556\n",
      "Train Accuracy 0.6040694418517827\n",
      "Val   loss 1.0632200602690378\n",
      "Val   Acc 0.5989932885906041\n",
      "\n"
     ]
    },
    {
     "name": "stderr",
     "output_type": "stream",
     "text": [
      "100%|██████████| 670/670 [00:05<00:00, 122.15it/s]\n"
     ]
    },
    {
     "name": "stdout",
     "output_type": "stream",
     "text": [
      "Epoch 31, Learning Rate: 0.0001\n",
      "Epoch 31/500\n",
      "----------\n",
      "Train loss 1.0147987865689976\n",
      "Train Accuracy 0.6104162777674071\n",
      "Val   loss 1.0389297413825989\n",
      "Val   Acc 0.5889261744966443\n",
      "\n"
     ]
    },
    {
     "name": "stderr",
     "output_type": "stream",
     "text": [
      "100%|██████████| 670/670 [00:05<00:00, 121.82it/s]\n"
     ]
    },
    {
     "name": "stdout",
     "output_type": "stream",
     "text": [
      "Epoch 32, Learning Rate: 0.0001\n",
      "Epoch 32/500\n",
      "----------\n",
      "Train loss 1.0144884792726432\n",
      "Train Accuracy 0.6016427104722792\n",
      "Val   loss 1.0377501893043517\n",
      "Val   Acc 0.6073825503355704\n",
      "\n"
     ]
    },
    {
     "name": "stderr",
     "output_type": "stream",
     "text": [
      "100%|██████████| 670/670 [00:05<00:00, 121.80it/s]\n"
     ]
    },
    {
     "name": "stdout",
     "output_type": "stream",
     "text": [
      "Epoch 33, Learning Rate: 0.0001\n",
      "Epoch 33/500\n",
      "----------\n",
      "Train loss 0.9987428222129594\n",
      "Train Accuracy 0.6190031734179579\n",
      "Val   loss 1.0928608830769857\n",
      "Val   Acc 0.5906040268456376\n",
      "\n"
     ]
    },
    {
     "name": "stderr",
     "output_type": "stream",
     "text": [
      "100%|██████████| 670/670 [00:05<00:00, 122.07it/s]\n"
     ]
    },
    {
     "name": "stdout",
     "output_type": "stream",
     "text": [
      "Epoch 34, Learning Rate: 0.0001\n",
      "Epoch 34/500\n",
      "----------\n",
      "Train loss 0.9800405649329299\n",
      "Train Accuracy 0.6180698151950719\n",
      "Val   loss 1.0674134437243143\n",
      "Val   Acc 0.587248322147651\n",
      "\n"
     ]
    },
    {
     "name": "stderr",
     "output_type": "stream",
     "text": [
      "100%|██████████| 670/670 [00:05<00:00, 121.96it/s]\n"
     ]
    },
    {
     "name": "stdout",
     "output_type": "stream",
     "text": [
      "Epoch 35, Learning Rate: 0.0001\n",
      "Epoch 35/500\n",
      "----------\n",
      "Train loss 0.9734556786827187\n",
      "Train Accuracy 0.6285234272913944\n",
      "Val   loss 1.0032129136721293\n",
      "Val   Acc 0.6157718120805369\n",
      "\n"
     ]
    },
    {
     "name": "stderr",
     "output_type": "stream",
     "text": [
      "100%|██████████| 670/670 [00:05<00:00, 122.75it/s]\n"
     ]
    },
    {
     "name": "stdout",
     "output_type": "stream",
     "text": [
      "Epoch 36, Learning Rate: 0.0001\n",
      "Epoch 36/500\n",
      "----------\n",
      "Train loss 0.966365411254897\n",
      "Train Accuracy 0.6268433824901998\n",
      "Val   loss 1.1149983712037403\n",
      "Val   Acc 0.5855704697986577\n",
      "\n"
     ]
    },
    {
     "name": "stderr",
     "output_type": "stream",
     "text": [
      "100%|██████████| 670/670 [00:05<00:00, 121.39it/s]\n"
     ]
    },
    {
     "name": "stdout",
     "output_type": "stream",
     "text": [
      "Epoch 37, Learning Rate: 0.0001\n",
      "Epoch 37/500\n",
      "----------\n",
      "Train loss 0.9618801938953684\n",
      "Train Accuracy 0.6234832928878103\n",
      "Val   loss 1.0737473519643148\n",
      "Val   Acc 0.5973154362416108\n",
      "\n"
     ]
    },
    {
     "name": "stderr",
     "output_type": "stream",
     "text": [
      "100%|██████████| 670/670 [00:05<00:00, 122.25it/s]\n"
     ]
    },
    {
     "name": "stdout",
     "output_type": "stream",
     "text": [
      "Epoch 38, Learning Rate: 0.0001\n",
      "Epoch 38/500\n",
      "----------\n",
      "Train loss 0.9553809848294329\n",
      "Train Accuracy 0.6292701138697032\n",
      "Val   loss 1.317304792602857\n",
      "Val   Acc 0.5335570469798657\n",
      "\n"
     ]
    },
    {
     "name": "stderr",
     "output_type": "stream",
     "text": [
      "100%|██████████| 670/670 [00:05<00:00, 122.15it/s]\n"
     ]
    },
    {
     "name": "stdout",
     "output_type": "stream",
     "text": [
      "Epoch 39, Learning Rate: 0.0001\n",
      "Epoch 39/500\n",
      "----------\n",
      "Train loss 0.935061441028296\n",
      "Train Accuracy 0.6348702632070189\n",
      "Val   loss 1.1635174532731374\n",
      "Val   Acc 0.5553691275167785\n",
      "\n"
     ]
    },
    {
     "name": "stderr",
     "output_type": "stream",
     "text": [
      "100%|██████████| 670/670 [00:05<00:00, 122.41it/s]\n"
     ]
    },
    {
     "name": "stdout",
     "output_type": "stream",
     "text": [
      "Epoch 40, Learning Rate: 0.0001\n",
      "Epoch 40/500\n",
      "----------\n",
      "Train loss 0.9489020590017091\n",
      "Train Accuracy 0.6341235766287101\n",
      "Val   loss 1.0088840746879577\n",
      "Val   Acc 0.6241610738255033\n",
      "\n"
     ]
    },
    {
     "name": "stderr",
     "output_type": "stream",
     "text": [
      "100%|██████████| 670/670 [00:05<00:00, 121.29it/s]\n"
     ]
    },
    {
     "name": "stdout",
     "output_type": "stream",
     "text": [
      "Epoch 41, Learning Rate: 0.0001\n",
      "Epoch 41/500\n",
      "----------\n",
      "Train loss 0.9391860459500284\n",
      "Train Accuracy 0.6374836662310995\n",
      "Val   loss 1.077334107955297\n",
      "Val   Acc 0.5973154362416108\n",
      "\n"
     ]
    },
    {
     "name": "stderr",
     "output_type": "stream",
     "text": [
      "100%|██████████| 670/670 [00:05<00:00, 122.14it/s]\n"
     ]
    },
    {
     "name": "stdout",
     "output_type": "stream",
     "text": [
      "Epoch 42, Learning Rate: 0.0001\n",
      "Epoch 42/500\n",
      "----------\n",
      "Train loss 0.9252907594415679\n",
      "Train Accuracy 0.6421504573455292\n",
      "Val   loss 1.0647728832562764\n",
      "Val   Acc 0.6140939597315436\n",
      "\n"
     ]
    },
    {
     "name": "stderr",
     "output_type": "stream",
     "text": [
      "100%|██████████| 670/670 [00:05<00:00, 121.88it/s]\n"
     ]
    },
    {
     "name": "stdout",
     "output_type": "stream",
     "text": [
      "Epoch 43, Learning Rate: 0.0001\n",
      "Epoch 43/500\n",
      "----------\n",
      "Train loss 0.9076570271556057\n",
      "Train Accuracy 0.6455105469479187\n",
      "Val   loss 1.0237269941965739\n",
      "Val   Acc 0.6325503355704698\n",
      "\n"
     ]
    },
    {
     "name": "stderr",
     "output_type": "stream",
     "text": [
      "100%|██████████| 670/670 [00:05<00:00, 121.69it/s]\n"
     ]
    },
    {
     "name": "stdout",
     "output_type": "stream",
     "text": [
      "Epoch 44, Learning Rate: 0.0001\n",
      "Epoch 44/500\n",
      "----------\n",
      "Train loss 0.9052772100292035\n",
      "Train Accuracy 0.6542841142430464\n",
      "Val   loss 1.036236448486646\n",
      "Val   Acc 0.6157718120805369\n",
      "\n"
     ]
    },
    {
     "name": "stderr",
     "output_type": "stream",
     "text": [
      "100%|██████████| 670/670 [00:05<00:00, 121.89it/s]\n"
     ]
    },
    {
     "name": "stdout",
     "output_type": "stream",
     "text": [
      "Epoch 45, Learning Rate: 0.0001\n",
      "Epoch 45/500\n",
      "----------\n",
      "Train loss 0.9000528571321004\n",
      "Train Accuracy 0.6563375023333956\n",
      "Val   loss 0.9975607645511627\n",
      "Val   Acc 0.6308724832214765\n",
      "\n"
     ]
    },
    {
     "name": "stderr",
     "output_type": "stream",
     "text": [
      "100%|██████████| 670/670 [00:05<00:00, 121.80it/s]\n"
     ]
    },
    {
     "name": "stdout",
     "output_type": "stream",
     "text": [
      "Epoch 46, Learning Rate: 0.0001\n",
      "Epoch 46/500\n",
      "----------\n",
      "Train loss 0.8935505690859324\n",
      "Train Accuracy 0.6568975172671271\n",
      "Val   loss 1.076885507106781\n",
      "Val   Acc 0.6057046979865772\n",
      "\n"
     ]
    },
    {
     "name": "stderr",
     "output_type": "stream",
     "text": [
      "100%|██████████| 670/670 [00:05<00:00, 122.40it/s]\n"
     ]
    },
    {
     "name": "stdout",
     "output_type": "stream",
     "text": [
      "Epoch 47, Learning Rate: 0.0001\n",
      "Epoch 47/500\n",
      "----------\n",
      "Train loss 0.884747831834786\n",
      "Train Accuracy 0.6576442038454359\n",
      "Val   loss 0.9866144835948945\n",
      "Val   Acc 0.6560402684563759\n",
      "\n"
     ]
    },
    {
     "name": "stderr",
     "output_type": "stream",
     "text": [
      "100%|██████████| 670/670 [00:05<00:00, 122.17it/s]\n"
     ]
    },
    {
     "name": "stdout",
     "output_type": "stream",
     "text": [
      "Epoch 48, Learning Rate: 0.0001\n",
      "Epoch 48/500\n",
      "----------\n",
      "Train loss 0.8720212199127496\n",
      "Train Accuracy 0.6632443531827515\n",
      "Val   loss 1.0214242152372996\n",
      "Val   Acc 0.610738255033557\n",
      "\n"
     ]
    },
    {
     "name": "stderr",
     "output_type": "stream",
     "text": [
      "100%|██████████| 670/670 [00:05<00:00, 122.53it/s]\n"
     ]
    },
    {
     "name": "stdout",
     "output_type": "stream",
     "text": [
      "Epoch 49, Learning Rate: 0.0001\n",
      "Epoch 49/500\n",
      "----------\n",
      "Train loss 0.8862334924847333\n",
      "Train Accuracy 0.6600709352249393\n",
      "Val   loss 1.0561564147472382\n",
      "Val   Acc 0.6006711409395973\n",
      "\n"
     ]
    },
    {
     "name": "stderr",
     "output_type": "stream",
     "text": [
      "100%|██████████| 670/670 [00:05<00:00, 122.76it/s]\n"
     ]
    },
    {
     "name": "stdout",
     "output_type": "stream",
     "text": [
      "Epoch 50, Learning Rate: 0.0001\n",
      "Epoch 50/500\n",
      "----------\n",
      "Train loss 0.8653792885479642\n",
      "Train Accuracy 0.6669777860742954\n",
      "Val   loss 1.0336989430586496\n",
      "Val   Acc 0.6375838926174496\n",
      "\n"
     ]
    },
    {
     "name": "stderr",
     "output_type": "stream",
     "text": [
      "100%|██████████| 670/670 [00:05<00:00, 122.55it/s]\n"
     ]
    },
    {
     "name": "stdout",
     "output_type": "stream",
     "text": [
      "Epoch 51, Learning Rate: 0.0001\n",
      "Epoch 51/500\n",
      "----------\n",
      "Train loss 0.8577825585185592\n",
      "Train Accuracy 0.6660444278514094\n",
      "Val   loss 1.0310329524676005\n",
      "Val   Acc 0.6124161073825504\n",
      "\n"
     ]
    },
    {
     "name": "stderr",
     "output_type": "stream",
     "text": [
      "100%|██████████| 670/670 [00:05<00:00, 121.14it/s]\n"
     ]
    },
    {
     "name": "stdout",
     "output_type": "stream",
     "text": [
      "Epoch 52, Learning Rate: 0.0001\n",
      "Epoch 52/500\n",
      "----------\n",
      "Train loss 0.8471845804755368\n",
      "Train Accuracy 0.66865783087549\n",
      "Val   loss 1.0571664007504782\n",
      "Val   Acc 0.5956375838926175\n",
      "\n"
     ]
    },
    {
     "name": "stderr",
     "output_type": "stream",
     "text": [
      "100%|██████████| 670/670 [00:05<00:00, 121.61it/s]\n"
     ]
    },
    {
     "name": "stdout",
     "output_type": "stream",
     "text": [
      "Epoch 53, Learning Rate: 0.0001\n",
      "Epoch 53/500\n",
      "----------\n",
      "Train loss 0.8451435989074743\n",
      "Train Accuracy 0.6817248459958932\n",
      "Val   loss 1.1160398777325948\n",
      "Val   Acc 0.5906040268456376\n",
      "\n"
     ]
    },
    {
     "name": "stderr",
     "output_type": "stream",
     "text": [
      "100%|██████████| 670/670 [00:05<00:00, 122.43it/s]\n"
     ]
    },
    {
     "name": "stdout",
     "output_type": "stream",
     "text": [
      "Epoch 54, Learning Rate: 0.0001\n",
      "Epoch 54/500\n",
      "----------\n",
      "Train loss 0.8430301524809937\n",
      "Train Accuracy 0.6731379503453425\n",
      "Val   loss 1.0564821684360504\n",
      "Val   Acc 0.610738255033557\n",
      "\n"
     ]
    },
    {
     "name": "stderr",
     "output_type": "stream",
     "text": [
      "100%|██████████| 670/670 [00:05<00:00, 121.77it/s]\n"
     ]
    },
    {
     "name": "stdout",
     "output_type": "stream",
     "text": [
      "Epoch 55, Learning Rate: 0.0001\n",
      "Epoch 55/500\n",
      "----------\n",
      "Train loss 0.8371554529044165\n",
      "Train Accuracy 0.6835915624416651\n",
      "Val   loss 1.0398368819554646\n",
      "Val   Acc 0.6258389261744967\n",
      "\n"
     ]
    },
    {
     "name": "stderr",
     "output_type": "stream",
     "text": [
      "100%|██████████| 670/670 [00:05<00:00, 122.73it/s]\n"
     ]
    },
    {
     "name": "stdout",
     "output_type": "stream",
     "text": [
      "Epoch 56, Learning Rate: 0.0001\n",
      "Epoch 56/500\n",
      "----------\n",
      "Train loss 0.8388080655416446\n",
      "Train Accuracy 0.6772447265260407\n",
      "Val   loss 0.9713655543327332\n",
      "Val   Acc 0.639261744966443\n",
      "\n"
     ]
    },
    {
     "name": "stderr",
     "output_type": "stream",
     "text": [
      "100%|██████████| 670/670 [00:05<00:00, 121.33it/s]\n"
     ]
    },
    {
     "name": "stdout",
     "output_type": "stream",
     "text": [
      "Epoch 57, Learning Rate: 0.0001\n",
      "Epoch 57/500\n",
      "----------\n",
      "Train loss 0.8185924685713071\n",
      "Train Accuracy 0.6841515773753967\n",
      "Val   loss 1.016901143391927\n",
      "Val   Acc 0.6241610738255033\n",
      "\n"
     ]
    },
    {
     "name": "stderr",
     "output_type": "stream",
     "text": [
      "100%|██████████| 670/670 [00:05<00:00, 121.96it/s]\n"
     ]
    },
    {
     "name": "stdout",
     "output_type": "stream",
     "text": [
      "Epoch 58, Learning Rate: 0.0001\n",
      "Epoch 58/500\n",
      "----------\n",
      "Train loss 0.8017621788293569\n",
      "Train Accuracy 0.6960985626283368\n",
      "Val   loss 0.9961997175216675\n",
      "Val   Acc 0.6291946308724832\n",
      "\n"
     ]
    },
    {
     "name": "stderr",
     "output_type": "stream",
     "text": [
      "100%|██████████| 670/670 [00:05<00:00, 122.45it/s]\n"
     ]
    },
    {
     "name": "stdout",
     "output_type": "stream",
     "text": [
      "Epoch 59, Learning Rate: 0.0001\n",
      "Epoch 59/500\n",
      "----------\n",
      "Train loss 0.8048544403554788\n",
      "Train Accuracy 0.6964719059174911\n",
      "Val   loss 1.0120902448892592\n",
      "Val   Acc 0.6459731543624161\n",
      "\n"
     ]
    },
    {
     "name": "stderr",
     "output_type": "stream",
     "text": [
      "100%|██████████| 670/670 [00:05<00:00, 122.68it/s]\n"
     ]
    },
    {
     "name": "stdout",
     "output_type": "stream",
     "text": [
      "Epoch 60, Learning Rate: 0.0001\n",
      "Epoch 60/500\n",
      "----------\n",
      "Train loss 0.798884716919109\n",
      "Train Accuracy 0.6988986372969946\n",
      "Val   loss 1.0453286453088124\n",
      "Val   Acc 0.5973154362416108\n",
      "\n"
     ]
    },
    {
     "name": "stderr",
     "output_type": "stream",
     "text": [
      "100%|██████████| 670/670 [00:05<00:00, 121.64it/s]\n"
     ]
    },
    {
     "name": "stdout",
     "output_type": "stream",
     "text": [
      "Epoch 61, Learning Rate: 0.0001\n",
      "Epoch 61/500\n",
      "----------\n",
      "Train loss 0.7890997759664237\n",
      "Train Accuracy 0.7031920851222699\n",
      "Val   loss 0.996207461754481\n",
      "Val   Acc 0.6459731543624161\n",
      "\n"
     ]
    },
    {
     "name": "stderr",
     "output_type": "stream",
     "text": [
      "100%|██████████| 670/670 [00:05<00:00, 122.19it/s]\n"
     ]
    },
    {
     "name": "stdout",
     "output_type": "stream",
     "text": [
      "Epoch 62, Learning Rate: 0.0001\n",
      "Epoch 62/500\n",
      "----------\n",
      "Train loss 0.7827149204576194\n",
      "Train Accuracy 0.702258726899384\n",
      "Val   loss 0.9888541913032531\n",
      "Val   Acc 0.62751677852349\n",
      "\n"
     ]
    },
    {
     "name": "stderr",
     "output_type": "stream",
     "text": [
      "100%|██████████| 670/670 [00:05<00:00, 121.30it/s]\n"
     ]
    },
    {
     "name": "stdout",
     "output_type": "stream",
     "text": [
      "Epoch 63, Learning Rate: 0.0001\n",
      "Epoch 63/500\n",
      "----------\n",
      "Train loss 0.7805115691761473\n",
      "Train Accuracy 0.7065521747246594\n",
      "Val   loss 1.025891050696373\n",
      "Val   Acc 0.6157718120805369\n",
      "\n"
     ]
    },
    {
     "name": "stderr",
     "output_type": "stream",
     "text": [
      "100%|██████████| 670/670 [00:05<00:00, 122.09it/s]\n"
     ]
    },
    {
     "name": "stdout",
     "output_type": "stream",
     "text": [
      "Epoch 64, Learning Rate: 0.0001\n",
      "Epoch 64/500\n",
      "----------\n",
      "Train loss 0.7732130178319874\n",
      "Train Accuracy 0.7013253686764981\n",
      "Val   loss 1.0674982074896495\n",
      "Val   Acc 0.6375838926174496\n",
      "\n"
     ]
    },
    {
     "name": "stderr",
     "output_type": "stream",
     "text": [
      "100%|██████████| 670/670 [00:05<00:00, 122.35it/s]\n"
     ]
    },
    {
     "name": "stdout",
     "output_type": "stream",
     "text": [
      "Epoch 65, Learning Rate: 0.0001\n",
      "Epoch 65/500\n",
      "----------\n",
      "Train loss 0.7731562423394687\n",
      "Train Accuracy 0.7087922344595856\n",
      "Val   loss 1.020625632603963\n",
      "Val   Acc 0.6208053691275168\n",
      "\n"
     ]
    },
    {
     "name": "stderr",
     "output_type": "stream",
     "text": [
      "100%|██████████| 670/670 [00:05<00:00, 122.18it/s]\n"
     ]
    },
    {
     "name": "stdout",
     "output_type": "stream",
     "text": [
      "Epoch 66, Learning Rate: 0.0001\n",
      "Epoch 66/500\n",
      "----------\n",
      "Train loss 0.7516535745627845\n",
      "Train Accuracy 0.7142057121523241\n",
      "Val   loss 1.051096249818802\n",
      "Val   Acc 0.6241610738255033\n",
      "\n",
      "Early stopping triggered. No improvement in 10 epochs.\n"
     ]
    }
   ],
   "source": [
    "for epoch in range(EPOCHS):\n",
    "\n",
    "\n",
    "    train_loss,train_acc = train_epoch(model,train_dataloader,loss_fn, optimizer, DEVICE)\n",
    "    \n",
    "    val_loss,val_acc = eval_model(model,val_dataloader,loss_fn, DEVICE)\n",
    "    \n",
    "    \n",
    "    print(f'Epoch {epoch + 1}/{EPOCHS}')\n",
    "    print('-' * 10)\n",
    "    print(f'Train loss {train_loss}')\n",
    "    print(f'Train Accuracy {train_acc}')\n",
    "\n",
    "    print(f'Val   loss {val_loss}')\n",
    "    print(f'Val   Acc {val_acc}')\n",
    "\n",
    "    print()\n",
    "        \n",
    "    if val_loss < loss:\n",
    "        torch.save(model.state_dict(), 'best_model_state.bin')\n",
    "        loss = val_loss\n",
    "        epochs_without_improvement = 0\n",
    "    else:\n",
    "        epochs_without_improvement += 1\n",
    "\n",
    "    # Early stopping condition\n",
    "    if epochs_without_improvement == patience:\n",
    "        print(\"Early stopping triggered. No improvement in\", patience, \"epochs.\")\n",
    "        break\n",
    "\n",
    "\n",
    "\n",
    "    history['train_loss'].append(train_loss)\n",
    "    history['val_loss'].append(val_loss)\n",
    "    \n",
    "    \n",
    "    history['train_Accuracy'].append(train_acc)\n",
    "    history['val_Accuracy'].append(val_acc)\n",
    "\n",
    "    #save this incase of failure\n",
    "    torch.save(model.state_dict(), 'current_model_state.bin')\n",
    "    \n",
    "    \n",
    "#save last state to train later\n",
    "torch.save(model.state_dict(), 'last_model_state.bin')\n"
   ]
  },
  {
   "cell_type": "code",
   "execution_count": 43,
   "metadata": {
    "execution": {
     "iopub.execute_input": "2024-05-19T04:51:35.875402Z",
     "iopub.status.busy": "2024-05-19T04:51:35.875123Z",
     "iopub.status.idle": "2024-05-19T04:51:35.891734Z",
     "shell.execute_reply": "2024-05-19T04:51:35.890923Z",
     "shell.execute_reply.started": "2024-05-19T04:51:35.875377Z"
    }
   },
   "outputs": [
    {
     "data": {
      "text/plain": [
       "<All keys matched successfully>"
      ]
     },
     "execution_count": 43,
     "metadata": {},
     "output_type": "execute_result"
    }
   ],
   "source": [
    "model.load_state_dict(torch.load('/kaggle/working/best_model_state.bin'))"
   ]
  },
  {
   "cell_type": "code",
   "execution_count": 44,
   "metadata": {
    "execution": {
     "iopub.execute_input": "2024-05-19T04:51:35.893063Z",
     "iopub.status.busy": "2024-05-19T04:51:35.892776Z",
     "iopub.status.idle": "2024-05-19T04:51:36.179785Z",
     "shell.execute_reply": "2024-05-19T04:51:36.178919Z",
     "shell.execute_reply.started": "2024-05-19T04:51:35.893033Z"
    }
   },
   "outputs": [
    {
     "data": {
      "text/plain": [
       "<matplotlib.legend.Legend at 0x7cdf8d87c130>"
      ]
     },
     "execution_count": 44,
     "metadata": {},
     "output_type": "execute_result"
    },
    {
     "data": {
      "image/png": "[encoded data removed]",
      "text/plain": [
       "<Figure size 400x400 with 1 Axes>"
      ]
     },
     "metadata": {},
     "output_type": "display_data"
    }
   ],
   "source": [
    "plt.figure(figsize=(4,4))\n",
    "plt.plot(history['train_Accuracy'], 'r',label='Training accuracy')\n",
    "plt.plot(history['val_Accuracy'], 'b', label='Validation accuracy')\n",
    "\n",
    "plt.title('Training and validation accuracy')\n",
    "plt.ylabel('Accuracy')\n",
    "plt.xlabel('Epoch')\n",
    "plt.legend()\n"
   ]
  },
  {
   "cell_type": "code",
   "execution_count": 45,
   "metadata": {
    "execution": {
     "iopub.execute_input": "2024-05-19T04:51:36.181384Z",
     "iopub.status.busy": "2024-05-19T04:51:36.181089Z",
     "iopub.status.idle": "2024-05-19T04:51:36.509906Z",
     "shell.execute_reply": "2024-05-19T04:51:36.509026Z",
     "shell.execute_reply.started": "2024-05-19T04:51:36.181358Z"
    }
   },
   "outputs": [
    {
     "data": {
      "text/plain": [
       "<matplotlib.legend.Legend at 0x7cdf8d7a6350>"
      ]
     },
     "execution_count": 45,
     "metadata": {},
     "output_type": "execute_result"
    },
    {
     "data": {
      "image/png": "[encoded data removed]",
      "text/plain": [
       "<Figure size 400x400 with 1 Axes>"
      ]
     },
     "metadata": {},
     "output_type": "display_data"
    }
   ],
   "source": [
    "plt.figure(figsize=(4,4))\n",
    "plt.plot(history['train_loss'], 'r', label='Training loss')\n",
    "plt.plot(history['val_loss'], 'b', label='Validation loss')\n",
    "\n",
    "plt.title('Training and validation loss')\n",
    "plt.ylabel('Loss')\n",
    "plt.xlabel('Epoch')\n",
    "plt.legend()\n"
   ]
  },
  {
   "cell_type": "code",
   "execution_count": 46,
   "metadata": {
    "execution": {
     "iopub.execute_input": "2024-05-19T04:51:36.515248Z",
     "iopub.status.busy": "2024-05-19T04:51:36.514906Z",
     "iopub.status.idle": "2024-05-19T04:51:36.522233Z",
     "shell.execute_reply": "2024-05-19T04:51:36.521372Z",
     "shell.execute_reply.started": "2024-05-19T04:51:36.515222Z"
    }
   },
   "outputs": [],
   "source": [
    "def get_predicted(model, data_loader, loss_fn, device):\n",
    "    model = model.eval()\n",
    "\n",
    "    losses = []\n",
    "    predicted_labels = []\n",
    "    true_labels = []\n",
    "\n",
    "    with torch.no_grad():\n",
    "        for test_input, test_label in data_loader:\n",
    "            test_label = test_label.to(device)\n",
    "            test_input = test_input.to(device)\n",
    "\n",
    "            output_logits, output_softmax = model(test_input.float())\n",
    "\n",
    "            predictions = torch.argmax(output_softmax, dim=1)\n",
    "            predicted_labels.extend(predictions.cpu().numpy())\n",
    "            true_labels.extend(test_label.cpu().numpy())\n",
    "\n",
    "            loss = loss_fn(output_logits, test_label)\n",
    "            losses.append(loss.item())\n",
    "\n",
    "    mean_loss = np.mean(losses)\n",
    "\n",
    "    return mean_loss, predicted_labels, true_labels"
   ]
  },
  {
   "cell_type": "code",
   "execution_count": 47,
   "metadata": {
    "execution": {
     "iopub.execute_input": "2024-05-19T04:51:36.523738Z",
     "iopub.status.busy": "2024-05-19T04:51:36.523412Z",
     "iopub.status.idle": "2024-05-19T04:51:37.123044Z",
     "shell.execute_reply": "2024-05-19T04:51:37.122267Z",
     "shell.execute_reply.started": "2024-05-19T04:51:36.523707Z"
    }
   },
   "outputs": [],
   "source": [
    "mean_loss, predicted_labels, true_labels=get_predicted(model,test_dataloader,loss_fn,DEVICE)"
   ]
  },
  {
   "cell_type": "code",
   "execution_count": 48,
   "metadata": {
    "execution": {
     "iopub.execute_input": "2024-05-19T04:51:37.125082Z",
     "iopub.status.busy": "2024-05-19T04:51:37.124442Z",
     "iopub.status.idle": "2024-05-19T04:51:37.134164Z",
     "shell.execute_reply": "2024-05-19T04:51:37.133265Z",
     "shell.execute_reply.started": "2024-05-19T04:51:37.125044Z"
    }
   },
   "outputs": [],
   "source": [
    "from sklearn.metrics import precision_score, recall_score, f1_score, accuracy_score,classification_report,confusion_matrix\n",
    "\n",
    "import matplotlib.pyplot as plt\n",
    "def measurements_of_accuracy(Y_test,Y_pred,classifier,labels):\n",
    "    # Calculate the confusion matrix\n",
    "#     conf_matrix = confusion_matrix(y_true=Y_test, y_pred=Y_pred)\n",
    "#     matrix_precentage = conf_matrix.astype('float') / conf_matrix.sum(axis=1)[:, np.newaxis]\n",
    "    \n",
    "#     fig, ax = plt.subplots(figsize=(5, 5))\n",
    "#     ax.matshow(conf_matrix, cmap=plt.cm.Oranges, alpha=0.3)\n",
    "#     for i in range(conf_matrix.shape[0]):\n",
    "#         for j in range(conf_matrix.shape[1]):\n",
    "#             ax.text(x=j, y=i,s=conf_matrix[i, j], va='center', ha='center')\n",
    " \n",
    "#     plt.xlabel('Predictions', fontsize=18)\n",
    "#     plt.ylabel('Actuals', fontsize=18)\n",
    "#     plt.title(\"Confusion Matrix for \"+classifier+\"Classifier\", fontsize=18)\n",
    "#     plt.grid(False)\n",
    "#     plt.xticks(range(len(labels)), labels, rotation=90)  # Set x-axis labels\n",
    "#     plt.yticks(range(len(labels)), labels)  # Set y-axis labels\n",
    "#     plt.show()\n",
    "    \n",
    "#     #Accuracy\n",
    "#     print('Accuracy : %.4f' % accuracy_score(Y_test, Y_pred))\n",
    "\n",
    "#     #precision score\n",
    "#     print('Precision : %.4f' % precision_score(Y_test, Y_pred,average='macro'))\n",
    "    \n",
    "#     #Recall Score\n",
    "#     print('Recall : %.4f' % recall_score(Y_test, Y_pred,average='macro'))\n",
    "    \n",
    "#     #F1 score\n",
    "#     print('F1 Score : %.4f' % f1_score(Y_test, Y_pred,average='macro'))\n",
    "    \n",
    "#         # Find the most confusing classes\n",
    "#     misclassification_rates = 1 - np.diag(matrix_precentage)\n",
    "#     most_confusing_classes = [labels[i] for i in np.argsort(misclassification_rates)[::-1]]\n",
    "#     print(\"Most Confusing Classes:\")\n",
    "#     for i, label in enumerate(most_confusing_classes):\n",
    "#         rate_percentage = misclassification_rates[i] * 100\n",
    "#         print(f\"{i + 1}. {label}: {rate_percentage:.2f}% (Misclassification rate)\")\n",
    "    cm = confusion_matrix(Y_test, Y_pred)\n",
    "    report = classification_report(Y_test, Y_pred, target_names=labels)\n",
    "    \n",
    "    print('Classification Report:')\n",
    "    print(report)\n",
    "    \n",
    "    sns.set()\n",
    "    plt.figure(figsize=(8, 8))\n",
    "    sns.heatmap(cm, annot=True,fmt='d', cmap='Blues', annot_kws={\"fontsize\": 18}, xticklabels=labels, yticklabels=labels)\n",
    "    plt.xticks(fontsize=14)\n",
    "    plt.yticks(fontsize=14) \n",
    "    plt.title('Confusion Matrix', size=20)\n",
    "    plt.xlabel('Predicted labels', size=14)\n",
    "    plt.ylabel('True labels', size=14)\n",
    "    plt.show()\n"
   ]
  },
  {
   "cell_type": "code",
   "execution_count": 49,
   "metadata": {
    "execution": {
     "iopub.execute_input": "2024-05-19T04:51:37.135517Z",
     "iopub.status.busy": "2024-05-19T04:51:37.135219Z",
     "iopub.status.idle": "2024-05-19T04:51:37.146822Z",
     "shell.execute_reply": "2024-05-19T04:51:37.145986Z",
     "shell.execute_reply.started": "2024-05-19T04:51:37.135493Z"
    }
   },
   "outputs": [
    {
     "data": {
      "text/plain": [
       "{'Anger': 0, 'Disgust': 1, 'Fear': 2, 'Happy': 3, 'Neutral': 4, 'Sad': 5}"
      ]
     },
     "execution_count": 49,
     "metadata": {},
     "output_type": "execute_result"
    }
   ],
   "source": [
    "label_mapping"
   ]
  },
  {
   "cell_type": "code",
   "execution_count": 50,
   "metadata": {
    "execution": {
     "iopub.execute_input": "2024-05-19T04:51:37.148011Z",
     "iopub.status.busy": "2024-05-19T04:51:37.147769Z",
     "iopub.status.idle": "2024-05-19T04:51:37.616666Z",
     "shell.execute_reply": "2024-05-19T04:51:37.615711Z",
     "shell.execute_reply.started": "2024-05-19T04:51:37.147991Z"
    }
   },
   "outputs": [
    {
     "name": "stdout",
     "output_type": "stream",
     "text": [
      "Classification Report:\n",
      "              precision    recall  f1-score   support\n",
      "\n",
      "       Anger       0.77      0.72      0.75       254\n",
      "     Disgust       0.63      0.48      0.54       254\n",
      "        Fear       0.63      0.53      0.58       254\n",
      "       Happy       0.62      0.61      0.62       255\n",
      "     Neutral       0.61      0.83      0.70       218\n",
      "         Sad       0.60      0.70      0.65       254\n",
      "\n",
      "    accuracy                           0.64      1489\n",
      "   macro avg       0.64      0.65      0.64      1489\n",
      "weighted avg       0.64      0.64      0.64      1489\n",
      "\n"
     ]
    },
    {
     "data": {
      "image/png": "[encoded data removed]",
      "text/plain": [
       "<Figure size 800x800 with 2 Axes>"
      ]
     },
     "metadata": {},
     "output_type": "display_data"
    }
   ],
   "source": [
    "measurements_of_accuracy(true_labels,predicted_labels,\"Confusion matrix\",list(label_mapping.keys()))"
   ]
  }
 ],
 "metadata": {
  "kaggle": {
   "accelerator": "gpu",
   "dataSources": [
    {
     "datasetId": 1118008,
     "sourceId": 1877714,
     "sourceType": "datasetVersion"
    }
   ],
   "dockerImageVersionId": 30476,
   "isGpuEnabled": true,
   "isInternetEnabled": true,
   "language": "python",
   "sourceType": "notebook"
  },
  "kernelspec": {
   "display_name": "Python 3 (ipykernel)",
   "language": "python",
   "name": "python3"
  },
  "language_info": {
   "codemirror_mode": {
    "name": "ipython",
    "version": 3
   },
   "file_extension": ".py",
   "mimetype": "text/x-python",
   "name": "python",
   "nbconvert_exporter": "python",
   "pygments_lexer": "ipython3",
   "version": "3.11.5"
  }
 },
 "nbformat": 4,
 "nbformat_minor": 4
}
