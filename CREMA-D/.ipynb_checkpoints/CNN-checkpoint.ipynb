{
 "cells": [
  {
   "cell_type": "code",
   "execution_count": 6,
   "metadata": {
    "_cell_guid": "b1076dfc-b9ad-4769-8c92-a6c4dae69d19",
    "_uuid": "8f2839f25d086af736a60e9eeb907d3b93b6e0e5",
    "execution": {
     "iopub.execute_input": "2024-05-19T01:12:19.833056Z",
     "iopub.status.busy": "2024-05-19T01:12:19.832667Z",
     "iopub.status.idle": "2024-05-19T01:12:19.841602Z",
     "shell.execute_reply": "2024-05-19T01:12:19.840657Z",
     "shell.execute_reply.started": "2024-05-19T01:12:19.833025Z"
    }
   },
   "outputs": [],
   "source": [
    "import numpy as np\n",
    "import pandas as pd\n",
    "import matplotlib.pyplot as plt\n",
    "import os\n",
    "# import seaborn as sns\n",
    "import librosa\n",
    "import librosa.display\n",
    "import IPython\n",
    "\n",
    "\n",
    "import torch\n",
    "import torch.nn as nn\n",
    "import torch.nn.functional as F\n",
    "import torchvision.transforms.functional as TF\n",
    "from tqdm import tqdm\n",
    "torch.manual_seed(42)\n",
    "\n",
    "import seaborn as sns\n",
    "sns.set()\n"
   ]
  },
  {
   "cell_type": "code",
   "execution_count": 7,
   "metadata": {
    "execution": {
     "iopub.execute_input": "2024-05-19T01:12:20.912030Z",
     "iopub.status.busy": "2024-05-19T01:12:20.911683Z",
     "iopub.status.idle": "2024-05-19T01:12:20.917153Z",
     "shell.execute_reply": "2024-05-19T01:12:20.916182Z",
     "shell.execute_reply.started": "2024-05-19T01:12:20.912002Z"
    }
   },
   "outputs": [],
   "source": [
    "Crema_Path='../input/speech-emotion-recognition-en/Crema/'\n",
    "Ravdess_Path='../input/speech-emotion-recognition-en/Ravdess/audio_speech_actors_01-24/'\n",
    "Savee_Path='../input/speech-emotion-recognition-en/Savee/'\n",
    "Tess_Path='../input/speech-emotion-recognition-en/Tess/'"
   ]
  },
  {
   "cell_type": "markdown",
   "metadata": {},
   "source": [
    "# **CREMA PREPROCESSING**"
   ]
  },
  {
   "cell_type": "code",
   "execution_count": 8,
   "metadata": {
    "execution": {
     "iopub.execute_input": "2024-05-19T01:12:23.147071Z",
     "iopub.status.busy": "2024-05-19T01:12:23.146203Z",
     "iopub.status.idle": "2024-05-19T01:12:23.182900Z",
     "shell.execute_reply": "2024-05-19T01:12:23.182104Z",
     "shell.execute_reply.started": "2024-05-19T01:12:23.147035Z"
    }
   },
   "outputs": [
    {
     "data": {
      "text/html": [
       "<div>\n",
       "<style scoped>\n",
       "    .dataframe tbody tr th:only-of-type {\n",
       "        vertical-align: middle;\n",
       "    }\n",
       "\n",
       "    .dataframe tbody tr th {\n",
       "        vertical-align: top;\n",
       "    }\n",
       "\n",
       "    .dataframe thead th {\n",
       "        text-align: right;\n",
       "    }\n",
       "</style>\n",
       "<table border=\"1\" class=\"dataframe\">\n",
       "  <thead>\n",
       "    <tr style=\"text-align: right;\">\n",
       "      <th></th>\n",
       "      <th>Emotion</th>\n",
       "      <th>File_Path</th>\n",
       "    </tr>\n",
       "  </thead>\n",
       "  <tbody>\n",
       "    <tr>\n",
       "      <th>0</th>\n",
       "      <td>Anger</td>\n",
       "      <td>../input/speech-emotion-recognition-en/Crema//...</td>\n",
       "    </tr>\n",
       "    <tr>\n",
       "      <th>1</th>\n",
       "      <td>Disgust</td>\n",
       "      <td>../input/speech-emotion-recognition-en/Crema//...</td>\n",
       "    </tr>\n",
       "    <tr>\n",
       "      <th>2</th>\n",
       "      <td>Fear</td>\n",
       "      <td>../input/speech-emotion-recognition-en/Crema//...</td>\n",
       "    </tr>\n",
       "    <tr>\n",
       "      <th>3</th>\n",
       "      <td>Happy</td>\n",
       "      <td>../input/speech-emotion-recognition-en/Crema//...</td>\n",
       "    </tr>\n",
       "    <tr>\n",
       "      <th>4</th>\n",
       "      <td>Neutral</td>\n",
       "      <td>../input/speech-emotion-recognition-en/Crema//...</td>\n",
       "    </tr>\n",
       "  </tbody>\n",
       "</table>\n",
       "</div>"
      ],
      "text/plain": [
       "   Emotion                                          File_Path\n",
       "0    Anger  ../input/speech-emotion-recognition-en/Crema//...\n",
       "1  Disgust  ../input/speech-emotion-recognition-en/Crema//...\n",
       "2     Fear  ../input/speech-emotion-recognition-en/Crema//...\n",
       "3    Happy  ../input/speech-emotion-recognition-en/Crema//...\n",
       "4  Neutral  ../input/speech-emotion-recognition-en/Crema//..."
      ]
     },
     "execution_count": 8,
     "metadata": {},
     "output_type": "execute_result"
    }
   ],
   "source": [
    "crema = []\n",
    "for wav in sorted(os.listdir(Crema_Path)):\n",
    "    emotion = wav.partition(\".wav\")[0].split('_')\n",
    "    if emotion[2] == 'SAD':\n",
    "        crema.append(('Sad', Crema_Path+'/'+wav))\n",
    "    elif emotion[2] == 'ANG':\n",
    "        crema.append(('Anger', Crema_Path+'/'+wav))\n",
    "    elif emotion[2] == 'DIS':\n",
    "        crema.append(('Disgust', Crema_Path+'/'+wav))\n",
    "    elif emotion[2] == 'FEA':\n",
    "        crema.append(('Fear', Crema_Path+'/'+wav))\n",
    "    elif emotion[2] == 'HAP':\n",
    "        crema.append(('Happy', Crema_Path+'/'+wav))\n",
    "    elif emotion[2] == 'NEU':\n",
    "        crema.append(('Neutral', Crema_Path+'/'+wav))\n",
    "    else:\n",
    "        crema.append(('unknown', Crema_Path+'/'+wav))\n",
    "\n",
    "df = pd.DataFrame.from_records(crema, columns=['Emotion', 'File_Path'])\n",
    "df.head()\n"
   ]
  },
  {
   "cell_type": "markdown",
   "metadata": {},
   "source": [
    "# **RAVDESS PREPROCESSING**"
   ]
  },
  {
   "cell_type": "code",
   "execution_count": 4,
   "metadata": {
    "execution": {
     "iopub.execute_input": "2024-05-19T01:10:04.264288Z",
     "iopub.status.busy": "2024-05-19T01:10:04.263913Z",
     "iopub.status.idle": "2024-05-19T01:10:04.713060Z",
     "shell.execute_reply": "2024-05-19T01:10:04.711811Z",
     "shell.execute_reply.started": "2024-05-19T01:10:04.264252Z"
    }
   },
   "outputs": [
    {
     "name": "stdout",
     "output_type": "stream",
     "text": [
      "    Emotion                                          File_Path\n",
      "0  Surprise  ../input/speech-emotion-recognition-en/Ravdess...\n",
      "1   Neutral  ../input/speech-emotion-recognition-en/Ravdess...\n",
      "2   Disgust  ../input/speech-emotion-recognition-en/Ravdess...\n",
      "3   Disgust  ../input/speech-emotion-recognition-en/Ravdess...\n",
      "4   Neutral  ../input/speech-emotion-recognition-en/Ravdess...\n"
     ]
    }
   ],
   "source": [
    "ravdess_directory_list = os.listdir(Ravdess_Path)\n",
    "\n",
    "file_emotion = []\n",
    "file_path = []\n",
    "for i in ravdess_directory_list:\n",
    "    # as their are 24 different actors in our previous directory we need to extract files for each actor.\n",
    "    actor = os.listdir(Ravdess_Path + i)\n",
    "    for f in actor:\n",
    "        part = f.split('.')[0].split('-')\n",
    "        if int(part[2]) != 2:\n",
    "            file_emotion.append(int(part[2]))\n",
    "            file_path.append(Ravdess_Path + i + '/' + f)\n",
    "        \n",
    "emotion_df = pd.DataFrame(file_emotion, columns=['Emotion'])\n",
    "path_df = pd.DataFrame(file_path, columns=['File_Path'])\n",
    "df = pd.concat([emotion_df, path_df], axis=1)\n",
    "df.Emotion.replace({1:'Neutral', 3:'Happy', 4:'Sad', 5:'Anger', 6:'Fear', 7:'Disgust', 8:'Surprise'},\n",
    "                            inplace=True)\n",
    "print(df.head())"
   ]
  },
  {
   "cell_type": "markdown",
   "metadata": {},
   "source": [
    "# **SAVEE PREPROCESSING**"
   ]
  },
  {
   "cell_type": "code",
   "execution_count": 5,
   "metadata": {
    "execution": {
     "iopub.execute_input": "2024-05-19T01:10:04.715292Z",
     "iopub.status.busy": "2024-05-19T01:10:04.714582Z",
     "iopub.status.idle": "2024-05-19T01:10:05.287802Z",
     "shell.execute_reply": "2024-05-19T01:10:05.282022Z",
     "shell.execute_reply.started": "2024-05-19T01:10:04.715252Z"
    }
   },
   "outputs": [
    {
     "ename": "NameError",
     "evalue": "name 'Savee' is not defined",
     "output_type": "error",
     "traceback": [
      "\u001b[0;31m---------------------------------------------------------------------------\u001b[0m",
      "\u001b[0;31mNameError\u001b[0m                                 Traceback (most recent call last)",
      "Cell \u001b[0;32mIn[5], line 7\u001b[0m\n\u001b[1;32m      4\u001b[0m file_path \u001b[38;5;241m=\u001b[39m []\n\u001b[1;32m      6\u001b[0m \u001b[38;5;28;01mfor\u001b[39;00m file \u001b[38;5;129;01min\u001b[39;00m savee_directory_list:\n\u001b[0;32m----> 7\u001b[0m     file_path\u001b[38;5;241m.\u001b[39mappend(\u001b[43mSavee\u001b[49m \u001b[38;5;241m+\u001b[39m file)\n\u001b[1;32m      8\u001b[0m     part \u001b[38;5;241m=\u001b[39m file\u001b[38;5;241m.\u001b[39msplit(\u001b[38;5;124m'\u001b[39m\u001b[38;5;124m_\u001b[39m\u001b[38;5;124m'\u001b[39m)[\u001b[38;5;241m1\u001b[39m]\n\u001b[1;32m      9\u001b[0m     ele \u001b[38;5;241m=\u001b[39m part[:\u001b[38;5;241m-\u001b[39m\u001b[38;5;241m6\u001b[39m]\n",
      "\u001b[0;31mNameError\u001b[0m: name 'Savee' is not defined"
     ]
    }
   ],
   "source": [
    "savee_directory_list = os.listdir(Savee_Path)\n",
    "\n",
    "file_emotion = []\n",
    "file_path = []\n",
    "\n",
    "for file in savee_directory_list:\n",
    "    file_path.append(Savee + file)\n",
    "    part = file.split('_')[1]\n",
    "    ele = part[:-6]\n",
    "    if ele=='a':\n",
    "        file_emotion.append('Anger')\n",
    "    elif ele=='d':\n",
    "        file_emotion.append('Disgust')\n",
    "    elif ele=='f':\n",
    "        file_emotion.append('Fear')\n",
    "    elif ele=='h':\n",
    "        file_emotion.append('Happy')\n",
    "    elif ele=='n':\n",
    "        file_emotion.append('Neutral')\n",
    "    elif ele=='sa':\n",
    "        file_emotion.append('Sad')\n",
    "    else:\n",
    "        file_emotion.append('Surprise')\n",
    "        \n",
    "# dataframe for emotion of files\n",
    "emotion_df = pd.DataFrame(file_emotion, columns=['Emotion'])\n",
    "\n",
    "# dataframe for path of files.\n",
    "path_df = pd.DataFrame(file_path, columns=['File_Path'])\n",
    "df = pd.concat([emotion_df, path_df], axis=1)\n",
    "df.head()"
   ]
  },
  {
   "cell_type": "markdown",
   "metadata": {},
   "source": [
    "# **TESS PREPROCESSING**"
   ]
  },
  {
   "cell_type": "code",
   "execution_count": null,
   "metadata": {
    "execution": {
     "iopub.status.busy": "2024-05-19T01:10:05.288692Z",
     "iopub.status.idle": "2024-05-19T01:10:05.289060Z",
     "shell.execute_reply": "2024-05-19T01:10:05.288896Z",
     "shell.execute_reply.started": "2024-05-19T01:10:05.288878Z"
    }
   },
   "outputs": [],
   "source": [
    "tess_directory_list = os.listdir(Tess_Path)\n",
    "\n",
    "file_emotion = []\n",
    "file_path = []\n",
    "\n",
    "for dir in tess_directory_list:\n",
    "    directories = os.listdir(Tess_Path + dir)\n",
    "    for file in directories:\n",
    "        part = file.split('.')[0]\n",
    "        part = part.split('_')[2]\n",
    "        if part == 'ps':\n",
    "            file_emotion.append('Surprise')\n",
    "        elif part == 'fear':\n",
    "            file_emotion.append('Fear')\n",
    "        elif part == 'sad':\n",
    "            file_emotion.append('Sad')\n",
    "        elif part == 'angry':\n",
    "            file_emotion.append('Anger')\n",
    "        elif part == 'disgust':\n",
    "            file_emotion.append('Disgust')\n",
    "        elif part == 'happy':\n",
    "            file_emotion.append('Happy')\n",
    "        elif part == 'neutral':\n",
    "            file_emotion.append('Neutral')\n",
    "        file_path.append(Tess_Path + dir + '/' + file)\n",
    "        \n",
    "# dataframe for emotion of files\n",
    "emotion_df = pd.DataFrame(file_emotion, columns=['Emotion'])\n",
    "\n",
    "# dataframe for path of files.\n",
    "path_df = pd.DataFrame(file_path, columns=['File_Path'])\n",
    "df = pd.concat([emotion_df, path_df], axis=1)\n",
    "df.head()"
   ]
  },
  {
   "cell_type": "code",
   "execution_count": 9,
   "metadata": {
    "execution": {
     "iopub.execute_input": "2024-05-19T01:12:30.870222Z",
     "iopub.status.busy": "2024-05-19T01:12:30.869278Z",
     "iopub.status.idle": "2024-05-19T01:12:30.942097Z",
     "shell.execute_reply": "2024-05-19T01:12:30.941153Z",
     "shell.execute_reply.started": "2024-05-19T01:12:30.870165Z"
    }
   },
   "outputs": [],
   "source": [
    "from sklearn.preprocessing import LabelEncoder\n",
    "# Create a LabelEncoder \n",
    "encoder = LabelEncoder()\n",
    "# Fit the encoder on the column and transform the values\n",
    "df['Emotion_encoded'] = encoder.fit_transform(df['Emotion'])\n",
    "\n",
    "# Get the mapping between original labels and encoded values\n",
    "label_mapping = dict(zip(encoder.classes_, encoder.transform(encoder.classes_)))\n"
   ]
  },
  {
   "cell_type": "code",
   "execution_count": 10,
   "metadata": {
    "execution": {
     "iopub.execute_input": "2024-05-19T01:12:32.649267Z",
     "iopub.status.busy": "2024-05-19T01:12:32.648486Z",
     "iopub.status.idle": "2024-05-19T01:12:32.655158Z",
     "shell.execute_reply": "2024-05-19T01:12:32.654270Z",
     "shell.execute_reply.started": "2024-05-19T01:12:32.649235Z"
    }
   },
   "outputs": [
    {
     "data": {
      "text/plain": [
       "{'Anger': 0, 'Disgust': 1, 'Fear': 2, 'Happy': 3, 'Neutral': 4, 'Sad': 5}"
      ]
     },
     "execution_count": 10,
     "metadata": {},
     "output_type": "execute_result"
    }
   ],
   "source": [
    "label_mapping"
   ]
  },
  {
   "cell_type": "code",
   "execution_count": 11,
   "metadata": {
    "execution": {
     "iopub.execute_input": "2024-05-19T01:12:33.760766Z",
     "iopub.status.busy": "2024-05-19T01:12:33.760127Z",
     "iopub.status.idle": "2024-05-19T01:12:33.768958Z",
     "shell.execute_reply": "2024-05-19T01:12:33.768126Z",
     "shell.execute_reply.started": "2024-05-19T01:12:33.760735Z"
    }
   },
   "outputs": [
    {
     "data": {
      "text/plain": [
       "array(['Anger', 'Disgust', 'Fear', 'Happy', 'Neutral', 'Sad'],\n",
       "      dtype=object)"
      ]
     },
     "execution_count": 11,
     "metadata": {},
     "output_type": "execute_result"
    }
   ],
   "source": [
    "df['Emotion'].unique()"
   ]
  },
  {
   "cell_type": "code",
   "execution_count": 12,
   "metadata": {
    "execution": {
     "iopub.execute_input": "2024-05-19T01:12:34.954400Z",
     "iopub.status.busy": "2024-05-19T01:12:34.954016Z",
     "iopub.status.idle": "2024-05-19T01:12:34.959603Z",
     "shell.execute_reply": "2024-05-19T01:12:34.958701Z",
     "shell.execute_reply.started": "2024-05-19T01:12:34.954368Z"
    }
   },
   "outputs": [],
   "source": [
    "emotion_names=df['Emotion'].unique()"
   ]
  },
  {
   "cell_type": "code",
   "execution_count": 13,
   "metadata": {
    "execution": {
     "iopub.execute_input": "2024-05-19T01:12:40.521597Z",
     "iopub.status.busy": "2024-05-19T01:12:40.521244Z",
     "iopub.status.idle": "2024-05-19T01:12:52.506054Z",
     "shell.execute_reply": "2024-05-19T01:12:52.504985Z",
     "shell.execute_reply.started": "2024-05-19T01:12:40.521568Z"
    }
   },
   "outputs": [
    {
     "name": "stdout",
     "output_type": "stream",
     "text": [
      "Requirement already satisfied: torchaudio in /opt/conda/lib/python3.10/site-packages (2.0.1)\n",
      "Requirement already satisfied: torch in /opt/conda/lib/python3.10/site-packages (from torchaudio) (2.0.0)\n",
      "Requirement already satisfied: filelock in /opt/conda/lib/python3.10/site-packages (from torch->torchaudio) (3.11.0)\n",
      "Requirement already satisfied: networkx in /opt/conda/lib/python3.10/site-packages (from torch->torchaudio) (3.1)\n",
      "Requirement already satisfied: jinja2 in /opt/conda/lib/python3.10/site-packages (from torch->torchaudio) (3.1.2)\n",
      "Requirement already satisfied: typing-extensions in /opt/conda/lib/python3.10/site-packages (from torch->torchaudio) (4.5.0)\n",
      "Requirement already satisfied: sympy in /opt/conda/lib/python3.10/site-packages (from torch->torchaudio) (1.11.1)\n",
      "Requirement already satisfied: MarkupSafe>=2.0 in /opt/conda/lib/python3.10/site-packages (from jinja2->torch->torchaudio) (2.1.2)\n",
      "Requirement already satisfied: mpmath>=0.19 in /opt/conda/lib/python3.10/site-packages (from sympy->torch->torchaudio) (1.3.0)\n",
      "\u001b[33mWARNING: Running pip as the 'root' user can result in broken permissions and conflicting behaviour with the system package manager. It is recommended to use a virtual environment instead: https://pip.pypa.io/warnings/venv\u001b[0m\u001b[33m\n",
      "\u001b[0m"
     ]
    }
   ],
   "source": [
    "!pip install torchaudio"
   ]
  },
  {
   "cell_type": "code",
   "execution_count": 14,
   "metadata": {
    "execution": {
     "iopub.execute_input": "2024-05-19T01:12:52.508547Z",
     "iopub.status.busy": "2024-05-19T01:12:52.508232Z",
     "iopub.status.idle": "2024-05-19T01:14:33.170877Z",
     "shell.execute_reply": "2024-05-19T01:14:33.169848Z",
     "shell.execute_reply.started": "2024-05-19T01:12:52.508516Z"
    }
   },
   "outputs": [
    {
     "name": "stderr",
     "output_type": "stream",
     "text": [
      "0it [00:00, ?it/s]/tmp/ipykernel_35/2468677012.py:11: UserWarning: To copy construct from a tensor, it is recommended to use sourceTensor.clone().detach() or sourceTensor.clone().detach().requires_grad_(True), rather than torch.tensor(sourceTensor).\n",
      "  waveform = torch.tensor(waveform).to(device)\n",
      "7442it [01:40, 74.10it/s]\n"
     ]
    }
   ],
   "source": [
    "import torchaudio\n",
    "import torchaudio.transforms as transforms\n",
    "\n",
    "S_dB_Total = []\n",
    "\n",
    "device = torch.device(\"cuda\" if torch.cuda.is_available() else \"cpu\")\n",
    "for idx, path in tqdm(enumerate(df.File_Path)):\n",
    "    waveform, sample_rate = torchaudio.load(path)\n",
    "    \n",
    "    # Convert to tensor\n",
    "    waveform = torch.tensor(waveform).to(device)\n",
    "\n",
    "    # Convert to mel spectrogram\n",
    "    mel_transform = transforms.MelSpectrogram(\n",
    "        sample_rate=sample_rate,\n",
    "        n_fft=2048,\n",
    "        hop_length=512,\n",
    "        n_mels=128\n",
    "    ).to(device)\n",
    "    \n",
    "    S = mel_transform(waveform)\n",
    "\n",
    "    # Convert to dB\n",
    "    power_to_db = transforms.AmplitudeToDB()\n",
    "    S_dB = power_to_db(S)\n",
    "\n",
    "    S_dB_Total.append(S_dB.squeeze())"
   ]
  },
  {
   "cell_type": "code",
   "execution_count": 15,
   "metadata": {
    "execution": {
     "iopub.execute_input": "2024-05-19T01:14:33.173091Z",
     "iopub.status.busy": "2024-05-19T01:14:33.172473Z",
     "iopub.status.idle": "2024-05-19T01:14:33.182523Z",
     "shell.execute_reply": "2024-05-19T01:14:33.181542Z",
     "shell.execute_reply.started": "2024-05-19T01:14:33.173049Z"
    }
   },
   "outputs": [],
   "source": [
    "sizes=[]\n",
    "for x in S_dB_Total:\n",
    "    sizes.append(x.shape[1])"
   ]
  },
  {
   "cell_type": "code",
   "execution_count": 16,
   "metadata": {
    "execution": {
     "iopub.execute_input": "2024-05-19T01:14:33.185095Z",
     "iopub.status.busy": "2024-05-19T01:14:33.184758Z",
     "iopub.status.idle": "2024-05-19T01:14:33.658474Z",
     "shell.execute_reply": "2024-05-19T01:14:33.657533Z",
     "shell.execute_reply.started": "2024-05-19T01:14:33.185067Z"
    }
   },
   "outputs": [
    {
     "data": {
      "image/png": "[encoded data removed]",
      "text/plain": [
       "<Figure size 640x480 with 1 Axes>"
      ]
     },
     "metadata": {},
     "output_type": "display_data"
    },
    {
     "name": "stdout",
     "output_type": "stream",
     "text": [
      "min is 40\n",
      "max is 157\n"
     ]
    }
   ],
   "source": [
    "# Calculate the bin counts\n",
    "bincount_array = np.histogram(sizes, bins=np.arange(min(sizes), max(sizes)+2))[0]\n",
    "\n",
    "# Create a list of labels for the x-axis\n",
    "x_labels = np.arange(min(sizes), max(sizes)+1)\n",
    "\n",
    "# Plot the bin counts as a bar plot\n",
    "plt.bar(x_labels, bincount_array)\n",
    "\n",
    "# Set labels and title\n",
    "plt.xlabel('Numbers')\n",
    "plt.ylabel('Count')\n",
    "plt.show()\n",
    "\n",
    "print(f'min is {min(sizes)}')\n",
    "print(f'max is {max(sizes)}')\n"
   ]
  },
  {
   "cell_type": "code",
   "execution_count": 17,
   "metadata": {
    "execution": {
     "iopub.execute_input": "2024-05-19T01:14:33.660041Z",
     "iopub.status.busy": "2024-05-19T01:14:33.659690Z",
     "iopub.status.idle": "2024-05-19T01:14:35.505154Z",
     "shell.execute_reply": "2024-05-19T01:14:35.504303Z",
     "shell.execute_reply.started": "2024-05-19T01:14:33.660005Z"
    }
   },
   "outputs": [],
   "source": [
    "padding_length = 160\n",
    "padded_list = []\n",
    "for array in S_dB_Total:\n",
    "    current_shape = array.cpu().shape\n",
    "    padding = [(0, 0), (0, padding_length - current_shape[1])]\n",
    "    padded_array = np.pad(array.cpu(), padding, mode='constant', constant_values=0)\n",
    "    padded_list.append(padded_array)\n",
    "\n",
    "# Convert the padded list to a NumPy array\n",
    "data_2D = np.array(padded_list)\n",
    "    "
   ]
  },
  {
   "cell_type": "code",
   "execution_count": 18,
   "metadata": {
    "execution": {
     "iopub.execute_input": "2024-05-19T01:14:35.506656Z",
     "iopub.status.busy": "2024-05-19T01:14:35.506308Z",
     "iopub.status.idle": "2024-05-19T01:14:35.513167Z",
     "shell.execute_reply": "2024-05-19T01:14:35.512278Z",
     "shell.execute_reply.started": "2024-05-19T01:14:35.506625Z"
    }
   },
   "outputs": [
    {
     "data": {
      "text/plain": [
       "(7442, 128, 160)"
      ]
     },
     "execution_count": 18,
     "metadata": {},
     "output_type": "execute_result"
    }
   ],
   "source": [
    "data_2D.shape"
   ]
  },
  {
   "cell_type": "code",
   "execution_count": 19,
   "metadata": {
    "execution": {
     "iopub.execute_input": "2024-05-19T01:14:35.514481Z",
     "iopub.status.busy": "2024-05-19T01:14:35.514234Z",
     "iopub.status.idle": "2024-05-19T01:14:36.070959Z",
     "shell.execute_reply": "2024-05-19T01:14:36.069972Z",
     "shell.execute_reply.started": "2024-05-19T01:14:35.514460Z"
    }
   },
   "outputs": [],
   "source": [
    "#normalization\n",
    "from sklearn.preprocessing import MinMaxScaler\n",
    "\n",
    "# Reshape the array to 2D\n",
    "reshaped_data = data_2D.reshape((-1, 1))\n",
    "\n",
    "# Initialize the MinMaxScaler\n",
    "scaler = MinMaxScaler()\n",
    "\n",
    "# Fit and transform the data\n",
    "normalized_data = scaler.fit_transform(reshaped_data)\n",
    "\n",
    "# Reshape the normalized data back to the original shape\n",
    "normalized_data = normalized_data.reshape(data_2D.shape)\n"
   ]
  },
  {
   "cell_type": "code",
   "execution_count": 20,
   "metadata": {
    "execution": {
     "iopub.execute_input": "2024-05-19T01:14:36.072476Z",
     "iopub.status.busy": "2024-05-19T01:14:36.072200Z",
     "iopub.status.idle": "2024-05-19T01:14:36.079508Z",
     "shell.execute_reply": "2024-05-19T01:14:36.078555Z",
     "shell.execute_reply.started": "2024-05-19T01:14:36.072453Z"
    }
   },
   "outputs": [
    {
     "data": {
      "text/plain": [
       "array([[0.56973195, 0.5444743 , 0.51813316, ..., 0.64415836, 0.64415836,\n",
       "        0.64415836],\n",
       "       [0.5450095 , 0.5570548 , 0.541499  , ..., 0.64415836, 0.64415836,\n",
       "        0.64415836],\n",
       "       [0.512481  , 0.55639714, 0.592978  , ..., 0.64415836, 0.64415836,\n",
       "        0.64415836],\n",
       "       ...,\n",
       "       [0.4755556 , 0.472118  , 0.4689895 , ..., 0.64415836, 0.64415836,\n",
       "        0.64415836],\n",
       "       [0.4661117 , 0.45966327, 0.44934118, ..., 0.64415836, 0.64415836,\n",
       "        0.64415836],\n",
       "       [0.448575  , 0.45664725, 0.44868642, ..., 0.64415836, 0.64415836,\n",
       "        0.64415836]], dtype=float32)"
      ]
     },
     "execution_count": 20,
     "metadata": {},
     "output_type": "execute_result"
    }
   ],
   "source": [
    "normalized_data[1]"
   ]
  },
  {
   "cell_type": "code",
   "execution_count": 21,
   "metadata": {
    "execution": {
     "iopub.execute_input": "2024-05-19T01:14:36.080919Z",
     "iopub.status.busy": "2024-05-19T01:14:36.080651Z",
     "iopub.status.idle": "2024-05-19T01:14:36.092118Z",
     "shell.execute_reply": "2024-05-19T01:14:36.091278Z",
     "shell.execute_reply.started": "2024-05-19T01:14:36.080896Z"
    }
   },
   "outputs": [],
   "source": [
    "data=np.expand_dims(normalized_data, axis=1)"
   ]
  },
  {
   "cell_type": "code",
   "execution_count": 22,
   "metadata": {
    "execution": {
     "iopub.execute_input": "2024-05-19T01:14:36.095989Z",
     "iopub.status.busy": "2024-05-19T01:14:36.095702Z",
     "iopub.status.idle": "2024-05-19T01:14:36.107676Z",
     "shell.execute_reply": "2024-05-19T01:14:36.106833Z",
     "shell.execute_reply.started": "2024-05-19T01:14:36.095966Z"
    }
   },
   "outputs": [],
   "source": [
    "labels=df.Emotion_encoded.to_numpy()"
   ]
  },
  {
   "cell_type": "code",
   "execution_count": 23,
   "metadata": {
    "execution": {
     "iopub.execute_input": "2024-05-19T01:14:36.109020Z",
     "iopub.status.busy": "2024-05-19T01:14:36.108733Z",
     "iopub.status.idle": "2024-05-19T01:14:36.124944Z",
     "shell.execute_reply": "2024-05-19T01:14:36.124108Z",
     "shell.execute_reply.started": "2024-05-19T01:14:36.108997Z"
    }
   },
   "outputs": [
    {
     "data": {
      "text/plain": [
       "(7442,)"
      ]
     },
     "execution_count": 23,
     "metadata": {},
     "output_type": "execute_result"
    }
   ],
   "source": [
    "labels.shape"
   ]
  },
  {
   "cell_type": "code",
   "execution_count": 24,
   "metadata": {
    "execution": {
     "iopub.execute_input": "2024-05-19T01:14:36.126298Z",
     "iopub.status.busy": "2024-05-19T01:14:36.126027Z",
     "iopub.status.idle": "2024-05-19T01:14:36.136500Z",
     "shell.execute_reply": "2024-05-19T01:14:36.135586Z",
     "shell.execute_reply.started": "2024-05-19T01:14:36.126275Z"
    }
   },
   "outputs": [
    {
     "data": {
      "text/plain": [
       "(7442, 1, 128, 160)"
      ]
     },
     "execution_count": 24,
     "metadata": {},
     "output_type": "execute_result"
    }
   ],
   "source": [
    "data.shape"
   ]
  },
  {
   "cell_type": "code",
   "execution_count": 25,
   "metadata": {
    "execution": {
     "iopub.execute_input": "2024-05-19T01:14:36.137839Z",
     "iopub.status.busy": "2024-05-19T01:14:36.137589Z",
     "iopub.status.idle": "2024-05-19T01:14:36.550812Z",
     "shell.execute_reply": "2024-05-19T01:14:36.549909Z",
     "shell.execute_reply.started": "2024-05-19T01:14:36.137817Z"
    }
   },
   "outputs": [
    {
     "name": "stdout",
     "output_type": "stream",
     "text": [
      "Train set size: 5357\n",
      "Validation set size: 596\n",
      "Test set size: 1489\n"
     ]
    }
   ],
   "source": [
    "#train test split\n",
    "from sklearn.model_selection import train_test_split\n",
    "# Perform the train-test split (70% train & validation, 30% test )\n",
    "X_trainAndVal, X_test, y_trainAndVal, y_test = train_test_split(data, labels, test_size=0.2, stratify=labels, random_state=42)\n",
    "\n",
    "# Perform the train-validation split (5% test, 95% train)\n",
    "X_train, X_val, y_train, y_val = train_test_split(X_trainAndVal, y_trainAndVal, test_size=0.1, stratify=y_trainAndVal, random_state=42)\n",
    "\n",
    "# Print the sizes of each split\n",
    "print(\"Train set size:\", len(X_train))\n",
    "print(\"Validation set size:\", len(X_val))\n",
    "print(\"Test set size:\", len(X_test))\n",
    "\n"
   ]
  },
  {
   "cell_type": "code",
   "execution_count": 26,
   "metadata": {
    "execution": {
     "iopub.execute_input": "2024-05-19T01:14:36.552565Z",
     "iopub.status.busy": "2024-05-19T01:14:36.552205Z",
     "iopub.status.idle": "2024-05-19T01:14:36.558596Z",
     "shell.execute_reply": "2024-05-19T01:14:36.557681Z",
     "shell.execute_reply.started": "2024-05-19T01:14:36.552529Z"
    }
   },
   "outputs": [
    {
     "data": {
      "text/plain": [
       "(5357, 1, 128, 160)"
      ]
     },
     "execution_count": 26,
     "metadata": {},
     "output_type": "execute_result"
    }
   ],
   "source": [
    "X_train.shape"
   ]
  },
  {
   "cell_type": "code",
   "execution_count": 32,
   "metadata": {
    "execution": {
     "iopub.execute_input": "2024-05-19T01:19:30.928430Z",
     "iopub.status.busy": "2024-05-19T01:19:30.927990Z",
     "iopub.status.idle": "2024-05-19T01:19:30.935695Z",
     "shell.execute_reply": "2024-05-19T01:19:30.934627Z",
     "shell.execute_reply.started": "2024-05-19T01:19:30.928398Z"
    }
   },
   "outputs": [],
   "source": [
    "from torch.utils.data import Dataset, DataLoader\n",
    "\n",
    "class AudioDataset(Dataset):\n",
    "    def __init__(self,audio,label):\n",
    "        self.audios=audio\n",
    "        self.labels=label\n",
    "\n",
    "    def __len__(self):\n",
    "        return len(self.audios)\n",
    "\n",
    "    def get_batch_imgs(self, idx):\n",
    "        # Fetch a batch of inputs\n",
    "        return self.audios[idx]\n",
    "    \n",
    "    def get_batch_labels(self, idx):\n",
    "    # Fetch a batch of inputs\n",
    "        return self.labels[idx]\n",
    "\n",
    "    \n",
    "    def __getitem__(self, index):\n",
    "        audios=self.get_batch_imgs(index)\n",
    "        labels=self.get_batch_labels(index)\n",
    "        return audios,labels\n"
   ]
  },
  {
   "cell_type": "code",
   "execution_count": 33,
   "metadata": {
    "execution": {
     "iopub.execute_input": "2024-05-19T01:19:33.873063Z",
     "iopub.status.busy": "2024-05-19T01:19:33.872190Z",
     "iopub.status.idle": "2024-05-19T01:19:33.878840Z",
     "shell.execute_reply": "2024-05-19T01:19:33.877870Z",
     "shell.execute_reply.started": "2024-05-19T01:19:33.873028Z"
    }
   },
   "outputs": [],
   "source": [
    "train_dataset = AudioDataset(X_train,y_train)\n",
    "val_dataset = AudioDataset(X_val, y_val)\n",
    "test_dataset = AudioDataset(X_test, y_test)\n",
    "\n",
    "# Create a DataLoader from the dataset\n",
    "\n",
    "train_dataloader = DataLoader(train_dataset, batch_size=8, shuffle=True)\n",
    "val_dataloader=DataLoader(val_dataset, batch_size=8, shuffle=True)\n",
    "test_dataloader=DataLoader(test_dataset, batch_size=8, shuffle=False)\n"
   ]
  },
  {
   "cell_type": "markdown",
   "metadata": {},
   "source": [
    "# Architecture"
   ]
  },
  {
   "cell_type": "code",
   "execution_count": 103,
   "metadata": {
    "execution": {
     "iopub.execute_input": "2024-05-19T02:05:47.545041Z",
     "iopub.status.busy": "2024-05-19T02:05:47.544609Z",
     "iopub.status.idle": "2024-05-19T02:05:47.563812Z",
     "shell.execute_reply": "2024-05-19T02:05:47.562646Z",
     "shell.execute_reply.started": "2024-05-19T02:05:47.545009Z"
    }
   },
   "outputs": [],
   "source": [
    "class ConvNet(nn.Module):\n",
    "    def __init__(self, num_classes):\n",
    "        super(ConvNet, self).__init__()\n",
    "        \n",
    "        self.conv_block = nn.Sequential(\n",
    "            nn.Conv2d(3, 32, kernel_size=3, stride=1, padding=1),\n",
    "            nn.ReLU(),\n",
    "            nn.BatchNorm2d(32),\n",
    "            nn.MaxPool2d(kernel_size=2, stride=2),\n",
    "            \n",
    "            nn.Conv2d(32, 64, kernel_size=3, stride=1, padding=1),\n",
    "            nn.ReLU(),\n",
    "            nn.BatchNorm2d(64),\n",
    "            nn.MaxPool2d(kernel_size=2, stride=2),\n",
    "            \n",
    "            nn.Conv2d(64, 128, kernel_size=3, stride=1, padding=1),\n",
    "            nn.ReLU(),\n",
    "            nn.BatchNorm2d(128),\n",
    "            nn.MaxPool2d(kernel_size=2, stride=2),\n",
    "            \n",
    "            nn.Dropout(0.5)\n",
    "        )\n",
    "        \n",
    "        self.fc_block = nn.Sequential(\n",
    "            nn.Linear(128 * 28 * 28, 64),\n",
    "            nn.ReLU(),\n",
    "            nn.Linear(64, 32),\n",
    "            nn.ReLU(),\n",
    "            nn.Linear(32, num_classes),\n",
    "            nn.Softmax(dim=1)\n",
    "        )\n",
    "\n",
    "    def forward(self, x):\n",
    "        x = self.conv_block(x)\n",
    "        x = torch.flatten(x, 1)\n",
    "        x = self.fc_block(x)\n",
    "        return x\n",
    "\n",
    "def get_conv_model(num_classes=6):\n",
    "    model = ConvNet(num_classes)\n",
    "    return model"
   ]
  },
  {
   "cell_type": "code",
   "execution_count": null,
   "metadata": {
    "execution": {
     "iopub.execute_input": "2024-05-19T02:05:50.814752Z",
     "iopub.status.busy": "2024-05-19T02:05:50.814375Z",
     "iopub.status.idle": "2024-05-19T02:05:50.846348Z",
     "shell.execute_reply": "2024-05-19T02:05:50.845508Z",
     "shell.execute_reply.started": "2024-05-19T02:05:50.814721Z"
    }
   },
   "outputs": [],
   "source": [
    "from torchinfo import summary\n",
    "# need device to instantiate model\n",
    "device = 'cuda'\n",
    "\n",
    "# instantiate model for 8 emotions and move to GPU \n",
    "model = get_conv_model().to(device)\n",
    "\n",
    "# include input feature map dims in call to summary()\n",
    "summary(model, input_size=(32, 1, 128, 160))\n"
   ]
  },
  {
   "cell_type": "code",
   "execution_count": 107,
   "metadata": {
    "execution": {
     "iopub.execute_input": "2024-05-19T02:05:56.088616Z",
     "iopub.status.busy": "2024-05-19T02:05:56.087909Z",
     "iopub.status.idle": "2024-05-19T02:05:56.104709Z",
     "shell.execute_reply": "2024-05-19T02:05:56.103961Z",
     "shell.execute_reply.started": "2024-05-19T02:05:56.088580Z"
    }
   },
   "outputs": [],
   "source": [
    "import torch.optim as optim\n",
    "\n",
    "EPOCHS=500\n",
    "DEVICE = torch.device(\"cuda:0\" if torch.cuda.is_available() else \"cpu\")\n",
    "loss_fn =nn.CrossEntropyLoss().to(DEVICE)\n",
    "\n",
    "LEARNING_RATE=1e-4\n",
    "model = ParaNet(6).to(DEVICE)\n",
    "optimizer = optim.Adam(model.parameters(), lr=LEARNING_RATE)\n",
    "# optimizer = torch.optim.SGD(model.parameters(),lr=0.01, weight_decay=LEARNING_RATE, momentum=0.8)"
   ]
  },
  {
   "cell_type": "code",
   "execution_count": 108,
   "metadata": {
    "execution": {
     "iopub.execute_input": "2024-05-19T02:05:57.417886Z",
     "iopub.status.busy": "2024-05-19T02:05:57.417041Z",
     "iopub.status.idle": "2024-05-19T02:05:57.426183Z",
     "shell.execute_reply": "2024-05-19T02:05:57.425212Z",
     "shell.execute_reply.started": "2024-05-19T02:05:57.417850Z"
    }
   },
   "outputs": [],
   "source": [
    "def train_epoch(model, data_loader, loss_fn, optimizer, device):\n",
    "    model = model.train()\n",
    "\n",
    "    losses = []\n",
    "    correct_predictions = 0\n",
    "    total_predictions = 0\n",
    "\n",
    "    for train_input, train_label in tqdm(data_loader):\n",
    "        train_label = train_label.to(device)\n",
    "        train_input = train_input.to(device)\n",
    "\n",
    "        optimizer.zero_grad()\n",
    "        \n",
    "        output_logits, output_softmax = model(train_input.float())\n",
    "        predictions = torch.argmax(output_softmax,dim=1)\n",
    "        total_predictions += train_label.size(0)\n",
    "        \n",
    "        correct_predictions += (predictions == train_label).sum().item()\n",
    "        \n",
    "        loss = loss_fn(output_logits, train_label)\n",
    "\n",
    "        losses.append(loss.item())\n",
    "\n",
    "\n",
    "        loss.backward()\n",
    "        optimizer.step()\n",
    "\n",
    "    print(f\"Epoch {epoch+1}, Learning Rate: {optimizer.param_groups[0]['lr']}\")\n",
    "\n",
    "    accuracy = correct_predictions / total_predictions\n",
    "    mean_loss = np.mean(losses)\n",
    "\n",
    "    return mean_loss, accuracy\n"
   ]
  },
  {
   "cell_type": "code",
   "execution_count": 109,
   "metadata": {
    "execution": {
     "iopub.execute_input": "2024-05-19T02:05:57.979927Z",
     "iopub.status.busy": "2024-05-19T02:05:57.979052Z",
     "iopub.status.idle": "2024-05-19T02:05:57.987202Z",
     "shell.execute_reply": "2024-05-19T02:05:57.986296Z",
     "shell.execute_reply.started": "2024-05-19T02:05:57.979894Z"
    }
   },
   "outputs": [],
   "source": [
    "def eval_model(model, data_loader, loss_fn, device):\n",
    "    model = model.eval()\n",
    "\n",
    "    losses = []\n",
    "    correct_predictions = 0\n",
    "    total_predictions = 0\n",
    "\n",
    "    with torch.no_grad():            \n",
    "        for val_input, val_label in data_loader:\n",
    "            val_label = val_label.to(device)\n",
    "            val_input = val_input.to(device)\n",
    "\n",
    "            optimizer.zero_grad()\n",
    "\n",
    "            output_logits, output_softmax = model(val_input.float())\n",
    "\n",
    "            predictions = torch.argmax(output_softmax,dim=1)\n",
    "            total_predictions += val_label.size(0)\n",
    "\n",
    "            correct_predictions += (predictions == val_label).sum().item()\n",
    "\n",
    "            loss = loss_fn(output_logits, val_label)\n",
    "\n",
    "            losses.append(loss.item())\n",
    "            \n",
    "            \n",
    "\n",
    "\n",
    "\n",
    "        accuracy = correct_predictions / total_predictions\n",
    "        mean_loss = np.mean(losses)\n",
    "        \n",
    "\n",
    "    return mean_loss, accuracy"
   ]
  },
  {
   "cell_type": "code",
   "execution_count": 110,
   "metadata": {
    "execution": {
     "iopub.execute_input": "2024-05-19T02:05:58.424964Z",
     "iopub.status.busy": "2024-05-19T02:05:58.424216Z",
     "iopub.status.idle": "2024-05-19T02:05:58.429637Z",
     "shell.execute_reply": "2024-05-19T02:05:58.428649Z",
     "shell.execute_reply.started": "2024-05-19T02:05:58.424927Z"
    }
   },
   "outputs": [],
   "source": [
    "from collections import defaultdict\n",
    "import math\n",
    "history = defaultdict(list)\n",
    "loss=math.inf\n",
    "epochs_without_improvement = 0\n",
    "patience = 10  # Number of epochs to wait for improvement\n"
   ]
  },
  {
   "cell_type": "code",
   "execution_count": 111,
   "metadata": {
    "execution": {
     "iopub.execute_input": "2024-05-19T02:05:58.838297Z",
     "iopub.status.busy": "2024-05-19T02:05:58.837910Z",
     "iopub.status.idle": "2024-05-19T02:12:40.185442Z",
     "shell.execute_reply": "2024-05-19T02:12:40.184486Z",
     "shell.execute_reply.started": "2024-05-19T02:05:58.838263Z"
    }
   },
   "outputs": [
    {
     "name": "stderr",
     "output_type": "stream",
     "text": [
      "100%|██████████| 670/670 [00:06<00:00, 96.77it/s]\n"
     ]
    },
    {
     "name": "stdout",
     "output_type": "stream",
     "text": [
      "Epoch 1, Learning Rate: 0.0001\n",
      "Epoch 1/500\n",
      "----------\n",
      "Train loss 1.752040631824465\n",
      "Train Accuracy 0.3212619003173418\n",
      "Val   loss 1.3973220658302308\n",
      "Val   Acc 0.41946308724832215\n",
      "\n"
     ]
    },
    {
     "name": "stderr",
     "output_type": "stream",
     "text": [
      "100%|██████████| 670/670 [00:06<00:00, 96.85it/s]\n"
     ]
    },
    {
     "name": "stdout",
     "output_type": "stream",
     "text": [
      "Epoch 2, Learning Rate: 0.0001\n",
      "Epoch 2/500\n",
      "----------\n",
      "Train loss 1.5676427181087322\n",
      "Train Accuracy 0.38379690125070004\n",
      "Val   loss 1.4123152645428976\n",
      "Val   Acc 0.39093959731543626\n",
      "\n"
     ]
    },
    {
     "name": "stderr",
     "output_type": "stream",
     "text": [
      "100%|██████████| 670/670 [00:06<00:00, 97.42it/s]\n"
     ]
    },
    {
     "name": "stdout",
     "output_type": "stream",
     "text": [
      "Epoch 3, Learning Rate: 0.0001\n",
      "Epoch 3/500\n",
      "----------\n",
      "Train loss 1.5066657380381627\n",
      "Train Accuracy 0.3972372596602576\n",
      "Val   loss 1.342427909374237\n",
      "Val   Acc 0.4563758389261745\n",
      "\n"
     ]
    },
    {
     "name": "stderr",
     "output_type": "stream",
     "text": [
      "100%|██████████| 670/670 [00:06<00:00, 96.67it/s]\n"
     ]
    },
    {
     "name": "stdout",
     "output_type": "stream",
     "text": [
      "Epoch 4, Learning Rate: 0.0001\n",
      "Epoch 4/500\n",
      "----------\n",
      "Train loss 1.4560314813656594\n",
      "Train Accuracy 0.41497106589509053\n",
      "Val   loss 1.3161068375905354\n",
      "Val   Acc 0.45805369127516776\n",
      "\n"
     ]
    },
    {
     "name": "stderr",
     "output_type": "stream",
     "text": [
      "100%|██████████| 670/670 [00:06<00:00, 97.17it/s]\n"
     ]
    },
    {
     "name": "stdout",
     "output_type": "stream",
     "text": [
      "Epoch 5, Learning Rate: 0.0001\n",
      "Epoch 5/500\n",
      "----------\n",
      "Train loss 1.4174319547503742\n",
      "Train Accuracy 0.4254246779914131\n",
      "Val   loss 1.332719131310781\n",
      "Val   Acc 0.4463087248322148\n",
      "\n"
     ]
    },
    {
     "name": "stderr",
     "output_type": "stream",
     "text": [
      "100%|██████████| 670/670 [00:06<00:00, 97.15it/s]\n"
     ]
    },
    {
     "name": "stdout",
     "output_type": "stream",
     "text": [
      "Epoch 6, Learning Rate: 0.0001\n",
      "Epoch 6/500\n",
      "----------\n",
      "Train loss 1.388517569072211\n",
      "Train Accuracy 0.4409184244913198\n",
      "Val   loss 1.2955514868100484\n",
      "Val   Acc 0.48825503355704697\n",
      "\n"
     ]
    },
    {
     "name": "stderr",
     "output_type": "stream",
     "text": [
      "100%|██████████| 670/670 [00:06<00:00, 97.04it/s]\n"
     ]
    },
    {
     "name": "stdout",
     "output_type": "stream",
     "text": [
      "Epoch 7, Learning Rate: 0.0001\n",
      "Epoch 7/500\n",
      "----------\n",
      "Train loss 1.3501989780966914\n",
      "Train Accuracy 0.46387903677431397\n",
      "Val   loss 1.283538948694865\n",
      "Val   Acc 0.45302013422818793\n",
      "\n"
     ]
    },
    {
     "name": "stderr",
     "output_type": "stream",
     "text": [
      "100%|██████████| 670/670 [00:06<00:00, 96.44it/s]\n"
     ]
    },
    {
     "name": "stdout",
     "output_type": "stream",
     "text": [
      "Epoch 8, Learning Rate: 0.0001\n",
      "Epoch 8/500\n",
      "----------\n",
      "Train loss 1.332524377641393\n",
      "Train Accuracy 0.47041254433451557\n",
      "Val   loss 1.2480920561154683\n",
      "Val   Acc 0.4949664429530201\n",
      "\n"
     ]
    },
    {
     "name": "stderr",
     "output_type": "stream",
     "text": [
      "100%|██████████| 670/670 [00:06<00:00, 96.97it/s]\n"
     ]
    },
    {
     "name": "stdout",
     "output_type": "stream",
     "text": [
      "Epoch 9, Learning Rate: 0.0001\n",
      "Epoch 9/500\n",
      "----------\n",
      "Train loss 1.2955637206782156\n",
      "Train Accuracy 0.49057308194885196\n",
      "Val   loss 1.2806999929745992\n",
      "Val   Acc 0.48825503355704697\n",
      "\n"
     ]
    },
    {
     "name": "stderr",
     "output_type": "stream",
     "text": [
      "100%|██████████| 670/670 [00:06<00:00, 97.13it/s]\n"
     ]
    },
    {
     "name": "stdout",
     "output_type": "stream",
     "text": [
      "Epoch 10, Learning Rate: 0.0001\n",
      "Epoch 10/500\n",
      "----------\n",
      "Train loss 1.2837954074589175\n",
      "Train Accuracy 0.49131976852716075\n",
      "Val   loss 1.2487520464261372\n",
      "Val   Acc 0.49328859060402686\n",
      "\n"
     ]
    },
    {
     "name": "stderr",
     "output_type": "stream",
     "text": [
      "100%|██████████| 670/670 [00:06<00:00, 97.07it/s]\n"
     ]
    },
    {
     "name": "stdout",
     "output_type": "stream",
     "text": [
      "Epoch 11, Learning Rate: 0.0001\n",
      "Epoch 11/500\n",
      "----------\n",
      "Train loss 1.2616588540041624\n",
      "Train Accuracy 0.5056934851596042\n",
      "Val   loss 1.2192161870002747\n",
      "Val   Acc 0.5234899328859061\n",
      "\n"
     ]
    },
    {
     "name": "stderr",
     "output_type": "stream",
     "text": [
      "100%|██████████| 670/670 [00:06<00:00, 96.72it/s]\n"
     ]
    },
    {
     "name": "stdout",
     "output_type": "stream",
     "text": [
      "Epoch 12, Learning Rate: 0.0001\n",
      "Epoch 12/500\n",
      "----------\n",
      "Train loss 1.238543761399255\n",
      "Train Accuracy 0.5137203658764233\n",
      "Val   loss 1.194452736377716\n",
      "Val   Acc 0.5453020134228188\n",
      "\n"
     ]
    },
    {
     "name": "stderr",
     "output_type": "stream",
     "text": [
      "100%|██████████| 670/670 [00:06<00:00, 97.43it/s]\n"
     ]
    },
    {
     "name": "stdout",
     "output_type": "stream",
     "text": [
      "Epoch 13, Learning Rate: 0.0001\n",
      "Epoch 13/500\n",
      "----------\n",
      "Train loss 1.219424632769912\n",
      "Train Accuracy 0.5150270673884637\n",
      "Val   loss 1.1786324906349182\n",
      "Val   Acc 0.5536912751677853\n",
      "\n"
     ]
    },
    {
     "name": "stderr",
     "output_type": "stream",
     "text": [
      "100%|██████████| 670/670 [00:06<00:00, 96.79it/s]\n"
     ]
    },
    {
     "name": "stdout",
     "output_type": "stream",
     "text": [
      "Epoch 14, Learning Rate: 0.0001\n",
      "Epoch 14/500\n",
      "----------\n",
      "Train loss 1.1980283473409823\n",
      "Train Accuracy 0.5260406944185179\n",
      "Val   loss 1.1438428592681884\n",
      "Val   Acc 0.5587248322147651\n",
      "\n"
     ]
    },
    {
     "name": "stderr",
     "output_type": "stream",
     "text": [
      "100%|██████████| 670/670 [00:06<00:00, 96.99it/s]\n"
     ]
    },
    {
     "name": "stdout",
     "output_type": "stream",
     "text": [
      "Epoch 15, Learning Rate: 0.0001\n",
      "Epoch 15/500\n",
      "----------\n",
      "Train loss 1.182639117872537\n",
      "Train Accuracy 0.5355609482919544\n",
      "Val   loss 1.1194871536890665\n",
      "Val   Acc 0.5654362416107382\n",
      "\n"
     ]
    },
    {
     "name": "stderr",
     "output_type": "stream",
     "text": [
      "100%|██████████| 670/670 [00:06<00:00, 96.75it/s]\n"
     ]
    },
    {
     "name": "stdout",
     "output_type": "stream",
     "text": [
      "Epoch 16, Learning Rate: 0.0001\n",
      "Epoch 16/500\n",
      "----------\n",
      "Train loss 1.1685593240741474\n",
      "Train Accuracy 0.5426544707858876\n",
      "Val   loss 1.1226734908421834\n",
      "Val   Acc 0.5604026845637584\n",
      "\n"
     ]
    },
    {
     "name": "stderr",
     "output_type": "stream",
     "text": [
      "100%|██████████| 670/670 [00:06<00:00, 97.11it/s]\n"
     ]
    },
    {
     "name": "stdout",
     "output_type": "stream",
     "text": [
      "Epoch 17, Learning Rate: 0.0001\n",
      "Epoch 17/500\n",
      "----------\n",
      "Train loss 1.157608719192334\n",
      "Train Accuracy 0.5473212619003174\n",
      "Val   loss 1.0881426163514456\n",
      "Val   Acc 0.6040268456375839\n",
      "\n"
     ]
    },
    {
     "name": "stderr",
     "output_type": "stream",
     "text": [
      "100%|██████████| 670/670 [00:06<00:00, 96.97it/s]\n"
     ]
    },
    {
     "name": "stdout",
     "output_type": "stream",
     "text": [
      "Epoch 18, Learning Rate: 0.0001\n",
      "Epoch 18/500\n",
      "----------\n",
      "Train loss 1.150750461532109\n",
      "Train Accuracy 0.5491879783460892\n",
      "Val   loss 1.1110958981513976\n",
      "Val   Acc 0.5771812080536913\n",
      "\n"
     ]
    },
    {
     "name": "stderr",
     "output_type": "stream",
     "text": [
      "100%|██████████| 670/670 [00:06<00:00, 97.40it/s]\n"
     ]
    },
    {
     "name": "stdout",
     "output_type": "stream",
     "text": [
      "Epoch 19, Learning Rate: 0.0001\n",
      "Epoch 19/500\n",
      "----------\n",
      "Train loss 1.1371059572518762\n",
      "Train Accuracy 0.556841515773754\n",
      "Val   loss 1.1475564249356587\n",
      "Val   Acc 0.5587248322147651\n",
      "\n"
     ]
    },
    {
     "name": "stderr",
     "output_type": "stream",
     "text": [
      "100%|██████████| 670/670 [00:06<00:00, 96.88it/s]\n"
     ]
    },
    {
     "name": "stdout",
     "output_type": "stream",
     "text": [
      "Epoch 20, Learning Rate: 0.0001\n",
      "Epoch 20/500\n",
      "----------\n",
      "Train loss 1.0974218512648968\n",
      "Train Accuracy 0.5695351876050028\n",
      "Val   loss 1.1461900679270427\n",
      "Val   Acc 0.5503355704697986\n",
      "\n"
     ]
    },
    {
     "name": "stderr",
     "output_type": "stream",
     "text": [
      "100%|██████████| 670/670 [00:06<00:00, 96.18it/s]\n"
     ]
    },
    {
     "name": "stdout",
     "output_type": "stream",
     "text": [
      "Epoch 21, Learning Rate: 0.0001\n",
      "Epoch 21/500\n",
      "----------\n",
      "Train loss 1.1009936520857597\n",
      "Train Accuracy 0.5771887250326675\n",
      "Val   loss 1.1375534272193908\n",
      "Val   Acc 0.5738255033557047\n",
      "\n"
     ]
    },
    {
     "name": "stderr",
     "output_type": "stream",
     "text": [
      "100%|██████████| 670/670 [00:06<00:00, 96.94it/s]\n"
     ]
    },
    {
     "name": "stdout",
     "output_type": "stream",
     "text": [
      "Epoch 22, Learning Rate: 0.0001\n",
      "Epoch 22/500\n",
      "----------\n",
      "Train loss 1.0938449556702998\n",
      "Train Accuracy 0.5626283367556468\n",
      "Val   loss 1.0722575573126476\n",
      "Val   Acc 0.5889261744966443\n",
      "\n"
     ]
    },
    {
     "name": "stderr",
     "output_type": "stream",
     "text": [
      "100%|██████████| 670/670 [00:06<00:00, 96.70it/s]\n"
     ]
    },
    {
     "name": "stdout",
     "output_type": "stream",
     "text": [
      "Epoch 23, Learning Rate: 0.0001\n",
      "Epoch 23/500\n",
      "----------\n",
      "Train loss 1.07977963588131\n",
      "Train Accuracy 0.5809221579242113\n",
      "Val   loss 1.157496455113093\n",
      "Val   Acc 0.5385906040268457\n",
      "\n"
     ]
    },
    {
     "name": "stderr",
     "output_type": "stream",
     "text": [
      "100%|██████████| 670/670 [00:06<00:00, 97.25it/s]\n"
     ]
    },
    {
     "name": "stdout",
     "output_type": "stream",
     "text": [
      "Epoch 24, Learning Rate: 0.0001\n",
      "Epoch 24/500\n",
      "----------\n",
      "Train loss 1.0671022404485675\n",
      "Train Accuracy 0.5732686204965466\n",
      "Val   loss 1.15933779835701\n",
      "Val   Acc 0.552013422818792\n",
      "\n"
     ]
    },
    {
     "name": "stderr",
     "output_type": "stream",
     "text": [
      "100%|██████████| 670/670 [00:06<00:00, 96.67it/s]\n"
     ]
    },
    {
     "name": "stdout",
     "output_type": "stream",
     "text": [
      "Epoch 25, Learning Rate: 0.0001\n",
      "Epoch 25/500\n",
      "----------\n",
      "Train loss 1.056474849893086\n",
      "Train Accuracy 0.5967892477132724\n",
      "Val   loss 1.0778749732176462\n",
      "Val   Acc 0.5889261744966443\n",
      "\n"
     ]
    },
    {
     "name": "stderr",
     "output_type": "stream",
     "text": [
      "100%|██████████| 670/670 [00:06<00:00, 97.15it/s]\n"
     ]
    },
    {
     "name": "stdout",
     "output_type": "stream",
     "text": [
      "Epoch 26, Learning Rate: 0.0001\n",
      "Epoch 26/500\n",
      "----------\n",
      "Train loss 1.064330764537427\n",
      "Train Accuracy 0.5923091282434199\n",
      "Val   loss 1.117731796503067\n",
      "Val   Acc 0.5553691275167785\n",
      "\n"
     ]
    },
    {
     "name": "stderr",
     "output_type": "stream",
     "text": [
      "100%|██████████| 670/670 [00:06<00:00, 96.92it/s]\n"
     ]
    },
    {
     "name": "stdout",
     "output_type": "stream",
     "text": [
      "Epoch 27, Learning Rate: 0.0001\n",
      "Epoch 27/500\n",
      "----------\n",
      "Train loss 1.0469855684842637\n",
      "Train Accuracy 0.5945491879783461\n",
      "Val   loss 1.140259420077006\n",
      "Val   Acc 0.5486577181208053\n",
      "\n"
     ]
    },
    {
     "name": "stderr",
     "output_type": "stream",
     "text": [
      "100%|██████████| 670/670 [00:06<00:00, 97.03it/s]\n"
     ]
    },
    {
     "name": "stdout",
     "output_type": "stream",
     "text": [
      "Epoch 28, Learning Rate: 0.0001\n",
      "Epoch 28/500\n",
      "----------\n",
      "Train loss 1.0250737045683078\n",
      "Train Accuracy 0.6035094269180511\n",
      "Val   loss 1.0432165781656901\n",
      "Val   Acc 0.6023489932885906\n",
      "\n"
     ]
    },
    {
     "name": "stderr",
     "output_type": "stream",
     "text": [
      "100%|██████████| 670/670 [00:06<00:00, 96.81it/s]\n"
     ]
    },
    {
     "name": "stdout",
     "output_type": "stream",
     "text": [
      "Epoch 29, Learning Rate: 0.0001\n",
      "Epoch 29/500\n",
      "----------\n",
      "Train loss 1.016535542927571\n",
      "Train Accuracy 0.61022960612283\n",
      "Val   loss 1.0755042779445647\n",
      "Val   Acc 0.5906040268456376\n",
      "\n"
     ]
    },
    {
     "name": "stderr",
     "output_type": "stream",
     "text": [
      "100%|██████████| 670/670 [00:06<00:00, 96.51it/s]\n"
     ]
    },
    {
     "name": "stdout",
     "output_type": "stream",
     "text": [
      "Epoch 30, Learning Rate: 0.0001\n",
      "Epoch 30/500\n",
      "----------\n",
      "Train loss 1.0190694679964833\n",
      "Train Accuracy 0.5980959492253127\n",
      "Val   loss 1.0672663873434067\n",
      "Val   Acc 0.5822147651006712\n",
      "\n"
     ]
    },
    {
     "name": "stderr",
     "output_type": "stream",
     "text": [
      "100%|██████████| 670/670 [00:06<00:00, 96.81it/s]\n"
     ]
    },
    {
     "name": "stdout",
     "output_type": "stream",
     "text": [
      "Epoch 31, Learning Rate: 0.0001\n",
      "Epoch 31/500\n",
      "----------\n",
      "Train loss 1.0103920220883924\n",
      "Train Accuracy 0.6139630390143738\n",
      "Val   loss 1.0357146815458933\n",
      "Val   Acc 0.6208053691275168\n",
      "\n"
     ]
    },
    {
     "name": "stderr",
     "output_type": "stream",
     "text": [
      "100%|██████████| 670/670 [00:06<00:00, 97.00it/s]\n"
     ]
    },
    {
     "name": "stdout",
     "output_type": "stream",
     "text": [
      "Epoch 32, Learning Rate: 0.0001\n",
      "Epoch 32/500\n",
      "----------\n",
      "Train loss 0.9959992031552898\n",
      "Train Accuracy 0.6171364569721859\n",
      "Val   loss 1.04468199968338\n",
      "Val   Acc 0.5956375838926175\n",
      "\n"
     ]
    },
    {
     "name": "stderr",
     "output_type": "stream",
     "text": [
      "100%|██████████| 670/670 [00:06<00:00, 96.97it/s]\n"
     ]
    },
    {
     "name": "stdout",
     "output_type": "stream",
     "text": [
      "Epoch 33, Learning Rate: 0.0001\n",
      "Epoch 33/500\n",
      "----------\n",
      "Train loss 0.9916931610943666\n",
      "Train Accuracy 0.6158297554601456\n",
      "Val   loss 1.1648043306668598\n",
      "Val   Acc 0.5469798657718121\n",
      "\n"
     ]
    },
    {
     "name": "stderr",
     "output_type": "stream",
     "text": [
      "100%|██████████| 670/670 [00:06<00:00, 96.90it/s]\n"
     ]
    },
    {
     "name": "stdout",
     "output_type": "stream",
     "text": [
      "Epoch 34, Learning Rate: 0.0001\n",
      "Epoch 34/500\n",
      "----------\n",
      "Train loss 0.9867577860604472\n",
      "Train Accuracy 0.6176964719059175\n",
      "Val   loss 1.0039119122425715\n",
      "Val   Acc 0.6241610738255033\n",
      "\n"
     ]
    },
    {
     "name": "stderr",
     "output_type": "stream",
     "text": [
      "100%|██████████| 670/670 [00:06<00:00, 96.66it/s]\n"
     ]
    },
    {
     "name": "stdout",
     "output_type": "stream",
     "text": [
      "Epoch 35, Learning Rate: 0.0001\n",
      "Epoch 35/500\n",
      "----------\n",
      "Train loss 0.9627692039333172\n",
      "Train Accuracy 0.6322568601829383\n",
      "Val   loss 1.1179509997367858\n",
      "Val   Acc 0.5536912751677853\n",
      "\n"
     ]
    },
    {
     "name": "stderr",
     "output_type": "stream",
     "text": [
      "100%|██████████| 670/670 [00:06<00:00, 96.90it/s]\n"
     ]
    },
    {
     "name": "stdout",
     "output_type": "stream",
     "text": [
      "Epoch 36, Learning Rate: 0.0001\n",
      "Epoch 36/500\n",
      "----------\n",
      "Train loss 0.973754757064492\n",
      "Train Accuracy 0.6225499346649244\n",
      "Val   loss 1.0130022740364075\n",
      "Val   Acc 0.6073825503355704\n",
      "\n"
     ]
    },
    {
     "name": "stderr",
     "output_type": "stream",
     "text": [
      "100%|██████████| 670/670 [00:06<00:00, 97.23it/s]\n"
     ]
    },
    {
     "name": "stdout",
     "output_type": "stream",
     "text": [
      "Epoch 37, Learning Rate: 0.0001\n",
      "Epoch 37/500\n",
      "----------\n",
      "Train loss 0.9650343498187278\n",
      "Train Accuracy 0.6285234272913944\n",
      "Val   loss 1.0538046332200368\n",
      "Val   Acc 0.5939597315436241\n",
      "\n"
     ]
    },
    {
     "name": "stderr",
     "output_type": "stream",
     "text": [
      "100%|██████████| 670/670 [00:06<00:00, 96.92it/s]\n"
     ]
    },
    {
     "name": "stdout",
     "output_type": "stream",
     "text": [
      "Epoch 38, Learning Rate: 0.0001\n",
      "Epoch 38/500\n",
      "----------\n",
      "Train loss 0.9450083850035027\n",
      "Train Accuracy 0.6386036960985626\n",
      "Val   loss 1.0699398104349773\n",
      "Val   Acc 0.6006711409395973\n",
      "\n"
     ]
    },
    {
     "name": "stderr",
     "output_type": "stream",
     "text": [
      "100%|██████████| 670/670 [00:06<00:00, 97.10it/s]\n"
     ]
    },
    {
     "name": "stdout",
     "output_type": "stream",
     "text": [
      "Epoch 39, Learning Rate: 0.0001\n",
      "Epoch 39/500\n",
      "----------\n",
      "Train loss 0.9239400452642298\n",
      "Train Accuracy 0.6514840395743886\n",
      "Val   loss 1.0956528683503468\n",
      "Val   Acc 0.575503355704698\n",
      "\n"
     ]
    },
    {
     "name": "stderr",
     "output_type": "stream",
     "text": [
      "100%|██████████| 670/670 [00:06<00:00, 96.88it/s]\n"
     ]
    },
    {
     "name": "stdout",
     "output_type": "stream",
     "text": [
      "Epoch 40, Learning Rate: 0.0001\n",
      "Epoch 40/500\n",
      "----------\n",
      "Train loss 0.9207174813569482\n",
      "Train Accuracy 0.6505506813515027\n",
      "Val   loss 1.0245172262191773\n",
      "Val   Acc 0.6057046979865772\n",
      "\n"
     ]
    },
    {
     "name": "stderr",
     "output_type": "stream",
     "text": [
      "100%|██████████| 670/670 [00:06<00:00, 96.99it/s]\n"
     ]
    },
    {
     "name": "stdout",
     "output_type": "stream",
     "text": [
      "Epoch 41, Learning Rate: 0.0001\n",
      "Epoch 41/500\n",
      "----------\n",
      "Train loss 0.9223945381926066\n",
      "Train Accuracy 0.6456972185924958\n",
      "Val   loss 1.0287108790874482\n",
      "Val   Acc 0.6124161073825504\n",
      "\n"
     ]
    },
    {
     "name": "stderr",
     "output_type": "stream",
     "text": [
      "100%|██████████| 670/670 [00:06<00:00, 97.01it/s]\n"
     ]
    },
    {
     "name": "stdout",
     "output_type": "stream",
     "text": [
      "Epoch 42, Learning Rate: 0.0001\n",
      "Epoch 42/500\n",
      "----------\n",
      "Train loss 0.9268783636724771\n",
      "Train Accuracy 0.6496173231286168\n",
      "Val   loss 0.994825523296992\n",
      "Val   Acc 0.6241610738255033\n",
      "\n"
     ]
    },
    {
     "name": "stderr",
     "output_type": "stream",
     "text": [
      "100%|██████████| 670/670 [00:06<00:00, 96.72it/s]\n"
     ]
    },
    {
     "name": "stdout",
     "output_type": "stream",
     "text": [
      "Epoch 43, Learning Rate: 0.0001\n",
      "Epoch 43/500\n",
      "----------\n",
      "Train loss 0.9009929894288974\n",
      "Train Accuracy 0.6514840395743886\n",
      "Val   loss 1.001970801949501\n",
      "Val   Acc 0.6342281879194631\n",
      "\n"
     ]
    },
    {
     "name": "stderr",
     "output_type": "stream",
     "text": [
      "100%|██████████| 670/670 [00:06<00:00, 97.01it/s]\n"
     ]
    },
    {
     "name": "stdout",
     "output_type": "stream",
     "text": [
      "Epoch 44, Learning Rate: 0.0001\n",
      "Epoch 44/500\n",
      "----------\n",
      "Train loss 0.9085744746140579\n",
      "Train Accuracy 0.648870636550308\n",
      "Val   loss 1.0399913779894512\n",
      "Val   Acc 0.6057046979865772\n",
      "\n"
     ]
    },
    {
     "name": "stderr",
     "output_type": "stream",
     "text": [
      "100%|██████████| 670/670 [00:06<00:00, 97.08it/s]\n"
     ]
    },
    {
     "name": "stdout",
     "output_type": "stream",
     "text": [
      "Epoch 45, Learning Rate: 0.0001\n",
      "Epoch 45/500\n",
      "----------\n",
      "Train loss 0.8966650309847362\n",
      "Train Accuracy 0.6550308008213552\n",
      "Val   loss 1.021282253662745\n",
      "Val   Acc 0.5989932885906041\n",
      "\n"
     ]
    },
    {
     "name": "stderr",
     "output_type": "stream",
     "text": [
      "100%|██████████| 670/670 [00:06<00:00, 96.91it/s]\n"
     ]
    },
    {
     "name": "stdout",
     "output_type": "stream",
     "text": [
      "Epoch 46, Learning Rate: 0.0001\n",
      "Epoch 46/500\n",
      "----------\n",
      "Train loss 0.8707467567120025\n",
      "Train Accuracy 0.6731379503453425\n",
      "Val   loss 0.9793756620089213\n",
      "Val   Acc 0.6291946308724832\n",
      "\n"
     ]
    },
    {
     "name": "stderr",
     "output_type": "stream",
     "text": [
      "100%|██████████| 670/670 [00:06<00:00, 96.77it/s]\n"
     ]
    },
    {
     "name": "stdout",
     "output_type": "stream",
     "text": [
      "Epoch 47, Learning Rate: 0.0001\n",
      "Epoch 47/500\n",
      "----------\n",
      "Train loss 0.8768844945217247\n",
      "Train Accuracy 0.6593242486466305\n",
      "Val   loss 1.0182752287387848\n",
      "Val   Acc 0.6140939597315436\n",
      "\n"
     ]
    },
    {
     "name": "stderr",
     "output_type": "stream",
     "text": [
      "100%|██████████| 670/670 [00:06<00:00, 96.00it/s]\n"
     ]
    },
    {
     "name": "stdout",
     "output_type": "stream",
     "text": [
      "Epoch 48, Learning Rate: 0.0001\n",
      "Epoch 48/500\n",
      "----------\n",
      "Train loss 0.8797282480481845\n",
      "Train Accuracy 0.665671084562255\n",
      "Val   loss 1.1644764963785807\n",
      "Val   Acc 0.5486577181208053\n",
      "\n"
     ]
    },
    {
     "name": "stderr",
     "output_type": "stream",
     "text": [
      "100%|██████████| 670/670 [00:06<00:00, 96.62it/s]\n"
     ]
    },
    {
     "name": "stdout",
     "output_type": "stream",
     "text": [
      "Epoch 49, Learning Rate: 0.0001\n",
      "Epoch 49/500\n",
      "----------\n",
      "Train loss 0.865545538823996\n",
      "Train Accuracy 0.678551428038081\n",
      "Val   loss 1.0587709518273671\n",
      "Val   Acc 0.6057046979865772\n",
      "\n"
     ]
    },
    {
     "name": "stderr",
     "output_type": "stream",
     "text": [
      "100%|██████████| 670/670 [00:06<00:00, 97.07it/s]\n"
     ]
    },
    {
     "name": "stdout",
     "output_type": "stream",
     "text": [
      "Epoch 50, Learning Rate: 0.0001\n",
      "Epoch 50/500\n",
      "----------\n",
      "Train loss 0.8612237589127982\n",
      "Train Accuracy 0.6708978906104163\n",
      "Val   loss 0.9861602930227915\n",
      "Val   Acc 0.6157718120805369\n",
      "\n"
     ]
    },
    {
     "name": "stderr",
     "output_type": "stream",
     "text": [
      "100%|██████████| 670/670 [00:06<00:00, 96.79it/s]\n"
     ]
    },
    {
     "name": "stdout",
     "output_type": "stream",
     "text": [
      "Epoch 51, Learning Rate: 0.0001\n",
      "Epoch 51/500\n",
      "----------\n",
      "Train loss 0.838053683936596\n",
      "Train Accuracy 0.6718312488333023\n",
      "Val   loss 1.0201152920722962\n",
      "Val   Acc 0.6006711409395973\n",
      "\n"
     ]
    },
    {
     "name": "stderr",
     "output_type": "stream",
     "text": [
      "100%|██████████| 670/670 [00:06<00:00, 96.64it/s]\n"
     ]
    },
    {
     "name": "stdout",
     "output_type": "stream",
     "text": [
      "Epoch 52, Learning Rate: 0.0001\n",
      "Epoch 52/500\n",
      "----------\n",
      "Train loss 0.8549861169128276\n",
      "Train Accuracy 0.6750046667911145\n",
      "Val   loss 1.0492829658587774\n",
      "Val   Acc 0.6090604026845637\n",
      "\n"
     ]
    },
    {
     "name": "stderr",
     "output_type": "stream",
     "text": [
      "100%|██████████| 670/670 [00:06<00:00, 97.09it/s]\n"
     ]
    },
    {
     "name": "stdout",
     "output_type": "stream",
     "text": [
      "Epoch 53, Learning Rate: 0.0001\n",
      "Epoch 53/500\n",
      "----------\n",
      "Train loss 0.8406796440259734\n",
      "Train Accuracy 0.6729512787007653\n",
      "Val   loss 1.0464561400810877\n",
      "Val   Acc 0.610738255033557\n",
      "\n"
     ]
    },
    {
     "name": "stderr",
     "output_type": "stream",
     "text": [
      "100%|██████████| 670/670 [00:06<00:00, 96.81it/s]\n"
     ]
    },
    {
     "name": "stdout",
     "output_type": "stream",
     "text": [
      "Epoch 54, Learning Rate: 0.0001\n",
      "Epoch 54/500\n",
      "----------\n",
      "Train loss 0.8257250378825771\n",
      "Train Accuracy 0.6841515773753967\n",
      "Val   loss 1.0849036820729574\n",
      "Val   Acc 0.6006711409395973\n",
      "\n"
     ]
    },
    {
     "name": "stderr",
     "output_type": "stream",
     "text": [
      "100%|██████████| 670/670 [00:06<00:00, 97.28it/s]\n"
     ]
    },
    {
     "name": "stdout",
     "output_type": "stream",
     "text": [
      "Epoch 55, Learning Rate: 0.0001\n",
      "Epoch 55/500\n",
      "----------\n",
      "Train loss 0.8261591028811327\n",
      "Train Accuracy 0.6863916371103229\n",
      "Val   loss 1.0080390644073487\n",
      "Val   Acc 0.6325503355704698\n",
      "\n"
     ]
    },
    {
     "name": "stderr",
     "output_type": "stream",
     "text": [
      "100%|██████████| 670/670 [00:06<00:00, 96.70it/s]\n"
     ]
    },
    {
     "name": "stdout",
     "output_type": "stream",
     "text": [
      "Epoch 56, Learning Rate: 0.0001\n",
      "Epoch 56/500\n",
      "----------\n",
      "Train loss 0.8174524706023842\n",
      "Train Accuracy 0.6869516520440545\n",
      "Val   loss 0.9954190528392792\n",
      "Val   Acc 0.6291946308724832\n",
      "\n",
      "Early stopping triggered. No improvement in 10 epochs.\n"
     ]
    }
   ],
   "source": [
    "for epoch in range(EPOCHS):\n",
    "\n",
    "\n",
    "    train_loss,train_acc = train_epoch(model,train_dataloader,loss_fn, optimizer, DEVICE)\n",
    "    \n",
    "    val_loss,val_acc = eval_model(model,val_dataloader,loss_fn, DEVICE)\n",
    "    \n",
    "    \n",
    "    print(f'Epoch {epoch + 1}/{EPOCHS}')\n",
    "    print('-' * 10)\n",
    "    print(f'Train loss {train_loss}')\n",
    "    print(f'Train Accuracy {train_acc}')\n",
    "\n",
    "    print(f'Val   loss {val_loss}')\n",
    "    print(f'Val   Acc {val_acc}')\n",
    "\n",
    "    print()\n",
    "        \n",
    "    if val_loss < loss:\n",
    "        torch.save(model.state_dict(), 'best_model_state.bin')\n",
    "        loss = val_loss\n",
    "        epochs_without_improvement = 0\n",
    "    else:\n",
    "        epochs_without_improvement += 1\n",
    "\n",
    "    # Early stopping condition\n",
    "    if epochs_without_improvement == patience:\n",
    "        print(\"Early stopping triggered. No improvement in\", patience, \"epochs.\")\n",
    "        break\n",
    "\n",
    "\n",
    "\n",
    "    history['train_loss'].append(train_loss)\n",
    "    history['val_loss'].append(val_loss)\n",
    "    \n",
    "    \n",
    "    history['train_Accuracy'].append(train_acc)\n",
    "    history['val_Accuracy'].append(val_acc)\n",
    "\n",
    "    #save this incase of failure\n",
    "    torch.save(model.state_dict(), 'current_model_state.bin')\n",
    "    \n",
    "    \n",
    "#save last state to train later\n",
    "torch.save(model.state_dict(), 'last_model_state.bin')\n"
   ]
  },
  {
   "cell_type": "code",
   "execution_count": 112,
   "metadata": {
    "execution": {
     "iopub.execute_input": "2024-05-19T02:12:40.187853Z",
     "iopub.status.busy": "2024-05-19T02:12:40.187471Z",
     "iopub.status.idle": "2024-05-19T02:12:40.203402Z",
     "shell.execute_reply": "2024-05-19T02:12:40.202524Z",
     "shell.execute_reply.started": "2024-05-19T02:12:40.187817Z"
    }
   },
   "outputs": [
    {
     "data": {
      "text/plain": [
       "<All keys matched successfully>"
      ]
     },
     "execution_count": 112,
     "metadata": {},
     "output_type": "execute_result"
    }
   ],
   "source": [
    "model.load_state_dict(torch.load('/kaggle/working/best_model_state.bin'))"
   ]
  },
  {
   "cell_type": "code",
   "execution_count": 113,
   "metadata": {
    "execution": {
     "iopub.execute_input": "2024-05-19T02:12:40.204710Z",
     "iopub.status.busy": "2024-05-19T02:12:40.204476Z",
     "iopub.status.idle": "2024-05-19T02:12:40.577944Z",
     "shell.execute_reply": "2024-05-19T02:12:40.577006Z",
     "shell.execute_reply.started": "2024-05-19T02:12:40.204689Z"
    }
   },
   "outputs": [
    {
     "data": {
      "text/plain": [
       "<matplotlib.legend.Legend at 0x7998e4215c00>"
      ]
     },
     "execution_count": 113,
     "metadata": {},
     "output_type": "execute_result"
    },
    {
     "data": {
      "image/png": "[encoded data removed]",
      "text/plain": [
       "<Figure size 400x400 with 1 Axes>"
      ]
     },
     "metadata": {},
     "output_type": "display_data"
    }
   ],
   "source": [
    "plt.figure(figsize=(4,4))\n",
    "plt.plot(history['train_Accuracy'], 'r',label='Training accuracy')\n",
    "plt.plot(history['val_Accuracy'], 'b', label='Validation accuracy')\n",
    "\n",
    "plt.title('Training and validation accuracy')\n",
    "plt.ylabel('Accuracy')\n",
    "plt.xlabel('Epoch')\n",
    "plt.legend()\n"
   ]
  },
  {
   "cell_type": "code",
   "execution_count": 114,
   "metadata": {
    "execution": {
     "iopub.execute_input": "2024-05-19T02:12:40.580574Z",
     "iopub.status.busy": "2024-05-19T02:12:40.580269Z",
     "iopub.status.idle": "2024-05-19T02:12:40.932192Z",
     "shell.execute_reply": "2024-05-19T02:12:40.929989Z",
     "shell.execute_reply.started": "2024-05-19T02:12:40.580548Z"
    }
   },
   "outputs": [
    {
     "data": {
      "text/plain": [
       "<matplotlib.legend.Legend at 0x7998e4372c20>"
      ]
     },
     "execution_count": 114,
     "metadata": {},
     "output_type": "execute_result"
    },
    {
     "data": {
      "image/png": "[encoded data removed]",
      "text/plain": [
       "<Figure size 400x400 with 1 Axes>"
      ]
     },
     "metadata": {},
     "output_type": "display_data"
    }
   ],
   "source": [
    "plt.figure(figsize=(4,4))\n",
    "plt.plot(history['train_loss'], 'r', label='Training loss')\n",
    "plt.plot(history['val_loss'], 'b', label='Validation loss')\n",
    "\n",
    "plt.title('Training and validation loss')\n",
    "plt.ylabel('Loss')\n",
    "plt.xlabel('Epoch')\n",
    "plt.legend()\n"
   ]
  },
  {
   "cell_type": "code",
   "execution_count": 115,
   "metadata": {
    "execution": {
     "iopub.execute_input": "2024-05-19T02:12:40.933529Z",
     "iopub.status.busy": "2024-05-19T02:12:40.933243Z",
     "iopub.status.idle": "2024-05-19T02:12:40.941181Z",
     "shell.execute_reply": "2024-05-19T02:12:40.940190Z",
     "shell.execute_reply.started": "2024-05-19T02:12:40.933504Z"
    }
   },
   "outputs": [],
   "source": [
    "def get_predicted(model, data_loader, loss_fn, device):\n",
    "    model = model.eval()\n",
    "\n",
    "    losses = []\n",
    "    predicted_labels = []\n",
    "    true_labels = []\n",
    "\n",
    "    with torch.no_grad():\n",
    "        for test_input, test_label in data_loader:\n",
    "            test_label = test_label.to(device)\n",
    "            test_input = test_input.to(device)\n",
    "\n",
    "            output_logits, output_softmax = model(test_input.float())\n",
    "\n",
    "            predictions = torch.argmax(output_softmax, dim=1)\n",
    "            predicted_labels.extend(predictions.cpu().numpy())\n",
    "            true_labels.extend(test_label.cpu().numpy())\n",
    "\n",
    "            loss = loss_fn(output_logits, test_label)\n",
    "            losses.append(loss.item())\n",
    "\n",
    "    mean_loss = np.mean(losses)\n",
    "\n",
    "    return mean_loss, predicted_labels, true_labels"
   ]
  },
  {
   "cell_type": "code",
   "execution_count": 116,
   "metadata": {
    "execution": {
     "iopub.execute_input": "2024-05-19T02:12:40.942834Z",
     "iopub.status.busy": "2024-05-19T02:12:40.942479Z",
     "iopub.status.idle": "2024-05-19T02:12:41.550685Z",
     "shell.execute_reply": "2024-05-19T02:12:41.549900Z",
     "shell.execute_reply.started": "2024-05-19T02:12:40.942802Z"
    }
   },
   "outputs": [],
   "source": [
    "mean_loss, predicted_labels, true_labels=get_predicted(model,test_dataloader,loss_fn,DEVICE)"
   ]
  },
  {
   "cell_type": "code",
   "execution_count": 117,
   "metadata": {
    "execution": {
     "iopub.execute_input": "2024-05-19T02:12:41.552177Z",
     "iopub.status.busy": "2024-05-19T02:12:41.551892Z",
     "iopub.status.idle": "2024-05-19T02:12:41.561419Z",
     "shell.execute_reply": "2024-05-19T02:12:41.560481Z",
     "shell.execute_reply.started": "2024-05-19T02:12:41.552152Z"
    }
   },
   "outputs": [],
   "source": [
    "from sklearn.metrics import precision_score, recall_score, f1_score, accuracy_score,classification_report,confusion_matrix\n",
    "\n",
    "import matplotlib.pyplot as plt\n",
    "def measurements_of_accuracy(Y_test,Y_pred,classifier,labels):\n",
    "    # Calculate the confusion matrix\n",
    "#     conf_matrix = confusion_matrix(y_true=Y_test, y_pred=Y_pred)\n",
    "#     matrix_precentage = conf_matrix.astype('float') / conf_matrix.sum(axis=1)[:, np.newaxis]\n",
    "    \n",
    "#     fig, ax = plt.subplots(figsize=(5, 5))\n",
    "#     ax.matshow(conf_matrix, cmap=plt.cm.Oranges, alpha=0.3)\n",
    "#     for i in range(conf_matrix.shape[0]):\n",
    "#         for j in range(conf_matrix.shape[1]):\n",
    "#             ax.text(x=j, y=i,s=conf_matrix[i, j], va='center', ha='center')\n",
    " \n",
    "#     plt.xlabel('Predictions', fontsize=18)\n",
    "#     plt.ylabel('Actuals', fontsize=18)\n",
    "#     plt.title(\"Confusion Matrix for \"+classifier+\"Classifier\", fontsize=18)\n",
    "#     plt.grid(False)\n",
    "#     plt.xticks(range(len(labels)), labels, rotation=90)  # Set x-axis labels\n",
    "#     plt.yticks(range(len(labels)), labels)  # Set y-axis labels\n",
    "#     plt.show()\n",
    "    \n",
    "#     #Accuracy\n",
    "#     print('Accuracy : %.4f' % accuracy_score(Y_test, Y_pred))\n",
    "\n",
    "#     #precision score\n",
    "#     print('Precision : %.4f' % precision_score(Y_test, Y_pred,average='macro'))\n",
    "    \n",
    "#     #Recall Score\n",
    "#     print('Recall : %.4f' % recall_score(Y_test, Y_pred,average='macro'))\n",
    "    \n",
    "#     #F1 score\n",
    "#     print('F1 Score : %.4f' % f1_score(Y_test, Y_pred,average='macro'))\n",
    "    \n",
    "#         # Find the most confusing classes\n",
    "#     misclassification_rates = 1 - np.diag(matrix_precentage)\n",
    "#     most_confusing_classes = [labels[i] for i in np.argsort(misclassification_rates)[::-1]]\n",
    "#     print(\"Most Confusing Classes:\")\n",
    "#     for i, label in enumerate(most_confusing_classes):\n",
    "#         rate_percentage = misclassification_rates[i] * 100\n",
    "#         print(f\"{i + 1}. {label}: {rate_percentage:.2f}% (Misclassification rate)\")\n",
    "    cm = confusion_matrix(Y_test, Y_pred)\n",
    "    report = classification_report(Y_test, Y_pred, target_names=labels)\n",
    "    \n",
    "    print('Classification Report:')\n",
    "    print(report)\n",
    "    \n",
    "    sns.set()\n",
    "    plt.figure(figsize=(8, 8))\n",
    "    sns.heatmap(cm, annot=True,fmt='d', cmap='Blues', annot_kws={\"fontsize\": 18}, xticklabels=labels, yticklabels=labels)\n",
    "    plt.xticks(fontsize=14)\n",
    "    plt.yticks(fontsize=14) \n",
    "    plt.title('Confusion Matrix', size=20)\n",
    "    plt.xlabel('Predicted labels', size=14)\n",
    "    plt.ylabel('True labels', size=14)\n",
    "    plt.show()\n"
   ]
  },
  {
   "cell_type": "code",
   "execution_count": 118,
   "metadata": {
    "execution": {
     "iopub.execute_input": "2024-05-19T02:12:41.562993Z",
     "iopub.status.busy": "2024-05-19T02:12:41.562674Z",
     "iopub.status.idle": "2024-05-19T02:12:41.577125Z",
     "shell.execute_reply": "2024-05-19T02:12:41.576087Z",
     "shell.execute_reply.started": "2024-05-19T02:12:41.562963Z"
    }
   },
   "outputs": [
    {
     "data": {
      "text/plain": [
       "{'Anger': 0, 'Disgust': 1, 'Fear': 2, 'Happy': 3, 'Neutral': 4, 'Sad': 5}"
      ]
     },
     "execution_count": 118,
     "metadata": {},
     "output_type": "execute_result"
    }
   ],
   "source": [
    "label_mapping"
   ]
  },
  {
   "cell_type": "code",
   "execution_count": 119,
   "metadata": {
    "execution": {
     "iopub.execute_input": "2024-05-19T02:12:41.578628Z",
     "iopub.status.busy": "2024-05-19T02:12:41.578305Z",
     "iopub.status.idle": "2024-05-19T02:12:41.981716Z",
     "shell.execute_reply": "2024-05-19T02:12:41.980799Z",
     "shell.execute_reply.started": "2024-05-19T02:12:41.578596Z"
    }
   },
   "outputs": [
    {
     "name": "stdout",
     "output_type": "stream",
     "text": [
      "Classification Report:\n",
      "              precision    recall  f1-score   support\n",
      "\n",
      "       Anger       0.83      0.67      0.74       254\n",
      "     Disgust       0.61      0.50      0.55       254\n",
      "        Fear       0.56      0.56      0.56       254\n",
      "       Happy       0.57      0.68      0.62       255\n",
      "     Neutral       0.67      0.74      0.70       218\n",
      "         Sad       0.62      0.67      0.64       254\n",
      "\n",
      "    accuracy                           0.63      1489\n",
      "   macro avg       0.64      0.64      0.64      1489\n",
      "weighted avg       0.64      0.63      0.63      1489\n",
      "\n"
     ]
    },
    {
     "data": {
      "image/png": "[encoded data removed]",
      "text/plain": [
       "<Figure size 800x800 with 2 Axes>"
      ]
     },
     "metadata": {},
     "output_type": "display_data"
    }
   ],
   "source": [
    "measurements_of_accuracy(true_labels,predicted_labels,\"Confusion matrix\",list(label_mapping.keys()))"
   ]
  }
 ],
 "metadata": {
  "kaggle": {
   "accelerator": "gpu",
   "dataSources": [
    {
     "datasetId": 1118008,
     "sourceId": 1877714,
     "sourceType": "datasetVersion"
    }
   ],
   "dockerImageVersionId": 30476,
   "isGpuEnabled": true,
   "isInternetEnabled": true,
   "language": "python",
   "sourceType": "notebook"
  },
  "kernelspec": {
   "display_name": "Python 3 (ipykernel)",
   "language": "python",
   "name": "python3"
  },
  "language_info": {
   "codemirror_mode": {
    "name": "ipython",
    "version": 3
   },
   "file_extension": ".py",
   "mimetype": "text/x-python",
   "name": "python",
   "nbconvert_exporter": "python",
   "pygments_lexer": "ipython3",
   "version": "3.11.5"
  }
 },
 "nbformat": 4,
 "nbformat_minor": 4
}
