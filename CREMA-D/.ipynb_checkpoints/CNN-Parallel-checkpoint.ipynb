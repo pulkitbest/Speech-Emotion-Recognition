{
 "cells": [
  {
   "cell_type": "code",
   "execution_count": 1,
   "metadata": {
    "_cell_guid": "b1076dfc-b9ad-4769-8c92-a6c4dae69d19",
    "_uuid": "8f2839f25d086af736a60e9eeb907d3b93b6e0e5",
    "execution": {
     "iopub.execute_input": "2024-05-10T05:39:58.697723Z",
     "iopub.status.busy": "2024-05-10T05:39:58.696874Z",
     "iopub.status.idle": "2024-05-10T05:40:03.258961Z",
     "shell.execute_reply": "2024-05-10T05:40:03.257942Z",
     "shell.execute_reply.started": "2024-05-10T05:39:58.697688Z"
    }
   },
   "outputs": [
    {
     "name": "stderr",
     "output_type": "stream",
     "text": [
      "/opt/conda/lib/python3.10/site-packages/scipy/__init__.py:146: UserWarning: A NumPy version >=1.16.5 and <1.23.0 is required for this version of SciPy (detected version 1.23.5\n",
      "  warnings.warn(f\"A NumPy version >={np_minversion} and <{np_maxversion}\"\n"
     ]
    }
   ],
   "source": [
    "import numpy as np\n",
    "import pandas as pd\n",
    "import matplotlib.pyplot as plt\n",
    "import os\n",
    "# import seaborn as sns\n",
    "import librosa\n",
    "import librosa.display\n",
    "import IPython\n",
    "\n",
    "\n",
    "import torch\n",
    "import torch.nn as nn\n",
    "import torch.nn.functional as F\n",
    "import torchvision.transforms.functional as TF\n",
    "from tqdm import tqdm\n",
    "torch.manual_seed(42)\n",
    "\n",
    "import seaborn as sns\n",
    "sns.set()\n"
   ]
  },
  {
   "cell_type": "code",
   "execution_count": 2,
   "metadata": {
    "execution": {
     "iopub.execute_input": "2024-05-10T05:40:59.537813Z",
     "iopub.status.busy": "2024-05-10T05:40:59.536959Z",
     "iopub.status.idle": "2024-05-10T05:40:59.542051Z",
     "shell.execute_reply": "2024-05-10T05:40:59.541161Z",
     "shell.execute_reply.started": "2024-05-10T05:40:59.537779Z"
    }
   },
   "outputs": [],
   "source": [
    "Crema_Path='../input/speech-emotion-recognition-en/Crema/'\n",
    "Ravdess_Path='../input/speech-emotion-recognition-en/Ravdess/audio_speech_actors_01-24/'\n",
    "Savee_Path='../input/speech-emotion-recognition-en/Savee/'\n",
    "Tess_Path='../input/speech-emotion-recognition-en/Tess/'"
   ]
  },
  {
   "cell_type": "markdown",
   "metadata": {},
   "source": [
    "# **CREMA PREPROCESSING**"
   ]
  },
  {
   "cell_type": "code",
   "execution_count": 3,
   "metadata": {
    "execution": {
     "iopub.execute_input": "2024-05-10T05:41:02.004244Z",
     "iopub.status.busy": "2024-05-10T05:41:02.003840Z",
     "iopub.status.idle": "2024-05-10T05:41:02.405464Z",
     "shell.execute_reply": "2024-05-10T05:41:02.404467Z",
     "shell.execute_reply.started": "2024-05-10T05:41:02.004210Z"
    }
   },
   "outputs": [
    {
     "data": {
      "text/html": [
       "<div>\n",
       "<style scoped>\n",
       "    .dataframe tbody tr th:only-of-type {\n",
       "        vertical-align: middle;\n",
       "    }\n",
       "\n",
       "    .dataframe tbody tr th {\n",
       "        vertical-align: top;\n",
       "    }\n",
       "\n",
       "    .dataframe thead th {\n",
       "        text-align: right;\n",
       "    }\n",
       "</style>\n",
       "<table border=\"1\" class=\"dataframe\">\n",
       "  <thead>\n",
       "    <tr style=\"text-align: right;\">\n",
       "      <th></th>\n",
       "      <th>Emotion</th>\n",
       "      <th>File_Path</th>\n",
       "    </tr>\n",
       "  </thead>\n",
       "  <tbody>\n",
       "    <tr>\n",
       "      <th>0</th>\n",
       "      <td>Anger</td>\n",
       "      <td>../input/speech-emotion-recognition-en/Crema//...</td>\n",
       "    </tr>\n",
       "    <tr>\n",
       "      <th>1</th>\n",
       "      <td>Disgust</td>\n",
       "      <td>../input/speech-emotion-recognition-en/Crema//...</td>\n",
       "    </tr>\n",
       "    <tr>\n",
       "      <th>2</th>\n",
       "      <td>Fear</td>\n",
       "      <td>../input/speech-emotion-recognition-en/Crema//...</td>\n",
       "    </tr>\n",
       "    <tr>\n",
       "      <th>3</th>\n",
       "      <td>Happy</td>\n",
       "      <td>../input/speech-emotion-recognition-en/Crema//...</td>\n",
       "    </tr>\n",
       "    <tr>\n",
       "      <th>4</th>\n",
       "      <td>Neutral</td>\n",
       "      <td>../input/speech-emotion-recognition-en/Crema//...</td>\n",
       "    </tr>\n",
       "  </tbody>\n",
       "</table>\n",
       "</div>"
      ],
      "text/plain": [
       "   Emotion                                          File_Path\n",
       "0    Anger  ../input/speech-emotion-recognition-en/Crema//...\n",
       "1  Disgust  ../input/speech-emotion-recognition-en/Crema//...\n",
       "2     Fear  ../input/speech-emotion-recognition-en/Crema//...\n",
       "3    Happy  ../input/speech-emotion-recognition-en/Crema//...\n",
       "4  Neutral  ../input/speech-emotion-recognition-en/Crema//..."
      ]
     },
     "execution_count": 3,
     "metadata": {},
     "output_type": "execute_result"
    }
   ],
   "source": [
    "crema = []\n",
    "for wav in sorted(os.listdir(Crema_Path)):\n",
    "    emotion = wav.partition(\".wav\")[0].split('_')\n",
    "    if emotion[2] == 'SAD':\n",
    "        crema.append(('Sad', Crema_Path+'/'+wav))\n",
    "    elif emotion[2] == 'ANG':\n",
    "        crema.append(('Anger', Crema_Path+'/'+wav))\n",
    "    elif emotion[2] == 'DIS':\n",
    "        crema.append(('Disgust', Crema_Path+'/'+wav))\n",
    "    elif emotion[2] == 'FEA':\n",
    "        crema.append(('Fear', Crema_Path+'/'+wav))\n",
    "    elif emotion[2] == 'HAP':\n",
    "        crema.append(('Happy', Crema_Path+'/'+wav))\n",
    "    elif emotion[2] == 'NEU':\n",
    "        crema.append(('Neutral', Crema_Path+'/'+wav))\n",
    "    else:\n",
    "        crema.append(('unknown', Crema_Path+'/'+wav))\n",
    "\n",
    "df = pd.DataFrame.from_records(crema, columns=['Emotion', 'File_Path'])\n",
    "df.head()\n"
   ]
  },
  {
   "cell_type": "markdown",
   "metadata": {},
   "source": [
    "# **RAVDESS PREPROCESSING**"
   ]
  },
  {
   "cell_type": "code",
   "execution_count": 3,
   "metadata": {
    "execution": {
     "iopub.execute_input": "2024-04-26T06:07:49.365658Z",
     "iopub.status.busy": "2024-04-26T06:07:49.365272Z",
     "iopub.status.idle": "2024-04-26T06:07:50.524062Z",
     "shell.execute_reply": "2024-04-26T06:07:50.522976Z",
     "shell.execute_reply.started": "2024-04-26T06:07:49.365629Z"
    }
   },
   "outputs": [
    {
     "name": "stdout",
     "output_type": "stream",
     "text": [
      "    Emotion                                          File_Path\n",
      "0  Surprise  ../input/speech-emotion-recognition-en/Ravdess...\n",
      "1   Neutral  ../input/speech-emotion-recognition-en/Ravdess...\n",
      "2   Disgust  ../input/speech-emotion-recognition-en/Ravdess...\n",
      "3   Disgust  ../input/speech-emotion-recognition-en/Ravdess...\n",
      "4   Neutral  ../input/speech-emotion-recognition-en/Ravdess...\n"
     ]
    }
   ],
   "source": [
    "ravdess_directory_list = os.listdir(Ravdess_Path)\n",
    "\n",
    "file_emotion = []\n",
    "file_path = []\n",
    "for i in ravdess_directory_list:\n",
    "    # as their are 24 different actors in our previous directory we need to extract files for each actor.\n",
    "    actor = os.listdir(Ravdess_Path + i)\n",
    "    for f in actor:\n",
    "        part = f.split('.')[0].split('-')\n",
    "        if int(part[2]) != 2:\n",
    "            file_emotion.append(int(part[2]))\n",
    "            file_path.append(Ravdess_Path + i + '/' + f)\n",
    "        \n",
    "emotion_df = pd.DataFrame(file_emotion, columns=['Emotion'])\n",
    "path_df = pd.DataFrame(file_path, columns=['File_Path'])\n",
    "df = pd.concat([emotion_df, path_df], axis=1)\n",
    "df.Emotion.replace({1:'Neutral', 3:'Happy', 4:'Sad', 5:'Anger', 6:'Fear', 7:'Disgust', 8:'Surprise'},\n",
    "                            inplace=True)\n",
    "print(df.head())"
   ]
  },
  {
   "cell_type": "markdown",
   "metadata": {},
   "source": [
    "# **SAVEE PREPROCESSING**"
   ]
  },
  {
   "cell_type": "code",
   "execution_count": null,
   "metadata": {},
   "outputs": [],
   "source": [
    "savee_directory_list = os.listdir(Savee_Path)\n",
    "\n",
    "file_emotion = []\n",
    "file_path = []\n",
    "\n",
    "for file in savee_directory_list:\n",
    "    file_path.append(Savee + file)\n",
    "    part = file.split('_')[1]\n",
    "    ele = part[:-6]\n",
    "    if ele=='a':\n",
    "        file_emotion.append('Anger')\n",
    "    elif ele=='d':\n",
    "        file_emotion.append('Disgust')\n",
    "    elif ele=='f':\n",
    "        file_emotion.append('Fear')\n",
    "    elif ele=='h':\n",
    "        file_emotion.append('Happy')\n",
    "    elif ele=='n':\n",
    "        file_emotion.append('Neutral')\n",
    "    elif ele=='sa':\n",
    "        file_emotion.append('Sad')\n",
    "    else:\n",
    "        file_emotion.append('Surprise')\n",
    "        \n",
    "# dataframe for emotion of files\n",
    "emotion_df = pd.DataFrame(file_emotion, columns=['Emotion'])\n",
    "\n",
    "# dataframe for path of files.\n",
    "path_df = pd.DataFrame(file_path, columns=['File_Path'])\n",
    "df = pd.concat([emotion_df, path_df], axis=1)\n",
    "df.head()"
   ]
  },
  {
   "cell_type": "markdown",
   "metadata": {},
   "source": [
    "# **TESS PREPROCESSING**"
   ]
  },
  {
   "cell_type": "code",
   "execution_count": 7,
   "metadata": {
    "execution": {
     "iopub.execute_input": "2024-05-05T07:28:21.550068Z",
     "iopub.status.busy": "2024-05-05T07:28:21.549110Z",
     "iopub.status.idle": "2024-05-05T07:28:23.003595Z",
     "shell.execute_reply": "2024-05-05T07:28:23.002577Z",
     "shell.execute_reply.started": "2024-05-05T07:28:21.550028Z"
    }
   },
   "outputs": [
    {
     "data": {
      "text/html": [
       "<div>\n",
       "<style scoped>\n",
       "    .dataframe tbody tr th:only-of-type {\n",
       "        vertical-align: middle;\n",
       "    }\n",
       "\n",
       "    .dataframe tbody tr th {\n",
       "        vertical-align: top;\n",
       "    }\n",
       "\n",
       "    .dataframe thead th {\n",
       "        text-align: right;\n",
       "    }\n",
       "</style>\n",
       "<table border=\"1\" class=\"dataframe\">\n",
       "  <thead>\n",
       "    <tr style=\"text-align: right;\">\n",
       "      <th></th>\n",
       "      <th>Emotion</th>\n",
       "      <th>File_Path</th>\n",
       "    </tr>\n",
       "  </thead>\n",
       "  <tbody>\n",
       "    <tr>\n",
       "      <th>0</th>\n",
       "      <td>Fear</td>\n",
       "      <td>../input/speech-emotion-recognition-en/Tess/YA...</td>\n",
       "    </tr>\n",
       "    <tr>\n",
       "      <th>1</th>\n",
       "      <td>Fear</td>\n",
       "      <td>../input/speech-emotion-recognition-en/Tess/YA...</td>\n",
       "    </tr>\n",
       "    <tr>\n",
       "      <th>2</th>\n",
       "      <td>Fear</td>\n",
       "      <td>../input/speech-emotion-recognition-en/Tess/YA...</td>\n",
       "    </tr>\n",
       "    <tr>\n",
       "      <th>3</th>\n",
       "      <td>Fear</td>\n",
       "      <td>../input/speech-emotion-recognition-en/Tess/YA...</td>\n",
       "    </tr>\n",
       "    <tr>\n",
       "      <th>4</th>\n",
       "      <td>Fear</td>\n",
       "      <td>../input/speech-emotion-recognition-en/Tess/YA...</td>\n",
       "    </tr>\n",
       "  </tbody>\n",
       "</table>\n",
       "</div>"
      ],
      "text/plain": [
       "  Emotion                                          File_Path\n",
       "0    Fear  ../input/speech-emotion-recognition-en/Tess/YA...\n",
       "1    Fear  ../input/speech-emotion-recognition-en/Tess/YA...\n",
       "2    Fear  ../input/speech-emotion-recognition-en/Tess/YA...\n",
       "3    Fear  ../input/speech-emotion-recognition-en/Tess/YA...\n",
       "4    Fear  ../input/speech-emotion-recognition-en/Tess/YA..."
      ]
     },
     "execution_count": 7,
     "metadata": {},
     "output_type": "execute_result"
    }
   ],
   "source": [
    "tess_directory_list = os.listdir(Tess_Path)\n",
    "\n",
    "file_emotion = []\n",
    "file_path = []\n",
    "\n",
    "for dir in tess_directory_list:\n",
    "    directories = os.listdir(Tess_Path + dir)\n",
    "    for file in directories:\n",
    "        part = file.split('.')[0]\n",
    "        part = part.split('_')[2]\n",
    "        if part == 'ps':\n",
    "            file_emotion.append('Surprise')\n",
    "        elif part == 'fear':\n",
    "            file_emotion.append('Fear')\n",
    "        elif part == 'sad':\n",
    "            file_emotion.append('Sad')\n",
    "        elif part == 'angry':\n",
    "            file_emotion.append('Anger')\n",
    "        elif part == 'disgust':\n",
    "            file_emotion.append('Disgust')\n",
    "        elif part == 'happy':\n",
    "            file_emotion.append('Happy')\n",
    "        elif part == 'neutral':\n",
    "            file_emotion.append('Neutral')\n",
    "        file_path.append(Tess_Path + dir + '/' + file)\n",
    "        \n",
    "# dataframe for emotion of files\n",
    "emotion_df = pd.DataFrame(file_emotion, columns=['Emotion'])\n",
    "\n",
    "# dataframe for path of files.\n",
    "path_df = pd.DataFrame(file_path, columns=['File_Path'])\n",
    "df = pd.concat([emotion_df, path_df], axis=1)\n",
    "df.head()"
   ]
  },
  {
   "cell_type": "code",
   "execution_count": 4,
   "metadata": {
    "execution": {
     "iopub.execute_input": "2024-05-10T05:41:06.719158Z",
     "iopub.status.busy": "2024-05-10T05:41:06.718404Z",
     "iopub.status.idle": "2024-05-10T05:41:06.786914Z",
     "shell.execute_reply": "2024-05-10T05:41:06.785947Z",
     "shell.execute_reply.started": "2024-05-10T05:41:06.719115Z"
    }
   },
   "outputs": [],
   "source": [
    "from sklearn.preprocessing import LabelEncoder\n",
    "# Create a LabelEncoder \n",
    "encoder = LabelEncoder()\n",
    "# Fit the encoder on the column and transform the values\n",
    "df['Emotion_encoded'] = encoder.fit_transform(df['Emotion'])\n",
    "\n",
    "# Get the mapping between original labels and encoded values\n",
    "label_mapping = dict(zip(encoder.classes_, encoder.transform(encoder.classes_)))\n"
   ]
  },
  {
   "cell_type": "code",
   "execution_count": 5,
   "metadata": {
    "execution": {
     "iopub.execute_input": "2024-05-10T05:41:07.895156Z",
     "iopub.status.busy": "2024-05-10T05:41:07.894123Z",
     "iopub.status.idle": "2024-05-10T05:41:07.902672Z",
     "shell.execute_reply": "2024-05-10T05:41:07.901557Z",
     "shell.execute_reply.started": "2024-05-10T05:41:07.895092Z"
    }
   },
   "outputs": [
    {
     "data": {
      "text/plain": [
       "{'Anger': 0, 'Disgust': 1, 'Fear': 2, 'Happy': 3, 'Neutral': 4, 'Sad': 5}"
      ]
     },
     "execution_count": 5,
     "metadata": {},
     "output_type": "execute_result"
    }
   ],
   "source": [
    "label_mapping"
   ]
  },
  {
   "cell_type": "code",
   "execution_count": 6,
   "metadata": {
    "execution": {
     "iopub.execute_input": "2024-05-10T05:41:08.730821Z",
     "iopub.status.busy": "2024-05-10T05:41:08.730461Z",
     "iopub.status.idle": "2024-05-10T05:41:08.741112Z",
     "shell.execute_reply": "2024-05-10T05:41:08.740152Z",
     "shell.execute_reply.started": "2024-05-10T05:41:08.730791Z"
    }
   },
   "outputs": [
    {
     "data": {
      "text/plain": [
       "array(['Anger', 'Disgust', 'Fear', 'Happy', 'Neutral', 'Sad'],\n",
       "      dtype=object)"
      ]
     },
     "execution_count": 6,
     "metadata": {},
     "output_type": "execute_result"
    }
   ],
   "source": [
    "df['Emotion'].unique()"
   ]
  },
  {
   "cell_type": "code",
   "execution_count": 7,
   "metadata": {
    "execution": {
     "iopub.execute_input": "2024-05-10T05:41:09.538153Z",
     "iopub.status.busy": "2024-05-10T05:41:09.537136Z",
     "iopub.status.idle": "2024-05-10T05:41:09.542876Z",
     "shell.execute_reply": "2024-05-10T05:41:09.541870Z",
     "shell.execute_reply.started": "2024-05-10T05:41:09.538114Z"
    }
   },
   "outputs": [],
   "source": [
    "emotion_names=df['Emotion'].unique()"
   ]
  },
  {
   "cell_type": "code",
   "execution_count": 8,
   "metadata": {
    "execution": {
     "iopub.execute_input": "2024-05-10T05:41:12.446524Z",
     "iopub.status.busy": "2024-05-10T05:41:12.446115Z",
     "iopub.status.idle": "2024-05-10T05:41:24.462443Z",
     "shell.execute_reply": "2024-05-10T05:41:24.461066Z",
     "shell.execute_reply.started": "2024-05-10T05:41:12.446494Z"
    }
   },
   "outputs": [
    {
     "name": "stdout",
     "output_type": "stream",
     "text": [
      "Requirement already satisfied: torchaudio in /opt/conda/lib/python3.10/site-packages (2.0.1)\n",
      "Requirement already satisfied: torch in /opt/conda/lib/python3.10/site-packages (from torchaudio) (2.0.0)\n",
      "Requirement already satisfied: filelock in /opt/conda/lib/python3.10/site-packages (from torch->torchaudio) (3.11.0)\n",
      "Requirement already satisfied: networkx in /opt/conda/lib/python3.10/site-packages (from torch->torchaudio) (3.1)\n",
      "Requirement already satisfied: sympy in /opt/conda/lib/python3.10/site-packages (from torch->torchaudio) (1.11.1)\n",
      "Requirement already satisfied: typing-extensions in /opt/conda/lib/python3.10/site-packages (from torch->torchaudio) (4.5.0)\n",
      "Requirement already satisfied: jinja2 in /opt/conda/lib/python3.10/site-packages (from torch->torchaudio) (3.1.2)\n",
      "Requirement already satisfied: MarkupSafe>=2.0 in /opt/conda/lib/python3.10/site-packages (from jinja2->torch->torchaudio) (2.1.2)\n",
      "Requirement already satisfied: mpmath>=0.19 in /opt/conda/lib/python3.10/site-packages (from sympy->torch->torchaudio) (1.3.0)\n",
      "\u001b[33mWARNING: Running pip as the 'root' user can result in broken permissions and conflicting behaviour with the system package manager. It is recommended to use a virtual environment instead: https://pip.pypa.io/warnings/venv\u001b[0m\u001b[33m\n",
      "\u001b[0m"
     ]
    }
   ],
   "source": [
    "!pip install torchaudio"
   ]
  },
  {
   "cell_type": "code",
   "execution_count": 9,
   "metadata": {
    "execution": {
     "iopub.execute_input": "2024-05-10T05:41:24.465493Z",
     "iopub.status.busy": "2024-05-10T05:41:24.465062Z",
     "iopub.status.idle": "2024-05-10T05:42:58.617335Z",
     "shell.execute_reply": "2024-05-10T05:42:58.616357Z",
     "shell.execute_reply.started": "2024-05-10T05:41:24.465452Z"
    }
   },
   "outputs": [
    {
     "name": "stderr",
     "output_type": "stream",
     "text": [
      "0it [00:00, ?it/s]/tmp/ipykernel_35/2468677012.py:11: UserWarning: To copy construct from a tensor, it is recommended to use sourceTensor.clone().detach() or sourceTensor.clone().detach().requires_grad_(True), rather than torch.tensor(sourceTensor).\n",
      "  waveform = torch.tensor(waveform).to(device)\n",
      "7442it [01:33, 79.26it/s]\n"
     ]
    }
   ],
   "source": [
    "import torchaudio\n",
    "import torchaudio.transforms as transforms\n",
    "\n",
    "S_dB_Total = []\n",
    "\n",
    "device = torch.device(\"cuda\" if torch.cuda.is_available() else \"cpu\")\n",
    "for idx, path in tqdm(enumerate(df.File_Path)):\n",
    "    waveform, sample_rate = torchaudio.load(path)\n",
    "    \n",
    "    # Convert to tensor\n",
    "    waveform = torch.tensor(waveform).to(device)\n",
    "\n",
    "    # Convert to mel spectrogram\n",
    "    mel_transform = transforms.MelSpectrogram(\n",
    "        sample_rate=sample_rate,\n",
    "        n_fft=2048,\n",
    "        hop_length=512,\n",
    "        n_mels=128\n",
    "    ).to(device)\n",
    "    \n",
    "    S = mel_transform(waveform)\n",
    "\n",
    "    # Convert to dB\n",
    "    power_to_db = transforms.AmplitudeToDB()\n",
    "    S_dB = power_to_db(S)\n",
    "\n",
    "    S_dB_Total.append(S_dB.squeeze())"
   ]
  },
  {
   "cell_type": "code",
   "execution_count": 10,
   "metadata": {
    "execution": {
     "iopub.execute_input": "2024-05-10T05:42:58.619226Z",
     "iopub.status.busy": "2024-05-10T05:42:58.618787Z",
     "iopub.status.idle": "2024-05-10T05:42:58.630595Z",
     "shell.execute_reply": "2024-05-10T05:42:58.629514Z",
     "shell.execute_reply.started": "2024-05-10T05:42:58.619186Z"
    }
   },
   "outputs": [],
   "source": [
    "sizes=[]\n",
    "for x in S_dB_Total:\n",
    "    sizes.append(x.shape[1])"
   ]
  },
  {
   "cell_type": "code",
   "execution_count": 11,
   "metadata": {
    "execution": {
     "iopub.execute_input": "2024-05-10T05:42:58.633863Z",
     "iopub.status.busy": "2024-05-10T05:42:58.633548Z",
     "iopub.status.idle": "2024-05-10T05:42:59.131643Z",
     "shell.execute_reply": "2024-05-10T05:42:59.130760Z",
     "shell.execute_reply.started": "2024-05-10T05:42:58.633838Z"
    }
   },
   "outputs": [
    {
     "data": {
      "image/png": "[encoded data removed]",
      "text/plain": [
       "<Figure size 640x480 with 1 Axes>"
      ]
     },
     "metadata": {},
     "output_type": "display_data"
    },
    {
     "name": "stdout",
     "output_type": "stream",
     "text": [
      "min is 40\n",
      "max is 157\n"
     ]
    }
   ],
   "source": [
    "# Calculate the bin counts\n",
    "bincount_array = np.histogram(sizes, bins=np.arange(min(sizes), max(sizes)+2))[0]\n",
    "\n",
    "# Create a list of labels for the x-axis\n",
    "x_labels = np.arange(min(sizes), max(sizes)+1)\n",
    "\n",
    "# Plot the bin counts as a bar plot\n",
    "plt.bar(x_labels, bincount_array)\n",
    "\n",
    "# Set labels and title\n",
    "plt.xlabel('Numbers')\n",
    "plt.ylabel('Count')\n",
    "plt.show()\n",
    "\n",
    "print(f'min is {min(sizes)}')\n",
    "print(f'max is {max(sizes)}')\n"
   ]
  },
  {
   "cell_type": "code",
   "execution_count": 12,
   "metadata": {
    "execution": {
     "iopub.execute_input": "2024-05-10T05:42:59.133167Z",
     "iopub.status.busy": "2024-05-10T05:42:59.132858Z",
     "iopub.status.idle": "2024-05-10T05:43:01.204470Z",
     "shell.execute_reply": "2024-05-10T05:43:01.203684Z",
     "shell.execute_reply.started": "2024-05-10T05:42:59.133143Z"
    }
   },
   "outputs": [],
   "source": [
    "padding_length = 160\n",
    "padded_list = []\n",
    "for array in S_dB_Total:\n",
    "    current_shape = array.cpu().shape\n",
    "    padding = [(0, 0), (0, padding_length - current_shape[1])]\n",
    "    padded_array = np.pad(array.cpu(), padding, mode='constant', constant_values=0)\n",
    "    padded_list.append(padded_array)\n",
    "\n",
    "# Convert the padded list to a NumPy array\n",
    "data_2D = np.array(padded_list)\n",
    "    "
   ]
  },
  {
   "cell_type": "code",
   "execution_count": 13,
   "metadata": {
    "execution": {
     "iopub.execute_input": "2024-05-10T05:43:01.205909Z",
     "iopub.status.busy": "2024-05-10T05:43:01.205592Z",
     "iopub.status.idle": "2024-05-10T05:43:01.212002Z",
     "shell.execute_reply": "2024-05-10T05:43:01.211063Z",
     "shell.execute_reply.started": "2024-05-10T05:43:01.205871Z"
    }
   },
   "outputs": [
    {
     "data": {
      "text/plain": [
       "(7442, 128, 160)"
      ]
     },
     "execution_count": 13,
     "metadata": {},
     "output_type": "execute_result"
    }
   ],
   "source": [
    "data_2D.shape"
   ]
  },
  {
   "cell_type": "code",
   "execution_count": 14,
   "metadata": {
    "execution": {
     "iopub.execute_input": "2024-05-10T05:43:01.213333Z",
     "iopub.status.busy": "2024-05-10T05:43:01.213026Z",
     "iopub.status.idle": "2024-05-10T05:43:01.778781Z",
     "shell.execute_reply": "2024-05-10T05:43:01.777941Z",
     "shell.execute_reply.started": "2024-05-10T05:43:01.213303Z"
    }
   },
   "outputs": [],
   "source": [
    "#normalization\n",
    "from sklearn.preprocessing import MinMaxScaler\n",
    "\n",
    "# Reshape the array to 2D\n",
    "reshaped_data = data_2D.reshape((-1, 1))\n",
    "\n",
    "# Initialize the MinMaxScaler\n",
    "scaler = MinMaxScaler()\n",
    "\n",
    "# Fit and transform the data\n",
    "normalized_data = scaler.fit_transform(reshaped_data)\n",
    "\n",
    "# Reshape the normalized data back to the original shape\n",
    "normalized_data = normalized_data.reshape(data_2D.shape)\n"
   ]
  },
  {
   "cell_type": "code",
   "execution_count": 15,
   "metadata": {
    "execution": {
     "iopub.execute_input": "2024-05-10T05:43:01.780158Z",
     "iopub.status.busy": "2024-05-10T05:43:01.779865Z",
     "iopub.status.idle": "2024-05-10T05:43:01.787626Z",
     "shell.execute_reply": "2024-05-10T05:43:01.786559Z",
     "shell.execute_reply.started": "2024-05-10T05:43:01.780134Z"
    }
   },
   "outputs": [
    {
     "data": {
      "text/plain": [
       "array([[0.56973195, 0.5444743 , 0.51813316, ..., 0.64415836, 0.64415836,\n",
       "        0.64415836],\n",
       "       [0.5450095 , 0.5570548 , 0.541499  , ..., 0.64415836, 0.64415836,\n",
       "        0.64415836],\n",
       "       [0.512481  , 0.55639714, 0.592978  , ..., 0.64415836, 0.64415836,\n",
       "        0.64415836],\n",
       "       ...,\n",
       "       [0.4755556 , 0.472118  , 0.4689895 , ..., 0.64415836, 0.64415836,\n",
       "        0.64415836],\n",
       "       [0.4661117 , 0.45966327, 0.44934118, ..., 0.64415836, 0.64415836,\n",
       "        0.64415836],\n",
       "       [0.448575  , 0.45664725, 0.44868642, ..., 0.64415836, 0.64415836,\n",
       "        0.64415836]], dtype=float32)"
      ]
     },
     "execution_count": 15,
     "metadata": {},
     "output_type": "execute_result"
    }
   ],
   "source": [
    "normalized_data[1]"
   ]
  },
  {
   "cell_type": "code",
   "execution_count": 16,
   "metadata": {
    "execution": {
     "iopub.execute_input": "2024-05-10T05:43:01.789142Z",
     "iopub.status.busy": "2024-05-10T05:43:01.788827Z",
     "iopub.status.idle": "2024-05-10T05:43:01.796825Z",
     "shell.execute_reply": "2024-05-10T05:43:01.795975Z",
     "shell.execute_reply.started": "2024-05-10T05:43:01.789118Z"
    }
   },
   "outputs": [],
   "source": [
    "data=np.expand_dims(normalized_data, axis=1)"
   ]
  },
  {
   "cell_type": "code",
   "execution_count": 17,
   "metadata": {
    "execution": {
     "iopub.execute_input": "2024-05-10T05:43:01.800028Z",
     "iopub.status.busy": "2024-05-10T05:43:01.799663Z",
     "iopub.status.idle": "2024-05-10T05:43:01.806451Z",
     "shell.execute_reply": "2024-05-10T05:43:01.805549Z",
     "shell.execute_reply.started": "2024-05-10T05:43:01.800003Z"
    }
   },
   "outputs": [],
   "source": [
    "labels=df.Emotion_encoded.to_numpy()"
   ]
  },
  {
   "cell_type": "code",
   "execution_count": 18,
   "metadata": {
    "execution": {
     "iopub.execute_input": "2024-05-10T05:43:01.807717Z",
     "iopub.status.busy": "2024-05-10T05:43:01.807449Z",
     "iopub.status.idle": "2024-05-10T05:43:01.820393Z",
     "shell.execute_reply": "2024-05-10T05:43:01.819355Z",
     "shell.execute_reply.started": "2024-05-10T05:43:01.807691Z"
    }
   },
   "outputs": [
    {
     "data": {
      "text/plain": [
       "(7442,)"
      ]
     },
     "execution_count": 18,
     "metadata": {},
     "output_type": "execute_result"
    }
   ],
   "source": [
    "labels.shape"
   ]
  },
  {
   "cell_type": "code",
   "execution_count": 19,
   "metadata": {
    "execution": {
     "iopub.execute_input": "2024-05-10T05:43:01.821793Z",
     "iopub.status.busy": "2024-05-10T05:43:01.821379Z",
     "iopub.status.idle": "2024-05-10T05:43:01.829772Z",
     "shell.execute_reply": "2024-05-10T05:43:01.828936Z",
     "shell.execute_reply.started": "2024-05-10T05:43:01.821770Z"
    }
   },
   "outputs": [
    {
     "data": {
      "text/plain": [
       "(7442, 1, 128, 160)"
      ]
     },
     "execution_count": 19,
     "metadata": {},
     "output_type": "execute_result"
    }
   ],
   "source": [
    "data.shape"
   ]
  },
  {
   "cell_type": "code",
   "execution_count": 20,
   "metadata": {
    "execution": {
     "iopub.execute_input": "2024-05-10T05:43:01.831264Z",
     "iopub.status.busy": "2024-05-10T05:43:01.830942Z",
     "iopub.status.idle": "2024-05-10T05:43:02.263914Z",
     "shell.execute_reply": "2024-05-10T05:43:02.262945Z",
     "shell.execute_reply.started": "2024-05-10T05:43:01.831234Z"
    }
   },
   "outputs": [
    {
     "name": "stdout",
     "output_type": "stream",
     "text": [
      "Train set size: 5357\n",
      "Validation set size: 596\n",
      "Test set size: 1489\n"
     ]
    }
   ],
   "source": [
    "#train test split\n",
    "from sklearn.model_selection import train_test_split\n",
    "# Perform the train-test split (70% train & validation, 30% test )\n",
    "X_trainAndVal, X_test, y_trainAndVal, y_test = train_test_split(data, labels, test_size=0.2, stratify=labels, random_state=42)\n",
    "\n",
    "# Perform the train-validation split (5% test, 95% train)\n",
    "X_train, X_val, y_train, y_val = train_test_split(X_trainAndVal, y_trainAndVal, test_size=0.1, stratify=y_trainAndVal, random_state=42)\n",
    "\n",
    "# Print the sizes of each split\n",
    "print(\"Train set size:\", len(X_train))\n",
    "print(\"Validation set size:\", len(X_val))\n",
    "print(\"Test set size:\", len(X_test))\n",
    "\n"
   ]
  },
  {
   "cell_type": "code",
   "execution_count": 21,
   "metadata": {
    "execution": {
     "iopub.execute_input": "2024-05-10T05:43:02.265342Z",
     "iopub.status.busy": "2024-05-10T05:43:02.265062Z",
     "iopub.status.idle": "2024-05-10T05:43:02.272603Z",
     "shell.execute_reply": "2024-05-10T05:43:02.271543Z",
     "shell.execute_reply.started": "2024-05-10T05:43:02.265317Z"
    }
   },
   "outputs": [
    {
     "data": {
      "text/plain": [
       "(5357, 1, 128, 160)"
      ]
     },
     "execution_count": 21,
     "metadata": {},
     "output_type": "execute_result"
    }
   ],
   "source": [
    "X_train.shape"
   ]
  },
  {
   "cell_type": "code",
   "execution_count": 22,
   "metadata": {
    "execution": {
     "iopub.execute_input": "2024-05-10T05:43:02.274290Z",
     "iopub.status.busy": "2024-05-10T05:43:02.274003Z",
     "iopub.status.idle": "2024-05-10T05:43:02.282387Z",
     "shell.execute_reply": "2024-05-10T05:43:02.281453Z",
     "shell.execute_reply.started": "2024-05-10T05:43:02.274264Z"
    }
   },
   "outputs": [],
   "source": [
    "from torch.utils.data import Dataset, DataLoader\n",
    "\n",
    "class AudioDataset(Dataset):\n",
    "    def __init__(self,audio,label):\n",
    "        self.audios=audio\n",
    "        self.labels=label\n",
    "\n",
    "    def __len__(self):\n",
    "        return len(self.audios)\n",
    "\n",
    "    def get_batch_imgs(self, idx):\n",
    "        # Fetch a batch of inputs\n",
    "        return self.audios[idx]\n",
    "    \n",
    "    def get_batch_labels(self, idx):\n",
    "    # Fetch a batch of inputs\n",
    "        return self.labels[idx]\n",
    "\n",
    "    \n",
    "    def __getitem__(self, index):\n",
    "        audios=self.get_batch_imgs(index)\n",
    "        labels=self.get_batch_labels(index)\n",
    "        return audios,labels\n"
   ]
  },
  {
   "cell_type": "code",
   "execution_count": 23,
   "metadata": {
    "execution": {
     "iopub.execute_input": "2024-05-10T05:43:02.283775Z",
     "iopub.status.busy": "2024-05-10T05:43:02.283494Z",
     "iopub.status.idle": "2024-05-10T05:43:02.293225Z",
     "shell.execute_reply": "2024-05-10T05:43:02.292350Z",
     "shell.execute_reply.started": "2024-05-10T05:43:02.283750Z"
    }
   },
   "outputs": [],
   "source": [
    "train_dataset = AudioDataset(X_train,y_train)\n",
    "val_dataset = AudioDataset(X_val, y_val)\n",
    "test_dataset = AudioDataset(X_test, y_test)\n",
    "\n",
    "# Create a DataLoader from the dataset\n",
    "\n",
    "train_dataloader = DataLoader(train_dataset, batch_size=8, shuffle=True)\n",
    "val_dataloader=DataLoader(val_dataset, batch_size=8, shuffle=True)\n",
    "test_dataloader=DataLoader(test_dataset, batch_size=8, shuffle=False)\n"
   ]
  },
  {
   "cell_type": "markdown",
   "metadata": {},
   "source": [
    "# Architecture"
   ]
  },
  {
   "cell_type": "code",
   "execution_count": 24,
   "metadata": {
    "execution": {
     "iopub.execute_input": "2024-05-10T05:43:02.294909Z",
     "iopub.status.busy": "2024-05-10T05:43:02.294589Z",
     "iopub.status.idle": "2024-05-10T05:43:02.314968Z",
     "shell.execute_reply": "2024-05-10T05:43:02.313973Z",
     "shell.execute_reply.started": "2024-05-10T05:43:02.294867Z"
    }
   },
   "outputs": [],
   "source": [
    "#change nn.sequential to take dict to make more readable \n",
    "\n",
    "class ParaNet(nn.Module):\n",
    "    # Define all layers present in the network\n",
    "    def __init__(self,num_emotions):\n",
    "        super().__init__() \n",
    "        self.dropout=nn.Dropout(p=0.3)\n",
    "        self.relu=nn.ReLU()\n",
    "        ############### 1ST PARALLEL 2D CONVOLUTION BLOCK ############\n",
    "        # 3 sequential conv2D layers: (1,128,160) --> (16,128,80) -> (32,32,20) -> (64,8,5)\n",
    "        self.conv2Dblock1 = nn.Sequential(\n",
    "            \n",
    "            # 1st 2D convolution layer\n",
    "            nn.Conv2d(\n",
    "                in_channels=1, # input volume depth == input channel dim == 1\n",
    "                out_channels=16, # expand output feature map volume's depth to 16\n",
    "                kernel_size=3, # typical 3*3 stride 1 kernel\n",
    "                stride=1,\n",
    "                padding=1\n",
    "                      ),  #(1,128,160) - > (16,128,160)\n",
    "            nn.BatchNorm2d(16), # batch normalize the output feature map before activation\n",
    "            nn.ReLU(), # feature map --> activation map\n",
    "            nn.MaxPool2d(kernel_size=2, stride=2), #typical maxpool kernel size  #(16,128,160) - > (16,64,80)\n",
    "            nn.Dropout(p=0.4), #randomly zero 40% of 1st layer's output feature map in training\n",
    "            \n",
    "            # 2nd 2D convolution layer identical to last except output dim, maxpool kernel\n",
    "            nn.Conv2d(\n",
    "                in_channels=16, \n",
    "                out_channels=32, # expand output feature map volume's depth to 32\n",
    "                kernel_size=3,\n",
    "                stride=1,\n",
    "                padding=1\n",
    "                      ),#(16,64,80) - > (32,64,80)\n",
    "            nn.BatchNorm2d(32),\n",
    "            nn.ReLU(),\n",
    "            nn.MaxPool2d(kernel_size=4, stride=4), # increase maxpool kernel for subsequent filters #(32,64,80) - > (32,16,20)\n",
    "            nn.Dropout(p=0.4), \n",
    "            \n",
    "            # 3rd 2D convolution layer identical to last except output dim\n",
    "            nn.Conv2d(\n",
    "                in_channels=32,\n",
    "                out_channels=64, # expand output feature map volume's depth to 64\n",
    "                kernel_size=3,\n",
    "                stride=1,\n",
    "                padding=1\n",
    "                      ),#(32,16,20) - > (64,16,20)\n",
    "            nn.BatchNorm2d(64),\n",
    "            nn.ReLU(),\n",
    "            nn.MaxPool2d(kernel_size=4, stride=4),#(64,16,20) - > (64,4,5)\n",
    "            nn.Dropout(p=0.4),\n",
    "        )\n",
    "        ############### 2ND PARALLEL 2D CONVOLUTION BLOCK ############\n",
    "        # 3 sequential conv2D layers: (1,265,160) --> (32,128,80) -> (64,32,20) -> (128,8,5)\n",
    "        self.conv2Dblock2 = nn.Sequential(\n",
    "            # 1st 2D convolution layer\n",
    "            nn.Conv2d(\n",
    "                in_channels=1, # input volume depth == input channel dim == 1\n",
    "                out_channels=32, # expand output feature map volume's depth to 16\n",
    "                kernel_size=3, # typical 3*3 stride 1 kernel\n",
    "                stride=1,\n",
    "                padding=1\n",
    "                      ),#(1,256,160) - > (32,256,160)\n",
    "            nn.BatchNorm2d(32), # batch normalize the output feature map before activation\n",
    "            nn.ReLU(), # feature map --> activation map\n",
    "            nn.MaxPool2d(kernel_size=2, stride=2), #typical maxpool kernel size (32,265,160) - > (32,128,80)\n",
    "            nn.Dropout(p=0.4), #randomly zero 40% of 1st layer's output feature map in training\n",
    "            \n",
    "            # 2nd 2D convolution layer identical to last except output dim, maxpool kernel\n",
    "            nn.Conv2d(\n",
    "                in_channels=32, \n",
    "                out_channels=64, # expand output feature map volume's depth to 64\n",
    "                kernel_size=5,\n",
    "                stride=1,\n",
    "                padding=2\n",
    "                      ),#(32,128,55) - > (64,128,55)\n",
    "            nn.BatchNorm2d(64),\n",
    "            nn.ReLU(),\n",
    "            nn.MaxPool2d(kernel_size=4, stride=4), # increase maxpool kernel for subsequent filters (64,128,55) - > (64,32,20)\n",
    "            nn.Dropout(p=0.4), \n",
    "            \n",
    "            # 3rd 2D convolution layer identical to last except output dim\n",
    "            nn.Conv2d(\n",
    "                in_channels=64,\n",
    "                out_channels=128, # expand output feature map volume's depth to 64\n",
    "                kernel_size=7,\n",
    "                stride=1,\n",
    "                padding=3\n",
    "                      ),#(64,32,20) - > (128,32,13)\n",
    "            nn.BatchNorm2d(128),\n",
    "            nn.ReLU(),\n",
    "            nn.MaxPool2d(kernel_size=4, stride=4),#(128,32,13) - > (128,8,5)\n",
    "            nn.Dropout(p=0.4),\n",
    "        )\n",
    "        \n",
    "        ################# FINAL LINEAR BLOCK ####################\n",
    "        # Linear softmax layer to take final concatenated embedding tensor \n",
    "        #    from parallel 2D convolutional and transformer blocks, output 6 logits \n",
    "        \n",
    "        # 64*8*5+128*8*5 == 7680 input features --> 6 output emotions \n",
    "        self.fc1_linear = nn.Linear(64*4*5 + 128*4*5,num_emotions) \n",
    "        \n",
    "        ### Softmax layer for the 6 output logits from final FC linear layer \n",
    "        self.softmax_out = nn.Softmax(dim=1) # dim==1 is the freq embedding\n",
    "        \n",
    "    # define one complete parallel fwd pass of input feature tensor thru 2*conv+1*transformer blocks\n",
    "    def forward(self,x):\n",
    "        \n",
    "        ############ 1st parallel Conv2D block: 4 Convolutional layers ############################\n",
    "        # create final feature embedding from 1st convolutional layer \n",
    "        # input features pased through 4 sequential 2D convolutional layers\n",
    "        conv2d_embedding1 = self.conv2Dblock1(x) # x == N/batch * channel * freq * time\n",
    "        conv2d_embedding1 = torch.flatten(conv2d_embedding1, start_dim=1) \n",
    "\n",
    "        ############ 2nd parallel Conv2D block: 4 Convolutional layers #############################\n",
    "        # create final feature embedding from 2nd convolutional layer \n",
    "        conv2d_embedding2 = self.conv2Dblock2(x) # x == N/batch * channel * freq * time\n",
    "        conv2d_embedding2 = torch.flatten(conv2d_embedding2, start_dim=1) \n",
    "\n",
    "        \n",
    "        \n",
    "        complete_embedding = torch.cat([conv2d_embedding1, conv2d_embedding2], dim=1)\n",
    "        ######### final FC linear layer, need logits for loss #########################\n",
    "        output_logits = self.fc1_linear(complete_embedding)  \n",
    "        \n",
    "        output_softmax = self.softmax_out(output_logits)\n",
    "\n",
    "        # need output logits to compute cross entropy loss, need softmax probabilities to predict class\n",
    "        return output_logits, output_softmax                       \n"
   ]
  },
  {
   "cell_type": "code",
   "execution_count": 25,
   "metadata": {
    "execution": {
     "iopub.execute_input": "2024-05-10T05:43:02.316532Z",
     "iopub.status.busy": "2024-05-10T05:43:02.316248Z",
     "iopub.status.idle": "2024-05-10T05:43:02.338391Z",
     "shell.execute_reply": "2024-05-10T05:43:02.337292Z",
     "shell.execute_reply.started": "2024-05-10T05:43:02.316508Z"
    }
   },
   "outputs": [],
   "source": [
    "#change nn.sequential to take dict to make more readable \n",
    "\n",
    "class ParaNetTransformer(nn.Module):\n",
    "    # Define all layers present in the network\n",
    "    def __init__(self,num_emotions):\n",
    "        super().__init__() \n",
    "        \n",
    "        self.transformer_maxpool = nn.MaxPool2d(kernel_size=[1,4], stride=[1,4])\n",
    "        \n",
    "        # define single transformer encoder layer\n",
    "        # self-attention + feedforward network from \"Attention is All You Need\" paper\n",
    "        # 4 multi-head self-attention layers each with 256-->512--->256 feedforward network\n",
    "        transformer_layer = nn.TransformerEncoderLayer(\n",
    "            d_model=128, # input feature (frequency) dim after maxpooling 128*110 -> 128*27 (Melspectorgram*time)\n",
    "            nhead=32, # 32 self-attention layers in each multi-head self-attention layer in each encoder block\n",
    "            dim_feedforward=1024, # 2 linear layers in each encoder block's feedforward network: dim 128-->512--->128\n",
    "            dropout=0.4, \n",
    "            activation='relu' # ReLU: avoid saturation/tame gradient/reduce compute time\n",
    "        )\n",
    "        \n",
    "        # I'm using 4 instead of the 6 identical stacked encoder layrs used in Attention is All You Need paper\n",
    "        # Complete transformer block contains 4 full transformer encoder layers (each w/ multihead self-attention+feedforward)\n",
    "        self.transformer_encoder = nn.TransformerEncoder(transformer_layer, num_layers=6)\n",
    "\n",
    "        \n",
    "        \n",
    "        self.dropout=nn.Dropout(p=0.3)\n",
    "        self.relu=nn.ReLU()\n",
    "        ############### 1ST PARALLEL 2D CONVOLUTION BLOCK ############\n",
    "        # 3 sequential conv2D layers: (1,128,160) --> (16,128,80) -> (32,32,20) -> (64,8,5)\n",
    "        self.conv2Dblock1 = nn.Sequential(\n",
    "            \n",
    "            # 1st 2D convolution layer\n",
    "            nn.Conv2d(\n",
    "                in_channels=1, # input volume depth == input channel dim == 1\n",
    "                out_channels=16, # expand output feature map volume's depth to 16\n",
    "                kernel_size=3, # typical 3*3 stride 1 kernel\n",
    "                stride=1,\n",
    "                padding=1\n",
    "                      ),  #(1,128,160) - > (16,128,160)\n",
    "            nn.BatchNorm2d(16), # batch normalize the output feature map before activation\n",
    "            nn.ReLU(), # feature map --> activation map\n",
    "            nn.MaxPool2d(kernel_size=2, stride=2), #typical maxpool kernel size  #(16,128,160) - > (16,64,80)\n",
    "            nn.Dropout(p=0.4), #randomly zero 40% of 1st layer's output feature map in training\n",
    "            \n",
    "            # 2nd 2D convolution layer identical to last except output dim, maxpool kernel\n",
    "            nn.Conv2d(\n",
    "                in_channels=16, \n",
    "                out_channels=32, # expand output feature map volume's depth to 32\n",
    "                kernel_size=3,\n",
    "                stride=1,\n",
    "                padding=1\n",
    "                      ),#(16,64,80) - > (32,64,80)\n",
    "            nn.BatchNorm2d(32),\n",
    "            nn.ReLU(),\n",
    "            nn.MaxPool2d(kernel_size=4, stride=4), # increase maxpool kernel for subsequent filters #(32,64,80) - > (32,16,20)\n",
    "            nn.Dropout(p=0.4), \n",
    "            \n",
    "            # 3rd 2D convolution layer identical to last except output dim\n",
    "            nn.Conv2d(\n",
    "                in_channels=32,\n",
    "                out_channels=64, # expand output feature map volume's depth to 64\n",
    "                kernel_size=3,\n",
    "                stride=1,\n",
    "                padding=1\n",
    "                      ),#(32,16,20) - > (64,16,20)\n",
    "            nn.BatchNorm2d(64),\n",
    "            nn.ReLU(),\n",
    "            nn.MaxPool2d(kernel_size=4, stride=4),#(64,16,20) - > (64,4,5)\n",
    "            nn.Dropout(p=0.4),\n",
    "        )\n",
    "        ############### 2ND PARALLEL 2D CONVOLUTION BLOCK ############\n",
    "        # 3 sequential conv2D layers: (1,265,160) --> (32,128,80) -> (64,32,20) -> (128,8,5)\n",
    "        self.conv2Dblock2 = nn.Sequential(\n",
    "            # 1st 2D convolution layer\n",
    "            nn.Conv2d(\n",
    "                in_channels=1, # input volume depth == input channel dim == 1\n",
    "                out_channels=32, # expand output feature map volume's depth to 16\n",
    "                kernel_size=3, # typical 3*3 stride 1 kernel\n",
    "                stride=1,\n",
    "                padding=1\n",
    "                      ),#(1,256,160) - > (32,256,160)\n",
    "            nn.BatchNorm2d(32), # batch normalize the output feature map before activation\n",
    "            nn.ReLU(), # feature map --> activation map\n",
    "            nn.MaxPool2d(kernel_size=2, stride=2), #typical maxpool kernel size (32,265,160) - > (32,128,80)\n",
    "            nn.Dropout(p=0.4), #randomly zero 40% of 1st layer's output feature map in training\n",
    "            \n",
    "            # 2nd 2D convolution layer identical to last except output dim, maxpool kernel\n",
    "            nn.Conv2d(\n",
    "                in_channels=32, \n",
    "                out_channels=64, # expand output feature map volume's depth to 64\n",
    "                kernel_size=5,\n",
    "                stride=1,\n",
    "                padding=2\n",
    "                      ),#(32,128,55) - > (64,128,55)\n",
    "            nn.BatchNorm2d(64),\n",
    "            nn.ReLU(),\n",
    "            nn.MaxPool2d(kernel_size=4, stride=4), # increase maxpool kernel for subsequent filters (64,128,55) - > (64,32,20)\n",
    "            nn.Dropout(p=0.4), \n",
    "            \n",
    "            # 3rd 2D convolution layer identical to last except output dim\n",
    "            nn.Conv2d(\n",
    "                in_channels=64,\n",
    "                out_channels=128, # expand output feature map volume's depth to 64\n",
    "                kernel_size=7,\n",
    "                stride=1,\n",
    "                padding=3\n",
    "                      ),#(64,32,20) - > (128,32,13)\n",
    "            nn.BatchNorm2d(128),\n",
    "            nn.ReLU(),\n",
    "            nn.MaxPool2d(kernel_size=4, stride=4),#(128,32,13) - > (128,8,5)\n",
    "            nn.Dropout(p=0.4),\n",
    "        )\n",
    "        \n",
    "        ################# FINAL LINEAR BLOCK ####################\n",
    "        # Linear softmax layer to take final concatenated embedding tensor \n",
    "        #    from parallel 2D convolutional and transformer blocks, output 6 logits \n",
    "        \n",
    "        # 64*8*5+128*8*5 == 7680 input features --> 6 output emotions \n",
    "        self.fc1_linear = nn.Linear(64*4*5 + 128*4*5 +128,num_emotions) \n",
    "        \n",
    "        ### Softmax layer for the 6 output logits from final FC linear layer \n",
    "        self.softmax_out = nn.Softmax(dim=1) # dim==1 is the freq embedding\n",
    "        \n",
    "    # define one complete parallel fwd pass of input feature tensor thru 2*conv+1*transformer blocks\n",
    "    def forward(self,x):\n",
    "        \n",
    "        ############ 1st parallel Conv2D block: 4 Convolutional layers ############################\n",
    "        # create final feature embedding from 1st convolutional layer \n",
    "        # input features pased through 4 sequential 2D convolutional layers\n",
    "        conv2d_embedding1 = self.conv2Dblock1(x) # x == N/batch * channel * freq * time\n",
    "        conv2d_embedding1 = torch.flatten(conv2d_embedding1, start_dim=1) \n",
    "\n",
    "        ############ 2nd parallel Conv2D block: 4 Convolutional layers #############################\n",
    "        # create final feature embedding from 2nd convolutional layer \n",
    "        conv2d_embedding2 = self.conv2Dblock2(x) # x == N/batch * channel * freq * time\n",
    "        conv2d_embedding2 = torch.flatten(conv2d_embedding2, start_dim=1) \n",
    "\n",
    "        \n",
    "        x_maxpool = self.transformer_maxpool(x)\n",
    "        x_maxpool_reduced = torch.squeeze(x_maxpool,1)\n",
    "        x = x_maxpool_reduced.permute(2,0,1) \n",
    "        transformer_output = self.transformer_encoder(x)\n",
    "        transformer_embedding = torch.mean(transformer_output, dim=0)\n",
    "        \n",
    "        \n",
    "        complete_embedding = torch.cat([conv2d_embedding1, conv2d_embedding2,transformer_embedding], dim=1)\n",
    "        ######### final FC linear layer, need logits for loss #########################\n",
    "        output_logits = self.fc1_linear(complete_embedding)  \n",
    "        \n",
    "        output_softmax = self.softmax_out(output_logits)\n",
    "\n",
    "        # need output logits to compute cross entropy loss, need softmax probabilities to predict class\n",
    "        return output_logits, output_softmax                       \n"
   ]
  },
  {
   "cell_type": "code",
   "execution_count": 27,
   "metadata": {
    "execution": {
     "iopub.execute_input": "2024-05-10T05:43:25.318661Z",
     "iopub.status.busy": "2024-05-10T05:43:25.318295Z",
     "iopub.status.idle": "2024-05-10T05:43:25.351676Z",
     "shell.execute_reply": "2024-05-10T05:43:25.350795Z",
     "shell.execute_reply.started": "2024-05-10T05:43:25.318630Z"
    }
   },
   "outputs": [
    {
     "data": {
      "text/plain": [
       "==========================================================================================\n",
       "Layer (type:depth-idx)                   Output Shape              Param #\n",
       "==========================================================================================\n",
       "ParaNet                                  [32, 6]                   --\n",
       "├─Sequential: 1-1                        [32, 64, 4, 5]            --\n",
       "│    └─Conv2d: 2-1                       [32, 16, 128, 160]        160\n",
       "│    └─BatchNorm2d: 2-2                  [32, 16, 128, 160]        32\n",
       "│    └─ReLU: 2-3                         [32, 16, 128, 160]        --\n",
       "│    └─MaxPool2d: 2-4                    [32, 16, 64, 80]          --\n",
       "│    └─Dropout: 2-5                      [32, 16, 64, 80]          --\n",
       "│    └─Conv2d: 2-6                       [32, 32, 64, 80]          4,640\n",
       "│    └─BatchNorm2d: 2-7                  [32, 32, 64, 80]          64\n",
       "│    └─ReLU: 2-8                         [32, 32, 64, 80]          --\n",
       "│    └─MaxPool2d: 2-9                    [32, 32, 16, 20]          --\n",
       "│    └─Dropout: 2-10                     [32, 32, 16, 20]          --\n",
       "│    └─Conv2d: 2-11                      [32, 64, 16, 20]          18,496\n",
       "│    └─BatchNorm2d: 2-12                 [32, 64, 16, 20]          128\n",
       "│    └─ReLU: 2-13                        [32, 64, 16, 20]          --\n",
       "│    └─MaxPool2d: 2-14                   [32, 64, 4, 5]            --\n",
       "│    └─Dropout: 2-15                     [32, 64, 4, 5]            --\n",
       "├─Sequential: 1-2                        [32, 128, 4, 5]           --\n",
       "│    └─Conv2d: 2-16                      [32, 32, 128, 160]        320\n",
       "│    └─BatchNorm2d: 2-17                 [32, 32, 128, 160]        64\n",
       "│    └─ReLU: 2-18                        [32, 32, 128, 160]        --\n",
       "│    └─MaxPool2d: 2-19                   [32, 32, 64, 80]          --\n",
       "│    └─Dropout: 2-20                     [32, 32, 64, 80]          --\n",
       "│    └─Conv2d: 2-21                      [32, 64, 64, 80]          51,264\n",
       "│    └─BatchNorm2d: 2-22                 [32, 64, 64, 80]          128\n",
       "│    └─ReLU: 2-23                        [32, 64, 64, 80]          --\n",
       "│    └─MaxPool2d: 2-24                   [32, 64, 16, 20]          --\n",
       "│    └─Dropout: 2-25                     [32, 64, 16, 20]          --\n",
       "│    └─Conv2d: 2-26                      [32, 128, 16, 20]         401,536\n",
       "│    └─BatchNorm2d: 2-27                 [32, 128, 16, 20]         256\n",
       "│    └─ReLU: 2-28                        [32, 128, 16, 20]         --\n",
       "│    └─MaxPool2d: 2-29                   [32, 128, 4, 5]           --\n",
       "│    └─Dropout: 2-30                     [32, 128, 4, 5]           --\n",
       "├─Linear: 1-3                            [32, 6]                   23,046\n",
       "├─Softmax: 1-4                           [32, 6]                   --\n",
       "==========================================================================================\n",
       "Total params: 500,134\n",
       "Trainable params: 500,134\n",
       "Non-trainable params: 0\n",
       "Total mult-adds (G): 13.78\n",
       "==========================================================================================\n",
       "Input size (MB): 2.62\n",
       "Forward/backward pass size (MB): 786.43\n",
       "Params size (MB): 2.00\n",
       "Estimated Total Size (MB): 791.06\n",
       "=========================================================================================="
      ]
     },
     "execution_count": 27,
     "metadata": {},
     "output_type": "execute_result"
    }
   ],
   "source": [
    "from torchinfo import summary\n",
    "# need device to instantiate model\n",
    "device = 'cuda'\n",
    "\n",
    "# instantiate model for 8 emotions and move to GPU \n",
    "model = ParaNet(6).to(device)\n",
    "\n",
    "# include input feature map dims in call to summary()\n",
    "summary(model, input_size=(32, 1, 128, 160))\n"
   ]
  },
  {
   "cell_type": "code",
   "execution_count": 28,
   "metadata": {
    "execution": {
     "iopub.execute_input": "2024-05-10T05:43:27.930266Z",
     "iopub.status.busy": "2024-05-10T05:43:27.929543Z",
     "iopub.status.idle": "2024-05-10T05:43:28.020761Z",
     "shell.execute_reply": "2024-05-10T05:43:28.019804Z",
     "shell.execute_reply.started": "2024-05-10T05:43:27.930227Z"
    }
   },
   "outputs": [
    {
     "data": {
      "text/plain": [
       "===============================================================================================\n",
       "Layer (type:depth-idx)                        Output Shape              Param #\n",
       "===============================================================================================\n",
       "ParaNetTransformer                            [32, 6]                   --\n",
       "├─Sequential: 1-1                             [32, 64, 4, 5]            --\n",
       "│    └─Conv2d: 2-1                            [32, 16, 128, 160]        160\n",
       "│    └─BatchNorm2d: 2-2                       [32, 16, 128, 160]        32\n",
       "│    └─ReLU: 2-3                              [32, 16, 128, 160]        --\n",
       "│    └─MaxPool2d: 2-4                         [32, 16, 64, 80]          --\n",
       "│    └─Dropout: 2-5                           [32, 16, 64, 80]          --\n",
       "│    └─Conv2d: 2-6                            [32, 32, 64, 80]          4,640\n",
       "│    └─BatchNorm2d: 2-7                       [32, 32, 64, 80]          64\n",
       "│    └─ReLU: 2-8                              [32, 32, 64, 80]          --\n",
       "│    └─MaxPool2d: 2-9                         [32, 32, 16, 20]          --\n",
       "│    └─Dropout: 2-10                          [32, 32, 16, 20]          --\n",
       "│    └─Conv2d: 2-11                           [32, 64, 16, 20]          18,496\n",
       "│    └─BatchNorm2d: 2-12                      [32, 64, 16, 20]          128\n",
       "│    └─ReLU: 2-13                             [32, 64, 16, 20]          --\n",
       "│    └─MaxPool2d: 2-14                        [32, 64, 4, 5]            --\n",
       "│    └─Dropout: 2-15                          [32, 64, 4, 5]            --\n",
       "├─Sequential: 1-2                             [32, 128, 4, 5]           --\n",
       "│    └─Conv2d: 2-16                           [32, 32, 128, 160]        320\n",
       "│    └─BatchNorm2d: 2-17                      [32, 32, 128, 160]        64\n",
       "│    └─ReLU: 2-18                             [32, 32, 128, 160]        --\n",
       "│    └─MaxPool2d: 2-19                        [32, 32, 64, 80]          --\n",
       "│    └─Dropout: 2-20                          [32, 32, 64, 80]          --\n",
       "│    └─Conv2d: 2-21                           [32, 64, 64, 80]          51,264\n",
       "│    └─BatchNorm2d: 2-22                      [32, 64, 64, 80]          128\n",
       "│    └─ReLU: 2-23                             [32, 64, 64, 80]          --\n",
       "│    └─MaxPool2d: 2-24                        [32, 64, 16, 20]          --\n",
       "│    └─Dropout: 2-25                          [32, 64, 16, 20]          --\n",
       "│    └─Conv2d: 2-26                           [32, 128, 16, 20]         401,536\n",
       "│    └─BatchNorm2d: 2-27                      [32, 128, 16, 20]         256\n",
       "│    └─ReLU: 2-28                             [32, 128, 16, 20]         --\n",
       "│    └─MaxPool2d: 2-29                        [32, 128, 4, 5]           --\n",
       "│    └─Dropout: 2-30                          [32, 128, 4, 5]           --\n",
       "├─MaxPool2d: 1-3                              [32, 1, 128, 40]          --\n",
       "├─TransformerEncoder: 1-4                     [40, 32, 128]             --\n",
       "│    └─ModuleList: 2-31                       --                        --\n",
       "│    │    └─TransformerEncoderLayer: 3-1      [40, 32, 128]             329,856\n",
       "│    │    └─TransformerEncoderLayer: 3-2      [40, 32, 128]             329,856\n",
       "│    │    └─TransformerEncoderLayer: 3-3      [40, 32, 128]             329,856\n",
       "│    │    └─TransformerEncoderLayer: 3-4      [40, 32, 128]             329,856\n",
       "│    │    └─TransformerEncoderLayer: 3-5      [40, 32, 128]             329,856\n",
       "│    │    └─TransformerEncoderLayer: 3-6      [40, 32, 128]             329,856\n",
       "├─Linear: 1-5                                 [32, 6]                   23,814\n",
       "├─Softmax: 1-6                                [32, 6]                   --\n",
       "===============================================================================================\n",
       "Total params: 2,480,038\n",
       "Trainable params: 2,480,038\n",
       "Non-trainable params: 0\n",
       "Total mult-adds (G): 13.84\n",
       "===============================================================================================\n",
       "Input size (MB): 2.62\n",
       "Forward/backward pass size (MB): 872.94\n",
       "Params size (MB): 8.34\n",
       "Estimated Total Size (MB): 883.90\n",
       "==============================================================================================="
      ]
     },
     "execution_count": 28,
     "metadata": {},
     "output_type": "execute_result"
    }
   ],
   "source": [
    "from torchinfo import summary\n",
    "# need device to instantiate model\n",
    "device = 'cuda'\n",
    "\n",
    "# instantiate model for 8 emotions and move to GPU \n",
    "model = ParaNetTransformer(6).to(device)\n",
    "\n",
    "# include input feature map dims in call to summary()\n",
    "summary(model, input_size=(32, 1, 128, 160))\n"
   ]
  },
  {
   "cell_type": "code",
   "execution_count": 29,
   "metadata": {
    "execution": {
     "iopub.execute_input": "2024-05-10T05:43:33.215950Z",
     "iopub.status.busy": "2024-05-10T05:43:33.215039Z",
     "iopub.status.idle": "2024-05-10T05:43:33.234540Z",
     "shell.execute_reply": "2024-05-10T05:43:33.233488Z",
     "shell.execute_reply.started": "2024-05-10T05:43:33.215909Z"
    }
   },
   "outputs": [],
   "source": [
    "import torch.optim as optim\n",
    "\n",
    "EPOCHS=500\n",
    "DEVICE = torch.device(\"cuda:0\" if torch.cuda.is_available() else \"cpu\")\n",
    "loss_fn =nn.CrossEntropyLoss().to(DEVICE)\n",
    "\n",
    "LEARNING_RATE=1e-4\n",
    "model = ParaNet(6).to(DEVICE)\n",
    "optimizer = optim.Adam(model.parameters(), lr=LEARNING_RATE)\n",
    "# optimizer = torch.optim.SGD(model.parameters(),lr=0.01, weight_decay=LEARNING_RATE, momentum=0.8)"
   ]
  },
  {
   "cell_type": "code",
   "execution_count": 30,
   "metadata": {
    "execution": {
     "iopub.execute_input": "2024-05-10T05:43:38.766315Z",
     "iopub.status.busy": "2024-05-10T05:43:38.765407Z",
     "iopub.status.idle": "2024-05-10T05:43:38.774819Z",
     "shell.execute_reply": "2024-05-10T05:43:38.773742Z",
     "shell.execute_reply.started": "2024-05-10T05:43:38.766278Z"
    }
   },
   "outputs": [],
   "source": [
    "def train_epoch(model, data_loader, loss_fn, optimizer, device):\n",
    "    model = model.train()\n",
    "\n",
    "    losses = []\n",
    "    correct_predictions = 0\n",
    "    total_predictions = 0\n",
    "\n",
    "    for train_input, train_label in tqdm(data_loader):\n",
    "        train_label = train_label.to(device)\n",
    "        train_input = train_input.to(device)\n",
    "\n",
    "        optimizer.zero_grad()\n",
    "        \n",
    "        output_logits, output_softmax = model(train_input.float())\n",
    "        predictions = torch.argmax(output_softmax,dim=1)\n",
    "        total_predictions += train_label.size(0)\n",
    "        \n",
    "        correct_predictions += (predictions == train_label).sum().item()\n",
    "        \n",
    "        loss = loss_fn(output_logits, train_label)\n",
    "\n",
    "        losses.append(loss.item())\n",
    "\n",
    "\n",
    "        loss.backward()\n",
    "        optimizer.step()\n",
    "\n",
    "    print(f\"Epoch {epoch+1}, Learning Rate: {optimizer.param_groups[0]['lr']}\")\n",
    "\n",
    "    accuracy = correct_predictions / total_predictions\n",
    "    mean_loss = np.mean(losses)\n",
    "\n",
    "    return mean_loss, accuracy\n"
   ]
  },
  {
   "cell_type": "code",
   "execution_count": 31,
   "metadata": {
    "execution": {
     "iopub.execute_input": "2024-05-10T05:43:39.449034Z",
     "iopub.status.busy": "2024-05-10T05:43:39.448617Z",
     "iopub.status.idle": "2024-05-10T05:43:39.456754Z",
     "shell.execute_reply": "2024-05-10T05:43:39.455818Z",
     "shell.execute_reply.started": "2024-05-10T05:43:39.449002Z"
    }
   },
   "outputs": [],
   "source": [
    "def eval_model(model, data_loader, loss_fn, device):\n",
    "    model = model.eval()\n",
    "\n",
    "    losses = []\n",
    "    correct_predictions = 0\n",
    "    total_predictions = 0\n",
    "\n",
    "    with torch.no_grad():            \n",
    "        for val_input, val_label in data_loader:\n",
    "            val_label = val_label.to(device)\n",
    "            val_input = val_input.to(device)\n",
    "\n",
    "            optimizer.zero_grad()\n",
    "\n",
    "            output_logits, output_softmax = model(val_input.float())\n",
    "\n",
    "            predictions = torch.argmax(output_softmax,dim=1)\n",
    "            total_predictions += val_label.size(0)\n",
    "\n",
    "            correct_predictions += (predictions == val_label).sum().item()\n",
    "\n",
    "            loss = loss_fn(output_logits, val_label)\n",
    "\n",
    "            losses.append(loss.item())\n",
    "            \n",
    "            \n",
    "\n",
    "\n",
    "\n",
    "        accuracy = correct_predictions / total_predictions\n",
    "        mean_loss = np.mean(losses)\n",
    "        \n",
    "\n",
    "    return mean_loss, accuracy"
   ]
  },
  {
   "cell_type": "code",
   "execution_count": 32,
   "metadata": {
    "execution": {
     "iopub.execute_input": "2024-05-10T05:43:40.307995Z",
     "iopub.status.busy": "2024-05-10T05:43:40.307616Z",
     "iopub.status.idle": "2024-05-10T05:43:40.313028Z",
     "shell.execute_reply": "2024-05-10T05:43:40.311972Z",
     "shell.execute_reply.started": "2024-05-10T05:43:40.307963Z"
    }
   },
   "outputs": [],
   "source": [
    "from collections import defaultdict\n",
    "import math\n",
    "history = defaultdict(list)\n",
    "loss=math.inf\n",
    "epochs_without_improvement = 0\n",
    "patience = 10  # Number of epochs to wait for improvement\n"
   ]
  },
  {
   "cell_type": "code",
   "execution_count": 33,
   "metadata": {
    "execution": {
     "iopub.execute_input": "2024-05-10T05:43:41.213968Z",
     "iopub.status.busy": "2024-05-10T05:43:41.213073Z",
     "iopub.status.idle": "2024-05-10T05:49:13.221315Z",
     "shell.execute_reply": "2024-05-10T05:49:13.220224Z",
     "shell.execute_reply.started": "2024-05-10T05:43:41.213921Z"
    }
   },
   "outputs": [
    {
     "name": "stderr",
     "output_type": "stream",
     "text": [
      "100%|██████████| 670/670 [00:07<00:00, 85.52it/s]\n"
     ]
    },
    {
     "name": "stdout",
     "output_type": "stream",
     "text": [
      "Epoch 1, Learning Rate: 0.0001\n",
      "Epoch 1/500\n",
      "----------\n",
      "Train loss 1.7381932600220638\n",
      "Train Accuracy 0.31864849729326117\n",
      "Val   loss 1.4246209478378296\n",
      "Val   Acc 0.42449664429530204\n",
      "\n"
     ]
    },
    {
     "name": "stderr",
     "output_type": "stream",
     "text": [
      "100%|██████████| 670/670 [00:07<00:00, 92.98it/s]\n"
     ]
    },
    {
     "name": "stdout",
     "output_type": "stream",
     "text": [
      "Epoch 2, Learning Rate: 0.0001\n",
      "Epoch 2/500\n",
      "----------\n",
      "Train loss 1.5677809286473403\n",
      "Train Accuracy 0.38323688631696845\n",
      "Val   loss 1.391950072447459\n",
      "Val   Acc 0.43288590604026844\n",
      "\n"
     ]
    },
    {
     "name": "stderr",
     "output_type": "stream",
     "text": [
      "100%|██████████| 670/670 [00:07<00:00, 93.41it/s]\n"
     ]
    },
    {
     "name": "stdout",
     "output_type": "stream",
     "text": [
      "Epoch 3, Learning Rate: 0.0001\n",
      "Epoch 3/500\n",
      "----------\n",
      "Train loss 1.50455655855919\n",
      "Train Accuracy 0.3953705432144857\n",
      "Val   loss 1.3665372021993\n",
      "Val   Acc 0.43456375838926176\n",
      "\n"
     ]
    },
    {
     "name": "stderr",
     "output_type": "stream",
     "text": [
      "100%|██████████| 670/670 [00:07<00:00, 93.46it/s]\n"
     ]
    },
    {
     "name": "stdout",
     "output_type": "stream",
     "text": [
      "Epoch 4, Learning Rate: 0.0001\n",
      "Epoch 4/500\n",
      "----------\n",
      "Train loss 1.4652167434123025\n",
      "Train Accuracy 0.40787754340115734\n",
      "Val   loss 1.3706703130404154\n",
      "Val   Acc 0.4597315436241611\n",
      "\n"
     ]
    },
    {
     "name": "stderr",
     "output_type": "stream",
     "text": [
      "100%|██████████| 670/670 [00:07<00:00, 93.10it/s]\n"
     ]
    },
    {
     "name": "stdout",
     "output_type": "stream",
     "text": [
      "Epoch 5, Learning Rate: 0.0001\n",
      "Epoch 5/500\n",
      "----------\n",
      "Train loss 1.420917595144528\n",
      "Train Accuracy 0.4321448571961919\n",
      "Val   loss 1.366887893676758\n",
      "Val   Acc 0.4261744966442953\n",
      "\n"
     ]
    },
    {
     "name": "stderr",
     "output_type": "stream",
     "text": [
      "100%|██████████| 670/670 [00:07<00:00, 91.18it/s]\n"
     ]
    },
    {
     "name": "stdout",
     "output_type": "stream",
     "text": [
      "Epoch 6, Learning Rate: 0.0001\n",
      "Epoch 6/500\n",
      "----------\n",
      "Train loss 1.3819394922968167\n",
      "Train Accuracy 0.4416651110696285\n",
      "Val   loss 1.2983422231674195\n",
      "Val   Acc 0.5016778523489933\n",
      "\n"
     ]
    },
    {
     "name": "stderr",
     "output_type": "stream",
     "text": [
      "100%|██████████| 670/670 [00:07<00:00, 91.33it/s]\n"
     ]
    },
    {
     "name": "stdout",
     "output_type": "stream",
     "text": [
      "Epoch 7, Learning Rate: 0.0001\n",
      "Epoch 7/500\n",
      "----------\n",
      "Train loss 1.356118307629628\n",
      "Train Accuracy 0.46611909650924027\n",
      "Val   loss 1.3256119839350382\n",
      "Val   Acc 0.4446308724832215\n",
      "\n"
     ]
    },
    {
     "name": "stderr",
     "output_type": "stream",
     "text": [
      "100%|██████████| 670/670 [00:07<00:00, 91.64it/s]\n"
     ]
    },
    {
     "name": "stdout",
     "output_type": "stream",
     "text": [
      "Epoch 8, Learning Rate: 0.0001\n",
      "Epoch 8/500\n",
      "----------\n",
      "Train loss 1.3231900727570947\n",
      "Train Accuracy 0.46929251446705245\n",
      "Val   loss 1.2549413744608562\n",
      "Val   Acc 0.5100671140939598\n",
      "\n"
     ]
    },
    {
     "name": "stderr",
     "output_type": "stream",
     "text": [
      "100%|██████████| 670/670 [00:07<00:00, 91.28it/s]\n"
     ]
    },
    {
     "name": "stdout",
     "output_type": "stream",
     "text": [
      "Epoch 9, Learning Rate: 0.0001\n",
      "Epoch 9/500\n",
      "----------\n",
      "Train loss 1.3082459115270357\n",
      "Train Accuracy 0.47750606682844876\n",
      "Val   loss 1.2169230898221335\n",
      "Val   Acc 0.5385906040268457\n",
      "\n"
     ]
    },
    {
     "name": "stderr",
     "output_type": "stream",
     "text": [
      "100%|██████████| 670/670 [00:07<00:00, 90.81it/s]\n"
     ]
    },
    {
     "name": "stdout",
     "output_type": "stream",
     "text": [
      "Epoch 10, Learning Rate: 0.0001\n",
      "Epoch 10/500\n",
      "----------\n",
      "Train loss 1.2669725400298388\n",
      "Train Accuracy 0.49131976852716075\n",
      "Val   loss 1.218866138458252\n",
      "Val   Acc 0.5486577181208053\n",
      "\n"
     ]
    },
    {
     "name": "stderr",
     "output_type": "stream",
     "text": [
      "100%|██████████| 670/670 [00:07<00:00, 90.37it/s]\n"
     ]
    },
    {
     "name": "stdout",
     "output_type": "stream",
     "text": [
      "Epoch 11, Learning Rate: 0.0001\n",
      "Epoch 11/500\n",
      "----------\n",
      "Train loss 1.261316872532688\n",
      "Train Accuracy 0.5008400224005973\n",
      "Val   loss 1.2427755777041118\n",
      "Val   Acc 0.5033557046979866\n",
      "\n"
     ]
    },
    {
     "name": "stderr",
     "output_type": "stream",
     "text": [
      "100%|██████████| 670/670 [00:07<00:00, 90.58it/s]\n"
     ]
    },
    {
     "name": "stdout",
     "output_type": "stream",
     "text": [
      "Epoch 12, Learning Rate: 0.0001\n",
      "Epoch 12/500\n",
      "----------\n",
      "Train loss 1.2413855430795186\n",
      "Train Accuracy 0.5030800821355236\n",
      "Val   loss 1.1985329778989156\n",
      "Val   Acc 0.5201342281879194\n",
      "\n"
     ]
    },
    {
     "name": "stderr",
     "output_type": "stream",
     "text": [
      "100%|██████████| 670/670 [00:07<00:00, 90.64it/s]\n"
     ]
    },
    {
     "name": "stdout",
     "output_type": "stream",
     "text": [
      "Epoch 13, Learning Rate: 0.0001\n",
      "Epoch 13/500\n",
      "----------\n",
      "Train loss 1.2160985943986409\n",
      "Train Accuracy 0.5191338435691618\n",
      "Val   loss 1.1425935792922974\n",
      "Val   Acc 0.5553691275167785\n",
      "\n"
     ]
    },
    {
     "name": "stderr",
     "output_type": "stream",
     "text": [
      "100%|██████████| 670/670 [00:07<00:00, 90.91it/s]\n"
     ]
    },
    {
     "name": "stdout",
     "output_type": "stream",
     "text": [
      "Epoch 14, Learning Rate: 0.0001\n",
      "Epoch 14/500\n",
      "----------\n",
      "Train loss 1.205898850800386\n",
      "Train Accuracy 0.5269740526414037\n",
      "Val   loss 1.1488745069503785\n",
      "Val   Acc 0.5704697986577181\n",
      "\n"
     ]
    },
    {
     "name": "stderr",
     "output_type": "stream",
     "text": [
      "100%|██████████| 670/670 [00:07<00:00, 90.84it/s]\n"
     ]
    },
    {
     "name": "stdout",
     "output_type": "stream",
     "text": [
      "Epoch 15, Learning Rate: 0.0001\n",
      "Epoch 15/500\n",
      "----------\n",
      "Train loss 1.1906347731600946\n",
      "Train Accuracy 0.5264140377076723\n",
      "Val   loss 1.1629650648434957\n",
      "Val   Acc 0.5637583892617449\n",
      "\n"
     ]
    },
    {
     "name": "stderr",
     "output_type": "stream",
     "text": [
      "100%|██████████| 670/670 [00:07<00:00, 90.02it/s]\n"
     ]
    },
    {
     "name": "stdout",
     "output_type": "stream",
     "text": [
      "Epoch 16, Learning Rate: 0.0001\n",
      "Epoch 16/500\n",
      "----------\n",
      "Train loss 1.1637221441784902\n",
      "Train Accuracy 0.5473212619003174\n",
      "Val   loss 1.2464097054799397\n",
      "Val   Acc 0.5016778523489933\n",
      "\n"
     ]
    },
    {
     "name": "stderr",
     "output_type": "stream",
     "text": [
      "100%|██████████| 670/670 [00:07<00:00, 92.15it/s]\n"
     ]
    },
    {
     "name": "stdout",
     "output_type": "stream",
     "text": [
      "Epoch 17, Learning Rate: 0.0001\n",
      "Epoch 17/500\n",
      "----------\n",
      "Train loss 1.1482689359739646\n",
      "Train Accuracy 0.5512413664364383\n",
      "Val   loss 1.126582417488098\n",
      "Val   Acc 0.5721476510067114\n",
      "\n"
     ]
    },
    {
     "name": "stderr",
     "output_type": "stream",
     "text": [
      "100%|██████████| 670/670 [00:07<00:00, 93.67it/s]\n"
     ]
    },
    {
     "name": "stdout",
     "output_type": "stream",
     "text": [
      "Epoch 18, Learning Rate: 0.0001\n",
      "Epoch 18/500\n",
      "----------\n",
      "Train loss 1.1445339399487224\n",
      "Train Accuracy 0.5445211872316595\n",
      "Val   loss 1.1650622995694477\n",
      "Val   Acc 0.5721476510067114\n",
      "\n"
     ]
    },
    {
     "name": "stderr",
     "output_type": "stream",
     "text": [
      "100%|██████████| 670/670 [00:07<00:00, 92.94it/s]\n"
     ]
    },
    {
     "name": "stdout",
     "output_type": "stream",
     "text": [
      "Epoch 19, Learning Rate: 0.0001\n",
      "Epoch 19/500\n",
      "----------\n",
      "Train loss 1.1277323926117884\n",
      "Train Accuracy 0.5557214859062908\n",
      "Val   loss 1.125543696085612\n",
      "Val   Acc 0.5721476510067114\n",
      "\n"
     ]
    },
    {
     "name": "stderr",
     "output_type": "stream",
     "text": [
      "100%|██████████| 670/670 [00:07<00:00, 92.76it/s]\n"
     ]
    },
    {
     "name": "stdout",
     "output_type": "stream",
     "text": [
      "Epoch 20, Learning Rate: 0.0001\n",
      "Epoch 20/500\n",
      "----------\n",
      "Train loss 1.127190270619606\n",
      "Train Accuracy 0.5620683218219152\n",
      "Val   loss 1.0921749265988667\n",
      "Val   Acc 0.6124161073825504\n",
      "\n"
     ]
    },
    {
     "name": "stderr",
     "output_type": "stream",
     "text": [
      "100%|██████████| 670/670 [00:07<00:00, 92.07it/s]\n"
     ]
    },
    {
     "name": "stdout",
     "output_type": "stream",
     "text": [
      "Epoch 21, Learning Rate: 0.0001\n",
      "Epoch 21/500\n",
      "----------\n",
      "Train loss 1.1121136490311196\n",
      "Train Accuracy 0.5562815008400224\n",
      "Val   loss 1.085520044565201\n",
      "Val   Acc 0.5939597315436241\n",
      "\n"
     ]
    },
    {
     "name": "stderr",
     "output_type": "stream",
     "text": [
      "100%|██████████| 670/670 [00:07<00:00, 92.26it/s]\n"
     ]
    },
    {
     "name": "stdout",
     "output_type": "stream",
     "text": [
      "Epoch 22, Learning Rate: 0.0001\n",
      "Epoch 22/500\n",
      "----------\n",
      "Train loss 1.099079507945189\n",
      "Train Accuracy 0.5740153070748554\n",
      "Val   loss 1.0782028492291769\n",
      "Val   Acc 0.5838926174496645\n",
      "\n"
     ]
    },
    {
     "name": "stderr",
     "output_type": "stream",
     "text": [
      "100%|██████████| 670/670 [00:07<00:00, 92.83it/s]\n"
     ]
    },
    {
     "name": "stdout",
     "output_type": "stream",
     "text": [
      "Epoch 23, Learning Rate: 0.0001\n",
      "Epoch 23/500\n",
      "----------\n",
      "Train loss 1.0801659605841138\n",
      "Train Accuracy 0.5777487399663991\n",
      "Val   loss 1.0904476952552795\n",
      "Val   Acc 0.5906040268456376\n",
      "\n"
     ]
    },
    {
     "name": "stderr",
     "output_type": "stream",
     "text": [
      "100%|██████████| 670/670 [00:07<00:00, 91.98it/s]\n"
     ]
    },
    {
     "name": "stdout",
     "output_type": "stream",
     "text": [
      "Epoch 24, Learning Rate: 0.0001\n",
      "Epoch 24/500\n",
      "----------\n",
      "Train loss 1.071679585104558\n",
      "Train Accuracy 0.5801754713459025\n",
      "Val   loss 1.08935817917188\n",
      "Val   Acc 0.5906040268456376\n",
      "\n"
     ]
    },
    {
     "name": "stderr",
     "output_type": "stream",
     "text": [
      "100%|██████████| 670/670 [00:07<00:00, 91.89it/s]\n"
     ]
    },
    {
     "name": "stdout",
     "output_type": "stream",
     "text": [
      "Epoch 25, Learning Rate: 0.0001\n",
      "Epoch 25/500\n",
      "----------\n",
      "Train loss 1.0646758106662266\n",
      "Train Accuracy 0.5891357102856076\n",
      "Val   loss 1.1165090950330099\n",
      "Val   Acc 0.587248322147651\n",
      "\n"
     ]
    },
    {
     "name": "stderr",
     "output_type": "stream",
     "text": [
      "100%|██████████| 670/670 [00:07<00:00, 92.34it/s]\n"
     ]
    },
    {
     "name": "stdout",
     "output_type": "stream",
     "text": [
      "Epoch 26, Learning Rate: 0.0001\n",
      "Epoch 26/500\n",
      "----------\n",
      "Train loss 1.0589499375713405\n",
      "Train Accuracy 0.586522307261527\n",
      "Val   loss 1.0776169220606486\n",
      "Val   Acc 0.5939597315436241\n",
      "\n"
     ]
    },
    {
     "name": "stderr",
     "output_type": "stream",
     "text": [
      "100%|██████████| 670/670 [00:07<00:00, 92.34it/s]\n"
     ]
    },
    {
     "name": "stdout",
     "output_type": "stream",
     "text": [
      "Epoch 27, Learning Rate: 0.0001\n",
      "Epoch 27/500\n",
      "----------\n",
      "Train loss 1.04600821826885\n",
      "Train Accuracy 0.5932424864663057\n",
      "Val   loss 1.0807557113965351\n",
      "Val   Acc 0.5989932885906041\n",
      "\n"
     ]
    },
    {
     "name": "stderr",
     "output_type": "stream",
     "text": [
      "100%|██████████| 670/670 [00:07<00:00, 92.65it/s]\n"
     ]
    },
    {
     "name": "stdout",
     "output_type": "stream",
     "text": [
      "Epoch 28, Learning Rate: 0.0001\n",
      "Epoch 28/500\n",
      "----------\n",
      "Train loss 1.0380733141258582\n",
      "Train Accuracy 0.599402650737353\n",
      "Val   loss 1.071343764066696\n",
      "Val   Acc 0.6090604026845637\n",
      "\n"
     ]
    },
    {
     "name": "stderr",
     "output_type": "stream",
     "text": [
      "100%|██████████| 670/670 [00:07<00:00, 92.63it/s]\n"
     ]
    },
    {
     "name": "stdout",
     "output_type": "stream",
     "text": [
      "Epoch 29, Learning Rate: 0.0001\n",
      "Epoch 29/500\n",
      "----------\n",
      "Train loss 1.034828310982505\n",
      "Train Accuracy 0.6012693671831248\n",
      "Val   loss 1.0370326809088388\n",
      "Val   Acc 0.6140939597315436\n",
      "\n"
     ]
    },
    {
     "name": "stderr",
     "output_type": "stream",
     "text": [
      "100%|██████████| 670/670 [00:07<00:00, 92.51it/s]\n"
     ]
    },
    {
     "name": "stdout",
     "output_type": "stream",
     "text": [
      "Epoch 30, Learning Rate: 0.0001\n",
      "Epoch 30/500\n",
      "----------\n",
      "Train loss 1.01324437064911\n",
      "Train Accuracy 0.6104162777674071\n",
      "Val   loss 1.114592647155126\n",
      "Val   Acc 0.5637583892617449\n",
      "\n"
     ]
    },
    {
     "name": "stderr",
     "output_type": "stream",
     "text": [
      "100%|██████████| 670/670 [00:07<00:00, 92.21it/s]\n"
     ]
    },
    {
     "name": "stdout",
     "output_type": "stream",
     "text": [
      "Epoch 31, Learning Rate: 0.0001\n",
      "Epoch 31/500\n",
      "----------\n",
      "Train loss 1.0014760266489058\n",
      "Train Accuracy 0.6128430091469106\n",
      "Val   loss 1.1096138842900594\n",
      "Val   Acc 0.5570469798657718\n",
      "\n"
     ]
    },
    {
     "name": "stderr",
     "output_type": "stream",
     "text": [
      "100%|██████████| 670/670 [00:07<00:00, 92.63it/s]\n"
     ]
    },
    {
     "name": "stdout",
     "output_type": "stream",
     "text": [
      "Epoch 32, Learning Rate: 0.0001\n",
      "Epoch 32/500\n",
      "----------\n",
      "Train loss 0.9991127808147402\n",
      "Train Accuracy 0.6100429344782528\n",
      "Val   loss 1.113049059311549\n",
      "Val   Acc 0.5486577181208053\n",
      "\n"
     ]
    },
    {
     "name": "stderr",
     "output_type": "stream",
     "text": [
      "100%|██████████| 670/670 [00:07<00:00, 91.33it/s]\n"
     ]
    },
    {
     "name": "stdout",
     "output_type": "stream",
     "text": [
      "Epoch 33, Learning Rate: 0.0001\n",
      "Epoch 33/500\n",
      "----------\n",
      "Train loss 0.9941482267717817\n",
      "Train Accuracy 0.6128430091469106\n",
      "Val   loss 1.0481885719299315\n",
      "Val   Acc 0.5922818791946308\n",
      "\n"
     ]
    },
    {
     "name": "stderr",
     "output_type": "stream",
     "text": [
      "100%|██████████| 670/670 [00:07<00:00, 90.84it/s]\n"
     ]
    },
    {
     "name": "stdout",
     "output_type": "stream",
     "text": [
      "Epoch 34, Learning Rate: 0.0001\n",
      "Epoch 34/500\n",
      "----------\n",
      "Train loss 0.9838380141934352\n",
      "Train Accuracy 0.6232966212432332\n",
      "Val   loss 1.0093147583802542\n",
      "Val   Acc 0.6140939597315436\n",
      "\n"
     ]
    },
    {
     "name": "stderr",
     "output_type": "stream",
     "text": [
      "100%|██████████| 670/670 [00:07<00:00, 91.83it/s]\n"
     ]
    },
    {
     "name": "stdout",
     "output_type": "stream",
     "text": [
      "Epoch 35, Learning Rate: 0.0001\n",
      "Epoch 35/500\n",
      "----------\n",
      "Train loss 0.9581468734278608\n",
      "Train Accuracy 0.6363636363636364\n",
      "Val   loss 1.0573987762133281\n",
      "Val   Acc 0.6023489932885906\n",
      "\n"
     ]
    },
    {
     "name": "stderr",
     "output_type": "stream",
     "text": [
      "100%|██████████| 670/670 [00:07<00:00, 92.23it/s]\n"
     ]
    },
    {
     "name": "stdout",
     "output_type": "stream",
     "text": [
      "Epoch 36, Learning Rate: 0.0001\n",
      "Epoch 36/500\n",
      "----------\n",
      "Train loss 0.9564799193793269\n",
      "Train Accuracy 0.6371103229419451\n",
      "Val   loss 1.0511852165063222\n",
      "Val   Acc 0.610738255033557\n",
      "\n"
     ]
    },
    {
     "name": "stderr",
     "output_type": "stream",
     "text": [
      "100%|██████████| 670/670 [00:07<00:00, 92.40it/s]\n"
     ]
    },
    {
     "name": "stdout",
     "output_type": "stream",
     "text": [
      "Epoch 37, Learning Rate: 0.0001\n",
      "Epoch 37/500\n",
      "----------\n",
      "Train loss 0.9559466477205504\n",
      "Train Accuracy 0.6376703378756767\n",
      "Val   loss 1.0250286237398782\n",
      "Val   Acc 0.6140939597315436\n",
      "\n"
     ]
    },
    {
     "name": "stderr",
     "output_type": "stream",
     "text": [
      "100%|██████████| 670/670 [00:07<00:00, 92.79it/s]\n"
     ]
    },
    {
     "name": "stdout",
     "output_type": "stream",
     "text": [
      "Epoch 38, Learning Rate: 0.0001\n",
      "Epoch 38/500\n",
      "----------\n",
      "Train loss 0.9486825382086768\n",
      "Train Accuracy 0.6339369049841329\n",
      "Val   loss 1.0502015729745229\n",
      "Val   Acc 0.6090604026845637\n",
      "\n"
     ]
    },
    {
     "name": "stderr",
     "output_type": "stream",
     "text": [
      "100%|██████████| 670/670 [00:07<00:00, 93.73it/s]\n"
     ]
    },
    {
     "name": "stdout",
     "output_type": "stream",
     "text": [
      "Epoch 39, Learning Rate: 0.0001\n",
      "Epoch 39/500\n",
      "----------\n",
      "Train loss 0.929554548681672\n",
      "Train Accuracy 0.641963785700952\n",
      "Val   loss 1.0772767996788024\n",
      "Val   Acc 0.587248322147651\n",
      "\n"
     ]
    },
    {
     "name": "stderr",
     "output_type": "stream",
     "text": [
      "100%|██████████| 670/670 [00:07<00:00, 93.47it/s]\n"
     ]
    },
    {
     "name": "stdout",
     "output_type": "stream",
     "text": [
      "Epoch 40, Learning Rate: 0.0001\n",
      "Epoch 40/500\n",
      "----------\n",
      "Train loss 0.920195000941184\n",
      "Train Accuracy 0.6503640097069255\n",
      "Val   loss 1.1218534012635548\n",
      "Val   Acc 0.5838926174496645\n",
      "\n"
     ]
    },
    {
     "name": "stderr",
     "output_type": "stream",
     "text": [
      "100%|██████████| 670/670 [00:07<00:00, 93.11it/s]\n"
     ]
    },
    {
     "name": "stdout",
     "output_type": "stream",
     "text": [
      "Epoch 41, Learning Rate: 0.0001\n",
      "Epoch 41/500\n",
      "----------\n",
      "Train loss 0.9191294636966577\n",
      "Train Accuracy 0.6494306514840396\n",
      "Val   loss 1.0134957788387935\n",
      "Val   Acc 0.6124161073825504\n",
      "\n"
     ]
    },
    {
     "name": "stderr",
     "output_type": "stream",
     "text": [
      "100%|██████████| 670/670 [00:07<00:00, 93.26it/s]\n"
     ]
    },
    {
     "name": "stdout",
     "output_type": "stream",
     "text": [
      "Epoch 42, Learning Rate: 0.0001\n",
      "Epoch 42/500\n",
      "----------\n",
      "Train loss 0.919444945765965\n",
      "Train Accuracy 0.6499906664177711\n",
      "Val   loss 1.036625572045644\n",
      "Val   Acc 0.610738255033557\n",
      "\n"
     ]
    },
    {
     "name": "stderr",
     "output_type": "stream",
     "text": [
      "100%|██████████| 670/670 [00:07<00:00, 93.93it/s]\n"
     ]
    },
    {
     "name": "stdout",
     "output_type": "stream",
     "text": [
      "Epoch 43, Learning Rate: 0.0001\n",
      "Epoch 43/500\n",
      "----------\n",
      "Train loss 0.9095844869293384\n",
      "Train Accuracy 0.6509240246406571\n",
      "Val   loss 1.0266004129250845\n",
      "Val   Acc 0.6174496644295302\n",
      "\n"
     ]
    },
    {
     "name": "stderr",
     "output_type": "stream",
     "text": [
      "100%|██████████| 670/670 [00:07<00:00, 93.41it/s]\n"
     ]
    },
    {
     "name": "stdout",
     "output_type": "stream",
     "text": [
      "Epoch 44, Learning Rate: 0.0001\n",
      "Epoch 44/500\n",
      "----------\n",
      "Train loss 0.8894918567876318\n",
      "Train Accuracy 0.6526040694418518\n",
      "Val   loss 1.031148938735326\n",
      "Val   Acc 0.610738255033557\n",
      "\n",
      "Early stopping triggered. No improvement in 10 epochs.\n"
     ]
    }
   ],
   "source": [
    "for epoch in range(EPOCHS):\n",
    "\n",
    "\n",
    "    train_loss,train_acc = train_epoch(model,train_dataloader,loss_fn, optimizer, DEVICE)\n",
    "    \n",
    "    val_loss,val_acc = eval_model(model,val_dataloader,loss_fn, DEVICE)\n",
    "    \n",
    "    \n",
    "    print(f'Epoch {epoch + 1}/{EPOCHS}')\n",
    "    print('-' * 10)\n",
    "    print(f'Train loss {train_loss}')\n",
    "    print(f'Train Accuracy {train_acc}')\n",
    "\n",
    "    print(f'Val   loss {val_loss}')\n",
    "    print(f'Val   Acc {val_acc}')\n",
    "\n",
    "    print()\n",
    "        \n",
    "    if val_loss < loss:\n",
    "        torch.save(model.state_dict(), 'best_model_state.bin')\n",
    "        loss = val_loss\n",
    "        epochs_without_improvement = 0\n",
    "    else:\n",
    "        epochs_without_improvement += 1\n",
    "\n",
    "    # Early stopping condition\n",
    "    if epochs_without_improvement == patience:\n",
    "        print(\"Early stopping triggered. No improvement in\", patience, \"epochs.\")\n",
    "        break\n",
    "\n",
    "\n",
    "\n",
    "    history['train_loss'].append(train_loss)\n",
    "    history['val_loss'].append(val_loss)\n",
    "    \n",
    "    \n",
    "    history['train_Accuracy'].append(train_acc)\n",
    "    history['val_Accuracy'].append(val_acc)\n",
    "\n",
    "    #save this incase of failure\n",
    "    torch.save(model.state_dict(), 'current_model_state.bin')\n",
    "    \n",
    "    \n",
    "#save last state to train later\n",
    "torch.save(model.state_dict(), 'last_model_state.bin')\n"
   ]
  },
  {
   "cell_type": "code",
   "execution_count": 34,
   "metadata": {
    "execution": {
     "iopub.execute_input": "2024-05-10T05:49:13.223634Z",
     "iopub.status.busy": "2024-05-10T05:49:13.223259Z",
     "iopub.status.idle": "2024-05-10T05:49:13.239953Z",
     "shell.execute_reply": "2024-05-10T05:49:13.239087Z",
     "shell.execute_reply.started": "2024-05-10T05:49:13.223599Z"
    }
   },
   "outputs": [
    {
     "data": {
      "text/plain": [
       "<All keys matched successfully>"
      ]
     },
     "execution_count": 34,
     "metadata": {},
     "output_type": "execute_result"
    }
   ],
   "source": [
    "model.load_state_dict(torch.load('/kaggle/working/best_model_state.bin'))"
   ]
  },
  {
   "cell_type": "code",
   "execution_count": 35,
   "metadata": {
    "execution": {
     "iopub.execute_input": "2024-05-10T05:49:13.241684Z",
     "iopub.status.busy": "2024-05-10T05:49:13.241341Z",
     "iopub.status.idle": "2024-05-10T05:49:13.545705Z",
     "shell.execute_reply": "2024-05-10T05:49:13.544809Z",
     "shell.execute_reply.started": "2024-05-10T05:49:13.241651Z"
    }
   },
   "outputs": [
    {
     "data": {
      "text/plain": [
       "<matplotlib.legend.Legend at 0x7a56abda54e0>"
      ]
     },
     "execution_count": 35,
     "metadata": {},
     "output_type": "execute_result"
    },
    {
     "data": {
      "image/png": "[encoded data removed]",
      "text/plain": [
       "<Figure size 400x400 with 1 Axes>"
      ]
     },
     "metadata": {},
     "output_type": "display_data"
    }
   ],
   "source": [
    "plt.figure(figsize=(4,4))\n",
    "plt.plot(history['train_Accuracy'], 'r',label='Training accuracy')\n",
    "plt.plot(history['val_Accuracy'], 'b', label='Validation accuracy')\n",
    "\n",
    "plt.title('Training and validation accuracy')\n",
    "plt.ylabel('Accuracy')\n",
    "plt.xlabel('Epoch')\n",
    "plt.legend()\n"
   ]
  },
  {
   "cell_type": "code",
   "execution_count": 36,
   "metadata": {
    "execution": {
     "iopub.execute_input": "2024-05-10T05:49:13.548843Z",
     "iopub.status.busy": "2024-05-10T05:49:13.548473Z",
     "iopub.status.idle": "2024-05-10T05:49:13.820818Z",
     "shell.execute_reply": "2024-05-10T05:49:13.819834Z",
     "shell.execute_reply.started": "2024-05-10T05:49:13.548809Z"
    }
   },
   "outputs": [
    {
     "data": {
      "text/plain": [
       "<matplotlib.legend.Legend at 0x7a56abcd58d0>"
      ]
     },
     "execution_count": 36,
     "metadata": {},
     "output_type": "execute_result"
    },
    {
     "data": {
      "image/png": "[encoded data removed]",
      "text/plain": [
       "<Figure size 400x400 with 1 Axes>"
      ]
     },
     "metadata": {},
     "output_type": "display_data"
    }
   ],
   "source": [
    "plt.figure(figsize=(4,4))\n",
    "plt.plot(history['train_loss'], 'r', label='Training loss')\n",
    "plt.plot(history['val_loss'], 'b', label='Validation loss')\n",
    "\n",
    "plt.title('Training and validation loss')\n",
    "plt.ylabel('Loss')\n",
    "plt.xlabel('Epoch')\n",
    "plt.legend()\n"
   ]
  },
  {
   "cell_type": "code",
   "execution_count": 37,
   "metadata": {
    "execution": {
     "iopub.execute_input": "2024-05-10T05:49:13.822523Z",
     "iopub.status.busy": "2024-05-10T05:49:13.822165Z",
     "iopub.status.idle": "2024-05-10T05:49:13.830281Z",
     "shell.execute_reply": "2024-05-10T05:49:13.829418Z",
     "shell.execute_reply.started": "2024-05-10T05:49:13.822472Z"
    }
   },
   "outputs": [],
   "source": [
    "def get_predicted(model, data_loader, loss_fn, device):\n",
    "    model = model.eval()\n",
    "\n",
    "    losses = []\n",
    "    predicted_labels = []\n",
    "    true_labels = []\n",
    "\n",
    "    with torch.no_grad():\n",
    "        for test_input, test_label in data_loader:\n",
    "            test_label = test_label.to(device)\n",
    "            test_input = test_input.to(device)\n",
    "\n",
    "            output_logits, output_softmax = model(test_input.float())\n",
    "\n",
    "            predictions = torch.argmax(output_softmax, dim=1)\n",
    "            predicted_labels.extend(predictions.cpu().numpy())\n",
    "            true_labels.extend(test_label.cpu().numpy())\n",
    "\n",
    "            loss = loss_fn(output_logits, test_label)\n",
    "            losses.append(loss.item())\n",
    "\n",
    "    mean_loss = np.mean(losses)\n",
    "\n",
    "    return mean_loss, predicted_labels, true_labels"
   ]
  },
  {
   "cell_type": "code",
   "execution_count": 38,
   "metadata": {
    "execution": {
     "iopub.execute_input": "2024-05-10T05:49:13.831744Z",
     "iopub.status.busy": "2024-05-10T05:49:13.831458Z",
     "iopub.status.idle": "2024-05-10T05:49:14.461359Z",
     "shell.execute_reply": "2024-05-10T05:49:14.460536Z",
     "shell.execute_reply.started": "2024-05-10T05:49:13.831709Z"
    }
   },
   "outputs": [],
   "source": [
    "mean_loss, predicted_labels, true_labels=get_predicted(model,test_dataloader,loss_fn,DEVICE)"
   ]
  },
  {
   "cell_type": "code",
   "execution_count": 39,
   "metadata": {
    "execution": {
     "iopub.execute_input": "2024-05-10T05:49:14.463045Z",
     "iopub.status.busy": "2024-05-10T05:49:14.462597Z",
     "iopub.status.idle": "2024-05-10T05:49:14.472580Z",
     "shell.execute_reply": "2024-05-10T05:49:14.471701Z",
     "shell.execute_reply.started": "2024-05-10T05:49:14.463010Z"
    }
   },
   "outputs": [],
   "source": [
    "from sklearn.metrics import precision_score, recall_score, f1_score, accuracy_score,classification_report,confusion_matrix\n",
    "\n",
    "import matplotlib.pyplot as plt\n",
    "def measurements_of_accuracy(Y_test,Y_pred,classifier,labels):\n",
    "    # Calculate the confusion matrix\n",
    "#     conf_matrix = confusion_matrix(y_true=Y_test, y_pred=Y_pred)\n",
    "#     matrix_precentage = conf_matrix.astype('float') / conf_matrix.sum(axis=1)[:, np.newaxis]\n",
    "    \n",
    "#     fig, ax = plt.subplots(figsize=(5, 5))\n",
    "#     ax.matshow(conf_matrix, cmap=plt.cm.Oranges, alpha=0.3)\n",
    "#     for i in range(conf_matrix.shape[0]):\n",
    "#         for j in range(conf_matrix.shape[1]):\n",
    "#             ax.text(x=j, y=i,s=conf_matrix[i, j], va='center', ha='center')\n",
    " \n",
    "#     plt.xlabel('Predictions', fontsize=18)\n",
    "#     plt.ylabel('Actuals', fontsize=18)\n",
    "#     plt.title(\"Confusion Matrix for \"+classifier+\"Classifier\", fontsize=18)\n",
    "#     plt.grid(False)\n",
    "#     plt.xticks(range(len(labels)), labels, rotation=90)  # Set x-axis labels\n",
    "#     plt.yticks(range(len(labels)), labels)  # Set y-axis labels\n",
    "#     plt.show()\n",
    "    \n",
    "#     #Accuracy\n",
    "#     print('Accuracy : %.4f' % accuracy_score(Y_test, Y_pred))\n",
    "\n",
    "#     #precision score\n",
    "#     print('Precision : %.4f' % precision_score(Y_test, Y_pred,average='macro'))\n",
    "    \n",
    "#     #Recall Score\n",
    "#     print('Recall : %.4f' % recall_score(Y_test, Y_pred,average='macro'))\n",
    "    \n",
    "#     #F1 score\n",
    "#     print('F1 Score : %.4f' % f1_score(Y_test, Y_pred,average='macro'))\n",
    "    \n",
    "#         # Find the most confusing classes\n",
    "#     misclassification_rates = 1 - np.diag(matrix_precentage)\n",
    "#     most_confusing_classes = [labels[i] for i in np.argsort(misclassification_rates)[::-1]]\n",
    "#     print(\"Most Confusing Classes:\")\n",
    "#     for i, label in enumerate(most_confusing_classes):\n",
    "#         rate_percentage = misclassification_rates[i] * 100\n",
    "#         print(f\"{i + 1}. {label}: {rate_percentage:.2f}% (Misclassification rate)\")\n",
    "    cm = confusion_matrix(Y_test, Y_pred)\n",
    "    report = classification_report(Y_test, Y_pred, target_names=labels)\n",
    "    \n",
    "    print('Classification Report:')\n",
    "    print(report)\n",
    "    \n",
    "    sns.set()\n",
    "    plt.figure(figsize=(8, 8))\n",
    "    sns.heatmap(cm, annot=True,fmt='d', cmap='Blues', annot_kws={\"fontsize\": 18}, xticklabels=labels, yticklabels=labels)\n",
    "    plt.xticks(fontsize=14)\n",
    "    plt.yticks(fontsize=14) \n",
    "    plt.title('Confusion Matrix', size=20)\n",
    "    plt.xlabel('Predicted labels', size=14)\n",
    "    plt.ylabel('True labels', size=14)\n",
    "    plt.show()\n"
   ]
  },
  {
   "cell_type": "code",
   "execution_count": 40,
   "metadata": {
    "execution": {
     "iopub.execute_input": "2024-05-10T05:49:14.473960Z",
     "iopub.status.busy": "2024-05-10T05:49:14.473687Z",
     "iopub.status.idle": "2024-05-10T05:49:14.486523Z",
     "shell.execute_reply": "2024-05-10T05:49:14.485624Z",
     "shell.execute_reply.started": "2024-05-10T05:49:14.473935Z"
    }
   },
   "outputs": [
    {
     "data": {
      "text/plain": [
       "{'Anger': 0, 'Disgust': 1, 'Fear': 2, 'Happy': 3, 'Neutral': 4, 'Sad': 5}"
      ]
     },
     "execution_count": 40,
     "metadata": {},
     "output_type": "execute_result"
    }
   ],
   "source": [
    "label_mapping"
   ]
  },
  {
   "cell_type": "code",
   "execution_count": 41,
   "metadata": {
    "execution": {
     "iopub.execute_input": "2024-05-10T05:49:14.488252Z",
     "iopub.status.busy": "2024-05-10T05:49:14.487671Z",
     "iopub.status.idle": "2024-05-10T05:49:14.970086Z",
     "shell.execute_reply": "2024-05-10T05:49:14.969147Z",
     "shell.execute_reply.started": "2024-05-10T05:49:14.488220Z"
    }
   },
   "outputs": [
    {
     "name": "stdout",
     "output_type": "stream",
     "text": [
      "Classification Report:\n",
      "              precision    recall  f1-score   support\n",
      "\n",
      "       Anger       0.83      0.61      0.71       254\n",
      "     Disgust       0.57      0.46      0.51       254\n",
      "        Fear       0.59      0.55      0.57       254\n",
      "       Happy       0.59      0.62      0.60       255\n",
      "     Neutral       0.55      0.88      0.68       218\n",
      "         Sad       0.67      0.63      0.65       254\n",
      "\n",
      "    accuracy                           0.62      1489\n",
      "   macro avg       0.63      0.63      0.62      1489\n",
      "weighted avg       0.63      0.62      0.62      1489\n",
      "\n"
     ]
    },
    {
     "data": {
      "image/png": "[encoded data removed]",
      "text/plain": [
       "<Figure size 800x800 with 2 Axes>"
      ]
     },
     "metadata": {},
     "output_type": "display_data"
    }
   ],
   "source": [
    "measurements_of_accuracy(true_labels,predicted_labels,\"Confusion matrix\",list(label_mapping.keys()))"
   ]
  },
  {
   "cell_type": "markdown",
   "metadata": {},
   "source": [
    "# MODEL 2 Training"
   ]
  },
  {
   "cell_type": "code",
   "execution_count": 42,
   "metadata": {
    "execution": {
     "iopub.execute_input": "2024-05-10T05:49:14.974809Z",
     "iopub.status.busy": "2024-05-10T05:49:14.974379Z",
     "iopub.status.idle": "2024-05-10T05:49:15.013170Z",
     "shell.execute_reply": "2024-05-10T05:49:15.012190Z",
     "shell.execute_reply.started": "2024-05-10T05:49:14.974781Z"
    }
   },
   "outputs": [],
   "source": [
    "import torch.optim as optim\n",
    "EPOCHS=500\n",
    "DEVICE = torch.device(\"cuda:0\" if torch.cuda.is_available() else \"cpu\")\n",
    "loss_fn =nn.CrossEntropyLoss().to(DEVICE)\n",
    "\n",
    "LEARNING_RATE=1e-4\n",
    "model = ParaNetTransformer(6).to(DEVICE)\n",
    "optimizer = optim.AdamW(model.parameters(), lr=LEARNING_RATE, weight_decay=0.001)\n",
    "# optimizer = optim.Adam(model.parameters(), lr=LEARNING_RATE)"
   ]
  },
  {
   "cell_type": "code",
   "execution_count": 43,
   "metadata": {
    "execution": {
     "iopub.execute_input": "2024-05-10T05:49:15.014970Z",
     "iopub.status.busy": "2024-05-10T05:49:15.014489Z",
     "iopub.status.idle": "2024-05-10T05:49:15.020192Z",
     "shell.execute_reply": "2024-05-10T05:49:15.019256Z",
     "shell.execute_reply.started": "2024-05-10T05:49:15.014934Z"
    }
   },
   "outputs": [],
   "source": [
    "from collections import defaultdict\n",
    "import math\n",
    "history = defaultdict(list)\n",
    "loss=math.inf\n",
    "epochs_without_improvement = 0\n",
    "patience = 30  # Number of epochs to wait for improvement"
   ]
  },
  {
   "cell_type": "code",
   "execution_count": 44,
   "metadata": {
    "execution": {
     "iopub.execute_input": "2024-05-10T05:49:15.021717Z",
     "iopub.status.busy": "2024-05-10T05:49:15.021416Z",
     "iopub.status.idle": "2024-05-10T06:13:39.986871Z",
     "shell.execute_reply": "2024-05-10T06:13:39.985961Z",
     "shell.execute_reply.started": "2024-05-10T05:49:15.021659Z"
    }
   },
   "outputs": [
    {
     "name": "stderr",
     "output_type": "stream",
     "text": [
      "100%|██████████| 670/670 [00:14<00:00, 47.37it/s]\n"
     ]
    },
    {
     "name": "stdout",
     "output_type": "stream",
     "text": [
      "Epoch 1, Learning Rate: 0.0001\n",
      "Epoch 1/500\n",
      "----------\n",
      "Train loss 1.7550209174405282\n",
      "Train Accuracy 0.321448571961919\n",
      "Val   loss 1.4801998535792034\n",
      "Val   Acc 0.3775167785234899\n",
      "\n"
     ]
    },
    {
     "name": "stderr",
     "output_type": "stream",
     "text": [
      "100%|██████████| 670/670 [00:14<00:00, 47.62it/s]\n"
     ]
    },
    {
     "name": "stdout",
     "output_type": "stream",
     "text": [
      "Epoch 2, Learning Rate: 0.0001\n",
      "Epoch 2/500\n",
      "----------\n",
      "Train loss 1.5751731345013007\n",
      "Train Accuracy 0.36382303528094084\n",
      "Val   loss 1.4024697144826253\n",
      "Val   Acc 0.39429530201342283\n",
      "\n"
     ]
    },
    {
     "name": "stderr",
     "output_type": "stream",
     "text": [
      "100%|██████████| 670/670 [00:14<00:00, 47.54it/s]\n"
     ]
    },
    {
     "name": "stdout",
     "output_type": "stream",
     "text": [
      "Epoch 3, Learning Rate: 0.0001\n",
      "Epoch 3/500\n",
      "----------\n",
      "Train loss 1.5095527202335757\n",
      "Train Accuracy 0.3858502893410491\n",
      "Val   loss 1.365228443145752\n",
      "Val   Acc 0.4563758389261745\n",
      "\n"
     ]
    },
    {
     "name": "stderr",
     "output_type": "stream",
     "text": [
      "100%|██████████| 670/670 [00:14<00:00, 47.67it/s]\n"
     ]
    },
    {
     "name": "stdout",
     "output_type": "stream",
     "text": [
      "Epoch 4, Learning Rate: 0.0001\n",
      "Epoch 4/500\n",
      "----------\n",
      "Train loss 1.442224024391886\n",
      "Train Accuracy 0.40918424491319766\n",
      "Val   loss 1.3454963954289754\n",
      "Val   Acc 0.43288590604026844\n",
      "\n"
     ]
    },
    {
     "name": "stderr",
     "output_type": "stream",
     "text": [
      "100%|██████████| 670/670 [00:14<00:00, 47.79it/s]\n"
     ]
    },
    {
     "name": "stdout",
     "output_type": "stream",
     "text": [
      "Epoch 5, Learning Rate: 0.0001\n",
      "Epoch 5/500\n",
      "----------\n",
      "Train loss 1.4125965604141577\n",
      "Train Accuracy 0.4271047227926078\n",
      "Val   loss 1.3139852555592855\n",
      "Val   Acc 0.45805369127516776\n",
      "\n"
     ]
    },
    {
     "name": "stderr",
     "output_type": "stream",
     "text": [
      "100%|██████████| 670/670 [00:14<00:00, 47.57it/s]\n"
     ]
    },
    {
     "name": "stdout",
     "output_type": "stream",
     "text": [
      "Epoch 6, Learning Rate: 0.0001\n",
      "Epoch 6/500\n",
      "----------\n",
      "Train loss 1.390161498713849\n",
      "Train Accuracy 0.4420384543587829\n",
      "Val   loss 1.3631546624501547\n",
      "Val   Acc 0.40436241610738255\n",
      "\n"
     ]
    },
    {
     "name": "stderr",
     "output_type": "stream",
     "text": [
      "100%|██████████| 670/670 [00:14<00:00, 47.68it/s]\n"
     ]
    },
    {
     "name": "stdout",
     "output_type": "stream",
     "text": [
      "Epoch 7, Learning Rate: 0.0001\n",
      "Epoch 7/500\n",
      "----------\n",
      "Train loss 1.3646831009814988\n",
      "Train Accuracy 0.45659884263580364\n",
      "Val   loss 1.2932211724917093\n",
      "Val   Acc 0.47651006711409394\n",
      "\n"
     ]
    },
    {
     "name": "stderr",
     "output_type": "stream",
     "text": [
      "100%|██████████| 670/670 [00:14<00:00, 47.24it/s]\n"
     ]
    },
    {
     "name": "stdout",
     "output_type": "stream",
     "text": [
      "Epoch 8, Learning Rate: 0.0001\n",
      "Epoch 8/500\n",
      "----------\n",
      "Train loss 1.3313324906932773\n",
      "Train Accuracy 0.4720925891357103\n",
      "Val   loss 1.301726892789205\n",
      "Val   Acc 0.4865771812080537\n",
      "\n"
     ]
    },
    {
     "name": "stderr",
     "output_type": "stream",
     "text": [
      "100%|██████████| 670/670 [00:13<00:00, 48.01it/s]\n"
     ]
    },
    {
     "name": "stdout",
     "output_type": "stream",
     "text": [
      "Epoch 9, Learning Rate: 0.0001\n",
      "Epoch 9/500\n",
      "----------\n",
      "Train loss 1.3163869743471714\n",
      "Train Accuracy 0.47657270860556283\n",
      "Val   loss 1.2636131660143535\n",
      "Val   Acc 0.5100671140939598\n",
      "\n"
     ]
    },
    {
     "name": "stderr",
     "output_type": "stream",
     "text": [
      "100%|██████████| 670/670 [00:14<00:00, 46.87it/s]\n"
     ]
    },
    {
     "name": "stdout",
     "output_type": "stream",
     "text": [
      "Epoch 10, Learning Rate: 0.0001\n",
      "Epoch 10/500\n",
      "----------\n",
      "Train loss 1.291413187535841\n",
      "Train Accuracy 0.49038641030427477\n",
      "Val   loss 1.3097557568550109\n",
      "Val   Acc 0.46476510067114096\n",
      "\n"
     ]
    },
    {
     "name": "stderr",
     "output_type": "stream",
     "text": [
      "100%|██████████| 670/670 [00:13<00:00, 48.01it/s]\n"
     ]
    },
    {
     "name": "stdout",
     "output_type": "stream",
     "text": [
      "Epoch 11, Learning Rate: 0.0001\n",
      "Epoch 11/500\n",
      "----------\n",
      "Train loss 1.268717320685956\n",
      "Train Accuracy 0.48982639537054323\n",
      "Val   loss 1.2706699005762736\n",
      "Val   Acc 0.45805369127516776\n",
      "\n"
     ]
    },
    {
     "name": "stderr",
     "output_type": "stream",
     "text": [
      "100%|██████████| 670/670 [00:14<00:00, 47.46it/s]\n"
     ]
    },
    {
     "name": "stdout",
     "output_type": "stream",
     "text": [
      "Epoch 12, Learning Rate: 0.0001\n",
      "Epoch 12/500\n",
      "----------\n",
      "Train loss 1.244589915248885\n",
      "Train Accuracy 0.508493559828262\n",
      "Val   loss 1.218056498368581\n",
      "Val   Acc 0.5285234899328859\n",
      "\n"
     ]
    },
    {
     "name": "stderr",
     "output_type": "stream",
     "text": [
      "100%|██████████| 670/670 [00:14<00:00, 47.62it/s]\n"
     ]
    },
    {
     "name": "stdout",
     "output_type": "stream",
     "text": [
      "Epoch 13, Learning Rate: 0.0001\n",
      "Epoch 13/500\n",
      "----------\n",
      "Train loss 1.2357166916576785\n",
      "Train Accuracy 0.504386783647564\n",
      "Val   loss 1.182659448782603\n",
      "Val   Acc 0.5335570469798657\n",
      "\n"
     ]
    },
    {
     "name": "stderr",
     "output_type": "stream",
     "text": [
      "100%|██████████| 670/670 [00:14<00:00, 47.38it/s]\n"
     ]
    },
    {
     "name": "stdout",
     "output_type": "stream",
     "text": [
      "Epoch 14, Learning Rate: 0.0001\n",
      "Epoch 14/500\n",
      "----------\n",
      "Train loss 1.2089255991266734\n",
      "Train Accuracy 0.5284674257980213\n",
      "Val   loss 1.1696009119351705\n",
      "Val   Acc 0.5436241610738255\n",
      "\n"
     ]
    },
    {
     "name": "stderr",
     "output_type": "stream",
     "text": [
      "100%|██████████| 670/670 [00:14<00:00, 47.59it/s]\n"
     ]
    },
    {
     "name": "stdout",
     "output_type": "stream",
     "text": [
      "Epoch 15, Learning Rate: 0.0001\n",
      "Epoch 15/500\n",
      "----------\n",
      "Train loss 1.2102428360216653\n",
      "Train Accuracy 0.5219339182378196\n",
      "Val   loss 1.1770538012186686\n",
      "Val   Acc 0.5369127516778524\n",
      "\n"
     ]
    },
    {
     "name": "stderr",
     "output_type": "stream",
     "text": [
      "100%|██████████| 670/670 [00:14<00:00, 47.20it/s]\n"
     ]
    },
    {
     "name": "stdout",
     "output_type": "stream",
     "text": [
      "Epoch 16, Learning Rate: 0.0001\n",
      "Epoch 16/500\n",
      "----------\n",
      "Train loss 1.1884127339765207\n",
      "Train Accuracy 0.5318275154004107\n",
      "Val   loss 1.119428636233012\n",
      "Val   Acc 0.5922818791946308\n",
      "\n"
     ]
    },
    {
     "name": "stderr",
     "output_type": "stream",
     "text": [
      "100%|██████████| 670/670 [00:14<00:00, 47.83it/s]\n"
     ]
    },
    {
     "name": "stdout",
     "output_type": "stream",
     "text": [
      "Epoch 17, Learning Rate: 0.0001\n",
      "Epoch 17/500\n",
      "----------\n",
      "Train loss 1.170524728698517\n",
      "Train Accuracy 0.5420944558521561\n",
      "Val   loss 1.1414850417772928\n",
      "Val   Acc 0.5721476510067114\n",
      "\n"
     ]
    },
    {
     "name": "stderr",
     "output_type": "stream",
     "text": [
      "100%|██████████| 670/670 [00:14<00:00, 47.24it/s]\n"
     ]
    },
    {
     "name": "stdout",
     "output_type": "stream",
     "text": [
      "Epoch 18, Learning Rate: 0.0001\n",
      "Epoch 18/500\n",
      "----------\n",
      "Train loss 1.1666960765176744\n",
      "Train Accuracy 0.5374276647377263\n",
      "Val   loss 1.2124826216697693\n",
      "Val   Acc 0.4899328859060403\n",
      "\n"
     ]
    },
    {
     "name": "stderr",
     "output_type": "stream",
     "text": [
      "100%|██████████| 670/670 [00:14<00:00, 47.61it/s]\n"
     ]
    },
    {
     "name": "stdout",
     "output_type": "stream",
     "text": [
      "Epoch 19, Learning Rate: 0.0001\n",
      "Epoch 19/500\n",
      "----------\n",
      "Train loss 1.1439468034167788\n",
      "Train Accuracy 0.5577748739966399\n",
      "Val   loss 1.1831353211402893\n",
      "Val   Acc 0.5436241610738255\n",
      "\n"
     ]
    },
    {
     "name": "stderr",
     "output_type": "stream",
     "text": [
      "100%|██████████| 670/670 [00:13<00:00, 47.95it/s]\n"
     ]
    },
    {
     "name": "stdout",
     "output_type": "stream",
     "text": [
      "Epoch 20, Learning Rate: 0.0001\n",
      "Epoch 20/500\n",
      "----------\n",
      "Train loss 1.123256713952591\n",
      "Train Accuracy 0.5596415904424118\n",
      "Val   loss 1.1983331163724265\n",
      "Val   Acc 0.5100671140939598\n",
      "\n"
     ]
    },
    {
     "name": "stderr",
     "output_type": "stream",
     "text": [
      "100%|██████████| 670/670 [00:14<00:00, 47.50it/s]\n"
     ]
    },
    {
     "name": "stdout",
     "output_type": "stream",
     "text": [
      "Epoch 21, Learning Rate: 0.0001\n",
      "Epoch 21/500\n",
      "----------\n",
      "Train loss 1.119731899829053\n",
      "Train Accuracy 0.5600149337315662\n",
      "Val   loss 1.1379790635903677\n",
      "Val   Acc 0.5570469798657718\n",
      "\n"
     ]
    },
    {
     "name": "stderr",
     "output_type": "stream",
     "text": [
      "100%|██████████| 670/670 [00:14<00:00, 47.83it/s]\n"
     ]
    },
    {
     "name": "stdout",
     "output_type": "stream",
     "text": [
      "Epoch 22, Learning Rate: 0.0001\n",
      "Epoch 22/500\n",
      "----------\n",
      "Train loss 1.1037828549075483\n",
      "Train Accuracy 0.5674817995146537\n",
      "Val   loss 1.0824696310361226\n",
      "Val   Acc 0.587248322147651\n",
      "\n"
     ]
    },
    {
     "name": "stderr",
     "output_type": "stream",
     "text": [
      "100%|██████████| 670/670 [00:14<00:00, 47.50it/s]\n"
     ]
    },
    {
     "name": "stdout",
     "output_type": "stream",
     "text": [
      "Epoch 23, Learning Rate: 0.0001\n",
      "Epoch 23/500\n",
      "----------\n",
      "Train loss 1.0959519512617766\n",
      "Train Accuracy 0.574761993653164\n",
      "Val   loss 1.1434277776877086\n",
      "Val   Acc 0.5486577181208053\n",
      "\n"
     ]
    },
    {
     "name": "stderr",
     "output_type": "stream",
     "text": [
      "100%|██████████| 670/670 [00:13<00:00, 47.94it/s]\n"
     ]
    },
    {
     "name": "stdout",
     "output_type": "stream",
     "text": [
      "Epoch 24, Learning Rate: 0.0001\n",
      "Epoch 24/500\n",
      "----------\n",
      "Train loss 1.0832178988563481\n",
      "Train Accuracy 0.5742019787194326\n",
      "Val   loss 1.0970971854527791\n",
      "Val   Acc 0.5704697986577181\n",
      "\n"
     ]
    },
    {
     "name": "stderr",
     "output_type": "stream",
     "text": [
      "100%|██████████| 670/670 [00:14<00:00, 47.39it/s]\n"
     ]
    },
    {
     "name": "stdout",
     "output_type": "stream",
     "text": [
      "Epoch 25, Learning Rate: 0.0001\n",
      "Epoch 25/500\n",
      "----------\n",
      "Train loss 1.074801641168879\n",
      "Train Accuracy 0.5872689938398358\n",
      "Val   loss 1.042501236597697\n",
      "Val   Acc 0.6157718120805369\n",
      "\n"
     ]
    },
    {
     "name": "stderr",
     "output_type": "stream",
     "text": [
      "100%|██████████| 670/670 [00:14<00:00, 47.71it/s]\n"
     ]
    },
    {
     "name": "stdout",
     "output_type": "stream",
     "text": [
      "Epoch 26, Learning Rate: 0.0001\n",
      "Epoch 26/500\n",
      "----------\n",
      "Train loss 1.0725506741164335\n",
      "Train Accuracy 0.5783087549001307\n",
      "Val   loss 1.098413377602895\n",
      "Val   Acc 0.5956375838926175\n",
      "\n"
     ]
    },
    {
     "name": "stderr",
     "output_type": "stream",
     "text": [
      "100%|██████████| 670/670 [00:14<00:00, 47.55it/s]\n"
     ]
    },
    {
     "name": "stdout",
     "output_type": "stream",
     "text": [
      "Epoch 27, Learning Rate: 0.0001\n",
      "Epoch 27/500\n",
      "----------\n",
      "Train loss 1.0507748337823952\n",
      "Train Accuracy 0.5943625163337689\n",
      "Val   loss 1.1048649621009827\n",
      "Val   Acc 0.575503355704698\n",
      "\n"
     ]
    },
    {
     "name": "stderr",
     "output_type": "stream",
     "text": [
      "100%|██████████| 670/670 [00:13<00:00, 47.91it/s]\n"
     ]
    },
    {
     "name": "stdout",
     "output_type": "stream",
     "text": [
      "Epoch 28, Learning Rate: 0.0001\n",
      "Epoch 28/500\n",
      "----------\n",
      "Train loss 1.0434757676142365\n",
      "Train Accuracy 0.587455665484413\n",
      "Val   loss 1.069548916419347\n",
      "Val   Acc 0.5838926174496645\n",
      "\n"
     ]
    },
    {
     "name": "stderr",
     "output_type": "stream",
     "text": [
      "100%|██████████| 670/670 [00:13<00:00, 47.87it/s]\n"
     ]
    },
    {
     "name": "stdout",
     "output_type": "stream",
     "text": [
      "Epoch 29, Learning Rate: 0.0001\n",
      "Epoch 29/500\n",
      "----------\n",
      "Train loss 1.0355798704855477\n",
      "Train Accuracy 0.5945491879783461\n",
      "Val   loss 1.0078011858463287\n",
      "Val   Acc 0.6325503355704698\n",
      "\n"
     ]
    },
    {
     "name": "stderr",
     "output_type": "stream",
     "text": [
      "100%|██████████| 670/670 [00:14<00:00, 47.51it/s]\n"
     ]
    },
    {
     "name": "stdout",
     "output_type": "stream",
     "text": [
      "Epoch 30, Learning Rate: 0.0001\n",
      "Epoch 30/500\n",
      "----------\n",
      "Train loss 1.0324227825029573\n",
      "Train Accuracy 0.5887623669964532\n",
      "Val   loss 1.0489447124799092\n",
      "Val   Acc 0.6174496644295302\n",
      "\n"
     ]
    },
    {
     "name": "stderr",
     "output_type": "stream",
     "text": [
      "100%|██████████| 670/670 [00:14<00:00, 46.91it/s]\n"
     ]
    },
    {
     "name": "stdout",
     "output_type": "stream",
     "text": [
      "Epoch 31, Learning Rate: 0.0001\n",
      "Epoch 31/500\n",
      "----------\n",
      "Train loss 1.0205370960840539\n",
      "Train Accuracy 0.6081762180324809\n",
      "Val   loss 1.0343769379456837\n",
      "Val   Acc 0.6140939597315436\n",
      "\n"
     ]
    },
    {
     "name": "stderr",
     "output_type": "stream",
     "text": [
      "100%|██████████| 670/670 [00:14<00:00, 47.49it/s]\n"
     ]
    },
    {
     "name": "stdout",
     "output_type": "stream",
     "text": [
      "Epoch 32, Learning Rate: 0.0001\n",
      "Epoch 32/500\n",
      "----------\n",
      "Train loss 1.0229442215232707\n",
      "Train Accuracy 0.5915624416651111\n",
      "Val   loss 1.0170078281561534\n",
      "Val   Acc 0.6191275167785235\n",
      "\n"
     ]
    },
    {
     "name": "stderr",
     "output_type": "stream",
     "text": [
      "100%|██████████| 670/670 [00:13<00:00, 48.19it/s]\n"
     ]
    },
    {
     "name": "stdout",
     "output_type": "stream",
     "text": [
      "Epoch 33, Learning Rate: 0.0001\n",
      "Epoch 33/500\n",
      "----------\n",
      "Train loss 1.0003896484179284\n",
      "Train Accuracy 0.609296247899944\n",
      "Val   loss 1.0104146603743236\n",
      "Val   Acc 0.6090604026845637\n",
      "\n"
     ]
    },
    {
     "name": "stderr",
     "output_type": "stream",
     "text": [
      "100%|██████████| 670/670 [00:14<00:00, 47.36it/s]\n"
     ]
    },
    {
     "name": "stdout",
     "output_type": "stream",
     "text": [
      "Epoch 34, Learning Rate: 0.0001\n",
      "Epoch 34/500\n",
      "----------\n",
      "Train loss 1.0037249592257969\n",
      "Train Accuracy 0.6089229046107896\n",
      "Val   loss 1.0457288094361623\n",
      "Val   Acc 0.6258389261744967\n",
      "\n"
     ]
    },
    {
     "name": "stderr",
     "output_type": "stream",
     "text": [
      "100%|██████████| 670/670 [00:14<00:00, 47.46it/s]\n"
     ]
    },
    {
     "name": "stdout",
     "output_type": "stream",
     "text": [
      "Epoch 35, Learning Rate: 0.0001\n",
      "Epoch 35/500\n",
      "----------\n",
      "Train loss 0.9779561166443042\n",
      "Train Accuracy 0.6219899197311929\n",
      "Val   loss 1.003352295557658\n",
      "Val   Acc 0.6073825503355704\n",
      "\n"
     ]
    },
    {
     "name": "stderr",
     "output_type": "stream",
     "text": [
      "100%|██████████| 670/670 [00:14<00:00, 47.17it/s]\n"
     ]
    },
    {
     "name": "stdout",
     "output_type": "stream",
     "text": [
      "Epoch 36, Learning Rate: 0.0001\n",
      "Epoch 36/500\n",
      "----------\n",
      "Train loss 0.9867172965585296\n",
      "Train Accuracy 0.625163337689005\n",
      "Val   loss 1.0795385845502217\n",
      "Val   Acc 0.5889261744966443\n",
      "\n"
     ]
    },
    {
     "name": "stderr",
     "output_type": "stream",
     "text": [
      "100%|██████████| 670/670 [00:13<00:00, 47.94it/s]\n"
     ]
    },
    {
     "name": "stdout",
     "output_type": "stream",
     "text": [
      "Epoch 37, Learning Rate: 0.0001\n",
      "Epoch 37/500\n",
      "----------\n",
      "Train loss 0.9645842742341668\n",
      "Train Accuracy 0.6328168751166697\n",
      "Val   loss 1.0087211147944133\n",
      "Val   Acc 0.6191275167785235\n",
      "\n"
     ]
    },
    {
     "name": "stderr",
     "output_type": "stream",
     "text": [
      "100%|██████████| 670/670 [00:14<00:00, 47.57it/s]\n"
     ]
    },
    {
     "name": "stdout",
     "output_type": "stream",
     "text": [
      "Epoch 38, Learning Rate: 0.0001\n",
      "Epoch 38/500\n",
      "----------\n",
      "Train loss 0.9657012952352637\n",
      "Train Accuracy 0.6283367556468172\n",
      "Val   loss 1.0553096961975097\n",
      "Val   Acc 0.5922818791946308\n",
      "\n"
     ]
    },
    {
     "name": "stderr",
     "output_type": "stream",
     "text": [
      "100%|██████████| 670/670 [00:14<00:00, 46.67it/s]\n"
     ]
    },
    {
     "name": "stdout",
     "output_type": "stream",
     "text": [
      "Epoch 39, Learning Rate: 0.0001\n",
      "Epoch 39/500\n",
      "----------\n",
      "Train loss 0.9557110701034318\n",
      "Train Accuracy 0.6341235766287101\n",
      "Val   loss 1.0064007679621378\n",
      "Val   Acc 0.6174496644295302\n",
      "\n"
     ]
    },
    {
     "name": "stderr",
     "output_type": "stream",
     "text": [
      "100%|██████████| 670/670 [00:14<00:00, 45.78it/s]\n"
     ]
    },
    {
     "name": "stdout",
     "output_type": "stream",
     "text": [
      "Epoch 40, Learning Rate: 0.0001\n",
      "Epoch 40/500\n",
      "----------\n",
      "Train loss 0.9458252918364397\n",
      "Train Accuracy 0.6404704125443346\n",
      "Val   loss 1.0893128923575084\n",
      "Val   Acc 0.6023489932885906\n",
      "\n"
     ]
    },
    {
     "name": "stderr",
     "output_type": "stream",
     "text": [
      "100%|██████████| 670/670 [00:14<00:00, 46.07it/s]\n"
     ]
    },
    {
     "name": "stdout",
     "output_type": "stream",
     "text": [
      "Epoch 41, Learning Rate: 0.0001\n",
      "Epoch 41/500\n",
      "----------\n",
      "Train loss 0.9455447492759619\n",
      "Train Accuracy 0.6346835915624417\n",
      "Val   loss 1.0010289315382639\n",
      "Val   Acc 0.6375838926174496\n",
      "\n"
     ]
    },
    {
     "name": "stderr",
     "output_type": "stream",
     "text": [
      "100%|██████████| 670/670 [00:14<00:00, 45.56it/s]\n"
     ]
    },
    {
     "name": "stdout",
     "output_type": "stream",
     "text": [
      "Epoch 42, Learning Rate: 0.0001\n",
      "Epoch 42/500\n",
      "----------\n",
      "Train loss 0.9390455460815287\n",
      "Train Accuracy 0.6412170991226432\n",
      "Val   loss 1.0502722851435344\n",
      "Val   Acc 0.6174496644295302\n",
      "\n"
     ]
    },
    {
     "name": "stderr",
     "output_type": "stream",
     "text": [
      "100%|██████████| 670/670 [00:14<00:00, 45.90it/s]\n"
     ]
    },
    {
     "name": "stdout",
     "output_type": "stream",
     "text": [
      "Epoch 43, Learning Rate: 0.0001\n",
      "Epoch 43/500\n",
      "----------\n",
      "Train loss 0.9346694396058125\n",
      "Train Accuracy 0.6434571588575695\n",
      "Val   loss 1.0529015453656514\n",
      "Val   Acc 0.5973154362416108\n",
      "\n"
     ]
    },
    {
     "name": "stderr",
     "output_type": "stream",
     "text": [
      "100%|██████████| 670/670 [00:14<00:00, 45.26it/s]\n"
     ]
    },
    {
     "name": "stdout",
     "output_type": "stream",
     "text": [
      "Epoch 44, Learning Rate: 0.0001\n",
      "Epoch 44/500\n",
      "----------\n",
      "Train loss 0.9233876163612551\n",
      "Train Accuracy 0.6440171737913011\n",
      "Val   loss 1.0150861183802287\n",
      "Val   Acc 0.6208053691275168\n",
      "\n"
     ]
    },
    {
     "name": "stderr",
     "output_type": "stream",
     "text": [
      "100%|██████████| 670/670 [00:14<00:00, 45.89it/s]\n"
     ]
    },
    {
     "name": "stdout",
     "output_type": "stream",
     "text": [
      "Epoch 45, Learning Rate: 0.0001\n",
      "Epoch 45/500\n",
      "----------\n",
      "Train loss 0.9134505937126145\n",
      "Train Accuracy 0.6451372036587643\n",
      "Val   loss 0.986022101243337\n",
      "Val   Acc 0.6459731543624161\n",
      "\n"
     ]
    },
    {
     "name": "stderr",
     "output_type": "stream",
     "text": [
      "100%|██████████| 670/670 [00:14<00:00, 45.86it/s]\n"
     ]
    },
    {
     "name": "stdout",
     "output_type": "stream",
     "text": [
      "Epoch 46, Learning Rate: 0.0001\n",
      "Epoch 46/500\n",
      "----------\n",
      "Train loss 0.9008552666030712\n",
      "Train Accuracy 0.6524173977972746\n",
      "Val   loss 1.0364097793896994\n",
      "Val   Acc 0.6057046979865772\n",
      "\n"
     ]
    },
    {
     "name": "stderr",
     "output_type": "stream",
     "text": [
      "100%|██████████| 670/670 [00:14<00:00, 45.99it/s]\n"
     ]
    },
    {
     "name": "stdout",
     "output_type": "stream",
     "text": [
      "Epoch 47, Learning Rate: 0.0001\n",
      "Epoch 47/500\n",
      "----------\n",
      "Train loss 0.8888915866168577\n",
      "Train Accuracy 0.6591375770020534\n",
      "Val   loss 1.0444494990507762\n",
      "Val   Acc 0.610738255033557\n",
      "\n"
     ]
    },
    {
     "name": "stderr",
     "output_type": "stream",
     "text": [
      "100%|██████████| 670/670 [00:14<00:00, 45.39it/s]\n"
     ]
    },
    {
     "name": "stdout",
     "output_type": "stream",
     "text": [
      "Epoch 48, Learning Rate: 0.0001\n",
      "Epoch 48/500\n",
      "----------\n",
      "Train loss 0.8961026722815499\n",
      "Train Accuracy 0.6578308754900131\n",
      "Val   loss 1.0286647737026215\n",
      "Val   Acc 0.6291946308724832\n",
      "\n"
     ]
    },
    {
     "name": "stderr",
     "output_type": "stream",
     "text": [
      "100%|██████████| 670/670 [00:14<00:00, 45.91it/s]\n"
     ]
    },
    {
     "name": "stdout",
     "output_type": "stream",
     "text": [
      "Epoch 49, Learning Rate: 0.0001\n",
      "Epoch 49/500\n",
      "----------\n",
      "Train loss 0.8724814441889079\n",
      "Train Accuracy 0.6632443531827515\n",
      "Val   loss 0.9804107856750488\n",
      "Val   Acc 0.6359060402684564\n",
      "\n"
     ]
    },
    {
     "name": "stderr",
     "output_type": "stream",
     "text": [
      "100%|██████████| 670/670 [00:14<00:00, 45.51it/s]\n"
     ]
    },
    {
     "name": "stdout",
     "output_type": "stream",
     "text": [
      "Epoch 50, Learning Rate: 0.0001\n",
      "Epoch 50/500\n",
      "----------\n",
      "Train loss 0.8781276093712493\n",
      "Train Accuracy 0.6651110696285234\n",
      "Val   loss 0.947876614332199\n",
      "Val   Acc 0.6543624161073825\n",
      "\n"
     ]
    },
    {
     "name": "stderr",
     "output_type": "stream",
     "text": [
      "100%|██████████| 670/670 [00:14<00:00, 45.72it/s]\n"
     ]
    },
    {
     "name": "stdout",
     "output_type": "stream",
     "text": [
      "Epoch 51, Learning Rate: 0.0001\n",
      "Epoch 51/500\n",
      "----------\n",
      "Train loss 0.8638683102024135\n",
      "Train Accuracy 0.6654844129176778\n",
      "Val   loss 1.031200829744339\n",
      "Val   Acc 0.6191275167785235\n",
      "\n"
     ]
    },
    {
     "name": "stderr",
     "output_type": "stream",
     "text": [
      "100%|██████████| 670/670 [00:14<00:00, 46.18it/s]\n"
     ]
    },
    {
     "name": "stdout",
     "output_type": "stream",
     "text": [
      "Epoch 52, Learning Rate: 0.0001\n",
      "Epoch 52/500\n",
      "----------\n",
      "Train loss 0.8648705998018607\n",
      "Train Accuracy 0.665671084562255\n",
      "Val   loss 0.9766572229067485\n",
      "Val   Acc 0.6442953020134228\n",
      "\n"
     ]
    },
    {
     "name": "stderr",
     "output_type": "stream",
     "text": [
      "100%|██████████| 670/670 [00:14<00:00, 45.55it/s]\n"
     ]
    },
    {
     "name": "stdout",
     "output_type": "stream",
     "text": [
      "Epoch 53, Learning Rate: 0.0001\n",
      "Epoch 53/500\n",
      "----------\n",
      "Train loss 0.8457443611390555\n",
      "Train Accuracy 0.6764980399477319\n",
      "Val   loss 0.9606127878030141\n",
      "Val   Acc 0.6526845637583892\n",
      "\n"
     ]
    },
    {
     "name": "stderr",
     "output_type": "stream",
     "text": [
      "100%|██████████| 670/670 [00:14<00:00, 45.35it/s]\n"
     ]
    },
    {
     "name": "stdout",
     "output_type": "stream",
     "text": [
      "Epoch 54, Learning Rate: 0.0001\n",
      "Epoch 54/500\n",
      "----------\n",
      "Train loss 0.8514438820419027\n",
      "Train Accuracy 0.6751913384356916\n",
      "Val   loss 0.9633640011151632\n",
      "Val   Acc 0.6459731543624161\n",
      "\n"
     ]
    },
    {
     "name": "stderr",
     "output_type": "stream",
     "text": [
      "100%|██████████| 670/670 [00:14<00:00, 47.26it/s]\n"
     ]
    },
    {
     "name": "stdout",
     "output_type": "stream",
     "text": [
      "Epoch 55, Learning Rate: 0.0001\n",
      "Epoch 55/500\n",
      "----------\n",
      "Train loss 0.8539831817594927\n",
      "Train Accuracy 0.6690311741646444\n",
      "Val   loss 1.018701103925705\n",
      "Val   Acc 0.6073825503355704\n",
      "\n"
     ]
    },
    {
     "name": "stderr",
     "output_type": "stream",
     "text": [
      "100%|██████████| 670/670 [00:13<00:00, 48.15it/s]\n"
     ]
    },
    {
     "name": "stdout",
     "output_type": "stream",
     "text": [
      "Epoch 56, Learning Rate: 0.0001\n",
      "Epoch 56/500\n",
      "----------\n",
      "Train loss 0.8141387998835364\n",
      "Train Accuracy 0.6830315475079335\n",
      "Val   loss 1.029196017185847\n",
      "Val   Acc 0.6124161073825504\n",
      "\n"
     ]
    },
    {
     "name": "stderr",
     "output_type": "stream",
     "text": [
      "100%|██████████| 670/670 [00:14<00:00, 47.34it/s]\n"
     ]
    },
    {
     "name": "stdout",
     "output_type": "stream",
     "text": [
      "Epoch 57, Learning Rate: 0.0001\n",
      "Epoch 57/500\n",
      "----------\n",
      "Train loss 0.8285657368489165\n",
      "Train Accuracy 0.6832182191525107\n",
      "Val   loss 0.9704483266671499\n",
      "Val   Acc 0.6258389261744967\n",
      "\n"
     ]
    },
    {
     "name": "stderr",
     "output_type": "stream",
     "text": [
      "100%|██████████| 670/670 [00:13<00:00, 48.02it/s]\n"
     ]
    },
    {
     "name": "stdout",
     "output_type": "stream",
     "text": [
      "Epoch 58, Learning Rate: 0.0001\n",
      "Epoch 58/500\n",
      "----------\n",
      "Train loss 0.813065159432034\n",
      "Train Accuracy 0.6903117416464439\n",
      "Val   loss 1.0751144534349442\n",
      "Val   Acc 0.6073825503355704\n",
      "\n"
     ]
    },
    {
     "name": "stderr",
     "output_type": "stream",
     "text": [
      "100%|██████████| 670/670 [00:14<00:00, 47.49it/s]\n"
     ]
    },
    {
     "name": "stdout",
     "output_type": "stream",
     "text": [
      "Epoch 59, Learning Rate: 0.0001\n",
      "Epoch 59/500\n",
      "----------\n",
      "Train loss 0.8182257178114422\n",
      "Train Accuracy 0.6947918611162964\n",
      "Val   loss 1.004175262451172\n",
      "Val   Acc 0.6476510067114094\n",
      "\n"
     ]
    },
    {
     "name": "stderr",
     "output_type": "stream",
     "text": [
      "100%|██████████| 670/670 [00:13<00:00, 48.43it/s]\n"
     ]
    },
    {
     "name": "stdout",
     "output_type": "stream",
     "text": [
      "Epoch 60, Learning Rate: 0.0001\n",
      "Epoch 60/500\n",
      "----------\n",
      "Train loss 0.8190686145380361\n",
      "Train Accuracy 0.6876983386223633\n",
      "Val   loss 1.003792692621549\n",
      "Val   Acc 0.6442953020134228\n",
      "\n"
     ]
    },
    {
     "name": "stderr",
     "output_type": "stream",
     "text": [
      "100%|██████████| 670/670 [00:14<00:00, 47.01it/s]\n"
     ]
    },
    {
     "name": "stdout",
     "output_type": "stream",
     "text": [
      "Epoch 61, Learning Rate: 0.0001\n",
      "Epoch 61/500\n",
      "----------\n",
      "Train loss 0.8192973173598745\n",
      "Train Accuracy 0.6931118163151018\n",
      "Val   loss 1.0236734608809153\n",
      "Val   Acc 0.6208053691275168\n",
      "\n"
     ]
    },
    {
     "name": "stderr",
     "output_type": "stream",
     "text": [
      "100%|██████████| 670/670 [00:14<00:00, 47.60it/s]\n"
     ]
    },
    {
     "name": "stdout",
     "output_type": "stream",
     "text": [
      "Epoch 62, Learning Rate: 0.0001\n",
      "Epoch 62/500\n",
      "----------\n",
      "Train loss 0.7975262766231351\n",
      "Train Accuracy 0.696285234272914\n",
      "Val   loss 1.0432047132651012\n",
      "Val   Acc 0.62751677852349\n",
      "\n"
     ]
    },
    {
     "name": "stderr",
     "output_type": "stream",
     "text": [
      "100%|██████████| 670/670 [00:14<00:00, 47.71it/s]\n"
     ]
    },
    {
     "name": "stdout",
     "output_type": "stream",
     "text": [
      "Epoch 63, Learning Rate: 0.0001\n",
      "Epoch 63/500\n",
      "----------\n",
      "Train loss 0.7972423640649711\n",
      "Train Accuracy 0.7011386970319209\n",
      "Val   loss 0.9471404337882996\n",
      "Val   Acc 0.6610738255033557\n",
      "\n"
     ]
    },
    {
     "name": "stderr",
     "output_type": "stream",
     "text": [
      "100%|██████████| 670/670 [00:13<00:00, 48.26it/s]\n"
     ]
    },
    {
     "name": "stdout",
     "output_type": "stream",
     "text": [
      "Epoch 64, Learning Rate: 0.0001\n",
      "Epoch 64/500\n",
      "----------\n",
      "Train loss 0.7836655399692593\n",
      "Train Accuracy 0.695351876050028\n",
      "Val   loss 0.988528360525767\n",
      "Val   Acc 0.6291946308724832\n",
      "\n"
     ]
    },
    {
     "name": "stderr",
     "output_type": "stream",
     "text": [
      "100%|██████████| 670/670 [00:14<00:00, 47.16it/s]\n"
     ]
    },
    {
     "name": "stdout",
     "output_type": "stream",
     "text": [
      "Epoch 65, Learning Rate: 0.0001\n",
      "Epoch 65/500\n",
      "----------\n",
      "Train loss 0.7633195174162957\n",
      "Train Accuracy 0.7063655030800822\n",
      "Val   loss 0.9992314759890238\n",
      "Val   Acc 0.6375838926174496\n",
      "\n"
     ]
    },
    {
     "name": "stderr",
     "output_type": "stream",
     "text": [
      "100%|██████████| 670/670 [00:14<00:00, 47.81it/s]\n"
     ]
    },
    {
     "name": "stdout",
     "output_type": "stream",
     "text": [
      "Epoch 66, Learning Rate: 0.0001\n",
      "Epoch 66/500\n",
      "----------\n",
      "Train loss 0.7680843694441354\n",
      "Train Accuracy 0.7063655030800822\n",
      "Val   loss 0.9696248110135396\n",
      "Val   Acc 0.6560402684563759\n",
      "\n"
     ]
    },
    {
     "name": "stderr",
     "output_type": "stream",
     "text": [
      "100%|██████████| 670/670 [00:14<00:00, 47.74it/s]\n"
     ]
    },
    {
     "name": "stdout",
     "output_type": "stream",
     "text": [
      "Epoch 67, Learning Rate: 0.0001\n",
      "Epoch 67/500\n",
      "----------\n",
      "Train loss 0.7590931730483895\n",
      "Train Accuracy 0.7145790554414785\n",
      "Val   loss 0.9980652391910553\n",
      "Val   Acc 0.6359060402684564\n",
      "\n"
     ]
    },
    {
     "name": "stderr",
     "output_type": "stream",
     "text": [
      "100%|██████████| 670/670 [00:13<00:00, 47.98it/s]\n"
     ]
    },
    {
     "name": "stdout",
     "output_type": "stream",
     "text": [
      "Epoch 68, Learning Rate: 0.0001\n",
      "Epoch 68/500\n",
      "----------\n",
      "Train loss 0.7545608246281965\n",
      "Train Accuracy 0.7177524733992906\n",
      "Val   loss 0.9744042793909709\n",
      "Val   Acc 0.6543624161073825\n",
      "\n"
     ]
    },
    {
     "name": "stderr",
     "output_type": "stream",
     "text": [
      "100%|██████████| 670/670 [00:13<00:00, 48.13it/s]\n"
     ]
    },
    {
     "name": "stdout",
     "output_type": "stream",
     "text": [
      "Epoch 69, Learning Rate: 0.0001\n",
      "Epoch 69/500\n",
      "----------\n",
      "Train loss 0.7399375688673845\n",
      "Train Accuracy 0.7127123389957065\n",
      "Val   loss 0.9791206045945485\n",
      "Val   Acc 0.639261744966443\n",
      "\n"
     ]
    },
    {
     "name": "stderr",
     "output_type": "stream",
     "text": [
      "100%|██████████| 670/670 [00:14<00:00, 47.39it/s]\n"
     ]
    },
    {
     "name": "stdout",
     "output_type": "stream",
     "text": [
      "Epoch 70, Learning Rate: 0.0001\n",
      "Epoch 70/500\n",
      "----------\n",
      "Train loss 0.7594317103722202\n",
      "Train Accuracy 0.7117789807728206\n",
      "Val   loss 0.9368886152903239\n",
      "Val   Acc 0.6677852348993288\n",
      "\n"
     ]
    },
    {
     "name": "stderr",
     "output_type": "stream",
     "text": [
      "100%|██████████| 670/670 [00:13<00:00, 48.41it/s]\n"
     ]
    },
    {
     "name": "stdout",
     "output_type": "stream",
     "text": [
      "Epoch 71, Learning Rate: 0.0001\n",
      "Epoch 71/500\n",
      "----------\n",
      "Train loss 0.7483256614030297\n",
      "Train Accuracy 0.720179204778794\n",
      "Val   loss 1.017826197942098\n",
      "Val   Acc 0.6342281879194631\n",
      "\n"
     ]
    },
    {
     "name": "stderr",
     "output_type": "stream",
     "text": [
      "100%|██████████| 670/670 [00:14<00:00, 47.29it/s]\n"
     ]
    },
    {
     "name": "stdout",
     "output_type": "stream",
     "text": [
      "Epoch 72, Learning Rate: 0.0001\n",
      "Epoch 72/500\n",
      "----------\n",
      "Train loss 0.7301645015491478\n",
      "Train Accuracy 0.7240993093149151\n",
      "Val   loss 0.9555031141638756\n",
      "Val   Acc 0.6510067114093959\n",
      "\n"
     ]
    },
    {
     "name": "stderr",
     "output_type": "stream",
     "text": [
      "100%|██████████| 670/670 [00:13<00:00, 48.15it/s]\n"
     ]
    },
    {
     "name": "stdout",
     "output_type": "stream",
     "text": [
      "Epoch 73, Learning Rate: 0.0001\n",
      "Epoch 73/500\n",
      "----------\n",
      "Train loss 0.7225456002043255\n",
      "Train Accuracy 0.7276460705618817\n",
      "Val   loss 0.966530648469925\n",
      "Val   Acc 0.6459731543624161\n",
      "\n"
     ]
    },
    {
     "name": "stderr",
     "output_type": "stream",
     "text": [
      "100%|██████████| 670/670 [00:14<00:00, 46.82it/s]\n"
     ]
    },
    {
     "name": "stdout",
     "output_type": "stream",
     "text": [
      "Epoch 74, Learning Rate: 0.0001\n",
      "Epoch 74/500\n",
      "----------\n",
      "Train loss 0.7311652688837763\n",
      "Train Accuracy 0.7209258913571028\n",
      "Val   loss 0.9701855111122132\n",
      "Val   Acc 0.6308724832214765\n",
      "\n"
     ]
    },
    {
     "name": "stderr",
     "output_type": "stream",
     "text": [
      "100%|██████████| 670/670 [00:14<00:00, 47.15it/s]\n"
     ]
    },
    {
     "name": "stdout",
     "output_type": "stream",
     "text": [
      "Epoch 75, Learning Rate: 0.0001\n",
      "Epoch 75/500\n",
      "----------\n",
      "Train loss 0.7046105883793155\n",
      "Train Accuracy 0.7308194885196938\n",
      "Val   loss 0.9817229137818019\n",
      "Val   Acc 0.6409395973154363\n",
      "\n"
     ]
    },
    {
     "name": "stderr",
     "output_type": "stream",
     "text": [
      "100%|██████████| 670/670 [00:14<00:00, 46.66it/s]\n"
     ]
    },
    {
     "name": "stdout",
     "output_type": "stream",
     "text": [
      "Epoch 76, Learning Rate: 0.0001\n",
      "Epoch 76/500\n",
      "----------\n",
      "Train loss 0.6949758874947456\n",
      "Train Accuracy 0.7375396677244727\n",
      "Val   loss 1.0041972599426905\n",
      "Val   Acc 0.6409395973154363\n",
      "\n"
     ]
    },
    {
     "name": "stderr",
     "output_type": "stream",
     "text": [
      "100%|██████████| 670/670 [00:14<00:00, 47.62it/s]\n"
     ]
    },
    {
     "name": "stdout",
     "output_type": "stream",
     "text": [
      "Epoch 77, Learning Rate: 0.0001\n",
      "Epoch 77/500\n",
      "----------\n",
      "Train loss 0.6898890862269188\n",
      "Train Accuracy 0.737913011013627\n",
      "Val   loss 0.9920269672075908\n",
      "Val   Acc 0.6359060402684564\n",
      "\n"
     ]
    },
    {
     "name": "stderr",
     "output_type": "stream",
     "text": [
      "100%|██████████| 670/670 [00:14<00:00, 47.51it/s]\n"
     ]
    },
    {
     "name": "stdout",
     "output_type": "stream",
     "text": [
      "Epoch 78, Learning Rate: 0.0001\n",
      "Epoch 78/500\n",
      "----------\n",
      "Train loss 0.7069739106653342\n",
      "Train Accuracy 0.731939518387157\n",
      "Val   loss 1.107277400890986\n",
      "Val   Acc 0.6090604026845637\n",
      "\n"
     ]
    },
    {
     "name": "stderr",
     "output_type": "stream",
     "text": [
      "100%|██████████| 670/670 [00:14<00:00, 47.52it/s]\n"
     ]
    },
    {
     "name": "stdout",
     "output_type": "stream",
     "text": [
      "Epoch 79, Learning Rate: 0.0001\n",
      "Epoch 79/500\n",
      "----------\n",
      "Train loss 0.6908042962204165\n",
      "Train Accuracy 0.7371663244353183\n",
      "Val   loss 0.98291387150685\n",
      "Val   Acc 0.6426174496644296\n",
      "\n"
     ]
    },
    {
     "name": "stderr",
     "output_type": "stream",
     "text": [
      "100%|██████████| 670/670 [00:14<00:00, 47.09it/s]\n"
     ]
    },
    {
     "name": "stdout",
     "output_type": "stream",
     "text": [
      "Epoch 80, Learning Rate: 0.0001\n",
      "Epoch 80/500\n",
      "----------\n",
      "Train loss 0.6764097257225371\n",
      "Train Accuracy 0.7423931304834795\n",
      "Val   loss 0.9404018227259318\n",
      "Val   Acc 0.6661073825503355\n",
      "\n"
     ]
    },
    {
     "name": "stderr",
     "output_type": "stream",
     "text": [
      "100%|██████████| 670/670 [00:13<00:00, 47.96it/s]\n"
     ]
    },
    {
     "name": "stdout",
     "output_type": "stream",
     "text": [
      "Epoch 81, Learning Rate: 0.0001\n",
      "Epoch 81/500\n",
      "----------\n",
      "Train loss 0.6846477205406374\n",
      "Train Accuracy 0.7356729512787008\n",
      "Val   loss 1.0132744204998017\n",
      "Val   Acc 0.62751677852349\n",
      "\n"
     ]
    },
    {
     "name": "stderr",
     "output_type": "stream",
     "text": [
      "100%|██████████| 670/670 [00:13<00:00, 48.36it/s]\n"
     ]
    },
    {
     "name": "stdout",
     "output_type": "stream",
     "text": [
      "Epoch 82, Learning Rate: 0.0001\n",
      "Epoch 82/500\n",
      "----------\n",
      "Train loss 0.6616690985302427\n",
      "Train Accuracy 0.7571401904050775\n",
      "Val   loss 0.9713507227102915\n",
      "Val   Acc 0.6476510067114094\n",
      "\n"
     ]
    },
    {
     "name": "stderr",
     "output_type": "stream",
     "text": [
      "100%|██████████| 670/670 [00:13<00:00, 48.06it/s]\n"
     ]
    },
    {
     "name": "stdout",
     "output_type": "stream",
     "text": [
      "Epoch 83, Learning Rate: 0.0001\n",
      "Epoch 83/500\n",
      "----------\n",
      "Train loss 0.6706537585538714\n",
      "Train Accuracy 0.7397797274593989\n",
      "Val   loss 0.9544789032141368\n",
      "Val   Acc 0.6476510067114094\n",
      "\n"
     ]
    },
    {
     "name": "stderr",
     "output_type": "stream",
     "text": [
      "100%|██████████| 670/670 [00:13<00:00, 48.38it/s]\n"
     ]
    },
    {
     "name": "stdout",
     "output_type": "stream",
     "text": [
      "Epoch 84, Learning Rate: 0.0001\n",
      "Epoch 84/500\n",
      "----------\n",
      "Train loss 0.6592530864944209\n",
      "Train Accuracy 0.7464999066641778\n",
      "Val   loss 1.0053486768404643\n",
      "Val   Acc 0.6258389261744967\n",
      "\n"
     ]
    },
    {
     "name": "stderr",
     "output_type": "stream",
     "text": [
      "100%|██████████| 670/670 [00:13<00:00, 47.99it/s]\n"
     ]
    },
    {
     "name": "stdout",
     "output_type": "stream",
     "text": [
      "Epoch 85, Learning Rate: 0.0001\n",
      "Epoch 85/500\n",
      "----------\n",
      "Train loss 0.6497526385446093\n",
      "Train Accuracy 0.7565801754713459\n",
      "Val   loss 0.9645104320844015\n",
      "Val   Acc 0.6359060402684564\n",
      "\n"
     ]
    },
    {
     "name": "stderr",
     "output_type": "stream",
     "text": [
      "100%|██████████| 670/670 [00:13<00:00, 47.96it/s]\n"
     ]
    },
    {
     "name": "stdout",
     "output_type": "stream",
     "text": [
      "Epoch 86, Learning Rate: 0.0001\n",
      "Epoch 86/500\n",
      "----------\n",
      "Train loss 0.6468961288679892\n",
      "Train Accuracy 0.7580735486279634\n",
      "Val   loss 1.0512549289067585\n",
      "Val   Acc 0.6258389261744967\n",
      "\n"
     ]
    },
    {
     "name": "stderr",
     "output_type": "stream",
     "text": [
      "100%|██████████| 670/670 [00:14<00:00, 47.57it/s]\n"
     ]
    },
    {
     "name": "stdout",
     "output_type": "stream",
     "text": [
      "Epoch 87, Learning Rate: 0.0001\n",
      "Epoch 87/500\n",
      "----------\n",
      "Train loss 0.6375055323452202\n",
      "Train Accuracy 0.7608736232966212\n",
      "Val   loss 0.9632886759440105\n",
      "Val   Acc 0.6526845637583892\n",
      "\n"
     ]
    },
    {
     "name": "stderr",
     "output_type": "stream",
     "text": [
      "100%|██████████| 670/670 [00:14<00:00, 46.88it/s]\n"
     ]
    },
    {
     "name": "stdout",
     "output_type": "stream",
     "text": [
      "Epoch 88, Learning Rate: 0.0001\n",
      "Epoch 88/500\n",
      "----------\n",
      "Train loss 0.6343206260408928\n",
      "Train Accuracy 0.7593802501400038\n",
      "Val   loss 1.0459513528148334\n",
      "Val   Acc 0.6090604026845637\n",
      "\n"
     ]
    },
    {
     "name": "stderr",
     "output_type": "stream",
     "text": [
      "100%|██████████| 670/670 [00:14<00:00, 45.35it/s]\n"
     ]
    },
    {
     "name": "stdout",
     "output_type": "stream",
     "text": [
      "Epoch 89, Learning Rate: 0.0001\n",
      "Epoch 89/500\n",
      "----------\n",
      "Train loss 0.6285988034597084\n",
      "Train Accuracy 0.764607056188165\n",
      "Val   loss 0.9456860510508219\n",
      "Val   Acc 0.6442953020134228\n",
      "\n"
     ]
    },
    {
     "name": "stderr",
     "output_type": "stream",
     "text": [
      "100%|██████████| 670/670 [00:14<00:00, 45.92it/s]\n"
     ]
    },
    {
     "name": "stdout",
     "output_type": "stream",
     "text": [
      "Epoch 90, Learning Rate: 0.0001\n",
      "Epoch 90/500\n",
      "----------\n",
      "Train loss 0.6288310672921031\n",
      "Train Accuracy 0.7638603696098563\n",
      "Val   loss 0.993774463335673\n",
      "Val   Acc 0.6476510067114094\n",
      "\n"
     ]
    },
    {
     "name": "stderr",
     "output_type": "stream",
     "text": [
      "100%|██████████| 670/670 [00:14<00:00, 46.24it/s]\n"
     ]
    },
    {
     "name": "stdout",
     "output_type": "stream",
     "text": [
      "Epoch 91, Learning Rate: 0.0001\n",
      "Epoch 91/500\n",
      "----------\n",
      "Train loss 0.6210821509806078\n",
      "Train Accuracy 0.7659137577002053\n",
      "Val   loss 1.0285667904218039\n",
      "Val   Acc 0.6124161073825504\n",
      "\n"
     ]
    },
    {
     "name": "stderr",
     "output_type": "stream",
     "text": [
      "100%|██████████| 670/670 [00:14<00:00, 46.23it/s]\n"
     ]
    },
    {
     "name": "stdout",
     "output_type": "stream",
     "text": [
      "Epoch 92, Learning Rate: 0.0001\n",
      "Epoch 92/500\n",
      "----------\n",
      "Train loss 0.6035790184429333\n",
      "Train Accuracy 0.7720739219712526\n",
      "Val   loss 0.9961161462465922\n",
      "Val   Acc 0.6342281879194631\n",
      "\n"
     ]
    },
    {
     "name": "stderr",
     "output_type": "stream",
     "text": [
      "100%|██████████| 670/670 [00:14<00:00, 45.72it/s]\n"
     ]
    },
    {
     "name": "stdout",
     "output_type": "stream",
     "text": [
      "Epoch 93, Learning Rate: 0.0001\n",
      "Epoch 93/500\n",
      "----------\n",
      "Train loss 0.6195313048451694\n",
      "Train Accuracy 0.768527160724286\n",
      "Val   loss 0.9892043479283651\n",
      "Val   Acc 0.6577181208053692\n",
      "\n"
     ]
    },
    {
     "name": "stderr",
     "output_type": "stream",
     "text": [
      "100%|██████████| 670/670 [00:14<00:00, 46.76it/s]\n"
     ]
    },
    {
     "name": "stdout",
     "output_type": "stream",
     "text": [
      "Epoch 94, Learning Rate: 0.0001\n",
      "Epoch 94/500\n",
      "----------\n",
      "Train loss 0.6030107472814731\n",
      "Train Accuracy 0.7746873249953332\n",
      "Val   loss 1.0355927342176436\n",
      "Val   Acc 0.6157718120805369\n",
      "\n"
     ]
    },
    {
     "name": "stderr",
     "output_type": "stream",
     "text": [
      "100%|██████████| 670/670 [00:13<00:00, 48.66it/s]\n"
     ]
    },
    {
     "name": "stdout",
     "output_type": "stream",
     "text": [
      "Epoch 95, Learning Rate: 0.0001\n",
      "Epoch 95/500\n",
      "----------\n",
      "Train loss 0.5870996503798819\n",
      "Train Accuracy 0.777487399663991\n",
      "Val   loss 0.9964677911996841\n",
      "Val   Acc 0.6359060402684564\n",
      "\n"
     ]
    },
    {
     "name": "stderr",
     "output_type": "stream",
     "text": [
      "100%|██████████| 670/670 [00:13<00:00, 48.09it/s]\n"
     ]
    },
    {
     "name": "stdout",
     "output_type": "stream",
     "text": [
      "Epoch 96, Learning Rate: 0.0001\n",
      "Epoch 96/500\n",
      "----------\n",
      "Train loss 0.5904787589142572\n",
      "Train Accuracy 0.7888743699831996\n",
      "Val   loss 1.0002702339490255\n",
      "Val   Acc 0.6325503355704698\n",
      "\n"
     ]
    },
    {
     "name": "stderr",
     "output_type": "stream",
     "text": [
      "100%|██████████| 670/670 [00:14<00:00, 47.74it/s]\n"
     ]
    },
    {
     "name": "stdout",
     "output_type": "stream",
     "text": [
      "Epoch 97, Learning Rate: 0.0001\n",
      "Epoch 97/500\n",
      "----------\n",
      "Train loss 0.5834827721007725\n",
      "Train Accuracy 0.7797274593989173\n",
      "Val   loss 0.9626957513888676\n",
      "Val   Acc 0.6694630872483222\n",
      "\n"
     ]
    },
    {
     "name": "stderr",
     "output_type": "stream",
     "text": [
      "100%|██████████| 670/670 [00:13<00:00, 48.00it/s]\n"
     ]
    },
    {
     "name": "stdout",
     "output_type": "stream",
     "text": [
      "Epoch 98, Learning Rate: 0.0001\n",
      "Epoch 98/500\n",
      "----------\n",
      "Train loss 0.5874083118096216\n",
      "Train Accuracy 0.7799141310434945\n",
      "Val   loss 0.9554324354728063\n",
      "Val   Acc 0.6677852348993288\n",
      "\n"
     ]
    },
    {
     "name": "stderr",
     "output_type": "stream",
     "text": [
      "100%|██████████| 670/670 [00:14<00:00, 47.61it/s]\n"
     ]
    },
    {
     "name": "stdout",
     "output_type": "stream",
     "text": [
      "Epoch 99, Learning Rate: 0.0001\n",
      "Epoch 99/500\n",
      "----------\n",
      "Train loss 0.5707097313630937\n",
      "Train Accuracy 0.7860742953145418\n",
      "Val   loss 1.0228941110769907\n",
      "Val   Acc 0.6342281879194631\n",
      "\n"
     ]
    },
    {
     "name": "stderr",
     "output_type": "stream",
     "text": [
      "100%|██████████| 670/670 [00:14<00:00, 47.59it/s]\n"
     ]
    },
    {
     "name": "stdout",
     "output_type": "stream",
     "text": [
      "Epoch 100, Learning Rate: 0.0001\n",
      "Epoch 100/500\n",
      "----------\n",
      "Train loss 0.5712691869308699\n",
      "Train Accuracy 0.7855142803808102\n",
      "Val   loss 1.073778978784879\n",
      "Val   Acc 0.6157718120805369\n",
      "\n",
      "Early stopping triggered. No improvement in 30 epochs.\n"
     ]
    }
   ],
   "source": [
    "for epoch in range(EPOCHS):\n",
    "\n",
    "\n",
    "    train_loss,train_acc = train_epoch(model,train_dataloader,loss_fn, optimizer, DEVICE)\n",
    "    \n",
    "    val_loss,val_acc = eval_model(model,val_dataloader,loss_fn, DEVICE)\n",
    "    \n",
    "    \n",
    "    print(f'Epoch {epoch + 1}/{EPOCHS}')\n",
    "    print('-' * 10)\n",
    "    print(f'Train loss {train_loss}')\n",
    "    print(f'Train Accuracy {train_acc}')\n",
    "\n",
    "    print(f'Val   loss {val_loss}')\n",
    "    print(f'Val   Acc {val_acc}')\n",
    "\n",
    "    print()\n",
    "        \n",
    "    if val_loss < loss:\n",
    "        torch.save(model.state_dict(), 'best_model_state.bin')\n",
    "        loss = val_loss\n",
    "        epochs_without_improvement = 0\n",
    "    else:\n",
    "        epochs_without_improvement += 1\n",
    "\n",
    "    # Early stopping condition\n",
    "    if epochs_without_improvement == patience:\n",
    "        print(\"Early stopping triggered. No improvement in\", patience, \"epochs.\")\n",
    "        break\n",
    "\n",
    "\n",
    "\n",
    "    history['train_loss'].append(train_loss)\n",
    "    history['val_loss'].append(val_loss)\n",
    "    \n",
    "    \n",
    "    history['train_Accuracy'].append(train_acc)\n",
    "    history['val_Accuracy'].append(val_acc)\n",
    "\n",
    "    #save this incase of failure\n",
    "    torch.save(model.state_dict(), 'current_model_state.bin')\n",
    "    \n",
    "    \n",
    "#save last state to train later\n",
    "torch.save(model.state_dict(), 'last_model_state.bin')\n"
   ]
  },
  {
   "cell_type": "code",
   "execution_count": 45,
   "metadata": {
    "execution": {
     "iopub.execute_input": "2024-05-10T06:13:39.989110Z",
     "iopub.status.busy": "2024-05-10T06:13:39.988299Z",
     "iopub.status.idle": "2024-05-10T06:13:40.022306Z",
     "shell.execute_reply": "2024-05-10T06:13:40.021251Z",
     "shell.execute_reply.started": "2024-05-10T06:13:39.989068Z"
    }
   },
   "outputs": [
    {
     "data": {
      "text/plain": [
       "<All keys matched successfully>"
      ]
     },
     "execution_count": 45,
     "metadata": {},
     "output_type": "execute_result"
    }
   ],
   "source": [
    "model.load_state_dict(torch.load('/kaggle/working/current_model_state.bin'))"
   ]
  },
  {
   "cell_type": "code",
   "execution_count": 46,
   "metadata": {
    "execution": {
     "iopub.execute_input": "2024-05-10T06:13:40.023764Z",
     "iopub.status.busy": "2024-05-10T06:13:40.023478Z",
     "iopub.status.idle": "2024-05-10T06:13:40.405712Z",
     "shell.execute_reply": "2024-05-10T06:13:40.404619Z",
     "shell.execute_reply.started": "2024-05-10T06:13:40.023737Z"
    }
   },
   "outputs": [
    {
     "data": {
      "text/plain": [
       "<matplotlib.legend.Legend at 0x7a56ab4bb790>"
      ]
     },
     "execution_count": 46,
     "metadata": {},
     "output_type": "execute_result"
    },
    {
     "data": {
      "image/png": "[encoded data removed]",
      "text/plain": [
       "<Figure size 400x400 with 1 Axes>"
      ]
     },
     "metadata": {},
     "output_type": "display_data"
    }
   ],
   "source": [
    "plt.figure(figsize=(4,4))\n",
    "plt.plot(history['train_Accuracy'], 'r',label='Training accuracy')\n",
    "plt.plot(history['val_Accuracy'], 'b', label='Validation accuracy')\n",
    "\n",
    "plt.title('Training and validation accuracy')\n",
    "plt.ylabel('Accuracy')\n",
    "plt.xlabel('Epoch')\n",
    "plt.legend()\n"
   ]
  },
  {
   "cell_type": "code",
   "execution_count": 47,
   "metadata": {
    "execution": {
     "iopub.execute_input": "2024-05-10T06:13:40.407156Z",
     "iopub.status.busy": "2024-05-10T06:13:40.406860Z",
     "iopub.status.idle": "2024-05-10T06:13:40.725865Z",
     "shell.execute_reply": "2024-05-10T06:13:40.724918Z",
     "shell.execute_reply.started": "2024-05-10T06:13:40.407131Z"
    }
   },
   "outputs": [
    {
     "data": {
      "text/plain": [
       "<matplotlib.legend.Legend at 0x7a56ab3c5180>"
      ]
     },
     "execution_count": 47,
     "metadata": {},
     "output_type": "execute_result"
    },
    {
     "data": {
      "image/png": "[encoded data removed]",
      "text/plain": [
       "<Figure size 400x400 with 1 Axes>"
      ]
     },
     "metadata": {},
     "output_type": "display_data"
    }
   ],
   "source": [
    "plt.figure(figsize=(4,4))\n",
    "plt.plot(history['train_loss'], 'r', label='Training loss')\n",
    "plt.plot(history['val_loss'], 'b', label='Validation loss')\n",
    "\n",
    "plt.title('Training and validation loss')\n",
    "plt.ylabel('Loss')\n",
    "plt.xlabel('Epoch')\n",
    "plt.legend()\n"
   ]
  },
  {
   "cell_type": "code",
   "execution_count": 48,
   "metadata": {
    "execution": {
     "iopub.execute_input": "2024-05-10T06:13:40.727240Z",
     "iopub.status.busy": "2024-05-10T06:13:40.726977Z",
     "iopub.status.idle": "2024-05-10T06:13:41.736139Z",
     "shell.execute_reply": "2024-05-10T06:13:41.735370Z",
     "shell.execute_reply.started": "2024-05-10T06:13:40.727217Z"
    }
   },
   "outputs": [],
   "source": [
    "mean_loss, predicted_labels, true_labels=get_predicted(model,test_dataloader,loss_fn,DEVICE)"
   ]
  },
  {
   "cell_type": "code",
   "execution_count": 49,
   "metadata": {
    "execution": {
     "iopub.execute_input": "2024-05-10T06:13:41.737447Z",
     "iopub.status.busy": "2024-05-10T06:13:41.737145Z",
     "iopub.status.idle": "2024-05-10T06:13:42.228706Z",
     "shell.execute_reply": "2024-05-10T06:13:42.227779Z",
     "shell.execute_reply.started": "2024-05-10T06:13:41.737422Z"
    }
   },
   "outputs": [
    {
     "name": "stdout",
     "output_type": "stream",
     "text": [
      "Classification Report:\n",
      "              precision    recall  f1-score   support\n",
      "\n",
      "       Anger       0.77      0.75      0.76       254\n",
      "     Disgust       0.76      0.41      0.53       254\n",
      "        Fear       0.47      0.70      0.57       254\n",
      "       Happy       0.66      0.63      0.65       255\n",
      "     Neutral       0.63      0.86      0.72       218\n",
      "         Sad       0.66      0.49      0.56       254\n",
      "\n",
      "    accuracy                           0.63      1489\n",
      "   macro avg       0.66      0.64      0.63      1489\n",
      "weighted avg       0.66      0.63      0.63      1489\n",
      "\n"
     ]
    },
    {
     "data": {
      "image/png": "[encoded data removed]",
      "text/plain": [
       "<Figure size 800x800 with 2 Axes>"
      ]
     },
     "metadata": {},
     "output_type": "display_data"
    }
   ],
   "source": [
    "measurements_of_accuracy(true_labels,predicted_labels,\"Confusion matrix\",list(label_mapping.keys()))"
   ]
  },
  {
   "cell_type": "code",
   "execution_count": null,
   "metadata": {},
   "outputs": [],
   "source": []
  },
  {
   "cell_type": "code",
   "execution_count": null,
   "metadata": {},
   "outputs": [],
   "source": []
  },
  {
   "cell_type": "code",
   "execution_count": null,
   "metadata": {},
   "outputs": [],
   "source": []
  },
  {
   "cell_type": "code",
   "execution_count": null,
   "metadata": {},
   "outputs": [],
   "source": []
  },
  {
   "cell_type": "code",
   "execution_count": null,
   "metadata": {},
   "outputs": [],
   "source": []
  },
  {
   "cell_type": "code",
   "execution_count": null,
   "metadata": {},
   "outputs": [],
   "source": []
  },
  {
   "cell_type": "code",
   "execution_count": null,
   "metadata": {},
   "outputs": [],
   "source": []
  },
  {
   "cell_type": "code",
   "execution_count": null,
   "metadata": {},
   "outputs": [],
   "source": []
  }
 ],
 "metadata": {
  "kaggle": {
   "accelerator": "gpu",
   "dataSources": [
    {
     "datasetId": 1118008,
     "sourceId": 1877714,
     "sourceType": "datasetVersion"
    }
   ],
   "dockerImageVersionId": 30476,
   "isGpuEnabled": true,
   "isInternetEnabled": true,
   "language": "python",
   "sourceType": "notebook"
  },
  "kernelspec": {
   "display_name": "Python 3 (ipykernel)",
   "language": "python",
   "name": "python3"
  },
  "language_info": {
   "codemirror_mode": {
    "name": "ipython",
    "version": 3
   },
   "file_extension": ".py",
   "mimetype": "text/x-python",
   "name": "python",
   "nbconvert_exporter": "python",
   "pygments_lexer": "ipython3",
   "version": "3.11.5"
  }
 },
 "nbformat": 4,
 "nbformat_minor": 4
}
