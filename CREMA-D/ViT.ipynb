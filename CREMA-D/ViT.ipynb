{
 "cells": [
  {
   "cell_type": "code",
   "execution_count": 11,
   "metadata": {
    "_cell_guid": "b1076dfc-b9ad-4769-8c92-a6c4dae69d19",
    "_uuid": "8f2839f25d086af736a60e9eeb907d3b93b6e0e5",
    "execution": {
     "iopub.execute_input": "2024-05-19T04:42:26.916850Z",
     "iopub.status.busy": "2024-05-19T04:42:26.915887Z",
     "iopub.status.idle": "2024-05-19T04:42:26.926254Z",
     "shell.execute_reply": "2024-05-19T04:42:26.925322Z",
     "shell.execute_reply.started": "2024-05-19T04:42:26.916814Z"
    }
   },
   "outputs": [],
   "source": [
    "import numpy as np\n",
    "import pandas as pd\n",
    "import matplotlib.pyplot as plt\n",
    "import os\n",
    "# import seaborn as sns\n",
    "import librosa\n",
    "import librosa.display\n",
    "import IPython\n",
    "\n",
    "\n",
    "import torch\n",
    "import torch.nn as nn\n",
    "import torch.nn.functional as F\n",
    "import torchvision.transforms.functional as TF\n",
    "from tqdm import tqdm\n",
    "torch.manual_seed(42)\n",
    "\n",
    "import seaborn as sns\n",
    "sns.set()\n"
   ]
  },
  {
   "cell_type": "code",
   "execution_count": null,
   "metadata": {},
   "outputs": [],
   "source": [
    "import torch\n",
    "from torch.utils.data import DataLoader\n",
    "from torchvision import transforms\n",
    "from transformers import ViTFeatureExtractor, ViTForImageClassification\n",
    "import torch.nn as nn\n",
    "import torch.optim as optim\n",
    "import torchvision.datasets as datasets\n",
    "from sklearn.model_selection import train_test_split\n",
    "from sklearn.metrics import confusion_matrix\n",
    "import matplotlib.pyplot as plt\n",
    "import numpy as np\n",
    "import os\n",
    "from PIL import Image"
   ]
  },
  {
   "cell_type": "code",
   "execution_count": 12,
   "metadata": {
    "execution": {
     "iopub.execute_input": "2024-05-19T04:42:28.640219Z",
     "iopub.status.busy": "2024-05-19T04:42:28.639374Z",
     "iopub.status.idle": "2024-05-19T04:42:28.644444Z",
     "shell.execute_reply": "2024-05-19T04:42:28.643442Z",
     "shell.execute_reply.started": "2024-05-19T04:42:28.640184Z"
    }
   },
   "outputs": [],
   "source": [
    "Crema_Path='../input/speech-emotion-recognition-en/Crema/'\n",
    "Ravdess_Path='../input/speech-emotion-recognition-en/Ravdess/audio_speech_actors_01-24/'\n",
    "Savee_Path='../input/speech-emotion-recognition-en/Savee/'\n",
    "Tess_Path='../input/speech-emotion-recognition-en/Tess/'"
   ]
  },
  {
   "cell_type": "markdown",
   "metadata": {},
   "source": [
    "# **CREMA PREPROCESSING**"
   ]
  },
  {
   "cell_type": "code",
   "execution_count": 13,
   "metadata": {
    "execution": {
     "iopub.execute_input": "2024-05-19T04:42:29.628424Z",
     "iopub.status.busy": "2024-05-19T04:42:29.628056Z",
     "iopub.status.idle": "2024-05-19T04:42:29.665201Z",
     "shell.execute_reply": "2024-05-19T04:42:29.664285Z",
     "shell.execute_reply.started": "2024-05-19T04:42:29.628394Z"
    }
   },
   "outputs": [
    {
     "data": {
      "text/html": [
       "<div>\n",
       "<style scoped>\n",
       "    .dataframe tbody tr th:only-of-type {\n",
       "        vertical-align: middle;\n",
       "    }\n",
       "\n",
       "    .dataframe tbody tr th {\n",
       "        vertical-align: top;\n",
       "    }\n",
       "\n",
       "    .dataframe thead th {\n",
       "        text-align: right;\n",
       "    }\n",
       "</style>\n",
       "<table border=\"1\" class=\"dataframe\">\n",
       "  <thead>\n",
       "    <tr style=\"text-align: right;\">\n",
       "      <th></th>\n",
       "      <th>Emotion</th>\n",
       "      <th>File_Path</th>\n",
       "    </tr>\n",
       "  </thead>\n",
       "  <tbody>\n",
       "    <tr>\n",
       "      <th>0</th>\n",
       "      <td>Anger</td>\n",
       "      <td>../input/speech-emotion-recognition-en/Crema//...</td>\n",
       "    </tr>\n",
       "    <tr>\n",
       "      <th>1</th>\n",
       "      <td>Disgust</td>\n",
       "      <td>../input/speech-emotion-recognition-en/Crema//...</td>\n",
       "    </tr>\n",
       "    <tr>\n",
       "      <th>2</th>\n",
       "      <td>Fear</td>\n",
       "      <td>../input/speech-emotion-recognition-en/Crema//...</td>\n",
       "    </tr>\n",
       "    <tr>\n",
       "      <th>3</th>\n",
       "      <td>Happy</td>\n",
       "      <td>../input/speech-emotion-recognition-en/Crema//...</td>\n",
       "    </tr>\n",
       "    <tr>\n",
       "      <th>4</th>\n",
       "      <td>Neutral</td>\n",
       "      <td>../input/speech-emotion-recognition-en/Crema//...</td>\n",
       "    </tr>\n",
       "  </tbody>\n",
       "</table>\n",
       "</div>"
      ],
      "text/plain": [
       "   Emotion                                          File_Path\n",
       "0    Anger  ../input/speech-emotion-recognition-en/Crema//...\n",
       "1  Disgust  ../input/speech-emotion-recognition-en/Crema//...\n",
       "2     Fear  ../input/speech-emotion-recognition-en/Crema//...\n",
       "3    Happy  ../input/speech-emotion-recognition-en/Crema//...\n",
       "4  Neutral  ../input/speech-emotion-recognition-en/Crema//..."
      ]
     },
     "execution_count": 13,
     "metadata": {},
     "output_type": "execute_result"
    }
   ],
   "source": [
    "crema = []\n",
    "for wav in sorted(os.listdir(Crema_Path)):\n",
    "    emotion = wav.partition(\".wav\")[0].split('_')\n",
    "    if emotion[2] == 'SAD':\n",
    "        crema.append(('Sad', Crema_Path+'/'+wav))\n",
    "    elif emotion[2] == 'ANG':\n",
    "        crema.append(('Anger', Crema_Path+'/'+wav))\n",
    "    elif emotion[2] == 'DIS':\n",
    "        crema.append(('Disgust', Crema_Path+'/'+wav))\n",
    "    elif emotion[2] == 'FEA':\n",
    "        crema.append(('Fear', Crema_Path+'/'+wav))\n",
    "    elif emotion[2] == 'HAP':\n",
    "        crema.append(('Happy', Crema_Path+'/'+wav))\n",
    "    elif emotion[2] == 'NEU':\n",
    "        crema.append(('Neutral', Crema_Path+'/'+wav))\n",
    "    else:\n",
    "        crema.append(('unknown', Crema_Path+'/'+wav))\n",
    "\n",
    "df = pd.DataFrame.from_records(crema, columns=['Emotion', 'File_Path'])\n",
    "df.head()\n"
   ]
  },
  {
   "cell_type": "markdown",
   "metadata": {},
   "source": [
    "# **RAVDESS PREPROCESSING**"
   ]
  },
  {
   "cell_type": "code",
   "execution_count": 4,
   "metadata": {
    "execution": {
     "iopub.execute_input": "2024-05-19T01:10:04.264288Z",
     "iopub.status.busy": "2024-05-19T01:10:04.263913Z",
     "iopub.status.idle": "2024-05-19T01:10:04.713060Z",
     "shell.execute_reply": "2024-05-19T01:10:04.711811Z",
     "shell.execute_reply.started": "2024-05-19T01:10:04.264252Z"
    }
   },
   "outputs": [
    {
     "name": "stdout",
     "output_type": "stream",
     "text": [
      "    Emotion                                          File_Path\n",
      "0  Surprise  ../input/speech-emotion-recognition-en/Ravdess...\n",
      "1   Neutral  ../input/speech-emotion-recognition-en/Ravdess...\n",
      "2   Disgust  ../input/speech-emotion-recognition-en/Ravdess...\n",
      "3   Disgust  ../input/speech-emotion-recognition-en/Ravdess...\n",
      "4   Neutral  ../input/speech-emotion-recognition-en/Ravdess...\n"
     ]
    }
   ],
   "source": [
    "ravdess_directory_list = os.listdir(Ravdess_Path)\n",
    "\n",
    "file_emotion = []\n",
    "file_path = []\n",
    "for i in ravdess_directory_list:\n",
    "    # as their are 24 different actors in our previous directory we need to extract files for each actor.\n",
    "    actor = os.listdir(Ravdess_Path + i)\n",
    "    for f in actor:\n",
    "        part = f.split('.')[0].split('-')\n",
    "        if int(part[2]) != 2:\n",
    "            file_emotion.append(int(part[2]))\n",
    "            file_path.append(Ravdess_Path + i + '/' + f)\n",
    "        \n",
    "emotion_df = pd.DataFrame(file_emotion, columns=['Emotion'])\n",
    "path_df = pd.DataFrame(file_path, columns=['File_Path'])\n",
    "df = pd.concat([emotion_df, path_df], axis=1)\n",
    "df.Emotion.replace({1:'Neutral', 3:'Happy', 4:'Sad', 5:'Anger', 6:'Fear', 7:'Disgust', 8:'Surprise'},\n",
    "                            inplace=True)\n",
    "print(df.head())"
   ]
  },
  {
   "cell_type": "markdown",
   "metadata": {},
   "source": [
    "# **SAVEE PREPROCESSING**"
   ]
  },
  {
   "cell_type": "code",
   "execution_count": 5,
   "metadata": {
    "execution": {
     "iopub.execute_input": "2024-05-19T01:10:04.715292Z",
     "iopub.status.busy": "2024-05-19T01:10:04.714582Z",
     "iopub.status.idle": "2024-05-19T01:10:05.287802Z",
     "shell.execute_reply": "2024-05-19T01:10:05.282022Z",
     "shell.execute_reply.started": "2024-05-19T01:10:04.715252Z"
    }
   },
   "outputs": [
    {
     "ename": "NameError",
     "evalue": "name 'Savee' is not defined",
     "output_type": "error",
     "traceback": [
      "\u001b[0;31m---------------------------------------------------------------------------\u001b[0m",
      "\u001b[0;31mNameError\u001b[0m                                 Traceback (most recent call last)",
      "Cell \u001b[0;32mIn[5], line 7\u001b[0m\n\u001b[1;32m      4\u001b[0m file_path \u001b[38;5;241m=\u001b[39m []\n\u001b[1;32m      6\u001b[0m \u001b[38;5;28;01mfor\u001b[39;00m file \u001b[38;5;129;01min\u001b[39;00m savee_directory_list:\n\u001b[0;32m----> 7\u001b[0m     file_path\u001b[38;5;241m.\u001b[39mappend(\u001b[43mSavee\u001b[49m \u001b[38;5;241m+\u001b[39m file)\n\u001b[1;32m      8\u001b[0m     part \u001b[38;5;241m=\u001b[39m file\u001b[38;5;241m.\u001b[39msplit(\u001b[38;5;124m'\u001b[39m\u001b[38;5;124m_\u001b[39m\u001b[38;5;124m'\u001b[39m)[\u001b[38;5;241m1\u001b[39m]\n\u001b[1;32m      9\u001b[0m     ele \u001b[38;5;241m=\u001b[39m part[:\u001b[38;5;241m-\u001b[39m\u001b[38;5;241m6\u001b[39m]\n",
      "\u001b[0;31mNameError\u001b[0m: name 'Savee' is not defined"
     ]
    }
   ],
   "source": [
    "savee_directory_list = os.listdir(Savee_Path)\n",
    "\n",
    "file_emotion = []\n",
    "file_path = []\n",
    "\n",
    "for file in savee_directory_list:\n",
    "    file_path.append(Savee + file)\n",
    "    part = file.split('_')[1]\n",
    "    ele = part[:-6]\n",
    "    if ele=='a':\n",
    "        file_emotion.append('Anger')\n",
    "    elif ele=='d':\n",
    "        file_emotion.append('Disgust')\n",
    "    elif ele=='f':\n",
    "        file_emotion.append('Fear')\n",
    "    elif ele=='h':\n",
    "        file_emotion.append('Happy')\n",
    "    elif ele=='n':\n",
    "        file_emotion.append('Neutral')\n",
    "    elif ele=='sa':\n",
    "        file_emotion.append('Sad')\n",
    "    else:\n",
    "        file_emotion.append('Surprise')\n",
    "        \n",
    "# dataframe for emotion of files\n",
    "emotion_df = pd.DataFrame(file_emotion, columns=['Emotion'])\n",
    "\n",
    "# dataframe for path of files.\n",
    "path_df = pd.DataFrame(file_path, columns=['File_Path'])\n",
    "df = pd.concat([emotion_df, path_df], axis=1)\n",
    "df.head()"
   ]
  },
  {
   "cell_type": "markdown",
   "metadata": {},
   "source": [
    "# **TESS PREPROCESSING**"
   ]
  },
  {
   "cell_type": "code",
   "execution_count": null,
   "metadata": {
    "execution": {
     "iopub.status.busy": "2024-05-19T01:10:05.288692Z",
     "iopub.status.idle": "2024-05-19T01:10:05.289060Z",
     "shell.execute_reply": "2024-05-19T01:10:05.288896Z",
     "shell.execute_reply.started": "2024-05-19T01:10:05.288878Z"
    }
   },
   "outputs": [],
   "source": [
    "tess_directory_list = os.listdir(Tess_Path)\n",
    "\n",
    "file_emotion = []\n",
    "file_path = []\n",
    "\n",
    "for dir in tess_directory_list:\n",
    "    directories = os.listdir(Tess_Path + dir)\n",
    "    for file in directories:\n",
    "        part = file.split('.')[0]\n",
    "        part = part.split('_')[2]\n",
    "        if part == 'ps':\n",
    "            file_emotion.append('Surprise')\n",
    "        elif part == 'fear':\n",
    "            file_emotion.append('Fear')\n",
    "        elif part == 'sad':\n",
    "            file_emotion.append('Sad')\n",
    "        elif part == 'angry':\n",
    "            file_emotion.append('Anger')\n",
    "        elif part == 'disgust':\n",
    "            file_emotion.append('Disgust')\n",
    "        elif part == 'happy':\n",
    "            file_emotion.append('Happy')\n",
    "        elif part == 'neutral':\n",
    "            file_emotion.append('Neutral')\n",
    "        file_path.append(Tess_Path + dir + '/' + file)\n",
    "        \n",
    "# dataframe for emotion of files\n",
    "emotion_df = pd.DataFrame(file_emotion, columns=['Emotion'])\n",
    "\n",
    "# dataframe for path of files.\n",
    "path_df = pd.DataFrame(file_path, columns=['File_Path'])\n",
    "df = pd.concat([emotion_df, path_df], axis=1)\n",
    "df.head()"
   ]
  },
  {
   "cell_type": "code",
   "execution_count": 15,
   "metadata": {
    "execution": {
     "iopub.execute_input": "2024-05-19T04:43:08.843412Z",
     "iopub.status.busy": "2024-05-19T04:43:08.843016Z",
     "iopub.status.idle": "2024-05-19T04:43:08.852934Z",
     "shell.execute_reply": "2024-05-19T04:43:08.851747Z",
     "shell.execute_reply.started": "2024-05-19T04:43:08.843382Z"
    }
   },
   "outputs": [],
   "source": [
    "from sklearn.preprocessing import LabelEncoder\n",
    "# Create a LabelEncoder \n",
    "encoder = LabelEncoder()\n",
    "# Fit the encoder on the column and transform the values\n",
    "df['Emotion_encoded'] = encoder.fit_transform(df['Emotion'])\n",
    "\n",
    "# Get the mapping between original labels and encoded values\n",
    "label_mapping = dict(zip(encoder.classes_, encoder.transform(encoder.classes_)))\n"
   ]
  },
  {
   "cell_type": "code",
   "execution_count": 16,
   "metadata": {
    "execution": {
     "iopub.execute_input": "2024-05-19T04:43:09.952609Z",
     "iopub.status.busy": "2024-05-19T04:43:09.952222Z",
     "iopub.status.idle": "2024-05-19T04:43:09.959166Z",
     "shell.execute_reply": "2024-05-19T04:43:09.958208Z",
     "shell.execute_reply.started": "2024-05-19T04:43:09.952575Z"
    }
   },
   "outputs": [
    {
     "data": {
      "text/plain": [
       "{'Anger': 0, 'Disgust': 1, 'Fear': 2, 'Happy': 3, 'Neutral': 4, 'Sad': 5}"
      ]
     },
     "execution_count": 16,
     "metadata": {},
     "output_type": "execute_result"
    }
   ],
   "source": [
    "label_mapping"
   ]
  },
  {
   "cell_type": "code",
   "execution_count": 17,
   "metadata": {
    "execution": {
     "iopub.execute_input": "2024-05-19T04:43:12.137573Z",
     "iopub.status.busy": "2024-05-19T04:43:12.136917Z",
     "iopub.status.idle": "2024-05-19T04:43:12.144047Z",
     "shell.execute_reply": "2024-05-19T04:43:12.143212Z",
     "shell.execute_reply.started": "2024-05-19T04:43:12.137544Z"
    }
   },
   "outputs": [
    {
     "data": {
      "text/plain": [
       "array(['Anger', 'Disgust', 'Fear', 'Happy', 'Neutral', 'Sad'],\n",
       "      dtype=object)"
      ]
     },
     "execution_count": 17,
     "metadata": {},
     "output_type": "execute_result"
    }
   ],
   "source": [
    "df['Emotion'].unique()"
   ]
  },
  {
   "cell_type": "code",
   "execution_count": 18,
   "metadata": {
    "execution": {
     "iopub.execute_input": "2024-05-19T04:43:13.112330Z",
     "iopub.status.busy": "2024-05-19T04:43:13.111477Z",
     "iopub.status.idle": "2024-05-19T04:43:13.116996Z",
     "shell.execute_reply": "2024-05-19T04:43:13.116053Z",
     "shell.execute_reply.started": "2024-05-19T04:43:13.112298Z"
    }
   },
   "outputs": [],
   "source": [
    "emotion_names=df['Emotion'].unique()"
   ]
  },
  {
   "cell_type": "code",
   "execution_count": 9,
   "metadata": {
    "execution": {
     "iopub.execute_input": "2024-05-19T04:42:11.824283Z",
     "iopub.status.busy": "2024-05-19T04:42:11.823906Z",
     "iopub.status.idle": "2024-05-19T04:42:24.329508Z",
     "shell.execute_reply": "2024-05-19T04:42:24.328456Z",
     "shell.execute_reply.started": "2024-05-19T04:42:11.824254Z"
    }
   },
   "outputs": [
    {
     "name": "stdout",
     "output_type": "stream",
     "text": [
      "Requirement already satisfied: torchaudio in /opt/conda/lib/python3.10/site-packages (2.0.1)\n",
      "Requirement already satisfied: torch in /opt/conda/lib/python3.10/site-packages (from torchaudio) (2.0.0)\n",
      "Requirement already satisfied: networkx in /opt/conda/lib/python3.10/site-packages (from torch->torchaudio) (3.1)\n",
      "Requirement already satisfied: typing-extensions in /opt/conda/lib/python3.10/site-packages (from torch->torchaudio) (4.5.0)\n",
      "Requirement already satisfied: jinja2 in /opt/conda/lib/python3.10/site-packages (from torch->torchaudio) (3.1.2)\n",
      "Requirement already satisfied: filelock in /opt/conda/lib/python3.10/site-packages (from torch->torchaudio) (3.11.0)\n",
      "Requirement already satisfied: sympy in /opt/conda/lib/python3.10/site-packages (from torch->torchaudio) (1.11.1)\n",
      "Requirement already satisfied: MarkupSafe>=2.0 in /opt/conda/lib/python3.10/site-packages (from jinja2->torch->torchaudio) (2.1.2)\n",
      "Requirement already satisfied: mpmath>=0.19 in /opt/conda/lib/python3.10/site-packages (from sympy->torch->torchaudio) (1.3.0)\n",
      "\u001b[33mWARNING: Running pip as the 'root' user can result in broken permissions and conflicting behaviour with the system package manager. It is recommended to use a virtual environment instead: https://pip.pypa.io/warnings/venv\u001b[0m\u001b[33m\n",
      "\u001b[0m"
     ]
    }
   ],
   "source": [
    "!pip install torchaudio"
   ]
  },
  {
   "cell_type": "code",
   "execution_count": 19,
   "metadata": {
    "execution": {
     "iopub.execute_input": "2024-05-19T04:43:35.371947Z",
     "iopub.status.busy": "2024-05-19T04:43:35.371506Z",
     "iopub.status.idle": "2024-05-19T04:45:10.530122Z",
     "shell.execute_reply": "2024-05-19T04:45:10.528955Z",
     "shell.execute_reply.started": "2024-05-19T04:43:35.371919Z"
    }
   },
   "outputs": [
    {
     "name": "stderr",
     "output_type": "stream",
     "text": [
      "0it [00:00, ?it/s]/tmp/ipykernel_35/2468677012.py:11: UserWarning: To copy construct from a tensor, it is recommended to use sourceTensor.clone().detach() or sourceTensor.clone().detach().requires_grad_(True), rather than torch.tensor(sourceTensor).\n",
      "  waveform = torch.tensor(waveform).to(device)\n",
      "7442it [01:34, 78.39it/s]\n"
     ]
    }
   ],
   "source": [
    "import torchaudio\n",
    "import torchaudio.transforms as transforms\n",
    "\n",
    "S_dB_Total = []\n",
    "\n",
    "device = torch.device(\"cuda\" if torch.cuda.is_available() else \"cpu\")\n",
    "for idx, path in tqdm(enumerate(df.File_Path)):\n",
    "    waveform, sample_rate = torchaudio.load(path)\n",
    "    \n",
    "    # Convert to tensor\n",
    "    waveform = torch.tensor(waveform).to(device)\n",
    "\n",
    "    # Convert to mel spectrogram\n",
    "    mel_transform = transforms.MelSpectrogram(\n",
    "        sample_rate=sample_rate,\n",
    "        n_fft=2048,\n",
    "        hop_length=512,\n",
    "        n_mels=128\n",
    "    ).to(device)\n",
    "    \n",
    "    S = mel_transform(waveform)\n",
    "\n",
    "    # Convert to dB\n",
    "    power_to_db = transforms.AmplitudeToDB()\n",
    "    S_dB = power_to_db(S)\n",
    "\n",
    "    S_dB_Total.append(S_dB.squeeze())"
   ]
  },
  {
   "cell_type": "code",
   "execution_count": 20,
   "metadata": {
    "execution": {
     "iopub.execute_input": "2024-05-19T04:45:10.532193Z",
     "iopub.status.busy": "2024-05-19T04:45:10.531864Z",
     "iopub.status.idle": "2024-05-19T04:45:10.541912Z",
     "shell.execute_reply": "2024-05-19T04:45:10.540998Z",
     "shell.execute_reply.started": "2024-05-19T04:45:10.532165Z"
    }
   },
   "outputs": [],
   "source": [
    "sizes=[]\n",
    "for x in S_dB_Total:\n",
    "    sizes.append(x.shape[1])"
   ]
  },
  {
   "cell_type": "code",
   "execution_count": 21,
   "metadata": {
    "execution": {
     "iopub.execute_input": "2024-05-19T04:45:10.543305Z",
     "iopub.status.busy": "2024-05-19T04:45:10.542997Z",
     "iopub.status.idle": "2024-05-19T04:45:11.009529Z",
     "shell.execute_reply": "2024-05-19T04:45:11.008600Z",
     "shell.execute_reply.started": "2024-05-19T04:45:10.543283Z"
    }
   },
   "outputs": [
    {
     "data": {
      "image/png": "[encoded data removed]",
      "text/plain": [
       "<Figure size 640x480 with 1 Axes>"
      ]
     },
     "metadata": {},
     "output_type": "display_data"
    },
    {
     "name": "stdout",
     "output_type": "stream",
     "text": [
      "min is 40\n",
      "max is 157\n"
     ]
    }
   ],
   "source": [
    "# Calculate the bin counts\n",
    "bincount_array = np.histogram(sizes, bins=np.arange(min(sizes), max(sizes)+2))[0]\n",
    "\n",
    "# Create a list of labels for the x-axis\n",
    "x_labels = np.arange(min(sizes), max(sizes)+1)\n",
    "\n",
    "# Plot the bin counts as a bar plot\n",
    "plt.bar(x_labels, bincount_array)\n",
    "\n",
    "# Set labels and title\n",
    "plt.xlabel('Numbers')\n",
    "plt.ylabel('Count')\n",
    "plt.show()\n",
    "\n",
    "print(f'min is {min(sizes)}')\n",
    "print(f'max is {max(sizes)}')\n"
   ]
  },
  {
   "cell_type": "code",
   "execution_count": 22,
   "metadata": {
    "execution": {
     "iopub.execute_input": "2024-05-19T04:45:11.011916Z",
     "iopub.status.busy": "2024-05-19T04:45:11.011626Z",
     "iopub.status.idle": "2024-05-19T04:45:12.889785Z",
     "shell.execute_reply": "2024-05-19T04:45:12.888888Z",
     "shell.execute_reply.started": "2024-05-19T04:45:11.011891Z"
    }
   },
   "outputs": [],
   "source": [
    "padding_length = 160\n",
    "padded_list = []\n",
    "for array in S_dB_Total:\n",
    "    current_shape = array.cpu().shape\n",
    "    padding = [(0, 0), (0, padding_length - current_shape[1])]\n",
    "    padded_array = np.pad(array.cpu(), padding, mode='constant', constant_values=0)\n",
    "    padded_list.append(padded_array)\n",
    "\n",
    "# Convert the padded list to a NumPy array\n",
    "data_2D = np.array(padded_list)\n",
    "    "
   ]
  },
  {
   "cell_type": "code",
   "execution_count": 23,
   "metadata": {
    "execution": {
     "iopub.execute_input": "2024-05-19T04:45:12.891276Z",
     "iopub.status.busy": "2024-05-19T04:45:12.890975Z",
     "iopub.status.idle": "2024-05-19T04:45:12.898050Z",
     "shell.execute_reply": "2024-05-19T04:45:12.897084Z",
     "shell.execute_reply.started": "2024-05-19T04:45:12.891251Z"
    }
   },
   "outputs": [
    {
     "data": {
      "text/plain": [
       "(7442, 128, 160)"
      ]
     },
     "execution_count": 23,
     "metadata": {},
     "output_type": "execute_result"
    }
   ],
   "source": [
    "data_2D.shape"
   ]
  },
  {
   "cell_type": "code",
   "execution_count": 24,
   "metadata": {
    "execution": {
     "iopub.execute_input": "2024-05-19T04:45:12.899808Z",
     "iopub.status.busy": "2024-05-19T04:45:12.899435Z",
     "iopub.status.idle": "2024-05-19T04:45:13.466828Z",
     "shell.execute_reply": "2024-05-19T04:45:13.466074Z",
     "shell.execute_reply.started": "2024-05-19T04:45:12.899772Z"
    }
   },
   "outputs": [],
   "source": [
    "#normalization\n",
    "from sklearn.preprocessing import MinMaxScaler\n",
    "\n",
    "# Reshape the array to 2D\n",
    "reshaped_data = data_2D.reshape((-1, 1))\n",
    "\n",
    "# Initialize the MinMaxScaler\n",
    "scaler = MinMaxScaler()\n",
    "\n",
    "# Fit and transform the data\n",
    "normalized_data = scaler.fit_transform(reshaped_data)\n",
    "\n",
    "# Reshape the normalized data back to the original shape\n",
    "normalized_data = normalized_data.reshape(data_2D.shape)\n"
   ]
  },
  {
   "cell_type": "code",
   "execution_count": 25,
   "metadata": {
    "execution": {
     "iopub.execute_input": "2024-05-19T04:45:13.468206Z",
     "iopub.status.busy": "2024-05-19T04:45:13.467915Z",
     "iopub.status.idle": "2024-05-19T04:45:13.474854Z",
     "shell.execute_reply": "2024-05-19T04:45:13.474013Z",
     "shell.execute_reply.started": "2024-05-19T04:45:13.468182Z"
    }
   },
   "outputs": [
    {
     "data": {
      "text/plain": [
       "array([[0.56973195, 0.5444743 , 0.51813316, ..., 0.64415836, 0.64415836,\n",
       "        0.64415836],\n",
       "       [0.5450095 , 0.5570548 , 0.541499  , ..., 0.64415836, 0.64415836,\n",
       "        0.64415836],\n",
       "       [0.512481  , 0.55639714, 0.592978  , ..., 0.64415836, 0.64415836,\n",
       "        0.64415836],\n",
       "       ...,\n",
       "       [0.4755556 , 0.472118  , 0.4689895 , ..., 0.64415836, 0.64415836,\n",
       "        0.64415836],\n",
       "       [0.4661117 , 0.45966327, 0.44934118, ..., 0.64415836, 0.64415836,\n",
       "        0.64415836],\n",
       "       [0.448575  , 0.45664725, 0.44868642, ..., 0.64415836, 0.64415836,\n",
       "        0.64415836]], dtype=float32)"
      ]
     },
     "execution_count": 25,
     "metadata": {},
     "output_type": "execute_result"
    }
   ],
   "source": [
    "normalized_data[1]"
   ]
  },
  {
   "cell_type": "code",
   "execution_count": 26,
   "metadata": {
    "execution": {
     "iopub.execute_input": "2024-05-19T04:45:13.477102Z",
     "iopub.status.busy": "2024-05-19T04:45:13.476620Z",
     "iopub.status.idle": "2024-05-19T04:45:13.484416Z",
     "shell.execute_reply": "2024-05-19T04:45:13.483579Z",
     "shell.execute_reply.started": "2024-05-19T04:45:13.477065Z"
    }
   },
   "outputs": [],
   "source": [
    "data=np.expand_dims(normalized_data, axis=1)"
   ]
  },
  {
   "cell_type": "code",
   "execution_count": 27,
   "metadata": {
    "execution": {
     "iopub.execute_input": "2024-05-19T04:45:13.485942Z",
     "iopub.status.busy": "2024-05-19T04:45:13.485560Z",
     "iopub.status.idle": "2024-05-19T04:45:13.495493Z",
     "shell.execute_reply": "2024-05-19T04:45:13.494552Z",
     "shell.execute_reply.started": "2024-05-19T04:45:13.485886Z"
    }
   },
   "outputs": [],
   "source": [
    "labels=df.Emotion_encoded.to_numpy()"
   ]
  },
  {
   "cell_type": "code",
   "execution_count": 28,
   "metadata": {
    "execution": {
     "iopub.execute_input": "2024-05-19T04:45:13.499717Z",
     "iopub.status.busy": "2024-05-19T04:45:13.499455Z",
     "iopub.status.idle": "2024-05-19T04:45:13.507715Z",
     "shell.execute_reply": "2024-05-19T04:45:13.506581Z",
     "shell.execute_reply.started": "2024-05-19T04:45:13.499695Z"
    }
   },
   "outputs": [
    {
     "data": {
      "text/plain": [
       "(7442,)"
      ]
     },
     "execution_count": 28,
     "metadata": {},
     "output_type": "execute_result"
    }
   ],
   "source": [
    "labels.shape"
   ]
  },
  {
   "cell_type": "code",
   "execution_count": 29,
   "metadata": {
    "execution": {
     "iopub.execute_input": "2024-05-19T04:45:13.509096Z",
     "iopub.status.busy": "2024-05-19T04:45:13.508787Z",
     "iopub.status.idle": "2024-05-19T04:45:13.517535Z",
     "shell.execute_reply": "2024-05-19T04:45:13.516689Z",
     "shell.execute_reply.started": "2024-05-19T04:45:13.509069Z"
    }
   },
   "outputs": [
    {
     "data": {
      "text/plain": [
       "(7442, 1, 128, 160)"
      ]
     },
     "execution_count": 29,
     "metadata": {},
     "output_type": "execute_result"
    }
   ],
   "source": [
    "data.shape"
   ]
  },
  {
   "cell_type": "code",
   "execution_count": 30,
   "metadata": {
    "execution": {
     "iopub.execute_input": "2024-05-19T04:45:13.519245Z",
     "iopub.status.busy": "2024-05-19T04:45:13.518738Z",
     "iopub.status.idle": "2024-05-19T04:45:13.940255Z",
     "shell.execute_reply": "2024-05-19T04:45:13.939188Z",
     "shell.execute_reply.started": "2024-05-19T04:45:13.519215Z"
    }
   },
   "outputs": [
    {
     "name": "stdout",
     "output_type": "stream",
     "text": [
      "Train set size: 5357\n",
      "Validation set size: 596\n",
      "Test set size: 1489\n"
     ]
    }
   ],
   "source": [
    "#train test split\n",
    "from sklearn.model_selection import train_test_split\n",
    "# Perform the train-test split (70% train & validation, 30% test )\n",
    "X_trainAndVal, X_test, y_trainAndVal, y_test = train_test_split(data, labels, test_size=0.2, stratify=labels, random_state=42)\n",
    "\n",
    "# Perform the train-validation split (5% test, 95% train)\n",
    "X_train, X_val, y_train, y_val = train_test_split(X_trainAndVal, y_trainAndVal, test_size=0.1, stratify=y_trainAndVal, random_state=42)\n",
    "\n",
    "# Print the sizes of each split\n",
    "print(\"Train set size:\", len(X_train))\n",
    "print(\"Validation set size:\", len(X_val))\n",
    "print(\"Test set size:\", len(X_test))\n",
    "\n"
   ]
  },
  {
   "cell_type": "code",
   "execution_count": 31,
   "metadata": {
    "execution": {
     "iopub.execute_input": "2024-05-19T04:45:13.942164Z",
     "iopub.status.busy": "2024-05-19T04:45:13.941761Z",
     "iopub.status.idle": "2024-05-19T04:45:13.948499Z",
     "shell.execute_reply": "2024-05-19T04:45:13.947494Z",
     "shell.execute_reply.started": "2024-05-19T04:45:13.942129Z"
    }
   },
   "outputs": [
    {
     "data": {
      "text/plain": [
       "(5357, 1, 128, 160)"
      ]
     },
     "execution_count": 31,
     "metadata": {},
     "output_type": "execute_result"
    }
   ],
   "source": [
    "X_train.shape"
   ]
  },
  {
   "cell_type": "code",
   "execution_count": 32,
   "metadata": {
    "execution": {
     "iopub.execute_input": "2024-05-19T04:45:13.950383Z",
     "iopub.status.busy": "2024-05-19T04:45:13.949982Z",
     "iopub.status.idle": "2024-05-19T04:45:13.959426Z",
     "shell.execute_reply": "2024-05-19T04:45:13.958411Z",
     "shell.execute_reply.started": "2024-05-19T04:45:13.950348Z"
    }
   },
   "outputs": [],
   "source": [
    "from torch.utils.data import Dataset, DataLoader\n",
    "\n",
    "class AudioDataset(Dataset):\n",
    "    def __init__(self,audio,label):\n",
    "        self.audios=audio\n",
    "        self.labels=label\n",
    "\n",
    "    def __len__(self):\n",
    "        return len(self.audios)\n",
    "\n",
    "    def get_batch_imgs(self, idx):\n",
    "        # Fetch a batch of inputs\n",
    "        return self.audios[idx]\n",
    "    \n",
    "    def get_batch_labels(self, idx):\n",
    "    # Fetch a batch of inputs\n",
    "        return self.labels[idx]\n",
    "\n",
    "    \n",
    "    def __getitem__(self, index):\n",
    "        audios=self.get_batch_imgs(index)\n",
    "        labels=self.get_batch_labels(index)\n",
    "        return audios,labels\n"
   ]
  },
  {
   "cell_type": "code",
   "execution_count": 33,
   "metadata": {
    "execution": {
     "iopub.execute_input": "2024-05-19T04:45:13.960851Z",
     "iopub.status.busy": "2024-05-19T04:45:13.960551Z",
     "iopub.status.idle": "2024-05-19T04:45:13.970038Z",
     "shell.execute_reply": "2024-05-19T04:45:13.969037Z",
     "shell.execute_reply.started": "2024-05-19T04:45:13.960827Z"
    }
   },
   "outputs": [],
   "source": [
    "train_dataset = AudioDataset(X_train,y_train)\n",
    "val_dataset = AudioDataset(X_val, y_val)\n",
    "test_dataset = AudioDataset(X_test, y_test)\n",
    "\n",
    "# Create a DataLoader from the dataset\n",
    "\n",
    "train_dataloader = DataLoader(train_dataset, batch_size=8, shuffle=True)\n",
    "val_dataloader=DataLoader(val_dataset, batch_size=8, shuffle=True)\n",
    "test_dataloader=DataLoader(test_dataset, batch_size=8, shuffle=False)\n"
   ]
  },
  {
   "cell_type": "markdown",
   "metadata": {},
   "source": [
    "# Architecture"
   ]
  },
  {
   "cell_type": "code",
   "execution_count": 35,
   "metadata": {
    "execution": {
     "iopub.execute_input": "2024-05-19T04:45:13.993679Z",
     "iopub.status.busy": "2024-05-19T04:45:13.993382Z",
     "iopub.status.idle": "2024-05-19T04:45:14.016518Z",
     "shell.execute_reply": "2024-05-19T04:45:14.015589Z",
     "shell.execute_reply.started": "2024-05-19T04:45:13.993654Z"
    }
   },
   "outputs": [],
   "source": [
    "class VisionTransformer(nn.Module):\n",
    "    def __init__(self, num_labels):\n",
    "        super().__init__()\n",
    "        \n",
    "        # ViT Feature Extractor and Model Initialization\n",
    "        model_name = 'google/vit-base-patch16-224-in21k'\n",
    "        self.feature_extractor = ViTFeatureExtractor.from_pretrained(model_name)\n",
    "        self.model = ViTForImageClassification.from_pretrained(model_name, num_labels=num_labels)\n",
    "        \n",
    "    def forward(self, x):\n",
    "        # Forward pass through ViT model\n",
    "        outputs = self.model(x)\n",
    "        return outputs"
   ]
  },
  {
   "cell_type": "code",
   "execution_count": null,
   "metadata": {
    "execution": {
     "iopub.execute_input": "2024-05-19T04:45:16.257945Z",
     "iopub.status.busy": "2024-05-19T04:45:16.257658Z",
     "iopub.status.idle": "2024-05-19T04:45:16.346159Z",
     "shell.execute_reply": "2024-05-19T04:45:16.345203Z",
     "shell.execute_reply.started": "2024-05-19T04:45:16.257920Z"
    }
   },
   "outputs": [],
   "source": [
    "from torchinfo import summary\n",
    "# need device to instantiate model\n",
    "device = 'cuda'\n",
    "\n",
    "# instantiate model for 8 emotions and move to GPU \n",
    "model = VisionTransformer(6).to(device)"
   ]
  },
  {
   "cell_type": "code",
   "execution_count": 39,
   "metadata": {
    "execution": {
     "iopub.execute_input": "2024-05-19T04:45:16.363610Z",
     "iopub.status.busy": "2024-05-19T04:45:16.363354Z",
     "iopub.status.idle": "2024-05-19T04:45:16.370949Z",
     "shell.execute_reply": "2024-05-19T04:45:16.370139Z",
     "shell.execute_reply.started": "2024-05-19T04:45:16.363589Z"
    }
   },
   "outputs": [],
   "source": [
    "def train_epoch(model, data_loader, loss_fn, optimizer, device):\n",
    "    model = model.train()\n",
    "\n",
    "    losses = []\n",
    "    correct_predictions = 0\n",
    "    total_predictions = 0\n",
    "\n",
    "    for train_input, train_label in tqdm(data_loader):\n",
    "        train_label = train_label.to(device)\n",
    "        train_input = train_input.to(device)\n",
    "\n",
    "        optimizer.zero_grad()\n",
    "        \n",
    "        output_logits, output_softmax = model(train_input.float())\n",
    "        predictions = torch.argmax(output_softmax,dim=1)\n",
    "        total_predictions += train_label.size(0)\n",
    "        \n",
    "        correct_predictions += (predictions == train_label).sum().item()\n",
    "        \n",
    "        loss = loss_fn(output_logits, train_label)\n",
    "\n",
    "        losses.append(loss.item())\n",
    "\n",
    "\n",
    "        loss.backward()\n",
    "        optimizer.step()\n",
    "\n",
    "    print(f\"Epoch {epoch+1}, Learning Rate: {optimizer.param_groups[0]['lr']}\")\n",
    "\n",
    "    accuracy = correct_predictions / total_predictions\n",
    "    mean_loss = np.mean(losses)\n",
    "\n",
    "    return mean_loss, accuracy\n"
   ]
  },
  {
   "cell_type": "code",
   "execution_count": 40,
   "metadata": {
    "execution": {
     "iopub.execute_input": "2024-05-19T04:45:16.372305Z",
     "iopub.status.busy": "2024-05-19T04:45:16.371996Z",
     "iopub.status.idle": "2024-05-19T04:45:16.381281Z",
     "shell.execute_reply": "2024-05-19T04:45:16.380393Z",
     "shell.execute_reply.started": "2024-05-19T04:45:16.372282Z"
    }
   },
   "outputs": [],
   "source": [
    "def eval_model(model, data_loader, loss_fn, device):\n",
    "    model = model.eval()\n",
    "\n",
    "    losses = []\n",
    "    correct_predictions = 0\n",
    "    total_predictions = 0\n",
    "\n",
    "    with torch.no_grad():            \n",
    "        for val_input, val_label in data_loader:\n",
    "            val_label = val_label.to(device)\n",
    "            val_input = val_input.to(device)\n",
    "\n",
    "            optimizer.zero_grad()\n",
    "\n",
    "            output_logits, output_softmax = model(val_input.float())\n",
    "\n",
    "            predictions = torch.argmax(output_softmax,dim=1)\n",
    "            total_predictions += val_label.size(0)\n",
    "\n",
    "            correct_predictions += (predictions == val_label).sum().item()\n",
    "\n",
    "            loss = loss_fn(output_logits, val_label)\n",
    "\n",
    "            losses.append(loss.item())\n",
    "            \n",
    "            \n",
    "\n",
    "\n",
    "\n",
    "        accuracy = correct_predictions / total_predictions\n",
    "        mean_loss = np.mean(losses)\n",
    "        \n",
    "\n",
    "    return mean_loss, accuracy"
   ]
  },
  {
   "cell_type": "code",
   "execution_count": 43,
   "metadata": {
    "execution": {
     "iopub.execute_input": "2024-05-19T04:51:35.875402Z",
     "iopub.status.busy": "2024-05-19T04:51:35.875123Z",
     "iopub.status.idle": "2024-05-19T04:51:35.891734Z",
     "shell.execute_reply": "2024-05-19T04:51:35.890923Z",
     "shell.execute_reply.started": "2024-05-19T04:51:35.875377Z"
    }
   },
   "outputs": [
    {
     "data": {
      "text/plain": [
       "<All keys matched successfully>"
      ]
     },
     "execution_count": 43,
     "metadata": {},
     "output_type": "execute_result"
    }
   ],
   "source": [
    "model.load_state_dict(torch.load('/kaggle/working/best_model_state.bin'))"
   ]
  },
  {
   "cell_type": "code",
   "execution_count": 46,
   "metadata": {
    "execution": {
     "iopub.execute_input": "2024-05-19T04:51:36.515248Z",
     "iopub.status.busy": "2024-05-19T04:51:36.514906Z",
     "iopub.status.idle": "2024-05-19T04:51:36.522233Z",
     "shell.execute_reply": "2024-05-19T04:51:36.521372Z",
     "shell.execute_reply.started": "2024-05-19T04:51:36.515222Z"
    }
   },
   "outputs": [],
   "source": [
    "def get_predicted(model, data_loader, loss_fn, device):\n",
    "    model = model.eval()\n",
    "\n",
    "    losses = []\n",
    "    predicted_labels = []\n",
    "    true_labels = []\n",
    "\n",
    "    with torch.no_grad():\n",
    "        for test_input, test_label in data_loader:\n",
    "            test_label = test_label.to(device)\n",
    "            test_input = test_input.to(device)\n",
    "\n",
    "            output_logits, output_softmax = model(test_input.float())\n",
    "\n",
    "            predictions = torch.argmax(output_softmax, dim=1)\n",
    "            predicted_labels.extend(predictions.cpu().numpy())\n",
    "            true_labels.extend(test_label.cpu().numpy())\n",
    "\n",
    "            loss = loss_fn(output_logits, test_label)\n",
    "            losses.append(loss.item())\n",
    "\n",
    "    mean_loss = np.mean(losses)\n",
    "\n",
    "    return mean_loss, predicted_labels, true_labels"
   ]
  },
  {
   "cell_type": "code",
   "execution_count": 47,
   "metadata": {
    "execution": {
     "iopub.execute_input": "2024-05-19T04:51:36.523738Z",
     "iopub.status.busy": "2024-05-19T04:51:36.523412Z",
     "iopub.status.idle": "2024-05-19T04:51:37.123044Z",
     "shell.execute_reply": "2024-05-19T04:51:37.122267Z",
     "shell.execute_reply.started": "2024-05-19T04:51:36.523707Z"
    }
   },
   "outputs": [],
   "source": [
    "mean_loss, predicted_labels, true_labels=get_predicted(model,test_dataloader,loss_fn,DEVICE)"
   ]
  },
  {
   "cell_type": "code",
   "execution_count": 48,
   "metadata": {
    "execution": {
     "iopub.execute_input": "2024-05-19T04:51:37.125082Z",
     "iopub.status.busy": "2024-05-19T04:51:37.124442Z",
     "iopub.status.idle": "2024-05-19T04:51:37.134164Z",
     "shell.execute_reply": "2024-05-19T04:51:37.133265Z",
     "shell.execute_reply.started": "2024-05-19T04:51:37.125044Z"
    }
   },
   "outputs": [],
   "source": [
    "from sklearn.metrics import precision_score, recall_score, f1_score, accuracy_score,classification_report,confusion_matrix\n",
    "\n",
    "import matplotlib.pyplot as plt\n",
    "def measurements_of_accuracy(Y_test,Y_pred,classifier,labels):\n",
    "    # Calculate the confusion matrix\n",
    "#     conf_matrix = confusion_matrix(y_true=Y_test, y_pred=Y_pred)\n",
    "#     matrix_precentage = conf_matrix.astype('float') / conf_matrix.sum(axis=1)[:, np.newaxis]\n",
    "    \n",
    "#     fig, ax = plt.subplots(figsize=(5, 5))\n",
    "#     ax.matshow(conf_matrix, cmap=plt.cm.Oranges, alpha=0.3)\n",
    "#     for i in range(conf_matrix.shape[0]):\n",
    "#         for j in range(conf_matrix.shape[1]):\n",
    "#             ax.text(x=j, y=i,s=conf_matrix[i, j], va='center', ha='center')\n",
    " \n",
    "#     plt.xlabel('Predictions', fontsize=18)\n",
    "#     plt.ylabel('Actuals', fontsize=18)\n",
    "#     plt.title(\"Confusion Matrix for \"+classifier+\"Classifier\", fontsize=18)\n",
    "#     plt.grid(False)\n",
    "#     plt.xticks(range(len(labels)), labels, rotation=90)  # Set x-axis labels\n",
    "#     plt.yticks(range(len(labels)), labels)  # Set y-axis labels\n",
    "#     plt.show()\n",
    "    \n",
    "#     #Accuracy\n",
    "#     print('Accuracy : %.4f' % accuracy_score(Y_test, Y_pred))\n",
    "\n",
    "#     #precision score\n",
    "#     print('Precision : %.4f' % precision_score(Y_test, Y_pred,average='macro'))\n",
    "    \n",
    "#     #Recall Score\n",
    "#     print('Recall : %.4f' % recall_score(Y_test, Y_pred,average='macro'))\n",
    "    \n",
    "#     #F1 score\n",
    "#     print('F1 Score : %.4f' % f1_score(Y_test, Y_pred,average='macro'))\n",
    "    \n",
    "#         # Find the most confusing classes\n",
    "#     misclassification_rates = 1 - np.diag(matrix_precentage)\n",
    "#     most_confusing_classes = [labels[i] for i in np.argsort(misclassification_rates)[::-1]]\n",
    "#     print(\"Most Confusing Classes:\")\n",
    "#     for i, label in enumerate(most_confusing_classes):\n",
    "#         rate_percentage = misclassification_rates[i] * 100\n",
    "#         print(f\"{i + 1}. {label}: {rate_percentage:.2f}% (Misclassification rate)\")\n",
    "    cm = confusion_matrix(Y_test, Y_pred)\n",
    "    report = classification_report(Y_test, Y_pred, target_names=labels)\n",
    "    \n",
    "    print('Classification Report:')\n",
    "    print(report)\n",
    "    \n",
    "    sns.set()\n",
    "    plt.figure(figsize=(8, 8))\n",
    "    sns.heatmap(cm, annot=True,fmt='d', cmap='Blues', annot_kws={\"fontsize\": 18}, xticklabels=labels, yticklabels=labels)\n",
    "    plt.xticks(fontsize=14)\n",
    "    plt.yticks(fontsize=14) \n",
    "    plt.title('Confusion Matrix', size=20)\n",
    "    plt.xlabel('Predicted labels', size=14)\n",
    "    plt.ylabel('True labels', size=14)\n",
    "    plt.show()\n"
   ]
  },
  {
   "cell_type": "code",
   "execution_count": 49,
   "metadata": {
    "execution": {
     "iopub.execute_input": "2024-05-19T04:51:37.135517Z",
     "iopub.status.busy": "2024-05-19T04:51:37.135219Z",
     "iopub.status.idle": "2024-05-19T04:51:37.146822Z",
     "shell.execute_reply": "2024-05-19T04:51:37.145986Z",
     "shell.execute_reply.started": "2024-05-19T04:51:37.135493Z"
    }
   },
   "outputs": [
    {
     "data": {
      "text/plain": [
       "{'Anger': 0, 'Disgust': 1, 'Fear': 2, 'Happy': 3, 'Neutral': 4, 'Sad': 5}"
      ]
     },
     "execution_count": 49,
     "metadata": {},
     "output_type": "execute_result"
    }
   ],
   "source": [
    "label_mapping"
   ]
  },
  {
   "cell_type": "code",
   "execution_count": 51,
   "metadata": {
    "execution": {
     "iopub.execute_input": "2024-05-19T04:51:37.618262Z",
     "iopub.status.busy": "2024-05-19T04:51:37.617894Z",
     "iopub.status.idle": "2024-05-19T04:51:37.653770Z",
     "shell.execute_reply": "2024-05-19T04:51:37.653064Z",
     "shell.execute_reply.started": "2024-05-19T04:51:37.618236Z"
    }
   },
   "outputs": [],
   "source": [
    "import torch.optim as optim\n",
    "EPOCHS=500\n",
    "DEVICE = torch.device(\"cuda:0\" if torch.cuda.is_available() else \"cpu\")\n",
    "loss_fn =nn.CrossEntropyLoss().to(DEVICE)\n",
    "\n",
    "LEARNING_RATE=1e-4\n",
    "model = ParaNetTransformer(6).to(DEVICE)\n",
    "optimizer = optim.AdamW(model.parameters(), lr=LEARNING_RATE, weight_decay=0.001)\n",
    "# optimizer = optim.Adam(model.parameters(), lr=LEARNING_RATE)"
   ]
  },
  {
   "cell_type": "code",
   "execution_count": 52,
   "metadata": {
    "execution": {
     "iopub.execute_input": "2024-05-19T04:51:37.655086Z",
     "iopub.status.busy": "2024-05-19T04:51:37.654797Z",
     "iopub.status.idle": "2024-05-19T04:51:37.659964Z",
     "shell.execute_reply": "2024-05-19T04:51:37.658979Z",
     "shell.execute_reply.started": "2024-05-19T04:51:37.655061Z"
    }
   },
   "outputs": [],
   "source": [
    "from collections import defaultdict\n",
    "import math\n",
    "history = defaultdict(list)\n",
    "loss=math.inf\n",
    "epochs_without_improvement = 0\n",
    "patience = 30  # Number of epochs to wait for improvement"
   ]
  },
  {
   "cell_type": "code",
   "execution_count": 53,
   "metadata": {
    "execution": {
     "iopub.execute_input": "2024-05-19T04:51:37.661254Z",
     "iopub.status.busy": "2024-05-19T04:51:37.660976Z",
     "iopub.status.idle": "2024-05-19T05:22:54.632654Z",
     "shell.execute_reply": "2024-05-19T05:22:54.631661Z",
     "shell.execute_reply.started": "2024-05-19T04:51:37.661231Z"
    }
   },
   "outputs": [
    {
     "name": "stderr",
     "output_type": "stream",
     "text": [
      "100%|██████████| 670/670 [00:13<00:00, 50.41it/s]\n"
     ]
    },
    {
     "name": "stdout",
     "output_type": "stream",
     "text": [
      "Epoch 1, Learning Rate: 0.0001\n",
      "Epoch 1/500\n",
      "----------\n",
      "Train loss 1.7413966224264743\n",
      "Train Accuracy 0.32368863169684525\n",
      "Val   loss 1.4979756991068522\n",
      "Val   Acc 0.31543624161073824\n",
      "\n"
     ]
    },
    {
     "name": "stderr",
     "output_type": "stream",
     "text": [
      "100%|██████████| 670/670 [00:13<00:00, 50.43it/s]\n"
     ]
    },
    {
     "name": "stdout",
     "output_type": "stream",
     "text": [
      "Epoch 2, Learning Rate: 0.0001\n",
      "Epoch 2/500\n",
      "----------\n",
      "Train loss 1.5830998247239128\n",
      "Train Accuracy 0.36942318461825646\n",
      "Val   loss 1.3942477774620057\n",
      "Val   Acc 0.4278523489932886\n",
      "\n"
     ]
    },
    {
     "name": "stderr",
     "output_type": "stream",
     "text": [
      "100%|██████████| 670/670 [00:13<00:00, 50.06it/s]\n"
     ]
    },
    {
     "name": "stdout",
     "output_type": "stream",
     "text": [
      "Epoch 3, Learning Rate: 0.0001\n",
      "Epoch 3/500\n",
      "----------\n",
      "Train loss 1.5104290162449452\n",
      "Train Accuracy 0.3923837969012507\n",
      "Val   loss 1.3728240617116292\n",
      "Val   Acc 0.39932885906040266\n",
      "\n"
     ]
    },
    {
     "name": "stderr",
     "output_type": "stream",
     "text": [
      "100%|██████████| 670/670 [00:13<00:00, 50.79it/s]\n"
     ]
    },
    {
     "name": "stdout",
     "output_type": "stream",
     "text": [
      "Epoch 4, Learning Rate: 0.0001\n",
      "Epoch 4/500\n",
      "----------\n",
      "Train loss 1.4457185663394074\n",
      "Train Accuracy 0.4142243793167818\n",
      "Val   loss 1.467364592552185\n",
      "Val   Acc 0.35067114093959734\n",
      "\n"
     ]
    },
    {
     "name": "stderr",
     "output_type": "stream",
     "text": [
      "100%|██████████| 670/670 [00:13<00:00, 50.27it/s]\n"
     ]
    },
    {
     "name": "stdout",
     "output_type": "stream",
     "text": [
      "Epoch 5, Learning Rate: 0.0001\n",
      "Epoch 5/500\n",
      "----------\n",
      "Train loss 1.419952872617921\n",
      "Train Accuracy 0.4327048721299235\n",
      "Val   loss 1.3197264830271402\n",
      "Val   Acc 0.45302013422818793\n",
      "\n"
     ]
    },
    {
     "name": "stderr",
     "output_type": "stream",
     "text": [
      "100%|██████████| 670/670 [00:13<00:00, 48.61it/s]\n"
     ]
    },
    {
     "name": "stdout",
     "output_type": "stream",
     "text": [
      "Epoch 6, Learning Rate: 0.0001\n",
      "Epoch 6/500\n",
      "----------\n",
      "Train loss 1.391093829585545\n",
      "Train Accuracy 0.44241179764793725\n",
      "Val   loss 1.3389324688911437\n",
      "Val   Acc 0.4546979865771812\n",
      "\n"
     ]
    },
    {
     "name": "stderr",
     "output_type": "stream",
     "text": [
      "100%|██████████| 670/670 [00:13<00:00, 50.10it/s]\n"
     ]
    },
    {
     "name": "stdout",
     "output_type": "stream",
     "text": [
      "Epoch 7, Learning Rate: 0.0001\n",
      "Epoch 7/500\n",
      "----------\n",
      "Train loss 1.3587748414544918\n",
      "Train Accuracy 0.45734552921411237\n",
      "Val   loss 1.3528699056307474\n",
      "Val   Acc 0.4395973154362416\n",
      "\n"
     ]
    },
    {
     "name": "stderr",
     "output_type": "stream",
     "text": [
      "100%|██████████| 670/670 [00:13<00:00, 50.29it/s]\n"
     ]
    },
    {
     "name": "stdout",
     "output_type": "stream",
     "text": [
      "Epoch 8, Learning Rate: 0.0001\n",
      "Epoch 8/500\n",
      "----------\n",
      "Train loss 1.3449526539489405\n",
      "Train Accuracy 0.46275900690685084\n",
      "Val   loss 1.2562366000811258\n",
      "Val   Acc 0.4848993288590604\n",
      "\n"
     ]
    },
    {
     "name": "stderr",
     "output_type": "stream",
     "text": [
      "100%|██████████| 670/670 [00:13<00:00, 49.72it/s]\n"
     ]
    },
    {
     "name": "stdout",
     "output_type": "stream",
     "text": [
      "Epoch 9, Learning Rate: 0.0001\n",
      "Epoch 9/500\n",
      "----------\n",
      "Train loss 1.3099717117957215\n",
      "Train Accuracy 0.48105282807541533\n",
      "Val   loss 1.245976734161377\n",
      "Val   Acc 0.5167785234899329\n",
      "\n"
     ]
    },
    {
     "name": "stderr",
     "output_type": "stream",
     "text": [
      "100%|██████████| 670/670 [00:13<00:00, 48.33it/s]\n"
     ]
    },
    {
     "name": "stdout",
     "output_type": "stream",
     "text": [
      "Epoch 10, Learning Rate: 0.0001\n",
      "Epoch 10/500\n",
      "----------\n",
      "Train loss 1.2904953784462232\n",
      "Train Accuracy 0.4864663057681538\n",
      "Val   loss 1.2240632724761964\n",
      "Val   Acc 0.5268456375838926\n",
      "\n"
     ]
    },
    {
     "name": "stderr",
     "output_type": "stream",
     "text": [
      "100%|██████████| 670/670 [00:13<00:00, 49.83it/s]\n"
     ]
    },
    {
     "name": "stdout",
     "output_type": "stream",
     "text": [
      "Epoch 11, Learning Rate: 0.0001\n",
      "Epoch 11/500\n",
      "----------\n",
      "Train loss 1.2652380924616287\n",
      "Train Accuracy 0.493559828262087\n",
      "Val   loss 1.1904582293828327\n",
      "Val   Acc 0.5318791946308725\n",
      "\n"
     ]
    },
    {
     "name": "stderr",
     "output_type": "stream",
     "text": [
      "100%|██████████| 670/670 [00:13<00:00, 48.60it/s]\n"
     ]
    },
    {
     "name": "stdout",
     "output_type": "stream",
     "text": [
      "Epoch 12, Learning Rate: 0.0001\n",
      "Epoch 12/500\n",
      "----------\n",
      "Train loss 1.2472996959935374\n",
      "Train Accuracy 0.5112936344969199\n",
      "Val   loss 1.1664735396703085\n",
      "Val   Acc 0.5671140939597316\n",
      "\n"
     ]
    },
    {
     "name": "stderr",
     "output_type": "stream",
     "text": [
      "100%|██████████| 670/670 [00:13<00:00, 49.93it/s]\n"
     ]
    },
    {
     "name": "stdout",
     "output_type": "stream",
     "text": [
      "Epoch 13, Learning Rate: 0.0001\n",
      "Epoch 13/500\n",
      "----------\n",
      "Train loss 1.232357703660851\n",
      "Train Accuracy 0.5150270673884637\n",
      "Val   loss 1.1877255392074586\n",
      "Val   Acc 0.5469798657718121\n",
      "\n"
     ]
    },
    {
     "name": "stderr",
     "output_type": "stream",
     "text": [
      "100%|██████████| 670/670 [00:13<00:00, 50.40it/s]\n"
     ]
    },
    {
     "name": "stdout",
     "output_type": "stream",
     "text": [
      "Epoch 14, Learning Rate: 0.0001\n",
      "Epoch 14/500\n",
      "----------\n",
      "Train loss 1.2308778537298317\n",
      "Train Accuracy 0.5070001866716446\n",
      "Val   loss 1.1664200854301452\n",
      "Val   Acc 0.5536912751677853\n",
      "\n"
     ]
    },
    {
     "name": "stderr",
     "output_type": "stream",
     "text": [
      "100%|██████████| 670/670 [00:13<00:00, 49.71it/s]\n"
     ]
    },
    {
     "name": "stdout",
     "output_type": "stream",
     "text": [
      "Epoch 15, Learning Rate: 0.0001\n",
      "Epoch 15/500\n",
      "----------\n",
      "Train loss 1.200961538837917\n",
      "Train Accuracy 0.5234272913944372\n",
      "Val   loss 1.156036891937256\n",
      "Val   Acc 0.5536912751677853\n",
      "\n"
     ]
    },
    {
     "name": "stderr",
     "output_type": "stream",
     "text": [
      "100%|██████████| 670/670 [00:13<00:00, 49.36it/s]\n"
     ]
    },
    {
     "name": "stdout",
     "output_type": "stream",
     "text": [
      "Epoch 16, Learning Rate: 0.0001\n",
      "Epoch 16/500\n",
      "----------\n",
      "Train loss 1.1766139849353192\n",
      "Train Accuracy 0.5387343662497667\n",
      "Val   loss 1.1376780899365744\n",
      "Val   Acc 0.5704697986577181\n",
      "\n"
     ]
    },
    {
     "name": "stderr",
     "output_type": "stream",
     "text": [
      "100%|██████████| 670/670 [00:13<00:00, 49.18it/s]\n"
     ]
    },
    {
     "name": "stdout",
     "output_type": "stream",
     "text": [
      "Epoch 17, Learning Rate: 0.0001\n",
      "Epoch 17/500\n",
      "----------\n",
      "Train loss 1.1708062405016886\n",
      "Train Accuracy 0.5351876050028\n",
      "Val   loss 1.1226895809173585\n",
      "Val   Acc 0.5805369127516778\n",
      "\n"
     ]
    },
    {
     "name": "stderr",
     "output_type": "stream",
     "text": [
      "100%|██████████| 670/670 [00:13<00:00, 50.41it/s]\n"
     ]
    },
    {
     "name": "stdout",
     "output_type": "stream",
     "text": [
      "Epoch 18, Learning Rate: 0.0001\n",
      "Epoch 18/500\n",
      "----------\n",
      "Train loss 1.1524526698375817\n",
      "Train Accuracy 0.5493746499906664\n",
      "Val   loss 1.130127507050832\n",
      "Val   Acc 0.5654362416107382\n",
      "\n"
     ]
    },
    {
     "name": "stderr",
     "output_type": "stream",
     "text": [
      "100%|██████████| 670/670 [00:13<00:00, 49.79it/s]\n"
     ]
    },
    {
     "name": "stdout",
     "output_type": "stream",
     "text": [
      "Epoch 19, Learning Rate: 0.0001\n",
      "Epoch 19/500\n",
      "----------\n",
      "Train loss 1.1400008130429395\n",
      "Train Accuracy 0.5547881276834049\n",
      "Val   loss 1.1357274452845256\n",
      "Val   Acc 0.5503355704697986\n",
      "\n"
     ]
    },
    {
     "name": "stderr",
     "output_type": "stream",
     "text": [
      "100%|██████████| 670/670 [00:13<00:00, 50.53it/s]\n"
     ]
    },
    {
     "name": "stdout",
     "output_type": "stream",
     "text": [
      "Epoch 20, Learning Rate: 0.0001\n",
      "Epoch 20/500\n",
      "----------\n",
      "Train loss 1.1320541568211655\n",
      "Train Accuracy 0.5531080828822101\n",
      "Val   loss 1.1375314895311992\n",
      "Val   Acc 0.5771812080536913\n",
      "\n"
     ]
    },
    {
     "name": "stderr",
     "output_type": "stream",
     "text": [
      "100%|██████████| 670/670 [00:13<00:00, 49.69it/s]\n"
     ]
    },
    {
     "name": "stdout",
     "output_type": "stream",
     "text": [
      "Epoch 21, Learning Rate: 0.0001\n",
      "Epoch 21/500\n",
      "----------\n",
      "Train loss 1.1175211494538322\n",
      "Train Accuracy 0.5536680978159417\n",
      "Val   loss 1.1101851518948873\n",
      "Val   Acc 0.5553691275167785\n",
      "\n"
     ]
    },
    {
     "name": "stderr",
     "output_type": "stream",
     "text": [
      "100%|██████████| 670/670 [00:13<00:00, 50.62it/s]\n"
     ]
    },
    {
     "name": "stdout",
     "output_type": "stream",
     "text": [
      "Epoch 22, Learning Rate: 0.0001\n",
      "Epoch 22/500\n",
      "----------\n",
      "Train loss 1.1074628140054532\n",
      "Train Accuracy 0.5652417397797275\n",
      "Val   loss 1.1183174645900726\n",
      "Val   Acc 0.5855704697986577\n",
      "\n"
     ]
    },
    {
     "name": "stderr",
     "output_type": "stream",
     "text": [
      "100%|██████████| 670/670 [00:13<00:00, 50.37it/s]\n"
     ]
    },
    {
     "name": "stdout",
     "output_type": "stream",
     "text": [
      "Epoch 23, Learning Rate: 0.0001\n",
      "Epoch 23/500\n",
      "----------\n",
      "Train loss 1.0975002662014606\n",
      "Train Accuracy 0.5728952772073922\n",
      "Val   loss 1.1325126338005065\n",
      "Val   Acc 0.5486577181208053\n",
      "\n"
     ]
    },
    {
     "name": "stderr",
     "output_type": "stream",
     "text": [
      "100%|██████████| 670/670 [00:13<00:00, 50.29it/s]\n"
     ]
    },
    {
     "name": "stdout",
     "output_type": "stream",
     "text": [
      "Epoch 24, Learning Rate: 0.0001\n",
      "Epoch 24/500\n",
      "----------\n",
      "Train loss 1.087537111408675\n",
      "Train Accuracy 0.5770020533880903\n",
      "Val   loss 1.1551135150591532\n",
      "Val   Acc 0.5436241610738255\n",
      "\n"
     ]
    },
    {
     "name": "stderr",
     "output_type": "stream",
     "text": [
      "100%|██████████| 670/670 [00:13<00:00, 50.64it/s]\n"
     ]
    },
    {
     "name": "stdout",
     "output_type": "stream",
     "text": [
      "Epoch 25, Learning Rate: 0.0001\n",
      "Epoch 25/500\n",
      "----------\n",
      "Train loss 1.0850707254747847\n",
      "Train Accuracy 0.5684151577375397\n",
      "Val   loss 1.0806484929720561\n",
      "Val   Acc 0.5788590604026845\n",
      "\n"
     ]
    },
    {
     "name": "stderr",
     "output_type": "stream",
     "text": [
      "100%|██████████| 670/670 [00:13<00:00, 49.72it/s]\n"
     ]
    },
    {
     "name": "stdout",
     "output_type": "stream",
     "text": [
      "Epoch 26, Learning Rate: 0.0001\n",
      "Epoch 26/500\n",
      "----------\n",
      "Train loss 1.0703196884980841\n",
      "Train Accuracy 0.5807354862796341\n",
      "Val   loss 1.0576043899854024\n",
      "Val   Acc 0.5973154362416108\n",
      "\n"
     ]
    },
    {
     "name": "stderr",
     "output_type": "stream",
     "text": [
      "100%|██████████| 670/670 [00:13<00:00, 50.58it/s]\n"
     ]
    },
    {
     "name": "stdout",
     "output_type": "stream",
     "text": [
      "Epoch 27, Learning Rate: 0.0001\n",
      "Epoch 27/500\n",
      "----------\n",
      "Train loss 1.0520298432503175\n",
      "Train Accuracy 0.592495799887997\n",
      "Val   loss 1.0364293575286865\n",
      "Val   Acc 0.6124161073825504\n",
      "\n"
     ]
    },
    {
     "name": "stderr",
     "output_type": "stream",
     "text": [
      "100%|██████████| 670/670 [00:13<00:00, 49.61it/s]\n"
     ]
    },
    {
     "name": "stdout",
     "output_type": "stream",
     "text": [
      "Epoch 28, Learning Rate: 0.0001\n",
      "Epoch 28/500\n",
      "----------\n",
      "Train loss 1.0532290816307068\n",
      "Train Accuracy 0.5910024267313795\n",
      "Val   loss 1.0644413530826569\n",
      "Val   Acc 0.5822147651006712\n",
      "\n"
     ]
    },
    {
     "name": "stderr",
     "output_type": "stream",
     "text": [
      "100%|██████████| 670/670 [00:13<00:00, 49.89it/s]\n"
     ]
    },
    {
     "name": "stdout",
     "output_type": "stream",
     "text": [
      "Epoch 29, Learning Rate: 0.0001\n",
      "Epoch 29/500\n",
      "----------\n",
      "Train loss 1.0374084101239247\n",
      "Train Accuracy 0.5947358596229233\n",
      "Val   loss 1.0737147279580435\n",
      "Val   Acc 0.5973154362416108\n",
      "\n"
     ]
    },
    {
     "name": "stderr",
     "output_type": "stream",
     "text": [
      "100%|██████████| 670/670 [00:13<00:00, 50.18it/s]\n"
     ]
    },
    {
     "name": "stdout",
     "output_type": "stream",
     "text": [
      "Epoch 30, Learning Rate: 0.0001\n",
      "Epoch 30/500\n",
      "----------\n",
      "Train loss 1.0210154267834193\n",
      "Train Accuracy 0.6064961732312861\n",
      "Val   loss 1.0572520271937051\n",
      "Val   Acc 0.6040268456375839\n",
      "\n"
     ]
    },
    {
     "name": "stderr",
     "output_type": "stream",
     "text": [
      "100%|██████████| 670/670 [00:13<00:00, 50.66it/s]\n"
     ]
    },
    {
     "name": "stdout",
     "output_type": "stream",
     "text": [
      "Epoch 31, Learning Rate: 0.0001\n",
      "Epoch 31/500\n",
      "----------\n",
      "Train loss 1.0207421554558314\n",
      "Train Accuracy 0.6035094269180511\n",
      "Val   loss 1.0456398550669352\n",
      "Val   Acc 0.5973154362416108\n",
      "\n"
     ]
    },
    {
     "name": "stderr",
     "output_type": "stream",
     "text": [
      "100%|██████████| 670/670 [00:13<00:00, 50.29it/s]\n"
     ]
    },
    {
     "name": "stdout",
     "output_type": "stream",
     "text": [
      "Epoch 32, Learning Rate: 0.0001\n",
      "Epoch 32/500\n",
      "----------\n",
      "Train loss 0.9972370487095704\n",
      "Train Accuracy 0.6119096509240246\n",
      "Val   loss 1.0266923693815868\n",
      "Val   Acc 0.6157718120805369\n",
      "\n"
     ]
    },
    {
     "name": "stderr",
     "output_type": "stream",
     "text": [
      "100%|██████████| 670/670 [00:13<00:00, 50.36it/s]\n"
     ]
    },
    {
     "name": "stdout",
     "output_type": "stream",
     "text": [
      "Epoch 33, Learning Rate: 0.0001\n",
      "Epoch 33/500\n",
      "----------\n",
      "Train loss 1.0079797984281582\n",
      "Train Accuracy 0.6150830688818368\n",
      "Val   loss 1.0399615828196207\n",
      "Val   Acc 0.6308724832214765\n",
      "\n"
     ]
    },
    {
     "name": "stderr",
     "output_type": "stream",
     "text": [
      "100%|██████████| 670/670 [00:13<00:00, 50.19it/s]\n"
     ]
    },
    {
     "name": "stdout",
     "output_type": "stream",
     "text": [
      "Epoch 34, Learning Rate: 0.0001\n",
      "Epoch 34/500\n",
      "----------\n",
      "Train loss 0.9884141145357445\n",
      "Train Accuracy 0.6165764420384544\n",
      "Val   loss 1.0447410972913107\n",
      "Val   Acc 0.6124161073825504\n",
      "\n"
     ]
    },
    {
     "name": "stderr",
     "output_type": "stream",
     "text": [
      "100%|██████████| 670/670 [00:13<00:00, 50.35it/s]\n"
     ]
    },
    {
     "name": "stdout",
     "output_type": "stream",
     "text": [
      "Epoch 35, Learning Rate: 0.0001\n",
      "Epoch 35/500\n",
      "----------\n",
      "Train loss 0.9714077612357354\n",
      "Train Accuracy 0.6311368303154751\n",
      "Val   loss 1.027246805826823\n",
      "Val   Acc 0.5889261744966443\n",
      "\n"
     ]
    },
    {
     "name": "stderr",
     "output_type": "stream",
     "text": [
      "100%|██████████| 670/670 [00:13<00:00, 50.41it/s]\n"
     ]
    },
    {
     "name": "stdout",
     "output_type": "stream",
     "text": [
      "Epoch 36, Learning Rate: 0.0001\n",
      "Epoch 36/500\n",
      "----------\n",
      "Train loss 0.9708449080808839\n",
      "Train Accuracy 0.6268433824901998\n",
      "Val   loss 1.0356046458085377\n",
      "Val   Acc 0.6140939597315436\n",
      "\n"
     ]
    },
    {
     "name": "stderr",
     "output_type": "stream",
     "text": [
      "100%|██████████| 670/670 [00:13<00:00, 50.48it/s]\n"
     ]
    },
    {
     "name": "stdout",
     "output_type": "stream",
     "text": [
      "Epoch 37, Learning Rate: 0.0001\n",
      "Epoch 37/500\n",
      "----------\n",
      "Train loss 0.9766428850924791\n",
      "Train Accuracy 0.6203098749299981\n",
      "Val   loss 0.9966726972659429\n",
      "Val   Acc 0.62751677852349\n",
      "\n"
     ]
    },
    {
     "name": "stderr",
     "output_type": "stream",
     "text": [
      "100%|██████████| 670/670 [00:13<00:00, 50.33it/s]\n"
     ]
    },
    {
     "name": "stdout",
     "output_type": "stream",
     "text": [
      "Epoch 38, Learning Rate: 0.0001\n",
      "Epoch 38/500\n",
      "----------\n",
      "Train loss 0.9498227695475764\n",
      "Train Accuracy 0.629083442225126\n",
      "Val   loss 1.0350335395336152\n",
      "Val   Acc 0.6308724832214765\n",
      "\n"
     ]
    },
    {
     "name": "stderr",
     "output_type": "stream",
     "text": [
      "100%|██████████| 670/670 [00:13<00:00, 50.32it/s]\n"
     ]
    },
    {
     "name": "stdout",
     "output_type": "stream",
     "text": [
      "Epoch 39, Learning Rate: 0.0001\n",
      "Epoch 39/500\n",
      "----------\n",
      "Train loss 0.9604579784532091\n",
      "Train Accuracy 0.6300168004480119\n",
      "Val   loss 1.059006609916687\n",
      "Val   Acc 0.5788590604026845\n",
      "\n"
     ]
    },
    {
     "name": "stderr",
     "output_type": "stream",
     "text": [
      "100%|██████████| 670/670 [00:13<00:00, 50.30it/s]\n"
     ]
    },
    {
     "name": "stdout",
     "output_type": "stream",
     "text": [
      "Epoch 40, Learning Rate: 0.0001\n",
      "Epoch 40/500\n",
      "----------\n",
      "Train loss 0.9317876207517154\n",
      "Train Accuracy 0.6509240246406571\n",
      "Val   loss 1.0075139848391215\n",
      "Val   Acc 0.6258389261744967\n",
      "\n"
     ]
    },
    {
     "name": "stderr",
     "output_type": "stream",
     "text": [
      "100%|██████████| 670/670 [00:13<00:00, 50.54it/s]\n"
     ]
    },
    {
     "name": "stdout",
     "output_type": "stream",
     "text": [
      "Epoch 41, Learning Rate: 0.0001\n",
      "Epoch 41/500\n",
      "----------\n",
      "Train loss 0.9331367812494733\n",
      "Train Accuracy 0.6453238753033415\n",
      "Val   loss 1.0037264406681061\n",
      "Val   Acc 0.6090604026845637\n",
      "\n"
     ]
    },
    {
     "name": "stderr",
     "output_type": "stream",
     "text": [
      "100%|██████████| 670/670 [00:13<00:00, 50.21it/s]\n"
     ]
    },
    {
     "name": "stdout",
     "output_type": "stream",
     "text": [
      "Epoch 42, Learning Rate: 0.0001\n",
      "Epoch 42/500\n",
      "----------\n",
      "Train loss 0.9263122472745269\n",
      "Train Accuracy 0.6471905917491133\n",
      "Val   loss 1.0014574042956035\n",
      "Val   Acc 0.6157718120805369\n",
      "\n"
     ]
    },
    {
     "name": "stderr",
     "output_type": "stream",
     "text": [
      "100%|██████████| 670/670 [00:13<00:00, 50.29it/s]\n"
     ]
    },
    {
     "name": "stdout",
     "output_type": "stream",
     "text": [
      "Epoch 43, Learning Rate: 0.0001\n",
      "Epoch 43/500\n",
      "----------\n",
      "Train loss 0.9114153444544593\n",
      "Train Accuracy 0.6568975172671271\n",
      "Val   loss 0.9781536368529001\n",
      "Val   Acc 0.6325503355704698\n",
      "\n"
     ]
    },
    {
     "name": "stderr",
     "output_type": "stream",
     "text": [
      "100%|██████████| 670/670 [00:13<00:00, 50.13it/s]\n"
     ]
    },
    {
     "name": "stdout",
     "output_type": "stream",
     "text": [
      "Epoch 44, Learning Rate: 0.0001\n",
      "Epoch 44/500\n",
      "----------\n",
      "Train loss 0.9110493144659854\n",
      "Train Accuracy 0.6514840395743886\n",
      "Val   loss 1.0362800105412802\n",
      "Val   Acc 0.6090604026845637\n",
      "\n"
     ]
    },
    {
     "name": "stderr",
     "output_type": "stream",
     "text": [
      "100%|██████████| 670/670 [00:13<00:00, 50.35it/s]\n"
     ]
    },
    {
     "name": "stdout",
     "output_type": "stream",
     "text": [
      "Epoch 45, Learning Rate: 0.0001\n",
      "Epoch 45/500\n",
      "----------\n",
      "Train loss 0.8848474615990226\n",
      "Train Accuracy 0.653724099309315\n",
      "Val   loss 1.0638636068503062\n",
      "Val   Acc 0.6057046979865772\n",
      "\n"
     ]
    },
    {
     "name": "stderr",
     "output_type": "stream",
     "text": [
      "100%|██████████| 670/670 [00:13<00:00, 50.11it/s]\n"
     ]
    },
    {
     "name": "stdout",
     "output_type": "stream",
     "text": [
      "Epoch 46, Learning Rate: 0.0001\n",
      "Epoch 46/500\n",
      "----------\n",
      "Train loss 0.902949467479293\n",
      "Train Accuracy 0.6550308008213552\n",
      "Val   loss 1.070174814860026\n",
      "Val   Acc 0.5956375838926175\n",
      "\n"
     ]
    },
    {
     "name": "stderr",
     "output_type": "stream",
     "text": [
      "100%|██████████| 670/670 [00:13<00:00, 50.69it/s]\n"
     ]
    },
    {
     "name": "stdout",
     "output_type": "stream",
     "text": [
      "Epoch 47, Learning Rate: 0.0001\n",
      "Epoch 47/500\n",
      "----------\n",
      "Train loss 0.8872186980807959\n",
      "Train Accuracy 0.658764233712899\n",
      "Val   loss 1.0281343110402426\n",
      "Val   Acc 0.6258389261744967\n",
      "\n"
     ]
    },
    {
     "name": "stderr",
     "output_type": "stream",
     "text": [
      "100%|██████████| 670/670 [00:13<00:00, 50.40it/s]\n"
     ]
    },
    {
     "name": "stdout",
     "output_type": "stream",
     "text": [
      "Epoch 48, Learning Rate: 0.0001\n",
      "Epoch 48/500\n",
      "----------\n",
      "Train loss 0.8929800292004401\n",
      "Train Accuracy 0.6544707858876236\n",
      "Val   loss 1.0172726170221964\n",
      "Val   Acc 0.6359060402684564\n",
      "\n"
     ]
    },
    {
     "name": "stderr",
     "output_type": "stream",
     "text": [
      "100%|██████████| 670/670 [00:13<00:00, 50.37it/s]\n"
     ]
    },
    {
     "name": "stdout",
     "output_type": "stream",
     "text": [
      "Epoch 49, Learning Rate: 0.0001\n",
      "Epoch 49/500\n",
      "----------\n",
      "Train loss 0.887534936061546\n",
      "Train Accuracy 0.6613776367369797\n",
      "Val   loss 1.0434655968348185\n",
      "Val   Acc 0.6124161073825504\n",
      "\n"
     ]
    },
    {
     "name": "stderr",
     "output_type": "stream",
     "text": [
      "100%|██████████| 670/670 [00:13<00:00, 50.57it/s]\n"
     ]
    },
    {
     "name": "stdout",
     "output_type": "stream",
     "text": [
      "Epoch 50, Learning Rate: 0.0001\n",
      "Epoch 50/500\n",
      "----------\n",
      "Train loss 0.8575426968398379\n",
      "Train Accuracy 0.6682844875863356\n",
      "Val   loss 1.0196275579929353\n",
      "Val   Acc 0.6157718120805369\n",
      "\n"
     ]
    },
    {
     "name": "stderr",
     "output_type": "stream",
     "text": [
      "100%|██████████| 670/670 [00:13<00:00, 49.96it/s]\n"
     ]
    },
    {
     "name": "stdout",
     "output_type": "stream",
     "text": [
      "Epoch 51, Learning Rate: 0.0001\n",
      "Epoch 51/500\n",
      "----------\n",
      "Train loss 0.8701216807561134\n",
      "Train Accuracy 0.6595109202912077\n",
      "Val   loss 1.054441332221031\n",
      "Val   Acc 0.6057046979865772\n",
      "\n"
     ]
    },
    {
     "name": "stderr",
     "output_type": "stream",
     "text": [
      "100%|██████████| 670/670 [00:13<00:00, 50.17it/s]\n"
     ]
    },
    {
     "name": "stdout",
     "output_type": "stream",
     "text": [
      "Epoch 52, Learning Rate: 0.0001\n",
      "Epoch 52/500\n",
      "----------\n",
      "Train loss 0.8578451652357827\n",
      "Train Accuracy 0.6714579055441479\n",
      "Val   loss 0.9912075213591258\n",
      "Val   Acc 0.6342281879194631\n",
      "\n"
     ]
    },
    {
     "name": "stderr",
     "output_type": "stream",
     "text": [
      "100%|██████████| 670/670 [00:13<00:00, 50.31it/s]\n"
     ]
    },
    {
     "name": "stdout",
     "output_type": "stream",
     "text": [
      "Epoch 53, Learning Rate: 0.0001\n",
      "Epoch 53/500\n",
      "----------\n",
      "Train loss 0.8340716004149238\n",
      "Train Accuracy 0.6789247713272354\n",
      "Val   loss 0.9705350442727407\n",
      "Val   Acc 0.6208053691275168\n",
      "\n"
     ]
    },
    {
     "name": "stderr",
     "output_type": "stream",
     "text": [
      "100%|██████████| 670/670 [00:13<00:00, 50.54it/s]\n"
     ]
    },
    {
     "name": "stdout",
     "output_type": "stream",
     "text": [
      "Epoch 54, Learning Rate: 0.0001\n",
      "Epoch 54/500\n",
      "----------\n",
      "Train loss 0.8322200509149636\n",
      "Train Accuracy 0.6763113683031547\n",
      "Val   loss 1.0836229558785757\n",
      "Val   Acc 0.587248322147651\n",
      "\n"
     ]
    },
    {
     "name": "stderr",
     "output_type": "stream",
     "text": [
      "100%|██████████| 670/670 [00:13<00:00, 50.59it/s]\n"
     ]
    },
    {
     "name": "stdout",
     "output_type": "stream",
     "text": [
      "Epoch 55, Learning Rate: 0.0001\n",
      "Epoch 55/500\n",
      "----------\n",
      "Train loss 0.8391704973889821\n",
      "Train Accuracy 0.6813515027067388\n",
      "Val   loss 0.9833305319150288\n",
      "Val   Acc 0.6342281879194631\n",
      "\n"
     ]
    },
    {
     "name": "stderr",
     "output_type": "stream",
     "text": [
      "100%|██████████| 670/670 [00:13<00:00, 50.23it/s]\n"
     ]
    },
    {
     "name": "stdout",
     "output_type": "stream",
     "text": [
      "Epoch 56, Learning Rate: 0.0001\n",
      "Epoch 56/500\n",
      "----------\n",
      "Train loss 0.8315154824683916\n",
      "Train Accuracy 0.6819115176404704\n",
      "Val   loss 0.9743421173095703\n",
      "Val   Acc 0.6308724832214765\n",
      "\n"
     ]
    },
    {
     "name": "stderr",
     "output_type": "stream",
     "text": [
      "100%|██████████| 670/670 [00:13<00:00, 50.79it/s]\n"
     ]
    },
    {
     "name": "stdout",
     "output_type": "stream",
     "text": [
      "Epoch 57, Learning Rate: 0.0001\n",
      "Epoch 57/500\n",
      "----------\n",
      "Train loss 0.8169324227678242\n",
      "Train Accuracy 0.6919917864476386\n",
      "Val   loss 1.0152060850461324\n",
      "Val   Acc 0.6241610738255033\n",
      "\n"
     ]
    },
    {
     "name": "stderr",
     "output_type": "stream",
     "text": [
      "100%|██████████| 670/670 [00:13<00:00, 50.10it/s]\n"
     ]
    },
    {
     "name": "stdout",
     "output_type": "stream",
     "text": [
      "Epoch 58, Learning Rate: 0.0001\n",
      "Epoch 58/500\n",
      "----------\n",
      "Train loss 0.8005606656310273\n",
      "Train Accuracy 0.6912450998693298\n",
      "Val   loss 0.9824147266149521\n",
      "Val   Acc 0.6325503355704698\n",
      "\n"
     ]
    },
    {
     "name": "stderr",
     "output_type": "stream",
     "text": [
      "100%|██████████| 670/670 [00:13<00:00, 50.43it/s]\n"
     ]
    },
    {
     "name": "stdout",
     "output_type": "stream",
     "text": [
      "Epoch 59, Learning Rate: 0.0001\n",
      "Epoch 59/500\n",
      "----------\n",
      "Train loss 0.8022993601191399\n",
      "Train Accuracy 0.6998319955198805\n",
      "Val   loss 1.0889262588818869\n",
      "Val   Acc 0.5922818791946308\n",
      "\n"
     ]
    },
    {
     "name": "stderr",
     "output_type": "stream",
     "text": [
      "100%|██████████| 670/670 [00:13<00:00, 49.14it/s]\n"
     ]
    },
    {
     "name": "stdout",
     "output_type": "stream",
     "text": [
      "Epoch 60, Learning Rate: 0.0001\n",
      "Epoch 60/500\n",
      "----------\n",
      "Train loss 0.7906158389217818\n",
      "Train Accuracy 0.7015120403210753\n",
      "Val   loss 1.0136141761144002\n",
      "Val   Acc 0.6291946308724832\n",
      "\n"
     ]
    },
    {
     "name": "stderr",
     "output_type": "stream",
     "text": [
      "100%|██████████| 670/670 [00:13<00:00, 50.07it/s]\n"
     ]
    },
    {
     "name": "stdout",
     "output_type": "stream",
     "text": [
      "Epoch 61, Learning Rate: 0.0001\n",
      "Epoch 61/500\n",
      "----------\n",
      "Train loss 0.7811635508243717\n",
      "Train Accuracy 0.7037521000560015\n",
      "Val   loss 1.0832280353705088\n",
      "Val   Acc 0.5855704697986577\n",
      "\n"
     ]
    },
    {
     "name": "stderr",
     "output_type": "stream",
     "text": [
      "100%|██████████| 670/670 [00:13<00:00, 49.83it/s]\n"
     ]
    },
    {
     "name": "stdout",
     "output_type": "stream",
     "text": [
      "Epoch 62, Learning Rate: 0.0001\n",
      "Epoch 62/500\n",
      "----------\n",
      "Train loss 0.7732408222422671\n",
      "Train Accuracy 0.704312114989733\n",
      "Val   loss 0.9762760126590728\n",
      "Val   Acc 0.6157718120805369\n",
      "\n"
     ]
    },
    {
     "name": "stderr",
     "output_type": "stream",
     "text": [
      "100%|██████████| 670/670 [00:13<00:00, 50.22it/s]\n"
     ]
    },
    {
     "name": "stdout",
     "output_type": "stream",
     "text": [
      "Epoch 63, Learning Rate: 0.0001\n",
      "Epoch 63/500\n",
      "----------\n",
      "Train loss 0.7649644586132534\n",
      "Train Accuracy 0.7099122643270487\n",
      "Val   loss 1.0365830381711325\n",
      "Val   Acc 0.6124161073825504\n",
      "\n"
     ]
    },
    {
     "name": "stderr",
     "output_type": "stream",
     "text": [
      "100%|██████████| 670/670 [00:13<00:00, 50.01it/s]\n"
     ]
    },
    {
     "name": "stdout",
     "output_type": "stream",
     "text": [
      "Epoch 64, Learning Rate: 0.0001\n",
      "Epoch 64/500\n",
      "----------\n",
      "Train loss 0.761557937824904\n",
      "Train Accuracy 0.712152324061975\n",
      "Val   loss 1.021871742606163\n",
      "Val   Acc 0.6291946308724832\n",
      "\n"
     ]
    },
    {
     "name": "stderr",
     "output_type": "stream",
     "text": [
      "100%|██████████| 670/670 [00:13<00:00, 49.50it/s]\n"
     ]
    },
    {
     "name": "stdout",
     "output_type": "stream",
     "text": [
      "Epoch 65, Learning Rate: 0.0001\n",
      "Epoch 65/500\n",
      "----------\n",
      "Train loss 0.7683092043693386\n",
      "Train Accuracy 0.7059921597909278\n",
      "Val   loss 1.1683056775728862\n",
      "Val   Acc 0.6057046979865772\n",
      "\n"
     ]
    },
    {
     "name": "stderr",
     "output_type": "stream",
     "text": [
      "100%|██████████| 670/670 [00:13<00:00, 49.86it/s]\n"
     ]
    },
    {
     "name": "stdout",
     "output_type": "stream",
     "text": [
      "Epoch 66, Learning Rate: 0.0001\n",
      "Epoch 66/500\n",
      "----------\n",
      "Train loss 0.7513068622061566\n",
      "Train Accuracy 0.7168191151764047\n",
      "Val   loss 0.9934526836872101\n",
      "Val   Acc 0.6375838926174496\n",
      "\n"
     ]
    },
    {
     "name": "stderr",
     "output_type": "stream",
     "text": [
      "100%|██████████| 670/670 [00:13<00:00, 49.98it/s]\n"
     ]
    },
    {
     "name": "stdout",
     "output_type": "stream",
     "text": [
      "Epoch 67, Learning Rate: 0.0001\n",
      "Epoch 67/500\n",
      "----------\n",
      "Train loss 0.7518855609555742\n",
      "Train Accuracy 0.7145790554414785\n",
      "Val   loss 0.9904795809586843\n",
      "Val   Acc 0.639261744966443\n",
      "\n"
     ]
    },
    {
     "name": "stderr",
     "output_type": "stream",
     "text": [
      "100%|██████████| 670/670 [00:13<00:00, 50.61it/s]\n"
     ]
    },
    {
     "name": "stdout",
     "output_type": "stream",
     "text": [
      "Epoch 68, Learning Rate: 0.0001\n",
      "Epoch 68/500\n",
      "----------\n",
      "Train loss 0.7305347272931639\n",
      "Train Accuracy 0.7235392943811835\n",
      "Val   loss 0.9530975931882858\n",
      "Val   Acc 0.6308724832214765\n",
      "\n"
     ]
    },
    {
     "name": "stderr",
     "output_type": "stream",
     "text": [
      "100%|██████████| 670/670 [00:13<00:00, 49.96it/s]\n"
     ]
    },
    {
     "name": "stdout",
     "output_type": "stream",
     "text": [
      "Epoch 69, Learning Rate: 0.0001\n",
      "Epoch 69/500\n",
      "----------\n",
      "Train loss 0.7214803026572092\n",
      "Train Accuracy 0.7296994586522307\n",
      "Val   loss 1.0151618641614915\n",
      "Val   Acc 0.6241610738255033\n",
      "\n"
     ]
    },
    {
     "name": "stderr",
     "output_type": "stream",
     "text": [
      "100%|██████████| 670/670 [00:13<00:00, 50.46it/s]\n"
     ]
    },
    {
     "name": "stdout",
     "output_type": "stream",
     "text": [
      "Epoch 70, Learning Rate: 0.0001\n",
      "Epoch 70/500\n",
      "----------\n",
      "Train loss 0.7333100759271366\n",
      "Train Accuracy 0.7240993093149151\n",
      "Val   loss 0.9688699893156687\n",
      "Val   Acc 0.6174496644295302\n",
      "\n"
     ]
    },
    {
     "name": "stderr",
     "output_type": "stream",
     "text": [
      "100%|██████████| 670/670 [00:13<00:00, 50.23it/s]\n"
     ]
    },
    {
     "name": "stdout",
     "output_type": "stream",
     "text": [
      "Epoch 71, Learning Rate: 0.0001\n",
      "Epoch 71/500\n",
      "----------\n",
      "Train loss 0.73656318120992\n",
      "Train Accuracy 0.7177524733992906\n",
      "Val   loss 1.0222845538457235\n",
      "Val   Acc 0.6073825503355704\n",
      "\n"
     ]
    },
    {
     "name": "stderr",
     "output_type": "stream",
     "text": [
      "100%|██████████| 670/670 [00:13<00:00, 49.81it/s]\n"
     ]
    },
    {
     "name": "stdout",
     "output_type": "stream",
     "text": [
      "Epoch 72, Learning Rate: 0.0001\n",
      "Epoch 72/500\n",
      "----------\n",
      "Train loss 0.7194669068749271\n",
      "Train Accuracy 0.7261526974052641\n",
      "Val   loss 0.9858351775010427\n",
      "Val   Acc 0.6493288590604027\n",
      "\n"
     ]
    },
    {
     "name": "stderr",
     "output_type": "stream",
     "text": [
      "100%|██████████| 670/670 [00:13<00:00, 49.83it/s]\n"
     ]
    },
    {
     "name": "stdout",
     "output_type": "stream",
     "text": [
      "Epoch 73, Learning Rate: 0.0001\n",
      "Epoch 73/500\n",
      "----------\n",
      "Train loss 0.7050134536935322\n",
      "Train Accuracy 0.7282060854956132\n",
      "Val   loss 0.9443536845842997\n",
      "Val   Acc 0.6493288590604027\n",
      "\n"
     ]
    },
    {
     "name": "stderr",
     "output_type": "stream",
     "text": [
      "100%|██████████| 670/670 [00:13<00:00, 49.38it/s]\n"
     ]
    },
    {
     "name": "stdout",
     "output_type": "stream",
     "text": [
      "Epoch 74, Learning Rate: 0.0001\n",
      "Epoch 74/500\n",
      "----------\n",
      "Train loss 0.7022251127593553\n",
      "Train Accuracy 0.7334328915437744\n",
      "Val   loss 0.9664468975861867\n",
      "Val   Acc 0.6409395973154363\n",
      "\n"
     ]
    },
    {
     "name": "stderr",
     "output_type": "stream",
     "text": [
      "100%|██████████| 670/670 [00:13<00:00, 50.33it/s]\n"
     ]
    },
    {
     "name": "stdout",
     "output_type": "stream",
     "text": [
      "Epoch 75, Learning Rate: 0.0001\n",
      "Epoch 75/500\n",
      "----------\n",
      "Train loss 0.7109827039401923\n",
      "Train Accuracy 0.7334328915437744\n",
      "Val   loss 0.9968708765506744\n",
      "Val   Acc 0.6359060402684564\n",
      "\n"
     ]
    },
    {
     "name": "stderr",
     "output_type": "stream",
     "text": [
      "100%|██████████| 670/670 [00:13<00:00, 50.19it/s]\n"
     ]
    },
    {
     "name": "stdout",
     "output_type": "stream",
     "text": [
      "Epoch 76, Learning Rate: 0.0001\n",
      "Epoch 76/500\n",
      "----------\n",
      "Train loss 0.6914181682823309\n",
      "Train Accuracy 0.7407130856822849\n",
      "Val   loss 1.0974242719014486\n",
      "Val   Acc 0.6057046979865772\n",
      "\n"
     ]
    },
    {
     "name": "stderr",
     "output_type": "stream",
     "text": [
      "100%|██████████| 670/670 [00:13<00:00, 50.52it/s]\n"
     ]
    },
    {
     "name": "stdout",
     "output_type": "stream",
     "text": [
      "Epoch 77, Learning Rate: 0.0001\n",
      "Epoch 77/500\n",
      "----------\n",
      "Train loss 0.6721175050891157\n",
      "Train Accuracy 0.7466865783087548\n",
      "Val   loss 1.010863069295883\n",
      "Val   Acc 0.6325503355704698\n",
      "\n"
     ]
    },
    {
     "name": "stderr",
     "output_type": "stream",
     "text": [
      "100%|██████████| 670/670 [00:13<00:00, 49.96it/s]\n"
     ]
    },
    {
     "name": "stdout",
     "output_type": "stream",
     "text": [
      "Epoch 78, Learning Rate: 0.0001\n",
      "Epoch 78/500\n",
      "----------\n",
      "Train loss 0.6919414939053024\n",
      "Train Accuracy 0.7408997573268621\n",
      "Val   loss 0.9895259310801824\n",
      "Val   Acc 0.6359060402684564\n",
      "\n"
     ]
    },
    {
     "name": "stderr",
     "output_type": "stream",
     "text": [
      "100%|██████████| 670/670 [00:13<00:00, 50.45it/s]\n"
     ]
    },
    {
     "name": "stdout",
     "output_type": "stream",
     "text": [
      "Epoch 79, Learning Rate: 0.0001\n",
      "Epoch 79/500\n",
      "----------\n",
      "Train loss 0.6946427756058636\n",
      "Train Accuracy 0.7338062348329288\n",
      "Val   loss 1.0356629399458568\n",
      "Val   Acc 0.62248322147651\n",
      "\n"
     ]
    },
    {
     "name": "stderr",
     "output_type": "stream",
     "text": [
      "100%|██████████| 670/670 [00:13<00:00, 50.41it/s]\n"
     ]
    },
    {
     "name": "stdout",
     "output_type": "stream",
     "text": [
      "Epoch 80, Learning Rate: 0.0001\n",
      "Epoch 80/500\n",
      "----------\n",
      "Train loss 0.6736091667258027\n",
      "Train Accuracy 0.7427664737726339\n",
      "Val   loss 0.9781504156192143\n",
      "Val   Acc 0.6258389261744967\n",
      "\n"
     ]
    },
    {
     "name": "stderr",
     "output_type": "stream",
     "text": [
      "100%|██████████| 670/670 [00:13<00:00, 49.94it/s]\n"
     ]
    },
    {
     "name": "stdout",
     "output_type": "stream",
     "text": [
      "Epoch 81, Learning Rate: 0.0001\n",
      "Epoch 81/500\n",
      "----------\n",
      "Train loss 0.6843478954883654\n",
      "Train Accuracy 0.7436998319955199\n",
      "Val   loss 1.0294280854860942\n",
      "Val   Acc 0.6208053691275168\n",
      "\n"
     ]
    },
    {
     "name": "stderr",
     "output_type": "stream",
     "text": [
      "100%|██████████| 670/670 [00:13<00:00, 50.59it/s]\n"
     ]
    },
    {
     "name": "stdout",
     "output_type": "stream",
     "text": [
      "Epoch 82, Learning Rate: 0.0001\n",
      "Epoch 82/500\n",
      "----------\n",
      "Train loss 0.6767672190025671\n",
      "Train Accuracy 0.7438865036400971\n",
      "Val   loss 1.0449173148473103\n",
      "Val   Acc 0.5956375838926175\n",
      "\n"
     ]
    },
    {
     "name": "stderr",
     "output_type": "stream",
     "text": [
      "100%|██████████| 670/670 [00:13<00:00, 50.52it/s]\n"
     ]
    },
    {
     "name": "stdout",
     "output_type": "stream",
     "text": [
      "Epoch 83, Learning Rate: 0.0001\n",
      "Epoch 83/500\n",
      "----------\n",
      "Train loss 0.657915209367204\n",
      "Train Accuracy 0.7537801008026881\n",
      "Val   loss 0.970008295973142\n",
      "Val   Acc 0.6325503355704698\n",
      "\n"
     ]
    },
    {
     "name": "stderr",
     "output_type": "stream",
     "text": [
      "100%|██████████| 670/670 [00:13<00:00, 50.92it/s]\n"
     ]
    },
    {
     "name": "stdout",
     "output_type": "stream",
     "text": [
      "Epoch 84, Learning Rate: 0.0001\n",
      "Epoch 84/500\n",
      "----------\n",
      "Train loss 0.6579901384439931\n",
      "Train Accuracy 0.754713459025574\n",
      "Val   loss 0.9838210503260295\n",
      "Val   Acc 0.639261744966443\n",
      "\n"
     ]
    },
    {
     "name": "stderr",
     "output_type": "stream",
     "text": [
      "100%|██████████| 670/670 [00:13<00:00, 50.19it/s]\n"
     ]
    },
    {
     "name": "stdout",
     "output_type": "stream",
     "text": [
      "Epoch 85, Learning Rate: 0.0001\n",
      "Epoch 85/500\n",
      "----------\n",
      "Train loss 0.6437756427522026\n",
      "Train Accuracy 0.7543401157364197\n",
      "Val   loss 0.9585928869247436\n",
      "Val   Acc 0.6359060402684564\n",
      "\n"
     ]
    },
    {
     "name": "stderr",
     "output_type": "stream",
     "text": [
      "100%|██████████| 670/670 [00:13<00:00, 50.56it/s]\n"
     ]
    },
    {
     "name": "stdout",
     "output_type": "stream",
     "text": [
      "Epoch 86, Learning Rate: 0.0001\n",
      "Epoch 86/500\n",
      "----------\n",
      "Train loss 0.6370277350740646\n",
      "Train Accuracy 0.7599402650737354\n",
      "Val   loss 0.9931131639083226\n",
      "Val   Acc 0.6375838926174496\n",
      "\n"
     ]
    },
    {
     "name": "stderr",
     "output_type": "stream",
     "text": [
      "100%|██████████| 670/670 [00:13<00:00, 49.83it/s]\n"
     ]
    },
    {
     "name": "stdout",
     "output_type": "stream",
     "text": [
      "Epoch 87, Learning Rate: 0.0001\n",
      "Epoch 87/500\n",
      "----------\n",
      "Train loss 0.6256016060265143\n",
      "Train Accuracy 0.7642337128990107\n",
      "Val   loss 0.9408179366588593\n",
      "Val   Acc 0.6476510067114094\n",
      "\n"
     ]
    },
    {
     "name": "stderr",
     "output_type": "stream",
     "text": [
      "100%|██████████| 670/670 [00:13<00:00, 50.82it/s]\n"
     ]
    },
    {
     "name": "stdout",
     "output_type": "stream",
     "text": [
      "Epoch 88, Learning Rate: 0.0001\n",
      "Epoch 88/500\n",
      "----------\n",
      "Train loss 0.619825079458863\n",
      "Train Accuracy 0.7694605189471719\n",
      "Val   loss 0.9784901479880015\n",
      "Val   Acc 0.62751677852349\n",
      "\n"
     ]
    },
    {
     "name": "stderr",
     "output_type": "stream",
     "text": [
      "100%|██████████| 670/670 [00:13<00:00, 50.68it/s]\n"
     ]
    },
    {
     "name": "stdout",
     "output_type": "stream",
     "text": [
      "Epoch 89, Learning Rate: 0.0001\n",
      "Epoch 89/500\n",
      "----------\n",
      "Train loss 0.6206401362125553\n",
      "Train Accuracy 0.7642337128990107\n",
      "Val   loss 0.9639338525136312\n",
      "Val   Acc 0.6442953020134228\n",
      "\n"
     ]
    },
    {
     "name": "stderr",
     "output_type": "stream",
     "text": [
      "100%|██████████| 670/670 [00:13<00:00, 50.26it/s]\n"
     ]
    },
    {
     "name": "stdout",
     "output_type": "stream",
     "text": [
      "Epoch 90, Learning Rate: 0.0001\n",
      "Epoch 90/500\n",
      "----------\n",
      "Train loss 0.6065322648455848\n",
      "Train Accuracy 0.7720739219712526\n",
      "Val   loss 1.0354934700330098\n",
      "Val   Acc 0.6308724832214765\n",
      "\n"
     ]
    },
    {
     "name": "stderr",
     "output_type": "stream",
     "text": [
      "100%|██████████| 670/670 [00:13<00:00, 50.44it/s]\n"
     ]
    },
    {
     "name": "stdout",
     "output_type": "stream",
     "text": [
      "Epoch 91, Learning Rate: 0.0001\n",
      "Epoch 91/500\n",
      "----------\n",
      "Train loss 0.6182378316881941\n",
      "Train Accuracy 0.7717005786820982\n",
      "Val   loss 0.9450419195493063\n",
      "Val   Acc 0.6510067114093959\n",
      "\n"
     ]
    },
    {
     "name": "stderr",
     "output_type": "stream",
     "text": [
      "100%|██████████| 670/670 [00:13<00:00, 49.83it/s]\n"
     ]
    },
    {
     "name": "stdout",
     "output_type": "stream",
     "text": [
      "Epoch 92, Learning Rate: 0.0001\n",
      "Epoch 92/500\n",
      "----------\n",
      "Train loss 0.6172967004019823\n",
      "Train Accuracy 0.7698338622363263\n",
      "Val   loss 0.9410339778661728\n",
      "Val   Acc 0.6526845637583892\n",
      "\n"
     ]
    },
    {
     "name": "stderr",
     "output_type": "stream",
     "text": [
      "100%|██████████| 670/670 [00:13<00:00, 50.25it/s]\n"
     ]
    },
    {
     "name": "stdout",
     "output_type": "stream",
     "text": [
      "Epoch 93, Learning Rate: 0.0001\n",
      "Epoch 93/500\n",
      "----------\n",
      "Train loss 0.6075179226585289\n",
      "Train Accuracy 0.770580548814635\n",
      "Val   loss 1.0229213345050812\n",
      "Val   Acc 0.6208053691275168\n",
      "\n"
     ]
    },
    {
     "name": "stderr",
     "output_type": "stream",
     "text": [
      "100%|██████████| 670/670 [00:13<00:00, 49.90it/s]\n"
     ]
    },
    {
     "name": "stdout",
     "output_type": "stream",
     "text": [
      "Epoch 94, Learning Rate: 0.0001\n",
      "Epoch 94/500\n",
      "----------\n",
      "Train loss 0.5936935289804616\n",
      "Train Accuracy 0.774500653350756\n",
      "Val   loss 0.9775140196084976\n",
      "Val   Acc 0.6426174496644296\n",
      "\n"
     ]
    },
    {
     "name": "stderr",
     "output_type": "stream",
     "text": [
      "100%|██████████| 670/670 [00:13<00:00, 50.02it/s]\n"
     ]
    },
    {
     "name": "stdout",
     "output_type": "stream",
     "text": [
      "Epoch 95, Learning Rate: 0.0001\n",
      "Epoch 95/500\n",
      "----------\n",
      "Train loss 0.5930540697009706\n",
      "Train Accuracy 0.7782340862422998\n",
      "Val   loss 0.9911999893188477\n",
      "Val   Acc 0.6442953020134228\n",
      "\n"
     ]
    },
    {
     "name": "stderr",
     "output_type": "stream",
     "text": [
      "100%|██████████| 670/670 [00:13<00:00, 49.27it/s]\n"
     ]
    },
    {
     "name": "stdout",
     "output_type": "stream",
     "text": [
      "Epoch 96, Learning Rate: 0.0001\n",
      "Epoch 96/500\n",
      "----------\n",
      "Train loss 0.5828470594068962\n",
      "Train Accuracy 0.7864476386036962\n",
      "Val   loss 1.033562564055125\n",
      "Val   Acc 0.62248322147651\n",
      "\n"
     ]
    },
    {
     "name": "stderr",
     "output_type": "stream",
     "text": [
      "100%|██████████| 670/670 [00:13<00:00, 50.16it/s]\n"
     ]
    },
    {
     "name": "stdout",
     "output_type": "stream",
     "text": [
      "Epoch 97, Learning Rate: 0.0001\n",
      "Epoch 97/500\n",
      "----------\n",
      "Train loss 0.5859287463740182\n",
      "Train Accuracy 0.7767407130856823\n",
      "Val   loss 1.0100097187360129\n",
      "Val   Acc 0.6342281879194631\n",
      "\n"
     ]
    },
    {
     "name": "stderr",
     "output_type": "stream",
     "text": [
      "100%|██████████| 670/670 [00:13<00:00, 49.99it/s]\n"
     ]
    },
    {
     "name": "stdout",
     "output_type": "stream",
     "text": [
      "Epoch 98, Learning Rate: 0.0001\n",
      "Epoch 98/500\n",
      "----------\n",
      "Train loss 0.5876253491406566\n",
      "Train Accuracy 0.7786074295314541\n",
      "Val   loss 0.9781582927703858\n",
      "Val   Acc 0.62248322147651\n",
      "\n"
     ]
    },
    {
     "name": "stderr",
     "output_type": "stream",
     "text": [
      "100%|██████████| 670/670 [00:13<00:00, 49.99it/s]\n"
     ]
    },
    {
     "name": "stdout",
     "output_type": "stream",
     "text": [
      "Epoch 99, Learning Rate: 0.0001\n",
      "Epoch 99/500\n",
      "----------\n",
      "Train loss 0.5639592971485942\n",
      "Train Accuracy 0.7941011760313609\n",
      "Val   loss 0.9861555529634157\n",
      "Val   Acc 0.6459731543624161\n",
      "\n"
     ]
    },
    {
     "name": "stderr",
     "output_type": "stream",
     "text": [
      "100%|██████████| 670/670 [00:13<00:00, 50.48it/s]\n"
     ]
    },
    {
     "name": "stdout",
     "output_type": "stream",
     "text": [
      "Epoch 100, Learning Rate: 0.0001\n",
      "Epoch 100/500\n",
      "----------\n",
      "Train loss 0.5652028767364239\n",
      "Train Accuracy 0.784394250513347\n",
      "Val   loss 1.010552302201589\n",
      "Val   Acc 0.6241610738255033\n",
      "\n"
     ]
    },
    {
     "name": "stderr",
     "output_type": "stream",
     "text": [
      "100%|██████████| 670/670 [00:13<00:00, 49.87it/s]\n"
     ]
    },
    {
     "name": "stdout",
     "output_type": "stream",
     "text": [
      "Epoch 101, Learning Rate: 0.0001\n",
      "Epoch 101/500\n",
      "----------\n",
      "Train loss 0.5654014526129658\n",
      "Train Accuracy 0.7851409370916558\n",
      "Val   loss 1.0086427036921184\n",
      "Val   Acc 0.62248322147651\n",
      "\n"
     ]
    },
    {
     "name": "stderr",
     "output_type": "stream",
     "text": [
      "100%|██████████| 670/670 [00:13<00:00, 50.70it/s]\n"
     ]
    },
    {
     "name": "stdout",
     "output_type": "stream",
     "text": [
      "Epoch 102, Learning Rate: 0.0001\n",
      "Epoch 102/500\n",
      "----------\n",
      "Train loss 0.5515973939602055\n",
      "Train Accuracy 0.7916744446518574\n",
      "Val   loss 1.0494586908817292\n",
      "Val   Acc 0.6174496644295302\n",
      "\n"
     ]
    },
    {
     "name": "stderr",
     "output_type": "stream",
     "text": [
      "100%|██████████| 670/670 [00:13<00:00, 50.23it/s]\n"
     ]
    },
    {
     "name": "stdout",
     "output_type": "stream",
     "text": [
      "Epoch 103, Learning Rate: 0.0001\n",
      "Epoch 103/500\n",
      "----------\n",
      "Train loss 0.5588341204477335\n",
      "Train Accuracy 0.7905544147843943\n",
      "Val   loss 0.9727979677915574\n",
      "Val   Acc 0.6442953020134228\n",
      "\n"
     ]
    },
    {
     "name": "stderr",
     "output_type": "stream",
     "text": [
      "100%|██████████| 670/670 [00:13<00:00, 50.84it/s]\n"
     ]
    },
    {
     "name": "stdout",
     "output_type": "stream",
     "text": [
      "Epoch 104, Learning Rate: 0.0001\n",
      "Epoch 104/500\n",
      "----------\n",
      "Train loss 0.5454972271154176\n",
      "Train Accuracy 0.7961545641217099\n",
      "Val   loss 1.06220715880394\n",
      "Val   Acc 0.6325503355704698\n",
      "\n"
     ]
    },
    {
     "name": "stderr",
     "output_type": "stream",
     "text": [
      "100%|██████████| 670/670 [00:13<00:00, 50.32it/s]\n"
     ]
    },
    {
     "name": "stdout",
     "output_type": "stream",
     "text": [
      "Epoch 105, Learning Rate: 0.0001\n",
      "Epoch 105/500\n",
      "----------\n",
      "Train loss 0.5409980042879261\n",
      "Train Accuracy 0.8025014000373343\n",
      "Val   loss 1.057420081893603\n",
      "Val   Acc 0.6258389261744967\n",
      "\n"
     ]
    },
    {
     "name": "stderr",
     "output_type": "stream",
     "text": [
      "100%|██████████| 670/670 [00:13<00:00, 50.38it/s]\n"
     ]
    },
    {
     "name": "stdout",
     "output_type": "stream",
     "text": [
      "Epoch 106, Learning Rate: 0.0001\n",
      "Epoch 106/500\n",
      "----------\n",
      "Train loss 0.522305559594907\n",
      "Train Accuracy 0.8103416091095763\n",
      "Val   loss 0.9353862522045772\n",
      "Val   Acc 0.6526845637583892\n",
      "\n"
     ]
    },
    {
     "name": "stderr",
     "output_type": "stream",
     "text": [
      "100%|██████████| 670/670 [00:13<00:00, 50.38it/s]\n"
     ]
    },
    {
     "name": "stdout",
     "output_type": "stream",
     "text": [
      "Epoch 107, Learning Rate: 0.0001\n",
      "Epoch 107/500\n",
      "----------\n",
      "Train loss 0.5352667689101019\n",
      "Train Accuracy 0.7955945491879783\n",
      "Val   loss 0.9744786103566487\n",
      "Val   Acc 0.6426174496644296\n",
      "\n"
     ]
    },
    {
     "name": "stderr",
     "output_type": "stream",
     "text": [
      "100%|██████████| 670/670 [00:13<00:00, 50.32it/s]\n"
     ]
    },
    {
     "name": "stdout",
     "output_type": "stream",
     "text": [
      "Epoch 108, Learning Rate: 0.0001\n",
      "Epoch 108/500\n",
      "----------\n",
      "Train loss 0.5353517607632857\n",
      "Train Accuracy 0.7993279820795222\n",
      "Val   loss 1.0064097795883815\n",
      "Val   Acc 0.662751677852349\n",
      "\n"
     ]
    },
    {
     "name": "stderr",
     "output_type": "stream",
     "text": [
      "100%|██████████| 670/670 [00:13<00:00, 50.67it/s]\n"
     ]
    },
    {
     "name": "stdout",
     "output_type": "stream",
     "text": [
      "Epoch 109, Learning Rate: 0.0001\n",
      "Epoch 109/500\n",
      "----------\n",
      "Train loss 0.5239184951882309\n",
      "Train Accuracy 0.8019413851036028\n",
      "Val   loss 1.0498189677794774\n",
      "Val   Acc 0.6325503355704698\n",
      "\n"
     ]
    },
    {
     "name": "stderr",
     "output_type": "stream",
     "text": [
      "100%|██████████| 670/670 [00:13<00:00, 50.26it/s]\n"
     ]
    },
    {
     "name": "stdout",
     "output_type": "stream",
     "text": [
      "Epoch 110, Learning Rate: 0.0001\n",
      "Epoch 110/500\n",
      "----------\n",
      "Train loss 0.5219131361693143\n",
      "Train Accuracy 0.8092215792421131\n",
      "Val   loss 0.9975607812404632\n",
      "Val   Acc 0.6476510067114094\n",
      "\n"
     ]
    },
    {
     "name": "stderr",
     "output_type": "stream",
     "text": [
      "100%|██████████| 670/670 [00:13<00:00, 50.65it/s]\n"
     ]
    },
    {
     "name": "stdout",
     "output_type": "stream",
     "text": [
      "Epoch 111, Learning Rate: 0.0001\n",
      "Epoch 111/500\n",
      "----------\n",
      "Train loss 0.5084101799319485\n",
      "Train Accuracy 0.8069815195071869\n",
      "Val   loss 1.1398234645525613\n",
      "Val   Acc 0.6140939597315436\n",
      "\n"
     ]
    },
    {
     "name": "stderr",
     "output_type": "stream",
     "text": [
      "100%|██████████| 670/670 [00:13<00:00, 49.98it/s]\n"
     ]
    },
    {
     "name": "stdout",
     "output_type": "stream",
     "text": [
      "Epoch 112, Learning Rate: 0.0001\n",
      "Epoch 112/500\n",
      "----------\n",
      "Train loss 0.5086941860393802\n",
      "Train Accuracy 0.8107149523987306\n",
      "Val   loss 0.9592651029427847\n",
      "Val   Acc 0.6577181208053692\n",
      "\n"
     ]
    },
    {
     "name": "stderr",
     "output_type": "stream",
     "text": [
      "100%|██████████| 670/670 [00:13<00:00, 50.83it/s]\n"
     ]
    },
    {
     "name": "stdout",
     "output_type": "stream",
     "text": [
      "Epoch 113, Learning Rate: 0.0001\n",
      "Epoch 113/500\n",
      "----------\n",
      "Train loss 0.48976826981377247\n",
      "Train Accuracy 0.8163151017360463\n",
      "Val   loss 1.0373761390646299\n",
      "Val   Acc 0.6493288590604027\n",
      "\n"
     ]
    },
    {
     "name": "stderr",
     "output_type": "stream",
     "text": [
      "100%|██████████| 670/670 [00:13<00:00, 50.56it/s]\n"
     ]
    },
    {
     "name": "stdout",
     "output_type": "stream",
     "text": [
      "Epoch 114, Learning Rate: 0.0001\n",
      "Epoch 114/500\n",
      "----------\n",
      "Train loss 0.4937638250527097\n",
      "Train Accuracy 0.8187418331155497\n",
      "Val   loss 1.1744960071643193\n",
      "Val   Acc 0.6090604026845637\n",
      "\n"
     ]
    },
    {
     "name": "stderr",
     "output_type": "stream",
     "text": [
      "100%|██████████| 670/670 [00:13<00:00, 50.16it/s]\n"
     ]
    },
    {
     "name": "stdout",
     "output_type": "stream",
     "text": [
      "Epoch 115, Learning Rate: 0.0001\n",
      "Epoch 115/500\n",
      "----------\n",
      "Train loss 0.48528253627079193\n",
      "Train Accuracy 0.8189285047601269\n",
      "Val   loss 1.0082549488544463\n",
      "Val   Acc 0.6610738255033557\n",
      "\n"
     ]
    },
    {
     "name": "stderr",
     "output_type": "stream",
     "text": [
      "100%|██████████| 670/670 [00:13<00:00, 50.10it/s]\n"
     ]
    },
    {
     "name": "stdout",
     "output_type": "stream",
     "text": [
      "Epoch 116, Learning Rate: 0.0001\n",
      "Epoch 116/500\n",
      "----------\n",
      "Train loss 0.4905319649503747\n",
      "Train Accuracy 0.8181818181818182\n",
      "Val   loss 1.039969696601232\n",
      "Val   Acc 0.639261744966443\n",
      "\n"
     ]
    },
    {
     "name": "stderr",
     "output_type": "stream",
     "text": [
      "100%|██████████| 670/670 [00:13<00:00, 49.41it/s]\n"
     ]
    },
    {
     "name": "stdout",
     "output_type": "stream",
     "text": [
      "Epoch 117, Learning Rate: 0.0001\n",
      "Epoch 117/500\n",
      "----------\n",
      "Train loss 0.48784858442064544\n",
      "Train Accuracy 0.8178084748926638\n",
      "Val   loss 1.1047569491465887\n",
      "Val   Acc 0.6157718120805369\n",
      "\n"
     ]
    },
    {
     "name": "stderr",
     "output_type": "stream",
     "text": [
      "100%|██████████| 670/670 [00:13<00:00, 50.12it/s]\n"
     ]
    },
    {
     "name": "stdout",
     "output_type": "stream",
     "text": [
      "Epoch 118, Learning Rate: 0.0001\n",
      "Epoch 118/500\n",
      "----------\n",
      "Train loss 0.484473693943513\n",
      "Train Accuracy 0.8224752660070935\n",
      "Val   loss 0.9787900597850482\n",
      "Val   Acc 0.6459731543624161\n",
      "\n"
     ]
    },
    {
     "name": "stderr",
     "output_type": "stream",
     "text": [
      "100%|██████████| 670/670 [00:13<00:00, 49.74it/s]\n"
     ]
    },
    {
     "name": "stdout",
     "output_type": "stream",
     "text": [
      "Epoch 119, Learning Rate: 0.0001\n",
      "Epoch 119/500\n",
      "----------\n",
      "Train loss 0.4637100178748369\n",
      "Train Accuracy 0.8284487586335636\n",
      "Val   loss 1.0279784925778708\n",
      "Val   Acc 0.6510067114093959\n",
      "\n"
     ]
    },
    {
     "name": "stderr",
     "output_type": "stream",
     "text": [
      "100%|██████████| 670/670 [00:13<00:00, 50.40it/s]\n"
     ]
    },
    {
     "name": "stdout",
     "output_type": "stream",
     "text": [
      "Epoch 120, Learning Rate: 0.0001\n",
      "Epoch 120/500\n",
      "----------\n",
      "Train loss 0.4750015343025104\n",
      "Train Accuracy 0.8196751913384357\n",
      "Val   loss 1.091790804862976\n",
      "Val   Acc 0.62751677852349\n",
      "\n"
     ]
    },
    {
     "name": "stderr",
     "output_type": "stream",
     "text": [
      "100%|██████████| 670/670 [00:13<00:00, 49.78it/s]\n"
     ]
    },
    {
     "name": "stdout",
     "output_type": "stream",
     "text": [
      "Epoch 121, Learning Rate: 0.0001\n",
      "Epoch 121/500\n",
      "----------\n",
      "Train loss 0.46840136993064807\n",
      "Train Accuracy 0.8282620869889864\n",
      "Val   loss 0.9912396500507991\n",
      "Val   Acc 0.639261744966443\n",
      "\n"
     ]
    },
    {
     "name": "stderr",
     "output_type": "stream",
     "text": [
      "100%|██████████| 670/670 [00:13<00:00, 50.17it/s]\n"
     ]
    },
    {
     "name": "stdout",
     "output_type": "stream",
     "text": [
      "Epoch 122, Learning Rate: 0.0001\n",
      "Epoch 122/500\n",
      "----------\n",
      "Train loss 0.4419065584942921\n",
      "Train Accuracy 0.8340489079708793\n",
      "Val   loss 1.070358742872874\n",
      "Val   Acc 0.6342281879194631\n",
      "\n"
     ]
    },
    {
     "name": "stderr",
     "output_type": "stream",
     "text": [
      "100%|██████████| 670/670 [00:13<00:00, 49.88it/s]\n"
     ]
    },
    {
     "name": "stdout",
     "output_type": "stream",
     "text": [
      "Epoch 123, Learning Rate: 0.0001\n",
      "Epoch 123/500\n",
      "----------\n",
      "Train loss 0.47223399662371\n",
      "Train Accuracy 0.8219152510733619\n",
      "Val   loss 1.0446942613522212\n",
      "Val   Acc 0.6426174496644296\n",
      "\n"
     ]
    },
    {
     "name": "stderr",
     "output_type": "stream",
     "text": [
      "100%|██████████| 670/670 [00:13<00:00, 49.81it/s]\n"
     ]
    },
    {
     "name": "stdout",
     "output_type": "stream",
     "text": [
      "Epoch 124, Learning Rate: 0.0001\n",
      "Epoch 124/500\n",
      "----------\n",
      "Train loss 0.4554643853053228\n",
      "Train Accuracy 0.8282620869889864\n",
      "Val   loss 1.0481244305769601\n",
      "Val   Acc 0.6459731543624161\n",
      "\n"
     ]
    },
    {
     "name": "stderr",
     "output_type": "stream",
     "text": [
      "100%|██████████| 670/670 [00:13<00:00, 50.26it/s]\n"
     ]
    },
    {
     "name": "stdout",
     "output_type": "stream",
     "text": [
      "Epoch 125, Learning Rate: 0.0001\n",
      "Epoch 125/500\n",
      "----------\n",
      "Train loss 0.45946648377758353\n",
      "Train Accuracy 0.828822101922718\n",
      "Val   loss 1.0837330933411915\n",
      "Val   Acc 0.6359060402684564\n",
      "\n"
     ]
    },
    {
     "name": "stderr",
     "output_type": "stream",
     "text": [
      "100%|██████████| 670/670 [00:13<00:00, 50.46it/s]\n"
     ]
    },
    {
     "name": "stdout",
     "output_type": "stream",
     "text": [
      "Epoch 126, Learning Rate: 0.0001\n",
      "Epoch 126/500\n",
      "----------\n",
      "Train loss 0.465053594885255\n",
      "Train Accuracy 0.823968639163711\n",
      "Val   loss 0.9852517815430959\n",
      "Val   Acc 0.6526845637583892\n",
      "\n"
     ]
    },
    {
     "name": "stderr",
     "output_type": "stream",
     "text": [
      "100%|██████████| 670/670 [00:13<00:00, 50.54it/s]\n"
     ]
    },
    {
     "name": "stdout",
     "output_type": "stream",
     "text": [
      "Epoch 127, Learning Rate: 0.0001\n",
      "Epoch 127/500\n",
      "----------\n",
      "Train loss 0.4532809198180686\n",
      "Train Accuracy 0.8306888183684898\n",
      "Val   loss 1.0181634191672007\n",
      "Val   Acc 0.6610738255033557\n",
      "\n"
     ]
    },
    {
     "name": "stderr",
     "output_type": "stream",
     "text": [
      "100%|██████████| 670/670 [00:13<00:00, 50.19it/s]\n"
     ]
    },
    {
     "name": "stdout",
     "output_type": "stream",
     "text": [
      "Epoch 128, Learning Rate: 0.0001\n",
      "Epoch 128/500\n",
      "----------\n",
      "Train loss 0.4553092849899584\n",
      "Train Accuracy 0.8338622363263021\n",
      "Val   loss 1.0277552489439647\n",
      "Val   Acc 0.6442953020134228\n",
      "\n"
     ]
    },
    {
     "name": "stderr",
     "output_type": "stream",
     "text": [
      "100%|██████████| 670/670 [00:13<00:00, 50.53it/s]\n"
     ]
    },
    {
     "name": "stdout",
     "output_type": "stream",
     "text": [
      "Epoch 129, Learning Rate: 0.0001\n",
      "Epoch 129/500\n",
      "----------\n",
      "Train loss 0.4354533422237902\n",
      "Train Accuracy 0.8428224752660071\n",
      "Val   loss 1.084143443306287\n",
      "Val   Acc 0.6359060402684564\n",
      "\n"
     ]
    },
    {
     "name": "stderr",
     "output_type": "stream",
     "text": [
      "100%|██████████| 670/670 [00:13<00:00, 50.36it/s]\n"
     ]
    },
    {
     "name": "stdout",
     "output_type": "stream",
     "text": [
      "Epoch 130, Learning Rate: 0.0001\n",
      "Epoch 130/500\n",
      "----------\n",
      "Train loss 0.41658698570038843\n",
      "Train Accuracy 0.8450625350009333\n",
      "Val   loss 1.0588245542844137\n",
      "Val   Acc 0.6409395973154363\n",
      "\n"
     ]
    },
    {
     "name": "stderr",
     "output_type": "stream",
     "text": [
      "100%|██████████| 670/670 [00:13<00:00, 50.62it/s]\n"
     ]
    },
    {
     "name": "stdout",
     "output_type": "stream",
     "text": [
      "Epoch 131, Learning Rate: 0.0001\n",
      "Epoch 131/500\n",
      "----------\n",
      "Train loss 0.4353478567202145\n",
      "Train Accuracy 0.8381556841515774\n",
      "Val   loss 1.0555021798610686\n",
      "Val   Acc 0.6409395973154363\n",
      "\n"
     ]
    },
    {
     "name": "stderr",
     "output_type": "stream",
     "text": [
      "100%|██████████| 670/670 [00:13<00:00, 50.46it/s]\n"
     ]
    },
    {
     "name": "stdout",
     "output_type": "stream",
     "text": [
      "Epoch 132, Learning Rate: 0.0001\n",
      "Epoch 132/500\n",
      "----------\n",
      "Train loss 0.4205920386197629\n",
      "Train Accuracy 0.8486092962478999\n",
      "Val   loss 0.996219783226649\n",
      "Val   Acc 0.6560402684563759\n",
      "\n"
     ]
    },
    {
     "name": "stderr",
     "output_type": "stream",
     "text": [
      "100%|██████████| 670/670 [00:13<00:00, 50.22it/s]\n"
     ]
    },
    {
     "name": "stdout",
     "output_type": "stream",
     "text": [
      "Epoch 133, Learning Rate: 0.0001\n",
      "Epoch 133/500\n",
      "----------\n",
      "Train loss 0.4185973454433591\n",
      "Train Accuracy 0.8420757886876984\n",
      "Val   loss 1.0116172395149867\n",
      "Val   Acc 0.6577181208053692\n",
      "\n"
     ]
    },
    {
     "name": "stderr",
     "output_type": "stream",
     "text": [
      "100%|██████████| 670/670 [00:13<00:00, 50.48it/s]\n"
     ]
    },
    {
     "name": "stdout",
     "output_type": "stream",
     "text": [
      "Epoch 134, Learning Rate: 0.0001\n",
      "Epoch 134/500\n",
      "----------\n",
      "Train loss 0.41402928596501476\n",
      "Train Accuracy 0.8415157737539668\n",
      "Val   loss 1.065242657661438\n",
      "Val   Acc 0.6325503355704698\n",
      "\n"
     ]
    },
    {
     "name": "stderr",
     "output_type": "stream",
     "text": [
      "100%|██████████| 670/670 [00:13<00:00, 49.84it/s]\n"
     ]
    },
    {
     "name": "stdout",
     "output_type": "stream",
     "text": [
      "Epoch 135, Learning Rate: 0.0001\n",
      "Epoch 135/500\n",
      "----------\n",
      "Train loss 0.41302956534243784\n",
      "Train Accuracy 0.847675938025014\n",
      "Val   loss 1.0080920341610908\n",
      "Val   Acc 0.6459731543624161\n",
      "\n"
     ]
    },
    {
     "name": "stderr",
     "output_type": "stream",
     "text": [
      "100%|██████████| 670/670 [00:13<00:00, 50.47it/s]\n"
     ]
    },
    {
     "name": "stdout",
     "output_type": "stream",
     "text": [
      "Epoch 136, Learning Rate: 0.0001\n",
      "Epoch 136/500\n",
      "----------\n",
      "Train loss 0.41011383252690975\n",
      "Train Accuracy 0.8467425798021281\n",
      "Val   loss 1.063172839085261\n",
      "Val   Acc 0.6493288590604027\n",
      "\n",
      "Early stopping triggered. No improvement in 30 epochs.\n"
     ]
    }
   ],
   "source": [
    "for epoch in range(EPOCHS):\n",
    "\n",
    "\n",
    "    train_loss,train_acc = train_epoch(model,train_dataloader,loss_fn, optimizer, DEVICE)\n",
    "    \n",
    "    val_loss,val_acc = eval_model(model,val_dataloader,loss_fn, DEVICE)\n",
    "    \n",
    "    \n",
    "    print(f'Epoch {epoch + 1}/{EPOCHS}')\n",
    "    print('-' * 10)\n",
    "    print(f'Train loss {train_loss}')\n",
    "    print(f'Train Accuracy {train_acc}')\n",
    "\n",
    "    print(f'Val   loss {val_loss}')\n",
    "    print(f'Val   Acc {val_acc}')\n",
    "\n",
    "    print()\n",
    "        \n",
    "    if val_loss < loss:\n",
    "        torch.save(model.state_dict(), 'best_model_state.bin')\n",
    "        loss = val_loss\n",
    "        epochs_without_improvement = 0\n",
    "    else:\n",
    "        epochs_without_improvement += 1\n",
    "\n",
    "    # Early stopping condition\n",
    "    if epochs_without_improvement == patience:\n",
    "        print(\"Early stopping triggered. No improvement in\", patience, \"epochs.\")\n",
    "        break\n",
    "\n",
    "\n",
    "\n",
    "    history['train_loss'].append(train_loss)\n",
    "    history['val_loss'].append(val_loss)\n",
    "    \n",
    "    \n",
    "    history['train_Accuracy'].append(train_acc)\n",
    "    history['val_Accuracy'].append(val_acc)\n",
    "\n",
    "    #save this incase of failure\n",
    "    torch.save(model.state_dict(), 'current_model_state.bin')\n",
    "    \n",
    "    \n",
    "#save last state to train later\n",
    "torch.save(model.state_dict(), 'last_model_state.bin')\n"
   ]
  },
  {
   "cell_type": "code",
   "execution_count": 54,
   "metadata": {
    "execution": {
     "iopub.execute_input": "2024-05-19T05:22:54.634625Z",
     "iopub.status.busy": "2024-05-19T05:22:54.634166Z",
     "iopub.status.idle": "2024-05-19T05:22:54.670499Z",
     "shell.execute_reply": "2024-05-19T05:22:54.669631Z",
     "shell.execute_reply.started": "2024-05-19T05:22:54.634590Z"
    }
   },
   "outputs": [
    {
     "data": {
      "text/plain": [
       "<All keys matched successfully>"
      ]
     },
     "execution_count": 54,
     "metadata": {},
     "output_type": "execute_result"
    }
   ],
   "source": [
    "model.load_state_dict(torch.load('/kaggle/working/current_model_state.bin'))"
   ]
  },
  {
   "cell_type": "code",
   "execution_count": 55,
   "metadata": {
    "execution": {
     "iopub.execute_input": "2024-05-19T05:22:54.672095Z",
     "iopub.status.busy": "2024-05-19T05:22:54.671761Z",
     "iopub.status.idle": "2024-05-19T05:22:55.026210Z",
     "shell.execute_reply": "2024-05-19T05:22:55.025347Z",
     "shell.execute_reply.started": "2024-05-19T05:22:54.672064Z"
    }
   },
   "outputs": [
    {
     "data": {
      "text/plain": [
       "<matplotlib.legend.Legend at 0x7cdf8d555840>"
      ]
     },
     "execution_count": 55,
     "metadata": {},
     "output_type": "execute_result"
    },
    {
     "data": {
      "image/png": "[encoded data removed]",
      "text/plain": [
       "<Figure size 400x400 with 1 Axes>"
      ]
     },
     "metadata": {},
     "output_type": "display_data"
    }
   ],
   "source": [
    "plt.figure(figsize=(4,4))\n",
    "plt.plot(history['train_Accuracy'], 'r',label='Training accuracy')\n",
    "plt.plot(history['val_Accuracy'], 'b', label='Validation accuracy')\n",
    "\n",
    "plt.title('Training and validation accuracy')\n",
    "plt.ylabel('Accuracy')\n",
    "plt.xlabel('Epoch')\n",
    "plt.legend()\n"
   ]
  },
  {
   "cell_type": "code",
   "execution_count": 56,
   "metadata": {
    "execution": {
     "iopub.execute_input": "2024-05-19T05:22:55.027898Z",
     "iopub.status.busy": "2024-05-19T05:22:55.027547Z",
     "iopub.status.idle": "2024-05-19T05:22:55.398346Z",
     "shell.execute_reply": "2024-05-19T05:22:55.397399Z",
     "shell.execute_reply.started": "2024-05-19T05:22:55.027863Z"
    }
   },
   "outputs": [
    {
     "data": {
      "text/plain": [
       "<matplotlib.legend.Legend at 0x7cdf8c0f0af0>"
      ]
     },
     "execution_count": 56,
     "metadata": {},
     "output_type": "execute_result"
    },
    {
     "data": {
      "image/png": "[encoded data removed]",
      "text/plain": [
       "<Figure size 400x400 with 1 Axes>"
      ]
     },
     "metadata": {},
     "output_type": "display_data"
    }
   ],
   "source": [
    "plt.figure(figsize=(4,4))\n",
    "plt.plot(history['train_loss'], 'r', label='Training loss')\n",
    "plt.plot(history['val_loss'], 'b', label='Validation loss')\n",
    "\n",
    "plt.title('Training and validation loss')\n",
    "plt.ylabel('Loss')\n",
    "plt.xlabel('Epoch')\n",
    "plt.legend()\n"
   ]
  },
  {
   "cell_type": "code",
   "execution_count": 57,
   "metadata": {
    "execution": {
     "iopub.execute_input": "2024-05-19T05:22:55.399858Z",
     "iopub.status.busy": "2024-05-19T05:22:55.399556Z",
     "iopub.status.idle": "2024-05-19T05:22:56.399699Z",
     "shell.execute_reply": "2024-05-19T05:22:56.398911Z",
     "shell.execute_reply.started": "2024-05-19T05:22:55.399832Z"
    }
   },
   "outputs": [],
   "source": [
    "mean_loss, predicted_labels, true_labels=get_predicted(model,test_dataloader,loss_fn,DEVICE)"
   ]
  },
  {
   "cell_type": "code",
   "execution_count": 58,
   "metadata": {
    "execution": {
     "iopub.execute_input": "2024-05-19T05:22:56.401106Z",
     "iopub.status.busy": "2024-05-19T05:22:56.400809Z",
     "iopub.status.idle": "2024-05-19T05:22:56.857986Z",
     "shell.execute_reply": "2024-05-19T05:22:56.857079Z",
     "shell.execute_reply.started": "2024-05-19T05:22:56.401081Z"
    }
   },
   "outputs": [
    {
     "name": "stdout",
     "output_type": "stream",
     "text": [
      "Classification Report:\n",
      "              precision    recall  f1-score   support\n",
      "\n",
      "       Anger       0.78      0.74      0.76       254\n",
      "     Disgust       0.63      0.55      0.59       254\n",
      "        Fear       0.65      0.52      0.58       254\n",
      "       Happy       0.71      0.60      0.65       255\n",
      "     Neutral       0.63      0.89      0.74       218\n",
      "         Sad       0.60      0.72      0.65       254\n",
      "\n",
      "    accuracy                           0.66      1489\n",
      "   macro avg       0.67      0.67      0.66      1489\n",
      "weighted avg       0.67      0.66      0.66      1489\n",
      "\n"
     ]
    },
    {
     "data": {
      "image/png": "[encoded data removed]",
      "text/plain": [
       "<Figure size 800x800 with 2 Axes>"
      ]
     },
     "metadata": {},
     "output_type": "display_data"
    }
   ],
   "source": [
    "measurements_of_accuracy(true_labels,predicted_labels,\"Confusion matrix\",list(label_mapping.keys()))"
   ]
  }
 ],
 "metadata": {
  "kaggle": {
   "accelerator": "gpu",
   "dataSources": [
    {
     "datasetId": 1118008,
     "sourceId": 1877714,
     "sourceType": "datasetVersion"
    }
   ],
   "dockerImageVersionId": 30476,
   "isGpuEnabled": true,
   "isInternetEnabled": true,
   "language": "python",
   "sourceType": "notebook"
  },
  "kernelspec": {
   "display_name": "Python 3 (ipykernel)",
   "language": "python",
   "name": "python3"
  },
  "language_info": {
   "codemirror_mode": {
    "name": "ipython",
    "version": 3
   },
   "file_extension": ".py",
   "mimetype": "text/x-python",
   "name": "python",
   "nbconvert_exporter": "python",
   "pygments_lexer": "ipython3",
   "version": "3.11.5"
  }
 },
 "nbformat": 4,
 "nbformat_minor": 4
}
